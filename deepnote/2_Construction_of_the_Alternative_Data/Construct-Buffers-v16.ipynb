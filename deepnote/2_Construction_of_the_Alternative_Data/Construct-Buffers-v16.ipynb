{
  "cells": [
    {
      "cell_type": "markdown",
      "source": "# This notebook reconstructs buffers to create additional data\nEthnologue data cannot be shared freely due to copyright issues. Therefore you can only view the output of the cells.",
      "metadata": {
        "cell_id": "f005f5bdd40245579883ae262a7c21c7",
        "deepnote_cell_type": "markdown"
      },
      "block_group": "ed212cbc31cc457dbba64e8c12508946"
    },
    {
      "cell_type": "markdown",
      "source": "# Setup",
      "metadata": {
        "user_expressions": [],
        "cell_id": "34809486356543dba3ae7bcc93ec0f07",
        "deepnote_cell_type": "markdown"
      },
      "block_group": "1db41e50a5b04581b300a377f81e5bb8"
    },
    {
      "cell_type": "code",
      "source": "import sys, os, time\nimport matplotlib.pyplot as plt\n\n# Math, data\nimport numpy as np\nimport pandas as pd\npd.set_option('display.width', 140)\n\n# GIS packages\nos.environ['USE_PYGEOS'] = '0'\nfrom shapely.geometry import Polygon, Point\nimport pyproj\nimport georasters as gr\nimport fiona\nimport fiona.crs\nimport geopandas as gp\nimport geopandas.tools as gpt\ngpd = gp\nimport dask_geopandas\n\nfrom pyproj import CRS\ncea = CRS(\"ESRI:54034\")\nwgs84 = CRS(\"EPSG:4326\")\n\n# Plotting\nimport matplotlib as mpl\nimport seaborn as sns\n# Setup seaborn\nsns.set()\n\n# Mapping\nimport geoplot as gplt\nimport geoplot.crs as gcrs\nimport mapclassify as mc\nimport textwrap\n\n# Various other packages\nimport isounidecode         # Decode and encode text\nimport itertools\nfrom functools import reduce\n\n# Paths\nproot = '/work/Replication_Dickens_2022/data/'\npathout = proot + 'Ethnologue/'\npathstats = proot + 'stats/'\npathethno = '' # Since the Ethnologed is protected under copy rights we can't upload the dataset.",
      "metadata": {
        "cell_id": "369ba08fe39e4c96a3e89c745629ec8c",
        "deepnote_cell_type": "code"
      },
      "outputs": [
        {
          "name": "stderr",
          "output_type": "stream",
          "text": "/users/ozak/micromamba/envs/GeoPython39env/lib/python3.9/site-packages/libpysal/cg/alpha_shapes.py:39: NumbaDeprecationWarning: \u001b[1mThe 'nopython' keyword argument was not supplied to the 'numba.jit' decorator. The implicit default value for this argument is currently False, but it will be changed to True in Numba 0.59.0. See https://numba.readthedocs.io/en/stable/reference/deprecation.html#deprecation-of-object-mode-fall-back-behaviour-when-using-jit for details.\u001b[0m\n  def nb_dist(x, y):\n/users/ozak/micromamba/envs/GeoPython39env/lib/python3.9/site-packages/libpysal/cg/alpha_shapes.py:165: NumbaDeprecationWarning: \u001b[1mThe 'nopython' keyword argument was not supplied to the 'numba.jit' decorator. The implicit default value for this argument is currently False, but it will be changed to True in Numba 0.59.0. See https://numba.readthedocs.io/en/stable/reference/deprecation.html#deprecation-of-object-mode-fall-back-behaviour-when-using-jit for details.\u001b[0m\n  def get_faces(triangle):\n/users/ozak/micromamba/envs/GeoPython39env/lib/python3.9/site-packages/libpysal/cg/alpha_shapes.py:199: NumbaDeprecationWarning: \u001b[1mThe 'nopython' keyword argument was not supplied to the 'numba.jit' decorator. The implicit default value for this argument is currently False, but it will be changed to True in Numba 0.59.0. See https://numba.readthedocs.io/en/stable/reference/deprecation.html#deprecation-of-object-mode-fall-back-behaviour-when-using-jit for details.\u001b[0m\n  def build_faces(faces, triangles_is, num_triangles, num_faces_single):\n/users/ozak/micromamba/envs/GeoPython39env/lib/python3.9/site-packages/libpysal/cg/alpha_shapes.py:261: NumbaDeprecationWarning: \u001b[1mThe 'nopython' keyword argument was not supplied to the 'numba.jit' decorator. The implicit default value for this argument is currently False, but it will be changed to True in Numba 0.59.0. See https://numba.readthedocs.io/en/stable/reference/deprecation.html#deprecation-of-object-mode-fall-back-behaviour-when-using-jit for details.\u001b[0m\n  def nb_mask_faces(mask, faces):\n"
        }
      ],
      "execution_count": null,
      "block_group": "7a22b299434c40a88ccf847597719ce0"
    },
    {
      "cell_type": "code",
      "source": "#%%px --local\ndef Borders(df1, df2):\n    \"\"\"\n    Overlay Intersection operation used in overlay function\n    \"\"\"\n    # Spatial Index to create intersections\n    idx1, idx2 = df2.sindex.query_bulk(df1.geometry, predicate=\"intersects\", sort=True)\n    # Create pairs of geometries in both dataframes to be intersected\n    if idx1.size > 0 and idx2.size > 0:\n        left = df1.geometry.take(idx1)\n        left.reset_index(drop=True, inplace=True)\n        right = df2.geometry.take(idx2)\n        right.reset_index(drop=True, inplace=True)\n        intersections = left.intersection(right)\n        poly_ix = intersections.type.isin([\"LineString\", \"MultiLineString\"])\n        intersections.loc[poly_ix] = intersections[poly_ix]#.buffer(0)\n\n        # only keep actual intersecting geometries\n        pairs_intersect = pd.DataFrame({\"__idx1\": idx1, \"__idx2\": idx2})\n        geom_intersect = intersections\n\n        # merge data for intersecting geometries\n        df1 = df1.reset_index(drop=True)\n        df2 = df2.reset_index(drop=True)\n        dfinter = pairs_intersect.merge(\n            df1.drop(df1._geometry_column_name, axis=1),\n            left_on=\"__idx1\",\n            right_index=True,\n        )\n        dfinter = dfinter.merge(\n            df2.drop(df2._geometry_column_name, axis=1),\n            left_on=\"__idx2\",\n            right_index=True,\n            suffixes=(\"_1\", \"_2\"),\n        )\n\n        return gpd.GeoDataFrame(dfinter, geometry=geom_intersect, crs=df1.crs)\n    else:\n        return gpd.GeoDataFrame(\n            [],\n            columns=list(set(df1.columns).union(df2.columns)) + [\"__idx1\", \"__idx2\"],\n            crs=df1.crs,\n        )\n    \ndef _overlay_intersection(df1, df2):\n    \"\"\"\n    Overlay Intersection operation used in overlay function\n    \"\"\"\n    # Spatial Index to create intersections\n    idx1, idx2 = df2.sindex.query_bulk(df1.geometry, predicate=\"intersects\", sort=True)\n    # Create pairs of geometries in both dataframes to be intersected\n    if idx1.size > 0 and idx2.size > 0:\n        left = df1.geometry.take(idx1)\n        left.reset_index(drop=True, inplace=True)\n        right = df2.geometry.take(idx2)\n        right.reset_index(drop=True, inplace=True)\n        intersections = left.intersection(right)\n        poly_ix = intersections.geom_type.isin([\"Polygon\", \"MultiPolygon\"])\n        intersections.loc[poly_ix] = intersections[poly_ix].buffer(0)\n\n        # only keep actual intersecting geometries\n        pairs_intersect = pd.DataFrame({\"__idx1\": idx1, \"__idx2\": idx2})\n        geom_intersect = intersections\n\n        # merge data for intersecting geometries\n        df1 = df1.reset_index(drop=True)\n        df2 = df2.reset_index(drop=True)\n        dfinter = pairs_intersect.merge(\n            df1.drop(df1._geometry_column_name, axis=1),\n            left_on=\"__idx1\",\n            right_index=True,\n        )\n        dfinter = dfinter.merge(\n            df2.drop(df2._geometry_column_name, axis=1),\n            left_on=\"__idx2\",\n            right_index=True,\n            suffixes=(\"_1\", \"_2\"),\n        )\n\n        return gp.GeoDataFrame(dfinter, geometry=geom_intersect, crs=df1.crs)\n    else:\n        result = df1.iloc[:0].merge(\n            df2.iloc[:0].drop(df2.geometry.name, axis=1),\n            left_index=True,\n            right_index=True,\n            suffixes=(\"_1\", \"_2\"),\n        )\n        result[\"__idx1\"] = None\n        result[\"__idx2\"] = None\n        return result[\n            result.columns.drop(df1.geometry.name).tolist() + [df1.geometry.name]\n        ]",
      "metadata": {
        "cell_id": "6c3861b8f48b4a59afbf3293ed5531b9",
        "deepnote_cell_type": "code"
      },
      "outputs": [],
      "execution_count": null,
      "block_group": "43e8d403bd4742ab9bb8c47d7cb547a8"
    },
    {
      "cell_type": "code",
      "source": "# Drop repeated pairs\ndef drop_repeated(df, cols):\n    df1 = df[cols].copy()\n    df1['reps'] = df1.apply(lambda x: list(set(x[cols].astype(str))), axis=1)\n    df1['reps'] = df1.reps.apply(lambda x: '-'.join(x))\n    df1 = df1.drop_duplicates('reps')\n    df1 = df1.drop('reps', axis=1).reset_index(drop=True)\n    return df1",
      "metadata": {
        "cell_id": "aa06eaeed46c45be8346f9178d0f975a",
        "deepnote_cell_type": "code"
      },
      "outputs": [],
      "execution_count": null,
      "block_group": "6e74e1832f7e4197bb2c2c343be055d5"
    },
    {
      "cell_type": "markdown",
      "source": "# Using Original Data\n## Import original replication files provided with paper\n* We import only shapefiles to show construction and difference/similarity. \n* We import only the file for the 50km buffer (i.e., the 100km diameter)\n\nMain original replication data file with all pairwise data based on buffers of 50kms",
      "metadata": {
        "cell_id": "aee140829a5a4703a994f4e7a127572e",
        "deepnote_cell_type": "markdown"
      },
      "block_group": "2af4fd2c29fb4392a1a9f229bf12ce3e"
    },
    {
      "cell_type": "code",
      "source": "dfor = pd.read_stata(proot + 'EJ_Dickens_Border_100km.dta')\ndforc",
      "metadata": {
        "cell_id": "a861a08c569f4f1499a6c25c7b591065",
        "deepnote_cell_type": "code"
      },
      "outputs": [
        {
          "name": "stderr",
          "output_type": "stream",
          "text": "/tmp/ipykernel_2493198/3197352363.py:1: UnicodeWarning: \nOne or more strings in the dta file could not be decoded using utf-8, and\nso the fallback encoding of latin-1 is being used.  This can happen when a file\nhas been incorrectly encoded by Stata or some other software. You should verify\nthe string values returned are correct.\n  dfor = pd.read_stata(pathdickens + 'Data/EJ_Dickens_Border_100km.dta')\n"
        },
        {
          "data": {
            "text/html": "<div>\n<style scoped>\n    .dataframe tbody tr th:only-of-type {\n        vertical-align: middle;\n    }\n\n    .dataframe tbody tr th {\n        vertical-align: top;\n    }\n\n    .dataframe thead th {\n        text-align: right;\n    }\n</style>\n<table border=\"1\" class=\"dataframe\">\n  <thead>\n    <tr style=\"text-align: right;\">\n      <th></th>\n      <th>identifier</th>\n      <th>langName_ethno1</th>\n      <th>langIso1</th>\n      <th>country1</th>\n      <th>family1</th>\n      <th>langName_ethno2</th>\n      <th>langIso2</th>\n      <th>country2</th>\n      <th>family2</th>\n      <th>lingDist</th>\n      <th>...</th>\n      <th>langIso_ethno2</th>\n      <th>langIso_asjp1</th>\n      <th>langIso_asjp2</th>\n      <th>langName_asjp1</th>\n      <th>langName_asjp2</th>\n      <th>familyTree1</th>\n      <th>familyTree2</th>\n      <th>ccode1</th>\n      <th>ccode2</th>\n      <th>region</th>\n    </tr>\n  </thead>\n  <tbody>\n    <tr>\n      <th>0</th>\n      <td>AAA-NGA-EMA-NGA</td>\n      <td>Ghotuo</td>\n      <td>aaa</td>\n      <td>Nigeria</td>\n      <td>Niger-Congo</td>\n      <td>Emai-Iuleha-Ora</td>\n      <td>ema</td>\n      <td>Nigeria</td>\n      <td>Niger-Congo</td>\n      <td>0.459362</td>\n      <td>...</td>\n      <td>ema</td>\n      <td>aaa</td>\n      <td>ema</td>\n      <td>GHOTUO</td>\n      <td>AOMA</td>\n      <td>Niger-Congo,Atlantic-Congo,Volta-Congo,Benue-C...</td>\n      <td>Niger-Congo,Atlantic-Congo,Volta-Congo,Benue-C...</td>\n      <td>566.0</td>\n      <td>566.0</td>\n      <td>Africa</td>\n    </tr>\n    <tr>\n      <th>1</th>\n      <td>AAA-NGA-OKE-NGA</td>\n      <td>Ghotuo</td>\n      <td>aaa</td>\n      <td>Nigeria</td>\n      <td>Niger-Congo</td>\n      <td>Okpe</td>\n      <td>oke</td>\n      <td>Nigeria</td>\n      <td>Niger-Congo</td>\n      <td>0.628569</td>\n      <td>...</td>\n      <td>oke</td>\n      <td>aaa</td>\n      <td>oke</td>\n      <td>GHOTUO</td>\n      <td>OKPE</td>\n      <td>Niger-Congo,Atlantic-Congo,Volta-Congo,Benue-C...</td>\n      <td>Niger-Congo,Atlantic-Congo,Volta-Congo,Benue-C...</td>\n      <td>566.0</td>\n      <td>566.0</td>\n      <td>Africa</td>\n    </tr>\n    <tr>\n      <th>2</th>\n      <td>AAB-NGA-JID-NGA</td>\n      <td>Alumu-Tesu</td>\n      <td>aab</td>\n      <td>Nigeria</td>\n      <td>Niger-Congo</td>\n      <td>Bu</td>\n      <td>jid</td>\n      <td>Nigeria</td>\n      <td>Niger-Congo</td>\n      <td>0.833333</td>\n      <td>...</td>\n      <td>jid</td>\n      <td>aab</td>\n      <td>jid</td>\n      <td>TESU</td>\n      <td>BU_NIGERIA</td>\n      <td>Niger-Congo,Atlantic-Congo,Volta-Congo,Benue-C...</td>\n      <td>Niger-Congo,Atlantic-Congo,Volta-Congo,Benue-C...</td>\n      <td>566.0</td>\n      <td>566.0</td>\n      <td>Africa</td>\n    </tr>\n    <tr>\n      <th>3</th>\n      <td>AAB-NGA-RIN-NGA</td>\n      <td>Alumu-Tesu</td>\n      <td>aab</td>\n      <td>Nigeria</td>\n      <td>Niger-Congo</td>\n      <td>Nungu</td>\n      <td>rin</td>\n      <td>Nigeria</td>\n      <td>Niger-Congo</td>\n      <td>NaN</td>\n      <td>...</td>\n      <td>rin</td>\n      <td>aab</td>\n      <td>rin</td>\n      <td>TESU</td>\n      <td>missing</td>\n      <td>Niger-Congo,Atlantic-Congo,Volta-Congo,Benue-C...</td>\n      <td>Niger-Congo,Atlantic-Congo,Volta-Congo,Benue-C...</td>\n      <td>566.0</td>\n      <td>566.0</td>\n      <td>Africa</td>\n    </tr>\n    <tr>\n      <th>4</th>\n      <td>AAB-NGA-TDV-NGA</td>\n      <td>Alumu-Tesu</td>\n      <td>aab</td>\n      <td>Nigeria</td>\n      <td>Niger-Congo</td>\n      <td>Toro</td>\n      <td>tdv</td>\n      <td>Nigeria</td>\n      <td>Niger-Congo</td>\n      <td>0.532142</td>\n      <td>...</td>\n      <td>tdv</td>\n      <td>aab</td>\n      <td>tdv</td>\n      <td>TESU</td>\n      <td>TORO</td>\n      <td>Niger-Congo,Atlantic-Congo,Volta-Congo,Benue-C...</td>\n      <td>Niger-Congo,Atlantic-Congo,Volta-Congo,Benue-C...</td>\n      <td>566.0</td>\n      <td>566.0</td>\n      <td>Africa</td>\n    </tr>\n    <tr>\n      <th>...</th>\n      <td>...</td>\n      <td>...</td>\n      <td>...</td>\n      <td>...</td>\n      <td>...</td>\n      <td>...</td>\n      <td>...</td>\n      <td>...</td>\n      <td>...</td>\n      <td>...</td>\n      <td>...</td>\n      <td>...</td>\n      <td>...</td>\n      <td>...</td>\n      <td>...</td>\n      <td>...</td>\n      <td>...</td>\n      <td>...</td>\n      <td>...</td>\n      <td>...</td>\n      <td>...</td>\n    </tr>\n    <tr>\n      <th>15598</th>\n      <td>ZYN-CHN-YUE-CHN</td>\n      <td>Zhuang, Yongnan</td>\n      <td>zyn</td>\n      <td>China</td>\n      <td>Tai-Kadai</td>\n      <td>Chinese, Yue</td>\n      <td>yue</td>\n      <td>China</td>\n      <td>Sino-Tibetan</td>\n      <td>0.813015</td>\n      <td>...</td>\n      <td>yue</td>\n      <td>zyn</td>\n      <td>yue</td>\n      <td>NINGMING_YONGNAN_ZHUANG</td>\n      <td>CANTONESE</td>\n      <td>Tai-Kadai,Kam-Tai,Be-Tai,Tai-Sek,Tai,Central</td>\n      <td>Sino-Tibetan,Chinese</td>\n      <td>156.0</td>\n      <td>156.0</td>\n      <td>Asia</td>\n    </tr>\n    <tr>\n      <th>15599</th>\n      <td>ZZJ-CHN-CMN-CHN</td>\n      <td>Zhuang, Zuojiang</td>\n      <td>zzj</td>\n      <td>China</td>\n      <td>Tai-Kadai</td>\n      <td>Chinese, Mandarin</td>\n      <td>cmn</td>\n      <td>China</td>\n      <td>Sino-Tibetan</td>\n      <td>0.865388</td>\n      <td>...</td>\n      <td>cmn</td>\n      <td>zzj</td>\n      <td>cmn</td>\n      <td>LONGZHOU_ZHUANG</td>\n      <td>KUNMING_MANDARIN</td>\n      <td>Tai-Kadai,Kam-Tai,Be-Tai,Tai-Sek,Tai,Central</td>\n      <td>Sino-Tibetan,Chinese</td>\n      <td>156.0</td>\n      <td>156.0</td>\n      <td>Asia</td>\n    </tr>\n    <tr>\n      <th>15600</th>\n      <td>ZZJ-CHN-IUM-CHN</td>\n      <td>Zhuang, Zuojiang</td>\n      <td>zzj</td>\n      <td>China</td>\n      <td>Tai-Kadai</td>\n      <td>Iu Mien</td>\n      <td>ium</td>\n      <td>China</td>\n      <td>Hmong-Mien</td>\n      <td>0.844456</td>\n      <td>...</td>\n      <td>ium</td>\n      <td>zzj</td>\n      <td>ium</td>\n      <td>LONGZHOU_ZHUANG</td>\n      <td>CHIANGRAI_MIEN</td>\n      <td>Tai-Kadai,Kam-Tai,Be-Tai,Tai-Sek,Tai,Central</td>\n      <td>Hmong-Mien,Mienic,Mian-Jin</td>\n      <td>156.0</td>\n      <td>156.0</td>\n      <td>Asia</td>\n    </tr>\n    <tr>\n      <th>15601</th>\n      <td>ZZJ-CHN-TYZ-VNM</td>\n      <td>Zhuang, Zuojiang</td>\n      <td>zzj</td>\n      <td>China</td>\n      <td>Tai-Kadai</td>\n      <td>Tay</td>\n      <td>tyz</td>\n      <td>Vietnam</td>\n      <td>Tai-Kadai</td>\n      <td>0.528902</td>\n      <td>...</td>\n      <td>tyz</td>\n      <td>zzj</td>\n      <td>tyz</td>\n      <td>LONGZHOU_ZHUANG</td>\n      <td>TAY</td>\n      <td>Tai-Kadai,Kam-Tai,Be-Tai,Tai-Sek,Tai,Central</td>\n      <td>Tai-Kadai,Kam-Tai,Be-Tai,Tai-Sek,Tai,Central</td>\n      <td>156.0</td>\n      <td>704.0</td>\n      <td>Asia</td>\n    </tr>\n    <tr>\n      <th>15602</th>\n      <td>ZZJ-CHN-ZYN-CHN</td>\n      <td>Zhuang, Zuojiang</td>\n      <td>zzj</td>\n      <td>China</td>\n      <td>Tai-Kadai</td>\n      <td>Zhuang, Yongnan</td>\n      <td>zyn</td>\n      <td>China</td>\n      <td>Tai-Kadai</td>\n      <td>0.452969</td>\n      <td>...</td>\n      <td>zyn</td>\n      <td>zzj</td>\n      <td>zyn</td>\n      <td>LONGZHOU_ZHUANG</td>\n      <td>NINGMING_YONGNAN_ZHUANG</td>\n      <td>Tai-Kadai,Kam-Tai,Be-Tai,Tai-Sek,Tai,Central</td>\n      <td>Tai-Kadai,Kam-Tai,Be-Tai,Tai-Sek,Tai,Central</td>\n      <td>156.0</td>\n      <td>156.0</td>\n      <td>Asia</td>\n    </tr>\n  </tbody>\n</table>\n<p>15603 rows × 101 columns</p>\n</div>",
            "text/plain": "            identifier   langName_ethno1 langIso1 country1      family1    langName_ethno2 langIso2 country2       family2  lingDist  ...  \\\n0      AAA-NGA-EMA-NGA            Ghotuo      aaa  Nigeria  Niger-Congo    Emai-Iuleha-Ora      ema  Nigeria   Niger-Congo  0.459362  ...   \n1      AAA-NGA-OKE-NGA            Ghotuo      aaa  Nigeria  Niger-Congo               Okpe      oke  Nigeria   Niger-Congo  0.628569  ...   \n2      AAB-NGA-JID-NGA        Alumu-Tesu      aab  Nigeria  Niger-Congo                 Bu      jid  Nigeria   Niger-Congo  0.833333  ...   \n3      AAB-NGA-RIN-NGA        Alumu-Tesu      aab  Nigeria  Niger-Congo              Nungu      rin  Nigeria   Niger-Congo       NaN  ...   \n4      AAB-NGA-TDV-NGA        Alumu-Tesu      aab  Nigeria  Niger-Congo               Toro      tdv  Nigeria   Niger-Congo  0.532142  ...   \n...                ...               ...      ...      ...          ...                ...      ...      ...           ...       ...  ...   \n15598  ZYN-CHN-YUE-CHN   Zhuang, Yongnan      zyn    China    Tai-Kadai       Chinese, Yue      yue    China  Sino-Tibetan  0.813015  ...   \n15599  ZZJ-CHN-CMN-CHN  Zhuang, Zuojiang      zzj    China    Tai-Kadai  Chinese, Mandarin      cmn    China  Sino-Tibetan  0.865388  ...   \n15600  ZZJ-CHN-IUM-CHN  Zhuang, Zuojiang      zzj    China    Tai-Kadai            Iu Mien      ium    China    Hmong-Mien  0.844456  ...   \n15601  ZZJ-CHN-TYZ-VNM  Zhuang, Zuojiang      zzj    China    Tai-Kadai                Tay      tyz  Vietnam     Tai-Kadai  0.528902  ...   \n15602  ZZJ-CHN-ZYN-CHN  Zhuang, Zuojiang      zzj    China    Tai-Kadai    Zhuang, Yongnan      zyn    China     Tai-Kadai  0.452969  ...   \n\n       langIso_ethno2  langIso_asjp1  langIso_asjp2           langName_asjp1           langName_asjp2  \\\n0                 ema            aaa            ema                   GHOTUO                     AOMA   \n1                 oke            aaa            oke                   GHOTUO                     OKPE   \n2                 jid            aab            jid                     TESU               BU_NIGERIA   \n3                 rin            aab            rin                     TESU                  missing   \n4                 tdv            aab            tdv                     TESU                     TORO   \n...               ...            ...            ...                      ...                      ...   \n15598             yue            zyn            yue  NINGMING_YONGNAN_ZHUANG                CANTONESE   \n15599             cmn            zzj            cmn          LONGZHOU_ZHUANG         KUNMING_MANDARIN   \n15600             ium            zzj            ium          LONGZHOU_ZHUANG           CHIANGRAI_MIEN   \n15601             tyz            zzj            tyz          LONGZHOU_ZHUANG                      TAY   \n15602             zyn            zzj            zyn          LONGZHOU_ZHUANG  NINGMING_YONGNAN_ZHUANG   \n\n                                             familyTree1                                        familyTree2  ccode1  ccode2  region  \n0      Niger-Congo,Atlantic-Congo,Volta-Congo,Benue-C...  Niger-Congo,Atlantic-Congo,Volta-Congo,Benue-C...   566.0   566.0  Africa  \n1      Niger-Congo,Atlantic-Congo,Volta-Congo,Benue-C...  Niger-Congo,Atlantic-Congo,Volta-Congo,Benue-C...   566.0   566.0  Africa  \n2      Niger-Congo,Atlantic-Congo,Volta-Congo,Benue-C...  Niger-Congo,Atlantic-Congo,Volta-Congo,Benue-C...   566.0   566.0  Africa  \n3      Niger-Congo,Atlantic-Congo,Volta-Congo,Benue-C...  Niger-Congo,Atlantic-Congo,Volta-Congo,Benue-C...   566.0   566.0  Africa  \n4      Niger-Congo,Atlantic-Congo,Volta-Congo,Benue-C...  Niger-Congo,Atlantic-Congo,Volta-Congo,Benue-C...   566.0   566.0  Africa  \n...                                                  ...                                                ...     ...     ...     ...  \n15598       Tai-Kadai,Kam-Tai,Be-Tai,Tai-Sek,Tai,Central                               Sino-Tibetan,Chinese   156.0   156.0    Asia  \n15599       Tai-Kadai,Kam-Tai,Be-Tai,Tai-Sek,Tai,Central                               Sino-Tibetan,Chinese   156.0   156.0    Asia  \n15600       Tai-Kadai,Kam-Tai,Be-Tai,Tai-Sek,Tai,Central                         Hmong-Mien,Mienic,Mian-Jin   156.0   156.0    Asia  \n15601       Tai-Kadai,Kam-Tai,Be-Tai,Tai-Sek,Tai,Central       Tai-Kadai,Kam-Tai,Be-Tai,Tai-Sek,Tai,Central   156.0   704.0    Asia  \n15602       Tai-Kadai,Kam-Tai,Be-Tai,Tai-Sek,Tai,Central       Tai-Kadai,Kam-Tai,Be-Tai,Tai-Sek,Tai,Central   156.0   156.0    Asia  \n\n[15603 rows x 101 columns]"
          },
          "execution_count": 6,
          "metadata": {},
          "output_type": "execute_result"
        }
      ],
      "execution_count": null,
      "block_group": "42abddafa89b4d93af281df2eecc6232"
    },
    {
      "cell_type": "code",
      "source": "dfor.loc[dfor.identifier=='SPA-MEX-SPA-GTM']",
      "metadata": {
        "cell_id": "315b634ba6874f05918d6d42ee9a9b3c",
        "deepnote_cell_type": "code"
      },
      "outputs": [
        {
          "data": {
            "text/html": "<div>\n<style scoped>\n    .dataframe tbody tr th:only-of-type {\n        vertical-align: middle;\n    }\n\n    .dataframe tbody tr th {\n        vertical-align: top;\n    }\n\n    .dataframe thead th {\n        text-align: right;\n    }\n</style>\n<table border=\"1\" class=\"dataframe\">\n  <thead>\n    <tr style=\"text-align: right;\">\n      <th></th>\n      <th>identifier</th>\n      <th>langName_ethno1</th>\n      <th>langIso1</th>\n      <th>country1</th>\n      <th>family1</th>\n      <th>langName_ethno2</th>\n      <th>langIso2</th>\n      <th>country2</th>\n      <th>family2</th>\n      <th>lingDist</th>\n      <th>...</th>\n      <th>langIso_ethno2</th>\n      <th>langIso_asjp1</th>\n      <th>langIso_asjp2</th>\n      <th>langName_asjp1</th>\n      <th>langName_asjp2</th>\n      <th>familyTree1</th>\n      <th>familyTree2</th>\n      <th>ccode1</th>\n      <th>ccode2</th>\n      <th>region</th>\n    </tr>\n  </thead>\n  <tbody>\n  </tbody>\n</table>\n<p>0 rows × 101 columns</p>\n</div>",
            "text/plain": "Empty DataFrame\nColumns: [identifier, langName_ethno1, langIso1, country1, family1, langName_ethno2, langIso2, country2, family2, lingDist, csi, csi_change, csi_sd, csi_change_sd, elev, elev_sd, elev_range, prec, prec_sd, prec_range, temp, temp_sd, temp_range, malaria, malaria_sd, malaria_range, dist_coast, dist_lake, dist_rivmaj, dist_rivmin, dist_border, dist_pre600, dist_pre1800, dist_lang, ldist_coast, ldist_lake, ldist_rivmaj, ldist_rivmin, ldist_border, ldist_lang, ldist_pre600, ldist_pre1800, asia, africa, europe, oceania, americas, oldworld, nativePop50, nativePop25, nativePop75, nativePopShare1, nativePopShare2, latitude, longitude, langLat1, langLon1, langLat2, langLon2, langLat_diff, langLon_diff, langPop1, langPop2, ln_langPop, langPop_diff, langArea1, langArea2, ln_langArea, langArea_diff, area, larea, branch1, branch2, branch3, branch4, branch5, branch6, branch7, branch8, branch9, branch10, branch11, branch12, branch13, branch14, overlap, sibling, samecountry, langID1, langID2, langIso_ethno1, langIso_ethno2, langIso_asjp1, langIso_asjp2, langName_asjp1, langName_asjp2, familyTree1, familyTree2, ccode1, ccode2, ...]\nIndex: []\n\n[0 rows x 101 columns]"
          },
          "execution_count": 7,
          "metadata": {},
          "output_type": "execute_result"
        }
      ],
      "execution_count": null,
      "block_group": "8a39c3db68ad41a0bce8039ebc3762b9"
    },
    {
      "cell_type": "code",
      "source": "dfor.loc[dfor.identifier=='SPA-GTM-SPA-MEX']",
      "metadata": {
        "cell_id": "5cb5f84191ac4e549a7e6c6a3c563c55",
        "deepnote_cell_type": "code"
      },
      "outputs": [
        {
          "data": {
            "text/html": "<div>\n<style scoped>\n    .dataframe tbody tr th:only-of-type {\n        vertical-align: middle;\n    }\n\n    .dataframe tbody tr th {\n        vertical-align: top;\n    }\n\n    .dataframe thead th {\n        text-align: right;\n    }\n</style>\n<table border=\"1\" class=\"dataframe\">\n  <thead>\n    <tr style=\"text-align: right;\">\n      <th></th>\n      <th>identifier</th>\n      <th>langName_ethno1</th>\n      <th>langIso1</th>\n      <th>country1</th>\n      <th>family1</th>\n      <th>langName_ethno2</th>\n      <th>langIso2</th>\n      <th>country2</th>\n      <th>family2</th>\n      <th>lingDist</th>\n      <th>...</th>\n      <th>langIso_ethno2</th>\n      <th>langIso_asjp1</th>\n      <th>langIso_asjp2</th>\n      <th>langName_asjp1</th>\n      <th>langName_asjp2</th>\n      <th>familyTree1</th>\n      <th>familyTree2</th>\n      <th>ccode1</th>\n      <th>ccode2</th>\n      <th>region</th>\n    </tr>\n  </thead>\n  <tbody>\n  </tbody>\n</table>\n<p>0 rows × 101 columns</p>\n</div>",
            "text/plain": "Empty DataFrame\nColumns: [identifier, langName_ethno1, langIso1, country1, family1, langName_ethno2, langIso2, country2, family2, lingDist, csi, csi_change, csi_sd, csi_change_sd, elev, elev_sd, elev_range, prec, prec_sd, prec_range, temp, temp_sd, temp_range, malaria, malaria_sd, malaria_range, dist_coast, dist_lake, dist_rivmaj, dist_rivmin, dist_border, dist_pre600, dist_pre1800, dist_lang, ldist_coast, ldist_lake, ldist_rivmaj, ldist_rivmin, ldist_border, ldist_lang, ldist_pre600, ldist_pre1800, asia, africa, europe, oceania, americas, oldworld, nativePop50, nativePop25, nativePop75, nativePopShare1, nativePopShare2, latitude, longitude, langLat1, langLon1, langLat2, langLon2, langLat_diff, langLon_diff, langPop1, langPop2, ln_langPop, langPop_diff, langArea1, langArea2, ln_langArea, langArea_diff, area, larea, branch1, branch2, branch3, branch4, branch5, branch6, branch7, branch8, branch9, branch10, branch11, branch12, branch13, branch14, overlap, sibling, samecountry, langID1, langID2, langIso_ethno1, langIso_ethno2, langIso_asjp1, langIso_asjp2, langName_asjp1, langName_asjp2, familyTree1, familyTree2, ccode1, ccode2, ...]\nIndex: []\n\n[0 rows x 101 columns]"
          },
          "execution_count": 8,
          "metadata": {},
          "output_type": "execute_result"
        }
      ],
      "execution_count": null,
      "block_group": "24622f5c48b844c8a58ba623967f4fea"
    },
    {
      "cell_type": "code",
      "source": "dfor.loc[dfor.identifier=='AAA-NGA-EMA-NGA']",
      "metadata": {
        "cell_id": "ab16c1fd60bd4e28883c447cc1926cf4",
        "deepnote_cell_type": "code"
      },
      "outputs": [
        {
          "data": {
            "text/html": "<div>\n<style scoped>\n    .dataframe tbody tr th:only-of-type {\n        vertical-align: middle;\n    }\n\n    .dataframe tbody tr th {\n        vertical-align: top;\n    }\n\n    .dataframe thead th {\n        text-align: right;\n    }\n</style>\n<table border=\"1\" class=\"dataframe\">\n  <thead>\n    <tr style=\"text-align: right;\">\n      <th></th>\n      <th>identifier</th>\n      <th>langName_ethno1</th>\n      <th>langIso1</th>\n      <th>country1</th>\n      <th>family1</th>\n      <th>langName_ethno2</th>\n      <th>langIso2</th>\n      <th>country2</th>\n      <th>family2</th>\n      <th>lingDist</th>\n      <th>...</th>\n      <th>langIso_ethno2</th>\n      <th>langIso_asjp1</th>\n      <th>langIso_asjp2</th>\n      <th>langName_asjp1</th>\n      <th>langName_asjp2</th>\n      <th>familyTree1</th>\n      <th>familyTree2</th>\n      <th>ccode1</th>\n      <th>ccode2</th>\n      <th>region</th>\n    </tr>\n  </thead>\n  <tbody>\n    <tr>\n      <th>0</th>\n      <td>AAA-NGA-EMA-NGA</td>\n      <td>Ghotuo</td>\n      <td>aaa</td>\n      <td>Nigeria</td>\n      <td>Niger-Congo</td>\n      <td>Emai-Iuleha-Ora</td>\n      <td>ema</td>\n      <td>Nigeria</td>\n      <td>Niger-Congo</td>\n      <td>0.459362</td>\n      <td>...</td>\n      <td>ema</td>\n      <td>aaa</td>\n      <td>ema</td>\n      <td>GHOTUO</td>\n      <td>AOMA</td>\n      <td>Niger-Congo,Atlantic-Congo,Volta-Congo,Benue-C...</td>\n      <td>Niger-Congo,Atlantic-Congo,Volta-Congo,Benue-C...</td>\n      <td>566.0</td>\n      <td>566.0</td>\n      <td>Africa</td>\n    </tr>\n  </tbody>\n</table>\n<p>1 rows × 101 columns</p>\n</div>",
            "text/plain": "        identifier langName_ethno1 langIso1 country1      family1  langName_ethno2 langIso2 country2      family2  lingDist  ...  \\\n0  AAA-NGA-EMA-NGA          Ghotuo      aaa  Nigeria  Niger-Congo  Emai-Iuleha-Ora      ema  Nigeria  Niger-Congo  0.459362  ...   \n\n   langIso_ethno2  langIso_asjp1  langIso_asjp2  langName_asjp1  langName_asjp2                                        familyTree1  \\\n0             ema            aaa            ema          GHOTUO            AOMA  Niger-Congo,Atlantic-Congo,Volta-Congo,Benue-C...   \n\n                                         familyTree2  ccode1  ccode2  region  \n0  Niger-Congo,Atlantic-Congo,Volta-Congo,Benue-C...   566.0   566.0  Africa  \n\n[1 rows x 101 columns]"
          },
          "execution_count": 9,
          "metadata": {},
          "output_type": "execute_result"
        }
      ],
      "execution_count": null,
      "block_group": "7e6b549a7ab94267b17f5af2e75d5221"
    },
    {
      "cell_type": "code",
      "source": "dfor.loc[dfor.identifier=='EMA-NGA-AAA-NGA']",
      "metadata": {
        "cell_id": "56ffec928c59482195b15ec396ae3b40",
        "deepnote_cell_type": "code"
      },
      "outputs": [
        {
          "data": {
            "text/html": "<div>\n<style scoped>\n    .dataframe tbody tr th:only-of-type {\n        vertical-align: middle;\n    }\n\n    .dataframe tbody tr th {\n        vertical-align: top;\n    }\n\n    .dataframe thead th {\n        text-align: right;\n    }\n</style>\n<table border=\"1\" class=\"dataframe\">\n  <thead>\n    <tr style=\"text-align: right;\">\n      <th></th>\n      <th>identifier</th>\n      <th>langName_ethno1</th>\n      <th>langIso1</th>\n      <th>country1</th>\n      <th>family1</th>\n      <th>langName_ethno2</th>\n      <th>langIso2</th>\n      <th>country2</th>\n      <th>family2</th>\n      <th>lingDist</th>\n      <th>...</th>\n      <th>langIso_ethno2</th>\n      <th>langIso_asjp1</th>\n      <th>langIso_asjp2</th>\n      <th>langName_asjp1</th>\n      <th>langName_asjp2</th>\n      <th>familyTree1</th>\n      <th>familyTree2</th>\n      <th>ccode1</th>\n      <th>ccode2</th>\n      <th>region</th>\n    </tr>\n  </thead>\n  <tbody>\n  </tbody>\n</table>\n<p>0 rows × 101 columns</p>\n</div>",
            "text/plain": "Empty DataFrame\nColumns: [identifier, langName_ethno1, langIso1, country1, family1, langName_ethno2, langIso2, country2, family2, lingDist, csi, csi_change, csi_sd, csi_change_sd, elev, elev_sd, elev_range, prec, prec_sd, prec_range, temp, temp_sd, temp_range, malaria, malaria_sd, malaria_range, dist_coast, dist_lake, dist_rivmaj, dist_rivmin, dist_border, dist_pre600, dist_pre1800, dist_lang, ldist_coast, ldist_lake, ldist_rivmaj, ldist_rivmin, ldist_border, ldist_lang, ldist_pre600, ldist_pre1800, asia, africa, europe, oceania, americas, oldworld, nativePop50, nativePop25, nativePop75, nativePopShare1, nativePopShare2, latitude, longitude, langLat1, langLon1, langLat2, langLon2, langLat_diff, langLon_diff, langPop1, langPop2, ln_langPop, langPop_diff, langArea1, langArea2, ln_langArea, langArea_diff, area, larea, branch1, branch2, branch3, branch4, branch5, branch6, branch7, branch8, branch9, branch10, branch11, branch12, branch13, branch14, overlap, sibling, samecountry, langID1, langID2, langIso_ethno1, langIso_ethno2, langIso_asjp1, langIso_asjp2, langName_asjp1, langName_asjp2, familyTree1, familyTree2, ccode1, ccode2, ...]\nIndex: []\n\n[0 rows x 101 columns]"
          },
          "execution_count": 10,
          "metadata": {},
          "output_type": "execute_result"
        }
      ],
      "execution_count": null,
      "block_group": "edad8e7ead3047f38ac78afec51f2e80"
    },
    {
      "cell_type": "markdown",
      "source": "## Pairs in original dataset that are the same language but in two countries",
      "metadata": {
        "tags": [],
        "user_expressions": [],
        "cell_id": "4e9697c09ac04bfb94eb5854fcd563c9",
        "deepnote_cell_type": "markdown"
      },
      "block_group": "2d5ac9bd4edc4712852d2fc8d9028928"
    },
    {
      "cell_type": "code",
      "source": "dfor.loc[dfor.identifier.apply(lambda x: x[:3]==x[8:11])]",
      "metadata": {
        "cell_id": "4bfec2061e634c06b7962bfa510b4c27",
        "deepnote_cell_type": "code"
      },
      "outputs": [
        {
          "data": {
            "text/html": "<div>\n<style scoped>\n    .dataframe tbody tr th:only-of-type {\n        vertical-align: middle;\n    }\n\n    .dataframe tbody tr th {\n        vertical-align: top;\n    }\n\n    .dataframe thead th {\n        text-align: right;\n    }\n</style>\n<table border=\"1\" class=\"dataframe\">\n  <thead>\n    <tr style=\"text-align: right;\">\n      <th></th>\n      <th>identifier</th>\n      <th>langName_ethno1</th>\n      <th>langIso1</th>\n      <th>country1</th>\n      <th>family1</th>\n      <th>langName_ethno2</th>\n      <th>langIso2</th>\n      <th>country2</th>\n      <th>family2</th>\n      <th>lingDist</th>\n      <th>...</th>\n      <th>langIso_ethno2</th>\n      <th>langIso_asjp1</th>\n      <th>langIso_asjp2</th>\n      <th>langName_asjp1</th>\n      <th>langName_asjp2</th>\n      <th>familyTree1</th>\n      <th>familyTree2</th>\n      <th>ccode1</th>\n      <th>ccode2</th>\n      <th>region</th>\n    </tr>\n  </thead>\n  <tbody>\n    <tr>\n      <th>78</th>\n      <td>ABR-CIV-ABR-GHA</td>\n      <td>Abron</td>\n      <td>abr</td>\n      <td>Cote d'Ivoire</td>\n      <td>Niger-Congo</td>\n      <td>Abron</td>\n      <td>abr</td>\n      <td>Ghana</td>\n      <td>Niger-Congo</td>\n      <td>NaN</td>\n      <td>...</td>\n      <td>abr</td>\n      <td>abr</td>\n      <td>abr</td>\n      <td>missing</td>\n      <td>missing</td>\n      <td>Niger-Congo,Atlantic-Congo,Volta-Congo,Kwa,Nyo...</td>\n      <td>Niger-Congo,Atlantic-Congo,Volta-Congo,Kwa,Nyo...</td>\n      <td>384.0</td>\n      <td>288.0</td>\n      <td>Africa</td>\n    </tr>\n    <tr>\n      <th>164</th>\n      <td>ADQ-TGO-ADQ-GHA</td>\n      <td>Adangbe</td>\n      <td>adq</td>\n      <td>Togo</td>\n      <td>Niger-Congo</td>\n      <td>Adangbe</td>\n      <td>adq</td>\n      <td>Ghana</td>\n      <td>Niger-Congo</td>\n      <td>NaN</td>\n      <td>...</td>\n      <td>adq</td>\n      <td>adq</td>\n      <td>adq</td>\n      <td>missing</td>\n      <td>missing</td>\n      <td>Niger-Congo,Atlantic-Congo,Volta-Congo,Kwa,Lef...</td>\n      <td>Niger-Congo,Atlantic-Congo,Volta-Congo,Kwa,Lef...</td>\n      <td>768.0</td>\n      <td>288.0</td>\n      <td>Africa</td>\n    </tr>\n    <tr>\n      <th>376</th>\n      <td>AII-TUR-AII-SYR</td>\n      <td>Assyrian Neo-Aramaic</td>\n      <td>aii</td>\n      <td>Turkey</td>\n      <td>Afro-Asiatic</td>\n      <td>Assyrian Neo-Aramaic</td>\n      <td>aii</td>\n      <td>Syria</td>\n      <td>Afro-Asiatic</td>\n      <td>NaN</td>\n      <td>...</td>\n      <td>aii</td>\n      <td>aii</td>\n      <td>aii</td>\n      <td>ASSYRIAN_NEO-ARAMAIC</td>\n      <td>ASSYRIAN_NEO-ARAMAIC</td>\n      <td>Afro-Asiatic,Semitic,Central,Aramaic,Eastern,C...</td>\n      <td>Afro-Asiatic,Semitic,Central,Aramaic,Eastern,C...</td>\n      <td>792.0</td>\n      <td>760.0</td>\n      <td>Asia</td>\n    </tr>\n    <tr>\n      <th>407</th>\n      <td>AJG-TGO-AJG-BEN</td>\n      <td>Aja</td>\n      <td>ajg</td>\n      <td>Togo</td>\n      <td>Niger-Congo</td>\n      <td>Aja</td>\n      <td>ajg</td>\n      <td>Benin</td>\n      <td>Niger-Congo</td>\n      <td>NaN</td>\n      <td>...</td>\n      <td>ajg</td>\n      <td>ajg</td>\n      <td>ajg</td>\n      <td>missing</td>\n      <td>missing</td>\n      <td>Niger-Congo,Atlantic-Congo,Volta-Congo,Kwa,Lef...</td>\n      <td>Niger-Congo,Atlantic-Congo,Volta-Congo,Kwa,Lef...</td>\n      <td>768.0</td>\n      <td>204.0</td>\n      <td>Africa</td>\n    </tr>\n    <tr>\n      <th>713</th>\n      <td>ARS-IRQ-ARS-SAU</td>\n      <td>Arabic, Najdi Spoken</td>\n      <td>ars</td>\n      <td>Iraq</td>\n      <td>Afro-Asiatic</td>\n      <td>Arabic, Najdi Spoken</td>\n      <td>ars</td>\n      <td>Saudi Arabia</td>\n      <td>Afro-Asiatic</td>\n      <td>NaN</td>\n      <td>...</td>\n      <td>ars</td>\n      <td>ars</td>\n      <td>ars</td>\n      <td>missing</td>\n      <td>missing</td>\n      <td>Afro-Asiatic,Semitic,Central,South,Arabic</td>\n      <td>Afro-Asiatic,Semitic,Central,South,Arabic</td>\n      <td>368.0</td>\n      <td>682.0</td>\n      <td>Asia</td>\n    </tr>\n    <tr>\n      <th>...</th>\n      <td>...</td>\n      <td>...</td>\n      <td>...</td>\n      <td>...</td>\n      <td>...</td>\n      <td>...</td>\n      <td>...</td>\n      <td>...</td>\n      <td>...</td>\n      <td>...</td>\n      <td>...</td>\n      <td>...</td>\n      <td>...</td>\n      <td>...</td>\n      <td>...</td>\n      <td>...</td>\n      <td>...</td>\n      <td>...</td>\n      <td>...</td>\n      <td>...</td>\n      <td>...</td>\n    </tr>\n    <tr>\n      <th>15002</th>\n      <td>YBL-CMR-YBL-NGA</td>\n      <td>Yukuben</td>\n      <td>ybl</td>\n      <td>Cameroon</td>\n      <td>Niger-Congo</td>\n      <td>Yukuben</td>\n      <td>ybl</td>\n      <td>Nigeria</td>\n      <td>Niger-Congo</td>\n      <td>NaN</td>\n      <td>...</td>\n      <td>ybl</td>\n      <td>ybl</td>\n      <td>ybl</td>\n      <td>missing</td>\n      <td>missing</td>\n      <td>Niger-Congo,Atlantic-Congo,Volta-Congo,Benue-C...</td>\n      <td>Niger-Congo,Atlantic-Congo,Volta-Congo,Benue-C...</td>\n      <td>120.0</td>\n      <td>566.0</td>\n      <td>Africa</td>\n    </tr>\n    <tr>\n      <th>15112</th>\n      <td>YKO-GNQ-YKO-CMR</td>\n      <td>Yasa</td>\n      <td>yko</td>\n      <td>Equatorial Guinea</td>\n      <td>Niger-Congo</td>\n      <td>Yasa</td>\n      <td>yko</td>\n      <td>Cameroon</td>\n      <td>Niger-Congo</td>\n      <td>NaN</td>\n      <td>...</td>\n      <td>yko</td>\n      <td>yko</td>\n      <td>yko</td>\n      <td>missing</td>\n      <td>missing</td>\n      <td>Niger-Congo,Atlantic-Congo,Volta-Congo,Benue-C...</td>\n      <td>Niger-Congo,Atlantic-Congo,Volta-Congo,Benue-C...</td>\n      <td>226.0</td>\n      <td>120.0</td>\n      <td>Africa</td>\n    </tr>\n    <tr>\n      <th>15140</th>\n      <td>YMK-MOZ-YMK-TZA</td>\n      <td>Maraba</td>\n      <td>ymk</td>\n      <td>Mozambique</td>\n      <td>Niger-Congo</td>\n      <td>Maraba</td>\n      <td>ymk</td>\n      <td>Tanzania</td>\n      <td>Niger-Congo</td>\n      <td>NaN</td>\n      <td>...</td>\n      <td>ymk</td>\n      <td>ymk</td>\n      <td>ymk</td>\n      <td>missing</td>\n      <td>missing</td>\n      <td>Niger-Congo,Atlantic-Congo,Volta-Congo,Benue-C...</td>\n      <td>Niger-Congo,Atlantic-Congo,Volta-Congo,Benue-C...</td>\n      <td>508.0</td>\n      <td>834.0</td>\n      <td>Africa</td>\n    </tr>\n    <tr>\n      <th>15159</th>\n      <td>YOM-AGO-YOM-COD</td>\n      <td>Yombe</td>\n      <td>yom</td>\n      <td>Angola</td>\n      <td>Niger-Congo</td>\n      <td>Yombe</td>\n      <td>yom</td>\n      <td>Democratic Republic of Congo</td>\n      <td>Niger-Congo</td>\n      <td>NaN</td>\n      <td>...</td>\n      <td>yom</td>\n      <td>yom</td>\n      <td>yom</td>\n      <td>missing</td>\n      <td>missing</td>\n      <td>Niger-Congo,Atlantic-Congo,Volta-Congo,Benue-C...</td>\n      <td>Niger-Congo,Atlantic-Congo,Volta-Congo,Benue-C...</td>\n      <td>24.0</td>\n      <td>180.0</td>\n      <td>Africa</td>\n    </tr>\n    <tr>\n      <th>15452</th>\n      <td>ZOM-MMR-ZOM-IND</td>\n      <td>Zou</td>\n      <td>zom</td>\n      <td>Myanmar</td>\n      <td>Sino-Tibetan</td>\n      <td>Zou</td>\n      <td>zom</td>\n      <td>India</td>\n      <td>Sino-Tibetan</td>\n      <td>NaN</td>\n      <td>...</td>\n      <td>zom</td>\n      <td>zom</td>\n      <td>zom</td>\n      <td>missing</td>\n      <td>missing</td>\n      <td>Sino-Tibetan,Tibeto-Burman,Kuki-Chin-Naga,Kuki...</td>\n      <td>Sino-Tibetan,Tibeto-Burman,Kuki-Chin-Naga,Kuki...</td>\n      <td>104.0</td>\n      <td>356.0</td>\n      <td>Asia</td>\n    </tr>\n  </tbody>\n</table>\n<p>96 rows × 101 columns</p>\n</div>",
            "text/plain": "            identifier       langName_ethno1 langIso1           country1       family1       langName_ethno2 langIso2  \\\n78     ABR-CIV-ABR-GHA                 Abron      abr      Cote d'Ivoire   Niger-Congo                 Abron      abr   \n164    ADQ-TGO-ADQ-GHA               Adangbe      adq               Togo   Niger-Congo               Adangbe      adq   \n376    AII-TUR-AII-SYR  Assyrian Neo-Aramaic      aii             Turkey  Afro-Asiatic  Assyrian Neo-Aramaic      aii   \n407    AJG-TGO-AJG-BEN                   Aja      ajg               Togo   Niger-Congo                   Aja      ajg   \n713    ARS-IRQ-ARS-SAU  Arabic, Najdi Spoken      ars               Iraq  Afro-Asiatic  Arabic, Najdi Spoken      ars   \n...                ...                   ...      ...                ...           ...                   ...      ...   \n15002  YBL-CMR-YBL-NGA               Yukuben      ybl           Cameroon   Niger-Congo               Yukuben      ybl   \n15112  YKO-GNQ-YKO-CMR                  Yasa      yko  Equatorial Guinea   Niger-Congo                  Yasa      yko   \n15140  YMK-MOZ-YMK-TZA                Maraba      ymk         Mozambique   Niger-Congo                Maraba      ymk   \n15159  YOM-AGO-YOM-COD                 Yombe      yom             Angola   Niger-Congo                 Yombe      yom   \n15452  ZOM-MMR-ZOM-IND                   Zou      zom            Myanmar  Sino-Tibetan                   Zou      zom   \n\n                           country2       family2  lingDist  ...  langIso_ethno2  langIso_asjp1  langIso_asjp2        langName_asjp1  \\\n78                            Ghana   Niger-Congo       NaN  ...             abr            abr            abr               missing   \n164                           Ghana   Niger-Congo       NaN  ...             adq            adq            adq               missing   \n376                           Syria  Afro-Asiatic       NaN  ...             aii            aii            aii  ASSYRIAN_NEO-ARAMAIC   \n407                           Benin   Niger-Congo       NaN  ...             ajg            ajg            ajg               missing   \n713                    Saudi Arabia  Afro-Asiatic       NaN  ...             ars            ars            ars               missing   \n...                             ...           ...       ...  ...             ...            ...            ...                   ...   \n15002                       Nigeria   Niger-Congo       NaN  ...             ybl            ybl            ybl               missing   \n15112                      Cameroon   Niger-Congo       NaN  ...             yko            yko            yko               missing   \n15140                      Tanzania   Niger-Congo       NaN  ...             ymk            ymk            ymk               missing   \n15159  Democratic Republic of Congo   Niger-Congo       NaN  ...             yom            yom            yom               missing   \n15452                         India  Sino-Tibetan       NaN  ...             zom            zom            zom               missing   \n\n             langName_asjp2                                        familyTree1                                        familyTree2  ccode1  \\\n78                  missing  Niger-Congo,Atlantic-Congo,Volta-Congo,Kwa,Nyo...  Niger-Congo,Atlantic-Congo,Volta-Congo,Kwa,Nyo...   384.0   \n164                 missing  Niger-Congo,Atlantic-Congo,Volta-Congo,Kwa,Lef...  Niger-Congo,Atlantic-Congo,Volta-Congo,Kwa,Lef...   768.0   \n376    ASSYRIAN_NEO-ARAMAIC  Afro-Asiatic,Semitic,Central,Aramaic,Eastern,C...  Afro-Asiatic,Semitic,Central,Aramaic,Eastern,C...   792.0   \n407                 missing  Niger-Congo,Atlantic-Congo,Volta-Congo,Kwa,Lef...  Niger-Congo,Atlantic-Congo,Volta-Congo,Kwa,Lef...   768.0   \n713                 missing          Afro-Asiatic,Semitic,Central,South,Arabic          Afro-Asiatic,Semitic,Central,South,Arabic   368.0   \n...                     ...                                                ...                                                ...     ...   \n15002               missing  Niger-Congo,Atlantic-Congo,Volta-Congo,Benue-C...  Niger-Congo,Atlantic-Congo,Volta-Congo,Benue-C...   120.0   \n15112               missing  Niger-Congo,Atlantic-Congo,Volta-Congo,Benue-C...  Niger-Congo,Atlantic-Congo,Volta-Congo,Benue-C...   226.0   \n15140               missing  Niger-Congo,Atlantic-Congo,Volta-Congo,Benue-C...  Niger-Congo,Atlantic-Congo,Volta-Congo,Benue-C...   508.0   \n15159               missing  Niger-Congo,Atlantic-Congo,Volta-Congo,Benue-C...  Niger-Congo,Atlantic-Congo,Volta-Congo,Benue-C...    24.0   \n15452               missing  Sino-Tibetan,Tibeto-Burman,Kuki-Chin-Naga,Kuki...  Sino-Tibetan,Tibeto-Burman,Kuki-Chin-Naga,Kuki...   104.0   \n\n       ccode2  region  \n78      288.0  Africa  \n164     288.0  Africa  \n376     760.0    Asia  \n407     204.0  Africa  \n713     682.0    Asia  \n...       ...     ...  \n15002   566.0  Africa  \n15112   120.0  Africa  \n15140   834.0  Africa  \n15159   180.0  Africa  \n15452   356.0    Asia  \n\n[96 rows x 101 columns]"
          },
          "execution_count": 11,
          "metadata": {},
          "output_type": "execute_result"
        }
      ],
      "execution_count": null,
      "block_group": "b252e23a74404c048080d3321d4552ad"
    },
    {
      "cell_type": "code",
      "source": "dfor.loc[dfor.identifier.apply(lambda x: x[:3]==x[8:11]), ['identifier', 'lingDist']]",
      "metadata": {
        "cell_id": "084b3a318f944f78b98be566da540763",
        "deepnote_cell_type": "code"
      },
      "outputs": [
        {
          "data": {
            "text/html": "<div>\n<style scoped>\n    .dataframe tbody tr th:only-of-type {\n        vertical-align: middle;\n    }\n\n    .dataframe tbody tr th {\n        vertical-align: top;\n    }\n\n    .dataframe thead th {\n        text-align: right;\n    }\n</style>\n<table border=\"1\" class=\"dataframe\">\n  <thead>\n    <tr style=\"text-align: right;\">\n      <th></th>\n      <th>identifier</th>\n      <th>lingDist</th>\n    </tr>\n  </thead>\n  <tbody>\n    <tr>\n      <th>78</th>\n      <td>ABR-CIV-ABR-GHA</td>\n      <td>NaN</td>\n    </tr>\n    <tr>\n      <th>164</th>\n      <td>ADQ-TGO-ADQ-GHA</td>\n      <td>NaN</td>\n    </tr>\n    <tr>\n      <th>376</th>\n      <td>AII-TUR-AII-SYR</td>\n      <td>NaN</td>\n    </tr>\n    <tr>\n      <th>407</th>\n      <td>AJG-TGO-AJG-BEN</td>\n      <td>NaN</td>\n    </tr>\n    <tr>\n      <th>713</th>\n      <td>ARS-IRQ-ARS-SAU</td>\n      <td>NaN</td>\n    </tr>\n    <tr>\n      <th>...</th>\n      <td>...</td>\n      <td>...</td>\n    </tr>\n    <tr>\n      <th>15002</th>\n      <td>YBL-CMR-YBL-NGA</td>\n      <td>NaN</td>\n    </tr>\n    <tr>\n      <th>15112</th>\n      <td>YKO-GNQ-YKO-CMR</td>\n      <td>NaN</td>\n    </tr>\n    <tr>\n      <th>15140</th>\n      <td>YMK-MOZ-YMK-TZA</td>\n      <td>NaN</td>\n    </tr>\n    <tr>\n      <th>15159</th>\n      <td>YOM-AGO-YOM-COD</td>\n      <td>NaN</td>\n    </tr>\n    <tr>\n      <th>15452</th>\n      <td>ZOM-MMR-ZOM-IND</td>\n      <td>NaN</td>\n    </tr>\n  </tbody>\n</table>\n<p>96 rows × 2 columns</p>\n</div>",
            "text/plain": "            identifier  lingDist\n78     ABR-CIV-ABR-GHA       NaN\n164    ADQ-TGO-ADQ-GHA       NaN\n376    AII-TUR-AII-SYR       NaN\n407    AJG-TGO-AJG-BEN       NaN\n713    ARS-IRQ-ARS-SAU       NaN\n...                ...       ...\n15002  YBL-CMR-YBL-NGA       NaN\n15112  YKO-GNQ-YKO-CMR       NaN\n15140  YMK-MOZ-YMK-TZA       NaN\n15159  YOM-AGO-YOM-COD       NaN\n15452  ZOM-MMR-ZOM-IND       NaN\n\n[96 rows x 2 columns]"
          },
          "execution_count": 12,
          "metadata": {},
          "output_type": "execute_result"
        }
      ],
      "execution_count": null,
      "block_group": "e7b4fa8e8a4740e9810ed73d1155591a"
    },
    {
      "cell_type": "markdown",
      "source": "# New Data\n## Create borders and buffers using full dataset from Ethnologue 17 edition (paper uses version 16)\n###  Import data",
      "metadata": {
        "cell_id": "43f56b430d1742029177dc58c21f293e",
        "deepnote_cell_type": "markdown"
      },
      "block_group": "6717d522ddb1476ab7688b616f33b6fb"
    },
    {
      "cell_type": "code",
      "source": "ethno = gp.read_file(pathethno + 'langa.shp')\n#ethno['key'] = 0\nethno.head()",
      "metadata": {
        "cell_id": "7f9307a286ee4914b7b20de1197b4be7",
        "deepnote_cell_type": "code"
      },
      "outputs": [
        {
          "data": {
            "text/html": "<div>\n<style scoped>\n    .dataframe tbody tr th:only-of-type {\n        vertical-align: middle;\n    }\n\n    .dataframe tbody tr th {\n        vertical-align: top;\n    }\n\n    .dataframe thead th {\n        text-align: right;\n    }\n</style>\n<table border=\"1\" class=\"dataframe\">\n  <thead>\n    <tr style=\"text-align: right;\">\n      <th></th>\n      <th>ID</th>\n      <th>ID_ISO_A3</th>\n      <th>ID_ISO_A2</th>\n      <th>ID_FIPS</th>\n      <th>NAM_LABEL</th>\n      <th>NAME_PROP</th>\n      <th>NAME2</th>\n      <th>NAM_ANSI</th>\n      <th>CNT</th>\n      <th>C1</th>\n      <th>POP</th>\n      <th>LMP_POP1</th>\n      <th>G</th>\n      <th>LMP_CLASS</th>\n      <th>FAMILYPROP</th>\n      <th>FAMILY</th>\n      <th>LMP_C1</th>\n      <th>LANG_ISO</th>\n      <th>geometry</th>\n    </tr>\n  </thead>\n  <tbody>\n    <tr>\n      <th>0</th>\n      <td>RUS-RUS</td>\n      <td>rus-RUS</td>\n      <td>rus-ru</td>\n      <td>rus-RS</td>\n      <td>Russian</td>\n      <td>Russian</td>\n      <td>RUSSIAN</td>\n      <td>Russian</td>\n      <td>Europe</td>\n      <td>Russian Federation</td>\n      <td>116,000,000 in Russian Federation (2002 census)</td>\n      <td>116000000</td>\n      <td>Indo-European, Slavic, East</td>\n      <td>L</td>\n      <td>Indo-European</td>\n      <td>INDO-EUROPEAN</td>\n      <td>Russian Federation</td>\n      <td>rus</td>\n      <td>MULTIPOLYGON (((45.11381 43.19151, 45.06952 43...</td>\n    </tr>\n    <tr>\n      <th>1</th>\n      <td>ENG-USA</td>\n      <td>eng-USA</td>\n      <td>eng-us</td>\n      <td>eng-US</td>\n      <td>English</td>\n      <td>English</td>\n      <td>ENGLISH</td>\n      <td>English</td>\n      <td>Americas</td>\n      <td>United States</td>\n      <td>215,000,000 in United States (2000 census)</td>\n      <td>215000000</td>\n      <td>Indo-European, Germanic, West, English</td>\n      <td>L</td>\n      <td>Indo-European</td>\n      <td>INDO-EUROPEAN</td>\n      <td>United States</td>\n      <td>eng</td>\n      <td>MULTIPOLYGON (((-75.11965 19.97388, -75.11741 ...</td>\n    </tr>\n    <tr>\n      <th>2</th>\n      <td>POR-BRA</td>\n      <td>por-BRA</td>\n      <td>por-br</td>\n      <td>por-BR</td>\n      <td>Portuguese</td>\n      <td>Portuguese</td>\n      <td>PORTUGUESE</td>\n      <td>Portuguese</td>\n      <td>Americas</td>\n      <td>Brazil</td>\n      <td>163,000,000 in Brazil (1998)</td>\n      <td>163000000</td>\n      <td>Indo-European, Italic, Romance, Italo-Western,...</td>\n      <td>L</td>\n      <td>Indo-European</td>\n      <td>INDO-EUROPEAN</td>\n      <td>Brazil</td>\n      <td>por</td>\n      <td>MULTIPOLYGON (((-52.13058 -31.97901, -52.12447...</td>\n    </tr>\n    <tr>\n      <th>3</th>\n      <td>ENG-AUS</td>\n      <td>eng-AUS</td>\n      <td>eng-au</td>\n      <td>eng-AS</td>\n      <td>English</td>\n      <td>English</td>\n      <td>ENGLISH</td>\n      <td>English</td>\n      <td>Pacific</td>\n      <td>Australia</td>\n      <td>17,400,000 in Australia (2006)</td>\n      <td>17400000</td>\n      <td>Indo-European, Germanic, West, English</td>\n      <td>L</td>\n      <td>Indo-European</td>\n      <td>INDO-EUROPEAN</td>\n      <td>Australia</td>\n      <td>eng</td>\n      <td>MULTIPOLYGON (((147.36099 -43.08758, 147.36375...</td>\n    </tr>\n    <tr>\n      <th>4</th>\n      <td>CMN-CHN</td>\n      <td>cmn-CHN</td>\n      <td>cmn-cn</td>\n      <td>cmn-CH</td>\n      <td>Mandarin Chinese</td>\n      <td>Chinese, Mandarin</td>\n      <td>CHINESE, MANDARIN</td>\n      <td>Chinese, Mandarin</td>\n      <td>Asia</td>\n      <td>China</td>\n      <td>840,000,000 in China (2000 census)</td>\n      <td>840000000</td>\n      <td>Sino-Tibetan, Chinese</td>\n      <td>L</td>\n      <td>Sino-Tibetan</td>\n      <td>SINO-TIBETAN</td>\n      <td>China</td>\n      <td>cmn</td>\n      <td>MULTIPOLYGON (((108.65391 19.06045, 108.63222 ...</td>\n    </tr>\n  </tbody>\n</table>\n</div>",
            "text/plain": "        ID ID_ISO_A3 ID_ISO_A2 ID_FIPS         NAM_LABEL          NAME_PROP              NAME2           NAM_ANSI       CNT  \\\n0  RUS-RUS   rus-RUS    rus-ru  rus-RS           Russian            Russian            RUSSIAN            Russian    Europe   \n1  ENG-USA   eng-USA    eng-us  eng-US           English            English            ENGLISH            English  Americas   \n2  POR-BRA   por-BRA    por-br  por-BR        Portuguese         Portuguese         PORTUGUESE         Portuguese  Americas   \n3  ENG-AUS   eng-AUS    eng-au  eng-AS           English            English            ENGLISH            English   Pacific   \n4  CMN-CHN   cmn-CHN    cmn-cn  cmn-CH  Mandarin Chinese  Chinese, Mandarin  CHINESE, MANDARIN  Chinese, Mandarin      Asia   \n\n                   C1                                              POP   LMP_POP1                                                  G  \\\n0  Russian Federation  116,000,000 in Russian Federation (2002 census)  116000000                        Indo-European, Slavic, East   \n1       United States       215,000,000 in United States (2000 census)  215000000             Indo-European, Germanic, West, English   \n2              Brazil                     163,000,000 in Brazil (1998)  163000000  Indo-European, Italic, Romance, Italo-Western,...   \n3           Australia                   17,400,000 in Australia (2006)   17400000             Indo-European, Germanic, West, English   \n4               China               840,000,000 in China (2000 census)  840000000                              Sino-Tibetan, Chinese   \n\n  LMP_CLASS     FAMILYPROP         FAMILY              LMP_C1 LANG_ISO                                           geometry  \n0         L  Indo-European  INDO-EUROPEAN  Russian Federation      rus  MULTIPOLYGON (((45.11381 43.19151, 45.06952 43...  \n1         L  Indo-European  INDO-EUROPEAN       United States      eng  MULTIPOLYGON (((-75.11965 19.97388, -75.11741 ...  \n2         L  Indo-European  INDO-EUROPEAN              Brazil      por  MULTIPOLYGON (((-52.13058 -31.97901, -52.12447...  \n3         L  Indo-European  INDO-EUROPEAN           Australia      eng  MULTIPOLYGON (((147.36099 -43.08758, 147.36375...  \n4         L   Sino-Tibetan   SINO-TIBETAN               China      cmn  MULTIPOLYGON (((108.65391 19.06045, 108.63222 ...  "
          },
          "execution_count": 10,
          "metadata": {},
          "output_type": "execute_result"
        }
      ],
      "execution_count": null,
      "block_group": "bced051f6bec4e20b50d1e27774af964"
    },
    {
      "cell_type": "code",
      "source": "ethno = ethno.loc[ethno.LMP_POP1>0].reset_index(drop=True)",
      "metadata": {
        "cell_id": "8f83b8c1af4a46338c0baa3bde9a0c33",
        "deepnote_cell_type": "code"
      },
      "outputs": [],
      "execution_count": null,
      "block_group": "7e2b6003005746338e625987002e9be2"
    },
    {
      "cell_type": "code",
      "source": "ethno.shape",
      "metadata": {
        "cell_id": "d7b39937fd324d6db00693c3a61ff5f6",
        "deepnote_cell_type": "code"
      },
      "outputs": [
        {
          "data": {
            "text/plain": "(7327, 19)"
          },
          "execution_count": 12,
          "metadata": {},
          "output_type": "execute_result"
        }
      ],
      "execution_count": null,
      "block_group": "81eb7ed093f341fc86b30cb796c7cd36"
    },
    {
      "cell_type": "markdown",
      "source": "## Create borders and buffers using full dataset from Ethnologue 17 edition (paper uses version 16)\nFind duplicated languages x country. Unlike v16, v17 has a duplicated language",
      "metadata": {
        "cell_id": "757839076015476fb7278934dc465a26",
        "deepnote_cell_type": "markdown"
      },
      "block_group": "94385562ac394f6e954c5b0bd0ac6bc9"
    },
    {
      "cell_type": "code",
      "source": "ethno.loc[ethno.duplicated('ID')]",
      "metadata": {
        "cell_id": "ef14980590924e1b81add861b58ea79b",
        "deepnote_cell_type": "code"
      },
      "outputs": [
        {
          "data": {
            "text/html": "<div>\n<style scoped>\n    .dataframe tbody tr th:only-of-type {\n        vertical-align: middle;\n    }\n\n    .dataframe tbody tr th {\n        vertical-align: top;\n    }\n\n    .dataframe thead th {\n        text-align: right;\n    }\n</style>\n<table border=\"1\" class=\"dataframe\">\n  <thead>\n    <tr style=\"text-align: right;\">\n      <th></th>\n      <th>ID</th>\n      <th>ID_ISO_A3</th>\n      <th>ID_ISO_A2</th>\n      <th>ID_FIPS</th>\n      <th>NAM_LABEL</th>\n      <th>NAME_PROP</th>\n      <th>NAME2</th>\n      <th>NAM_ANSI</th>\n      <th>CNT</th>\n      <th>C1</th>\n      <th>POP</th>\n      <th>LMP_POP1</th>\n      <th>G</th>\n      <th>LMP_CLASS</th>\n      <th>FAMILYPROP</th>\n      <th>FAMILY</th>\n      <th>LMP_C1</th>\n      <th>LANG_ISO</th>\n      <th>geometry</th>\n    </tr>\n  </thead>\n  <tbody>\n  </tbody>\n</table>\n</div>",
            "text/plain": "Empty GeoDataFrame\nColumns: [ID, ID_ISO_A3, ID_ISO_A2, ID_FIPS, NAM_LABEL, NAME_PROP, NAME2, NAM_ANSI, CNT, C1, POP, LMP_POP1, G, LMP_CLASS, FAMILYPROP, FAMILY, LMP_C1, LANG_ISO, geometry]\nIndex: []"
          },
          "execution_count": 13,
          "metadata": {},
          "output_type": "execute_result"
        }
      ],
      "execution_count": null,
      "block_group": "8b6d768254464b4a8d97840d3feafc96"
    },
    {
      "cell_type": "markdown",
      "source": "## Create all pairs of languages/countries",
      "metadata": {
        "user_expressions": [],
        "cell_id": "cf17766aeba648788eb772bee854ae4e",
        "deepnote_cell_type": "markdown"
      },
      "block_group": "5a9215046e004148bfcf6ea5593782c3"
    },
    {
      "cell_type": "code",
      "source": "import multiprocessing\nnb_cpus = multiprocessing.cpu_count()\n\nimport dask.dataframe as dd\nfrom dask.distributed import Client, progress, LocalCluster\nclient = Client(processes=True,threads_per_worker=1, n_workers=nb_cpus,memory_limit='64G')\n\n# Create a Dask client to utilize multiple cores\nclient = Client()",
      "metadata": {
        "cell_id": "777a4fe79cd64277a419da4d769591d5",
        "deepnote_cell_type": "code"
      },
      "outputs": [
        {
          "name": "stderr",
          "output_type": "stream",
          "text": "/users/ozak/micromamba/envs/GeoPython39env/lib/python3.9/site-packages/distributed/node.py:182: UserWarning: Port 8787 is already in use.\nPerhaps you already have a cluster running?\nHosting the HTTP server on port 39587 instead\n  warnings.warn(\n"
        }
      ],
      "execution_count": null,
      "block_group": "d42c375bf01e45d5ae93869ae02f0e83"
    },
    {
      "cell_type": "code",
      "source": "ddethno = dask_geopandas.from_geopandas(ethno, npartitions=20)\nddethno2 = dask_geopandas.from_geopandas(ethno, npartitions=20)\nddethno['geometry'] = ddethno['geometry'].buffer(0.2)",
      "metadata": {
        "cell_id": "3f6b822c084941d483f7ba88b45a9403",
        "deepnote_cell_type": "code"
      },
      "outputs": [
        {
          "name": "stderr",
          "output_type": "stream",
          "text": "/users/ozak/micromamba/envs/GeoPython39env/lib/python3.9/site-packages/dask/dataframe/core.py:6876: UserWarning: Geometry is in a geographic CRS. Results from 'buffer' are likely incorrect. Use 'GeoSeries.to_crs()' to re-project geometries to a projected CRS before this operation.\n\n  return func(*_extract_meta(args, True), **_extract_meta(kwargs, True))\n"
        }
      ],
      "execution_count": null,
      "block_group": "3993dcf2a3af489780472d574399facd"
    },
    {
      "cell_type": "code",
      "source": "pairs = ddethno.sjoin(ddethno2, predicate=\"intersects\").compute()",
      "metadata": {
        "tags": [],
        "jupyter": {
          "outputs_hidden": true
        },
        "collapsed": true,
        "cell_id": "84be5fb4a092442491aaf2a1f4062876",
        "deepnote_cell_type": "code"
      },
      "outputs": [
        {
          "name": "stderr",
          "output_type": "stream",
          "text": "/users/ozak/micromamba/envs/GeoPython39env/lib/python3.9/site-packages/distributed/client.py:3125: UserWarning: Sending large graph of size 66.99 MiB.\nThis may cause some slowdown.\nConsider scattering data ahead of time and using futures.\n  warnings.warn(\n/users/ozak/micromamba/envs/GeoPython39env/lib/python3.9/site-packages/dask/utils.py:73: UserWarning: Geometry is in a geographic CRS. Results from 'buffer' are likely incorrect. Use 'GeoSeries.to_crs()' to re-project geometries to a projected CRS before this operation.\n\n  return func(*args, **kwargs)\n/users/ozak/micromamba/envs/GeoPython39env/lib/python3.9/site-packages/dask/utils.py:73: UserWarning: Geometry is in a geographic CRS. Results from 'buffer' are likely incorrect. Use 'GeoSeries.to_crs()' to re-project geometries to a projected CRS before this operation.\n\n  return func(*args, **kwargs)\n/users/ozak/micromamba/envs/GeoPython39env/lib/python3.9/site-packages/dask/utils.py:73: UserWarning: Geometry is in a geographic CRS. Results from 'buffer' are likely incorrect. Use 'GeoSeries.to_crs()' to re-project geometries to a projected CRS before this operation.\n\n  return func(*args, **kwargs)\n/users/ozak/micromamba/envs/GeoPython39env/lib/python3.9/site-packages/dask/utils.py:73: UserWarning: Geometry is in a geographic CRS. Results from 'buffer' are likely incorrect. Use 'GeoSeries.to_crs()' to re-project geometries to a projected CRS before this operation.\n\n  return func(*args, **kwargs)\n/users/ozak/micromamba/envs/GeoPython39env/lib/python3.9/site-packages/dask/utils.py:73: UserWarning: Geometry is in a geographic CRS. Results from 'buffer' are likely incorrect. Use 'GeoSeries.to_crs()' to re-project geometries to a projected CRS before this operation.\n\n  return func(*args, **kwargs)\n/users/ozak/micromamba/envs/GeoPython39env/lib/python3.9/site-packages/dask/utils.py:73: UserWarning: Geometry is in a geographic CRS. Results from 'buffer' are likely incorrect. Use 'GeoSeries.to_crs()' to re-project geometries to a projected CRS before this operation.\n\n  return func(*args, **kwargs)\n/users/ozak/micromamba/envs/GeoPython39env/lib/python3.9/site-packages/dask/utils.py:73: UserWarning: Geometry is in a geographic CRS. Results from 'buffer' are likely incorrect. Use 'GeoSeries.to_crs()' to re-project geometries to a projected CRS before this operation.\n\n  return func(*args, **kwargs)\n/users/ozak/micromamba/envs/GeoPython39env/lib/python3.9/site-packages/dask/utils.py:73: UserWarning: Geometry is in a geographic CRS. Results from 'buffer' are likely incorrect. Use 'GeoSeries.to_crs()' to re-project geometries to a projected CRS before this operation.\n\n  return func(*args, **kwargs)\n/users/ozak/micromamba/envs/GeoPython39env/lib/python3.9/site-packages/dask/utils.py:73: UserWarning: Geometry is in a geographic CRS. Results from 'buffer' are likely incorrect. Use 'GeoSeries.to_crs()' to re-project geometries to a projected CRS before this operation.\n\n  return func(*args, **kwargs)\n/users/ozak/micromamba/envs/GeoPython39env/lib/python3.9/site-packages/dask/utils.py:73: UserWarning: Geometry is in a geographic CRS. Results from 'buffer' are likely incorrect. Use 'GeoSeries.to_crs()' to re-project geometries to a projected CRS before this operation.\n\n  return func(*args, **kwargs)\n/users/ozak/micromamba/envs/GeoPython39env/lib/python3.9/site-packages/dask/utils.py:73: UserWarning: Geometry is in a geographic CRS. Results from 'buffer' are likely incorrect. Use 'GeoSeries.to_crs()' to re-project geometries to a projected CRS before this operation.\n\n  return func(*args, **kwargs)\n/users/ozak/micromamba/envs/GeoPython39env/lib/python3.9/site-packages/dask/utils.py:73: UserWarning: Geometry is in a geographic CRS. Results from 'buffer' are likely incorrect. Use 'GeoSeries.to_crs()' to re-project geometries to a projected CRS before this operation.\n\n  return func(*args, **kwargs)\n/users/ozak/micromamba/envs/GeoPython39env/lib/python3.9/site-packages/dask/utils.py:73: UserWarning: Geometry is in a geographic CRS. Results from 'buffer' are likely incorrect. Use 'GeoSeries.to_crs()' to re-project geometries to a projected CRS before this operation.\n\n  return func(*args, **kwargs)\n/users/ozak/micromamba/envs/GeoPython39env/lib/python3.9/site-packages/dask/utils.py:73: UserWarning: Geometry is in a geographic CRS. Results from 'buffer' are likely incorrect. Use 'GeoSeries.to_crs()' to re-project geometries to a projected CRS before this operation.\n\n  return func(*args, **kwargs)\n/users/ozak/micromamba/envs/GeoPython39env/lib/python3.9/site-packages/dask/utils.py:73: UserWarning: Geometry is in a geographic CRS. Results from 'buffer' are likely incorrect. Use 'GeoSeries.to_crs()' to re-project geometries to a projected CRS before this operation.\n\n  return func(*args, **kwargs)\n/users/ozak/micromamba/envs/GeoPython39env/lib/python3.9/site-packages/dask/utils.py:73: UserWarning: Geometry is in a geographic CRS. Results from 'buffer' are likely incorrect. Use 'GeoSeries.to_crs()' to re-project geometries to a projected CRS before this operation.\n\n  return func(*args, **kwargs)\n"
        }
      ],
      "execution_count": null,
      "block_group": "bd2beb66af9a457caf8964d40a38f573"
    },
    {
      "cell_type": "code",
      "source": "pairs.shape",
      "metadata": {
        "tags": [],
        "cell_id": "cab3d4bb73b74253a9ee09227192b23b",
        "deepnote_cell_type": "code"
      },
      "outputs": [
        {
          "data": {
            "text/plain": "(74396, 38)"
          },
          "execution_count": 17,
          "metadata": {},
          "output_type": "execute_result"
        }
      ],
      "execution_count": null,
      "block_group": "e3e66fcd1e1244e79d1117e1b18a9afd"
    },
    {
      "cell_type": "code",
      "source": "pairs.columns = [c.replace('_left', '_1').replace('_right', '_2') for c in pairs.columns]",
      "metadata": {
        "cell_id": "82b88b0f14354560b0f5d1ace0fa5f0d",
        "deepnote_cell_type": "code"
      },
      "outputs": [],
      "execution_count": null,
      "block_group": "cad9b45e511046dca65af6cbc551176c"
    },
    {
      "cell_type": "code",
      "source": "pairs.loc[(pairs.ID_1=='MVE-PAK')&(pairs.ID_2=='RWR-IND')]",
      "metadata": {
        "cell_id": "ac49af2ec3bd4d4386cfcac0a1f705fe",
        "deepnote_cell_type": "code"
      },
      "outputs": [
        {
          "data": {
            "text/html": "<div>\n<style scoped>\n    .dataframe tbody tr th:only-of-type {\n        vertical-align: middle;\n    }\n\n    .dataframe tbody tr th {\n        vertical-align: top;\n    }\n\n    .dataframe thead th {\n        text-align: right;\n    }\n</style>\n<table border=\"1\" class=\"dataframe\">\n  <thead>\n    <tr style=\"text-align: right;\">\n      <th></th>\n      <th>ID_1</th>\n      <th>ID_ISO_A3_1</th>\n      <th>ID_ISO_A2_1</th>\n      <th>ID_FIPS_1</th>\n      <th>NAM_LABEL_1</th>\n      <th>NAME_PROP_1</th>\n      <th>NAME2_1</th>\n      <th>NAM_ANSI_1</th>\n      <th>CNT_1</th>\n      <th>C1_1</th>\n      <th>...</th>\n      <th>CNT_2</th>\n      <th>C1_2</th>\n      <th>POP_2</th>\n      <th>LMP_POP1_2</th>\n      <th>G_2</th>\n      <th>LMP_CLASS_2</th>\n      <th>FAMILYPROP_2</th>\n      <th>FAMILY_2</th>\n      <th>LMP_C1_2</th>\n      <th>LANG_ISO_2</th>\n    </tr>\n  </thead>\n  <tbody>\n    <tr>\n      <th>427</th>\n      <td>MVE-PAK</td>\n      <td>mve-PAK</td>\n      <td>mve-pk</td>\n      <td>mve-PK</td>\n      <td>Marwari</td>\n      <td>Marwari</td>\n      <td>MARWARI</td>\n      <td>Marwari</td>\n      <td>Asia</td>\n      <td>Pakistan</td>\n      <td>...</td>\n      <td>Asia</td>\n      <td>India</td>\n      <td>5,600,000 in India (2007 SIL)</td>\n      <td>5600000</td>\n      <td>Indo-European, Indo-Iranian, Indo-Aryan, Centr...</td>\n      <td>L</td>\n      <td>Indo-European</td>\n      <td>INDO-EUROPEAN</td>\n      <td>India</td>\n      <td>rwr</td>\n    </tr>\n  </tbody>\n</table>\n<p>1 rows × 38 columns</p>\n</div>",
            "text/plain": "        ID_1 ID_ISO_A3_1 ID_ISO_A2_1 ID_FIPS_1 NAM_LABEL_1 NAME_PROP_1  NAME2_1 NAM_ANSI_1 CNT_1      C1_1  ... CNT_2   C1_2  \\\n427  MVE-PAK     mve-PAK      mve-pk    mve-PK     Marwari     Marwari  MARWARI    Marwari  Asia  Pakistan  ...  Asia  India   \n\n                             POP_2 LMP_POP1_2                                                G_2 LMP_CLASS_2   FAMILYPROP_2  \\\n427  5,600,000 in India (2007 SIL)    5600000  Indo-European, Indo-Iranian, Indo-Aryan, Centr...           L  Indo-European   \n\n          FAMILY_2 LMP_C1_2  LANG_ISO_2  \n427  INDO-EUROPEAN    India         rwr  \n\n[1 rows x 38 columns]"
          },
          "execution_count": 19,
          "metadata": {},
          "output_type": "execute_result"
        }
      ],
      "execution_count": null,
      "block_group": "d53bb62cab1d49db8c3c26dbecaf08e4"
    },
    {
      "cell_type": "code",
      "source": "ddethno = dask_geopandas.from_geopandas(ethno, npartitions=20)\nddethno['geometry'] = ddethno['geometry'].buffer(0.01)\nethno02 = ddethno.compute()",
      "metadata": {
        "tags": [],
        "jupyter": {
          "outputs_hidden": true
        },
        "cell_id": "6288b4db1914402c9f32ceaf13590824",
        "deepnote_cell_type": "code"
      },
      "outputs": [],
      "execution_count": null,
      "block_group": "1885e702c9bd4291a400912151fcd38f"
    },
    {
      "cell_type": "code",
      "source": "pairs = pairs.merge(ethno[['ID', 'geometry']], how='left', left_on='ID_1', right_on='ID', suffixes=['', \"_1\"])\npairs.head()",
      "metadata": {
        "cell_id": "7db02d418165423094beb61b49304226",
        "deepnote_cell_type": "code"
      },
      "outputs": [],
      "execution_count": null,
      "block_group": "b7c844518851472f991f21786e43cb67"
    },
    {
      "cell_type": "code",
      "source": "pairs['geometry'] = pairs['geometry_1'].values\npairs[['ID_1', 'ID', 'geometry', 'geometry_1']].head()",
      "metadata": {
        "cell_id": "f0857fa2c16e48a7b3dcc9dfad9771dd",
        "deepnote_cell_type": "code"
      },
      "outputs": [],
      "execution_count": null,
      "block_group": "68f04847ac724a4cbaf86ab5fff45b13"
    },
    {
      "cell_type": "code",
      "source": "pairs = pairs.drop(columns=['ID', 'geometry_1'])",
      "metadata": {
        "cell_id": "7403fb9ec46144508c33634ae3dac653",
        "deepnote_cell_type": "code"
      },
      "outputs": [],
      "execution_count": null,
      "block_group": "dee3b98035114de489985ffe9017ed4e"
    },
    {
      "cell_type": "code",
      "source": "pairs = pairs.merge(ethno[['ID', 'geometry']], how='left', left_on='ID_2', right_on='ID', suffixes=['_1', \"_2\"])\npairs[['ID_1', 'ID_2', 'ID', 'geometry_1', 'geometry_2']].head()",
      "metadata": {
        "cell_id": "6b44bc6e7d324377aea3ae3b730d18f2",
        "deepnote_cell_type": "code"
      },
      "outputs": [
        {
          "data": {
            "text/html": "<div>\n<style scoped>\n    .dataframe tbody tr th:only-of-type {\n        vertical-align: middle;\n    }\n\n    .dataframe tbody tr th {\n        vertical-align: top;\n    }\n\n    .dataframe thead th {\n        text-align: right;\n    }\n</style>\n<table border=\"1\" class=\"dataframe\">\n  <thead>\n    <tr style=\"text-align: right;\">\n      <th></th>\n      <th>ID_1</th>\n      <th>ID_2</th>\n      <th>ID</th>\n      <th>geometry_1</th>\n      <th>geometry_2</th>\n    </tr>\n  </thead>\n  <tbody>\n    <tr>\n      <th>0</th>\n      <td>RUS-RUS</td>\n      <td>JPN-JPN</td>\n      <td>JPN-JPN</td>\n      <td>MULTIPOLYGON (((179.63528 65.96453, 179.62939 ...</td>\n      <td>MULTIPOLYGON (((134.24844 34.70230, 134.25470 ...</td>\n    </tr>\n    <tr>\n      <th>1</th>\n      <td>JPN-JPN</td>\n      <td>JPN-JPN</td>\n      <td>JPN-JPN</td>\n      <td>MULTIPOLYGON (((153.81556 24.15803, 153.80374 ...</td>\n      <td>MULTIPOLYGON (((134.24844 34.70230, 134.25470 ...</td>\n    </tr>\n    <tr>\n      <th>2</th>\n      <td>RUS-RUS</td>\n      <td>CMN-CHN</td>\n      <td>CMN-CHN</td>\n      <td>MULTIPOLYGON (((179.63528 65.96453, 179.62939 ...</td>\n      <td>MULTIPOLYGON (((108.65391 19.06045, 108.63222 ...</td>\n    </tr>\n    <tr>\n      <th>3</th>\n      <td>CMN-CHN</td>\n      <td>CMN-CHN</td>\n      <td>CMN-CHN</td>\n      <td>MULTIPOLYGON (((80.58287 38.16474, 80.57683 38...</td>\n      <td>MULTIPOLYGON (((108.65391 19.06045, 108.63222 ...</td>\n    </tr>\n    <tr>\n      <th>4</th>\n      <td>KHK-MNG</td>\n      <td>CMN-CHN</td>\n      <td>CMN-CHN</td>\n      <td>POLYGON ((92.34331 48.19710, 92.35761 48.20942...</td>\n      <td>MULTIPOLYGON (((108.65391 19.06045, 108.63222 ...</td>\n    </tr>\n  </tbody>\n</table>\n</div>",
            "text/plain": "      ID_1     ID_2       ID                                         geometry_1                                         geometry_2\n0  RUS-RUS  JPN-JPN  JPN-JPN  MULTIPOLYGON (((179.63528 65.96453, 179.62939 ...  MULTIPOLYGON (((134.24844 34.70230, 134.25470 ...\n1  JPN-JPN  JPN-JPN  JPN-JPN  MULTIPOLYGON (((153.81556 24.15803, 153.80374 ...  MULTIPOLYGON (((134.24844 34.70230, 134.25470 ...\n2  RUS-RUS  CMN-CHN  CMN-CHN  MULTIPOLYGON (((179.63528 65.96453, 179.62939 ...  MULTIPOLYGON (((108.65391 19.06045, 108.63222 ...\n3  CMN-CHN  CMN-CHN  CMN-CHN  MULTIPOLYGON (((80.58287 38.16474, 80.57683 38...  MULTIPOLYGON (((108.65391 19.06045, 108.63222 ...\n4  KHK-MNG  CMN-CHN  CMN-CHN  POLYGON ((92.34331 48.19710, 92.35761 48.20942...  MULTIPOLYGON (((108.65391 19.06045, 108.63222 ..."
          },
          "execution_count": 20,
          "metadata": {},
          "output_type": "execute_result"
        }
      ],
      "execution_count": null,
      "block_group": "9d93788f7b4746448a5f775300040ca1"
    },
    {
      "cell_type": "code",
      "source": "%time\npairs = pairs.loc[pairs['ID_1']!=pairs['ID_2']].reset_index(drop=True)\npairs.shape",
      "metadata": {
        "cell_id": "7940ae4f13264ccb9801f75f0f2850de",
        "deepnote_cell_type": "code"
      },
      "outputs": [
        {
          "name": "stdout",
          "output_type": "stream",
          "text": "CPU times: user 8 µs, sys: 0 ns, total: 8 µs\nWall time: 17.2 µs\n"
        },
        {
          "data": {
            "text/plain": "(67069, 40)"
          },
          "execution_count": 21,
          "metadata": {},
          "output_type": "execute_result"
        }
      ],
      "execution_count": null,
      "block_group": "f557948a67104b62851220f788deda62"
    },
    {
      "cell_type": "code",
      "source": "pairs[['ID_1', 'ID_2', 'NAME2_1', 'NAME2_2']].head()",
      "metadata": {
        "cell_id": "c8ece122daff465792ee760ebe537002",
        "deepnote_cell_type": "code"
      },
      "outputs": [
        {
          "data": {
            "text/html": "<div>\n<style scoped>\n    .dataframe tbody tr th:only-of-type {\n        vertical-align: middle;\n    }\n\n    .dataframe tbody tr th {\n        vertical-align: top;\n    }\n\n    .dataframe thead th {\n        text-align: right;\n    }\n</style>\n<table border=\"1\" class=\"dataframe\">\n  <thead>\n    <tr style=\"text-align: right;\">\n      <th></th>\n      <th>ID_1</th>\n      <th>ID_2</th>\n      <th>NAME2_1</th>\n      <th>NAME2_2</th>\n    </tr>\n  </thead>\n  <tbody>\n    <tr>\n      <th>0</th>\n      <td>RUS-RUS</td>\n      <td>JPN-JPN</td>\n      <td>RUSSIAN</td>\n      <td>JAPANESE</td>\n    </tr>\n    <tr>\n      <th>1</th>\n      <td>RUS-RUS</td>\n      <td>CMN-CHN</td>\n      <td>RUSSIAN</td>\n      <td>CHINESE, MANDARIN</td>\n    </tr>\n    <tr>\n      <th>2</th>\n      <td>KHK-MNG</td>\n      <td>CMN-CHN</td>\n      <td>MONGOLIAN, HALH</td>\n      <td>CHINESE, MANDARIN</td>\n    </tr>\n    <tr>\n      <th>3</th>\n      <td>MVF-CHN</td>\n      <td>CMN-CHN</td>\n      <td>MONGOLIAN, PERIPHERAL</td>\n      <td>CHINESE, MANDARIN</td>\n    </tr>\n    <tr>\n      <th>4</th>\n      <td>KHG-CHN</td>\n      <td>CMN-CHN</td>\n      <td>TIBETAN, KHAMS</td>\n      <td>CHINESE, MANDARIN</td>\n    </tr>\n  </tbody>\n</table>\n</div>",
            "text/plain": "      ID_1     ID_2                NAME2_1            NAME2_2\n0  RUS-RUS  JPN-JPN                RUSSIAN           JAPANESE\n1  RUS-RUS  CMN-CHN                RUSSIAN  CHINESE, MANDARIN\n2  KHK-MNG  CMN-CHN        MONGOLIAN, HALH  CHINESE, MANDARIN\n3  MVF-CHN  CMN-CHN  MONGOLIAN, PERIPHERAL  CHINESE, MANDARIN\n4  KHG-CHN  CMN-CHN         TIBETAN, KHAMS  CHINESE, MANDARIN"
          },
          "execution_count": 22,
          "metadata": {},
          "output_type": "execute_result"
        }
      ],
      "execution_count": null,
      "block_group": "4cf99a1185f74f4b97d32efba4c619ea"
    },
    {
      "cell_type": "markdown",
      "source": "We have dropped all same pair language/countries, now let's drop all same langauge pairs that are in differenct countries (e.g., SPA-MEX and SPA-GTM). Special case MVE-PAK and RWR-IND are the same language (NAME2) even though they have different ISO codes. It's not clear there is a reason for different ISO code, so we also drop them\n\n(see https://wikitongues.org/languages/mve/, https://wikitongues.org/languages/rwr/, https://www.ethnologue.com/language/rwr/, https://www.ethnologue.com/language/mve/)\n\n**This differs from Dickens, he seems to keep these**",
      "metadata": {
        "cell_id": "4b7345bf748a4e849bc8ef41cf8749d2",
        "deepnote_cell_type": "markdown"
      },
      "block_group": "e696d0d152f14408bd5821a727850275"
    },
    {
      "cell_type": "code",
      "source": "pairs.loc[(pairs['ID_1']=='SPA-MEX')& (pairs['ID_2']=='SPA-GTM')]",
      "metadata": {
        "cell_id": "c061057c50fc4598b54100da864e8d4e",
        "deepnote_cell_type": "code"
      },
      "outputs": [
        {
          "data": {
            "text/html": "<div>\n<style scoped>\n    .dataframe tbody tr th:only-of-type {\n        vertical-align: middle;\n    }\n\n    .dataframe tbody tr th {\n        vertical-align: top;\n    }\n\n    .dataframe thead th {\n        text-align: right;\n    }\n</style>\n<table border=\"1\" class=\"dataframe\">\n  <thead>\n    <tr style=\"text-align: right;\">\n      <th></th>\n      <th>ID_1</th>\n      <th>ID_ISO_A3_1</th>\n      <th>ID_ISO_A2_1</th>\n      <th>ID_FIPS_1</th>\n      <th>NAM_LABEL_1</th>\n      <th>NAME_PROP_1</th>\n      <th>NAME2_1</th>\n      <th>NAM_ANSI_1</th>\n      <th>CNT_1</th>\n      <th>C1_1</th>\n      <th>...</th>\n      <th>POP_2</th>\n      <th>LMP_POP1_2</th>\n      <th>G_2</th>\n      <th>LMP_CLASS_2</th>\n      <th>FAMILYPROP_2</th>\n      <th>FAMILY_2</th>\n      <th>LMP_C1_2</th>\n      <th>LANG_ISO_2</th>\n      <th>ID</th>\n      <th>geometry_2</th>\n    </tr>\n  </thead>\n  <tbody>\n    <tr>\n      <th>419</th>\n      <td>SPA-MEX</td>\n      <td>spa-MEX</td>\n      <td>spa-mx</td>\n      <td>spa-MX</td>\n      <td>Spanish</td>\n      <td>Spanish</td>\n      <td>SPANISH</td>\n      <td>Spanish</td>\n      <td>Americas</td>\n      <td>Mexico</td>\n      <td>...</td>\n      <td>4,670,000 in Guatemala (1995)</td>\n      <td>4670000</td>\n      <td>Indo-European, Italic, Romance, Italo-Western,...</td>\n      <td>L</td>\n      <td>Indo-European</td>\n      <td>INDO-EUROPEAN</td>\n      <td>Guatemala</td>\n      <td>spa</td>\n      <td>SPA-GTM</td>\n      <td>MULTIPOLYGON (((-91.24195 15.43928, -91.21367 ...</td>\n    </tr>\n  </tbody>\n</table>\n<p>1 rows × 40 columns</p>\n</div>",
            "text/plain": "        ID_1 ID_ISO_A3_1 ID_ISO_A2_1 ID_FIPS_1 NAM_LABEL_1 NAME_PROP_1  NAME2_1 NAM_ANSI_1     CNT_1    C1_1  ...  \\\n419  SPA-MEX     spa-MEX      spa-mx    spa-MX     Spanish     Spanish  SPANISH    Spanish  Americas  Mexico  ...   \n\n                             POP_2  LMP_POP1_2                                                G_2 LMP_CLASS_2   FAMILYPROP_2  \\\n419  4,670,000 in Guatemala (1995)     4670000  Indo-European, Italic, Romance, Italo-Western,...           L  Indo-European   \n\n          FAMILY_2   LMP_C1_2 LANG_ISO_2       ID                                         geometry_2  \n419  INDO-EUROPEAN  Guatemala        spa  SPA-GTM  MULTIPOLYGON (((-91.24195 15.43928, -91.21367 ...  \n\n[1 rows x 40 columns]"
          },
          "execution_count": 23,
          "metadata": {},
          "output_type": "execute_result"
        }
      ],
      "execution_count": null,
      "block_group": "6a91b10ffb6949e09f28554889cb82d0"
    },
    {
      "cell_type": "code",
      "source": "pairs = pairs.loc[pairs['NAME2_1']!=pairs['NAME2_2']].reset_index(drop=True)\n#pairs = pairs.loc[(pairs['ID_1']!='ALN-SRB') & (pairs['ID_2']!='ALN-SRB')].reset_index(drop=True)\npairs.shape",
      "metadata": {
        "cell_id": "02535883db634240b0e40711546dbcb1",
        "deepnote_cell_type": "code"
      },
      "outputs": [
        {
          "data": {
            "text/plain": "(65681, 40)"
          },
          "execution_count": 24,
          "metadata": {},
          "output_type": "execute_result"
        }
      ],
      "execution_count": null,
      "block_group": "ae6028d5fc3f476189c93341c47b45e9"
    },
    {
      "cell_type": "code",
      "source": "%time\nnon_repeated_pairs = drop_repeated(pairs, ['ID_1', 'ID_2'])",
      "metadata": {
        "cell_id": "3d69c5382cd6434594854dcd70823752",
        "deepnote_cell_type": "code"
      },
      "outputs": [
        {
          "name": "stdout",
          "output_type": "stream",
          "text": "CPU times: user 5 µs, sys: 2 µs, total: 7 µs\nWall time: 15.5 µs\n"
        }
      ],
      "execution_count": null,
      "block_group": "b1aecc8c6e2f4cf497cc7b0dd6763290"
    },
    {
      "cell_type": "code",
      "source": "non_repeated_pairs",
      "metadata": {
        "cell_id": "d15d14b833d94d2f9a82a231d3aa11c4",
        "deepnote_cell_type": "code"
      },
      "outputs": [
        {
          "data": {
            "text/html": "<div>\n<style scoped>\n    .dataframe tbody tr th:only-of-type {\n        vertical-align: middle;\n    }\n\n    .dataframe tbody tr th {\n        vertical-align: top;\n    }\n\n    .dataframe thead th {\n        text-align: right;\n    }\n</style>\n<table border=\"1\" class=\"dataframe\">\n  <thead>\n    <tr style=\"text-align: right;\">\n      <th></th>\n      <th>ID_1</th>\n      <th>ID_2</th>\n    </tr>\n  </thead>\n  <tbody>\n    <tr>\n      <th>0</th>\n      <td>RUS-RUS</td>\n      <td>JPN-JPN</td>\n    </tr>\n    <tr>\n      <th>1</th>\n      <td>RUS-RUS</td>\n      <td>CMN-CHN</td>\n    </tr>\n    <tr>\n      <th>2</th>\n      <td>KHK-MNG</td>\n      <td>CMN-CHN</td>\n    </tr>\n    <tr>\n      <th>3</th>\n      <td>MVF-CHN</td>\n      <td>CMN-CHN</td>\n    </tr>\n    <tr>\n      <th>4</th>\n      <td>KHG-CHN</td>\n      <td>CMN-CHN</td>\n    </tr>\n    <tr>\n      <th>...</th>\n      <td>...</td>\n      <td>...</td>\n    </tr>\n    <tr>\n      <th>35699</th>\n      <td>SBH-PNG</td>\n      <td>LIB-PNG</td>\n    </tr>\n    <tr>\n      <th>35700</th>\n      <td>SCV-NGA</td>\n      <td>GNH-NGA</td>\n    </tr>\n    <tr>\n      <th>35701</th>\n      <td>DJE-BFA</td>\n      <td>HAU-BFA</td>\n    </tr>\n    <tr>\n      <th>35702</th>\n      <td>BHE-PAK</td>\n      <td>AEQ-PAK</td>\n    </tr>\n    <tr>\n      <th>35703</th>\n      <td>XNB-TWN</td>\n      <td>SXR-TWN</td>\n    </tr>\n  </tbody>\n</table>\n<p>35704 rows × 2 columns</p>\n</div>",
            "text/plain": "          ID_1     ID_2\n0      RUS-RUS  JPN-JPN\n1      RUS-RUS  CMN-CHN\n2      KHK-MNG  CMN-CHN\n3      MVF-CHN  CMN-CHN\n4      KHG-CHN  CMN-CHN\n...        ...      ...\n35699  SBH-PNG  LIB-PNG\n35700  SCV-NGA  GNH-NGA\n35701  DJE-BFA  HAU-BFA\n35702  BHE-PAK  AEQ-PAK\n35703  XNB-TWN  SXR-TWN\n\n[35704 rows x 2 columns]"
          },
          "execution_count": 26,
          "metadata": {},
          "output_type": "execute_result"
        }
      ],
      "execution_count": null,
      "block_group": "c01759752bd248939b05f18ca78e4246"
    },
    {
      "cell_type": "code",
      "source": "#%%timeit\na = pairs.loc[(pairs['ID_1']=='SPA-CHL') & (pairs['ID_2']=='ARN-ARG')].reset_index()\n#a = pairs.loc[(pairs['ID_1']=='KHK-MNG') & (pairs['ID_2']=='CMN-CHN')].reset_index()\n#a = pairs.loc[(pairs['ID_1']=='RUS-RUS') & (pairs['ID_2']=='JPN-JPN')].reset_index()\na.apply(lambda x: x.geometry_1.intersection(x.geometry_2.boundary), axis=1)",
      "metadata": {
        "cell_id": "7d8bec7a7135427790840c42d6732570",
        "deepnote_cell_type": "code"
      },
      "outputs": [
        {
          "data": {
            "text/plain": "0    MULTILINESTRING ((-71.55537903410654 -43.09396...\ndtype: object"
          },
          "execution_count": 28,
          "metadata": {},
          "output_type": "execute_result"
        }
      ],
      "execution_count": null,
      "block_group": "e0a0e17b531b421b8cc362dfade3a636"
    },
    {
      "cell_type": "code",
      "source": "%%time\na.apply(lambda x: x.geometry_1.intersection(x.geometry_2.boundary), axis=1)",
      "metadata": {
        "cell_id": "d9d494d2a0a64066add5998d72535ab0",
        "deepnote_cell_type": "code"
      },
      "outputs": [
        {
          "name": "stdout",
          "output_type": "stream",
          "text": "CPU times: user 7.22 ms, sys: 1.36 ms, total: 8.57 ms\nWall time: 6.59 ms\n"
        },
        {
          "data": {
            "text/plain": "0    MULTILINESTRING ((-71.55537903410654 -43.09396...\ndtype: object"
          },
          "execution_count": 29,
          "metadata": {},
          "output_type": "execute_result"
        }
      ],
      "execution_count": null,
      "block_group": "2ba85ca2d2484b01add0f928c43a1378"
    },
    {
      "cell_type": "code",
      "source": "%%time\na.apply(lambda x: x.geometry_1.buffer(0.01).intersection(x.geometry_2.boundary), axis=1)",
      "metadata": {
        "cell_id": "1e17bced3b61427f822b37a852d16543",
        "deepnote_cell_type": "code"
      },
      "outputs": [
        {
          "name": "stdout",
          "output_type": "stream",
          "text": "CPU times: user 23.7 ms, sys: 5.39 ms, total: 29.1 ms\nWall time: 12.5 ms\n"
        },
        {
          "data": {
            "text/plain": "0    MULTILINESTRING ((-71.54585451036695 -43.09087...\ndtype: object"
          },
          "execution_count": 30,
          "metadata": {},
          "output_type": "execute_result"
        }
      ],
      "execution_count": null,
      "block_group": "a6c25d5d0eb94b46acaa465689f9eebf"
    },
    {
      "cell_type": "code",
      "source": "a.apply(lambda x: x.geometry_1.buffer(0.01).intersection(x.geometry_2.boundary), axis=1)",
      "metadata": {
        "cell_id": "b85e3b044a60473f87fba83c5f61a4cf",
        "deepnote_cell_type": "code"
      },
      "outputs": [
        {
          "data": {
            "text/plain": "0    MULTILINESTRING ((-71.54585451036695 -43.09087...\ndtype: object"
          },
          "execution_count": 31,
          "metadata": {},
          "output_type": "execute_result"
        }
      ],
      "execution_count": null,
      "block_group": "0c779e10b7f34bd887fdfde740c205d6"
    },
    {
      "cell_type": "code",
      "source": "ddpairs = dask_geopandas.from_geopandas(pairs, npartitions=80)",
      "metadata": {
        "cell_id": "f21d9172d304474abb8939f2bf4a1b41",
        "deepnote_cell_type": "code"
      },
      "outputs": [],
      "execution_count": null,
      "block_group": "fd5591edf4fb45f79d46604c9d90ae6d"
    },
    {
      "cell_type": "code",
      "source": "%%time\nddpairs['border'] = ddpairs.apply(lambda x: x.geometry_1.intersection(x.geometry_2.boundary), axis=1, meta=(None, 'geometry'))\n#borders = ddpairs.compute(scheduler=\"threads\", num_workers=120)\nborders = ddpairs.compute()",
      "metadata": {
        "tags": [],
        "cell_id": "ca6d72b73a95453a866a8c85755db25c",
        "deepnote_cell_type": "code"
      },
      "outputs": [
        {
          "name": "stdout",
          "output_type": "stream",
          "text": "CPU times: user 5 µs, sys: 3 µs, total: 8 µs\nWall time: 15.3 µs\n"
        },
        {
          "name": "stderr",
          "output_type": "stream",
          "text": "/users/ozak/micromamba/envs/GeoPython39env/lib/python3.9/site-packages/distributed/client.py:3125: UserWarning: Sending large graph of size 1.60 GiB.\nThis may cause some slowdown.\nConsider scattering data ahead of time and using futures.\n  warnings.warn(\n"
        }
      ],
      "execution_count": null,
      "block_group": "bcbbdfa59f8c40129ba89fd82a938dbe"
    },
    {
      "cell_type": "code",
      "source": "borders[['ID_1', 'ID_2', 'geometry_1', 'geometry_2', 'border']]",
      "metadata": {
        "cell_id": "3cec0b00052d48bbb8e09036faa5fc38",
        "deepnote_cell_type": "code"
      },
      "outputs": [
        {
          "data": {
            "text/html": "<div>\n<style scoped>\n    .dataframe tbody tr th:only-of-type {\n        vertical-align: middle;\n    }\n\n    .dataframe tbody tr th {\n        vertical-align: top;\n    }\n\n    .dataframe thead th {\n        text-align: right;\n    }\n</style>\n<table border=\"1\" class=\"dataframe\">\n  <thead>\n    <tr style=\"text-align: right;\">\n      <th></th>\n      <th>ID_1</th>\n      <th>ID_2</th>\n      <th>geometry_1</th>\n      <th>geometry_2</th>\n      <th>border</th>\n    </tr>\n  </thead>\n  <tbody>\n    <tr>\n      <th>0</th>\n      <td>RUS-RUS</td>\n      <td>JPN-JPN</td>\n      <td>MULTIPOLYGON (((179.63528 65.96453, 179.62939 ...</td>\n      <td>MULTIPOLYGON (((134.24844 34.70230, 134.25470 ...</td>\n      <td>MULTILINESTRING ((145.26184710393858 43.613034...</td>\n    </tr>\n    <tr>\n      <th>1</th>\n      <td>RUS-RUS</td>\n      <td>CMN-CHN</td>\n      <td>MULTIPOLYGON (((179.63528 65.96453, 179.62939 ...</td>\n      <td>MULTIPOLYGON (((108.65391 19.06045, 108.63222 ...</td>\n      <td>MULTILINESTRING ((118.04027338250799 49.386957...</td>\n    </tr>\n    <tr>\n      <th>2</th>\n      <td>KHK-MNG</td>\n      <td>CMN-CHN</td>\n      <td>POLYGON ((92.34331 48.19710, 92.35761 48.20942...</td>\n      <td>MULTIPOLYGON (((108.65391 19.06045, 108.63222 ...</td>\n      <td>LINESTRING (96.2969147770595 42.52898063260273...</td>\n    </tr>\n    <tr>\n      <th>3</th>\n      <td>MVF-CHN</td>\n      <td>CMN-CHN</td>\n      <td>POLYGON ((97.30358 41.93900, 97.29472 41.94927...</td>\n      <td>MULTIPOLYGON (((108.65391 19.06045, 108.63222 ...</td>\n      <td>MULTILINESTRING ((97.17575743470472 42.7728038...</td>\n    </tr>\n    <tr>\n      <th>4</th>\n      <td>KHG-CHN</td>\n      <td>CMN-CHN</td>\n      <td>POLYGON ((86.24880 31.02358, 86.25015 31.02981...</td>\n      <td>MULTIPOLYGON (((108.65391 19.06045, 108.63222 ...</td>\n      <td>LINESTRING (102.24263019084742 29.725476550719...</td>\n    </tr>\n    <tr>\n      <th>...</th>\n      <td>...</td>\n      <td>...</td>\n      <td>...</td>\n      <td>...</td>\n      <td>...</td>\n    </tr>\n    <tr>\n      <th>65676</th>\n      <td>HAU-BFA</td>\n      <td>DJE-BFA</td>\n      <td>MULTIPOLYGON (((1.54296 11.82437, 1.54271 11.8...</td>\n      <td>MULTIPOLYGON (((1.58616 12.54497, 1.58497 12.5...</td>\n      <td>LINESTRING (1.913310000000024 11.5942549999999...</td>\n    </tr>\n    <tr>\n      <th>65677</th>\n      <td>BHE-PAK</td>\n      <td>AEQ-PAK</td>\n      <td>POLYGON ((69.46580 25.47820, 69.46580 25.47827...</td>\n      <td>POLYGON ((69.54476 25.17083, 69.54605 25.17116...</td>\n      <td>LINESTRING (69.54476271484373 25.1708347050781...</td>\n    </tr>\n    <tr>\n      <th>65678</th>\n      <td>AEQ-PAK</td>\n      <td>BHE-PAK</td>\n      <td>POLYGON ((69.40962 25.31827, 69.42491 25.33095...</td>\n      <td>POLYGON ((69.48241 25.27896, 69.48404 25.27909...</td>\n      <td>LINESTRING (69.48240614843752 25.2789589296875...</td>\n    </tr>\n    <tr>\n      <th>65679</th>\n      <td>XNB-TWN</td>\n      <td>SXR-TWN</td>\n      <td>POLYGON ((120.87169 23.52521, 120.88809 23.525...</td>\n      <td>POLYGON ((120.71130 23.26549, 120.71258 23.264...</td>\n      <td>LINESTRING (120.71130100000005 23.265488000000...</td>\n    </tr>\n    <tr>\n      <th>65680</th>\n      <td>SXR-TWN</td>\n      <td>XNB-TWN</td>\n      <td>POLYGON ((120.75052 23.46160, 120.76875 23.457...</td>\n      <td>POLYGON ((120.88788 23.32587, 120.88789 23.325...</td>\n      <td>LINESTRING (120.88788199999999 23.325866000000...</td>\n    </tr>\n  </tbody>\n</table>\n<p>65681 rows × 5 columns</p>\n</div>",
            "text/plain": "          ID_1     ID_2                                         geometry_1                                         geometry_2  \\\n0      RUS-RUS  JPN-JPN  MULTIPOLYGON (((179.63528 65.96453, 179.62939 ...  MULTIPOLYGON (((134.24844 34.70230, 134.25470 ...   \n1      RUS-RUS  CMN-CHN  MULTIPOLYGON (((179.63528 65.96453, 179.62939 ...  MULTIPOLYGON (((108.65391 19.06045, 108.63222 ...   \n2      KHK-MNG  CMN-CHN  POLYGON ((92.34331 48.19710, 92.35761 48.20942...  MULTIPOLYGON (((108.65391 19.06045, 108.63222 ...   \n3      MVF-CHN  CMN-CHN  POLYGON ((97.30358 41.93900, 97.29472 41.94927...  MULTIPOLYGON (((108.65391 19.06045, 108.63222 ...   \n4      KHG-CHN  CMN-CHN  POLYGON ((86.24880 31.02358, 86.25015 31.02981...  MULTIPOLYGON (((108.65391 19.06045, 108.63222 ...   \n...        ...      ...                                                ...                                                ...   \n65676  HAU-BFA  DJE-BFA  MULTIPOLYGON (((1.54296 11.82437, 1.54271 11.8...  MULTIPOLYGON (((1.58616 12.54497, 1.58497 12.5...   \n65677  BHE-PAK  AEQ-PAK  POLYGON ((69.46580 25.47820, 69.46580 25.47827...  POLYGON ((69.54476 25.17083, 69.54605 25.17116...   \n65678  AEQ-PAK  BHE-PAK  POLYGON ((69.40962 25.31827, 69.42491 25.33095...  POLYGON ((69.48241 25.27896, 69.48404 25.27909...   \n65679  XNB-TWN  SXR-TWN  POLYGON ((120.87169 23.52521, 120.88809 23.525...  POLYGON ((120.71130 23.26549, 120.71258 23.264...   \n65680  SXR-TWN  XNB-TWN  POLYGON ((120.75052 23.46160, 120.76875 23.457...  POLYGON ((120.88788 23.32587, 120.88789 23.325...   \n\n                                                  border  \n0      MULTILINESTRING ((145.26184710393858 43.613034...  \n1      MULTILINESTRING ((118.04027338250799 49.386957...  \n2      LINESTRING (96.2969147770595 42.52898063260273...  \n3      MULTILINESTRING ((97.17575743470472 42.7728038...  \n4      LINESTRING (102.24263019084742 29.725476550719...  \n...                                                  ...  \n65676  LINESTRING (1.913310000000024 11.5942549999999...  \n65677  LINESTRING (69.54476271484373 25.1708347050781...  \n65678  LINESTRING (69.48240614843752 25.2789589296875...  \n65679  LINESTRING (120.71130100000005 23.265488000000...  \n65680  LINESTRING (120.88788199999999 23.325866000000...  \n\n[65681 rows x 5 columns]"
          },
          "execution_count": 35,
          "metadata": {},
          "output_type": "execute_result"
        }
      ],
      "execution_count": null,
      "block_group": "98120871de3a42d390179586b8f5d916"
    },
    {
      "cell_type": "code",
      "source": "borders.loc[0, 'border']",
      "metadata": {
        "cell_id": "4a2e0da9428246d5be04440b98b52232",
        "deepnote_cell_type": "code"
      },
      "outputs": [
        {
          "data": {
            "image/svg+xml": "<svg xmlns=\"http://www.w3.org/2000/svg\" xmlns:xlink=\"http://www.w3.org/1999/xlink\" width=\"100.0\" height=\"100.0\" viewBox=\"145.25811322809614 43.54232400601682 0.10081464774629012 0.07444452494916476\" preserveAspectRatio=\"xMinYMin meet\"><g transform=\"matrix(1,0,0,-1,0,87.1590925369828)\"><g><polyline fill=\"none\" stroke=\"#66cc99\" stroke-width=\"0.0020162929549258023\" points=\"145.26184710393858,43.61303465512353 145.28900099999998,43.60827499999999 145.31460500000003,43.599721999999986 145.33866799999998,43.58827400000001 145.34774700000003,43.581804999999974 145.35414100000003,43.57341600000001 145.35519399999998,43.563221999999996 145.35197400000004,43.55586099999999 145.34680100000003,43.55155400000001 145.33463900000004,43.546943 145.33011624366867,43.54605788185928\" opacity=\"0.8\" /><polyline fill=\"none\" stroke=\"#66cc99\" stroke-width=\"0.0020162929549258023\" points=\"145.30585192307024,43.562984547342246 145.30641100000003,43.56366600000001 145.31733699999995,43.56236100000001 145.330688,43.558610999999985 145.33358699999997,43.55780299999998 145.33439599999997,43.55957999999998 145.33241099999998,43.561747000000025 145.32421799999997,43.56497000000002 145.32797200000005,43.56752599999999 145.33463900000004,43.56486000000001 145.34069799999997,43.565443000000016 145.34463500000004,43.573027000000025 145.34152199999994,43.576415 145.33647099999996,43.57647099999997 145.32661399999995,43.57263799999998 145.32102899999995,43.57341600000001 145.321548,43.578665 145.318756,43.579053999999985 145.31378099999995,43.57658199999997 145.31111099999998,43.578332999999986 145.314392,43.58252599999997 145.323257,43.582719999999995 145.32688900000005,43.58433000000002 145.32621700000004,43.58713799999998 145.31300299999998,43.59635800000001 145.30674699999997,43.596941000000015 145.30186400000002,43.592386999999974 145.29272400000002,43.59266500000001 145.28483500000004,43.58944200000002 145.281967,43.58960999999999 145.281921,43.591886999999986 145.28889400000003,43.59816599999999 145.28659000000005,43.600359000000026 145.28100500000005,43.598139 145.2763224997595,43.593270413604145\" opacity=\"0.8\" /><polyline fill=\"none\" stroke=\"#66cc99\" stroke-width=\"0.0020162929549258023\" points=\"145.27002294481915,43.60146376132541 145.27038500000003,43.60238900000002 145.26753199999996,43.60830499999997 145.26501651467126,43.60848946826361\" opacity=\"0.8\" /></g></g></svg>",
            "text/plain": "<MULTILINESTRING ((145.262 43.613, 145.289 43.608, 145.315 43.6, 145.339 43....>"
          },
          "execution_count": 36,
          "metadata": {},
          "output_type": "execute_result"
        }
      ],
      "execution_count": null,
      "block_group": "ced32c1ba8ff4b979b3503431feb6c05"
    },
    {
      "cell_type": "code",
      "source": "borders_geo = gp.GeoDataFrame(borders, crs=ethno.crs, geometry='border')\nborders_geo.head()",
      "metadata": {
        "cell_id": "0231aa1485e34db08d99078e1494ca3a",
        "deepnote_cell_type": "code"
      },
      "outputs": [
        {
          "data": {
            "text/html": "<div>\n<style scoped>\n    .dataframe tbody tr th:only-of-type {\n        vertical-align: middle;\n    }\n\n    .dataframe tbody tr th {\n        vertical-align: top;\n    }\n\n    .dataframe thead th {\n        text-align: right;\n    }\n</style>\n<table border=\"1\" class=\"dataframe\">\n  <thead>\n    <tr style=\"text-align: right;\">\n      <th></th>\n      <th>ID_1</th>\n      <th>ID_ISO_A3_1</th>\n      <th>ID_ISO_A2_1</th>\n      <th>ID_FIPS_1</th>\n      <th>NAM_LABEL_1</th>\n      <th>NAME_PROP_1</th>\n      <th>NAME2_1</th>\n      <th>NAM_ANSI_1</th>\n      <th>CNT_1</th>\n      <th>C1_1</th>\n      <th>...</th>\n      <th>LMP_POP1_2</th>\n      <th>G_2</th>\n      <th>LMP_CLASS_2</th>\n      <th>FAMILYPROP_2</th>\n      <th>FAMILY_2</th>\n      <th>LMP_C1_2</th>\n      <th>LANG_ISO_2</th>\n      <th>ID</th>\n      <th>geometry_2</th>\n      <th>border</th>\n    </tr>\n  </thead>\n  <tbody>\n    <tr>\n      <th>0</th>\n      <td>RUS-RUS</td>\n      <td>rus-RUS</td>\n      <td>rus-ru</td>\n      <td>rus-RS</td>\n      <td>Russian</td>\n      <td>Russian</td>\n      <td>RUSSIAN</td>\n      <td>Russian</td>\n      <td>Europe</td>\n      <td>Russian Federation</td>\n      <td>...</td>\n      <td>121000000</td>\n      <td>Japonic</td>\n      <td>L</td>\n      <td>Japonic</td>\n      <td>JAPONIC</td>\n      <td>Japan</td>\n      <td>jpn</td>\n      <td>JPN-JPN</td>\n      <td>MULTIPOLYGON (((134.24844 34.70230, 134.25470 ...</td>\n      <td>MULTILINESTRING ((145.26185 43.61303, 145.2890...</td>\n    </tr>\n    <tr>\n      <th>1</th>\n      <td>RUS-RUS</td>\n      <td>rus-RUS</td>\n      <td>rus-ru</td>\n      <td>rus-RS</td>\n      <td>Russian</td>\n      <td>Russian</td>\n      <td>RUSSIAN</td>\n      <td>Russian</td>\n      <td>Europe</td>\n      <td>Russian Federation</td>\n      <td>...</td>\n      <td>840000000</td>\n      <td>Sino-Tibetan, Chinese</td>\n      <td>L</td>\n      <td>Sino-Tibetan</td>\n      <td>SINO-TIBETAN</td>\n      <td>China</td>\n      <td>cmn</td>\n      <td>CMN-CHN</td>\n      <td>MULTIPOLYGON (((108.65391 19.06045, 108.63222 ...</td>\n      <td>MULTILINESTRING ((118.04027 49.38696, 118.0152...</td>\n    </tr>\n    <tr>\n      <th>2</th>\n      <td>KHK-MNG</td>\n      <td>khk-MNG</td>\n      <td>khk-mn</td>\n      <td>khk-MG</td>\n      <td>Halh Mongolian</td>\n      <td>Mongolian, Halh</td>\n      <td>MONGOLIAN, HALH</td>\n      <td>Mongolian, Halh</td>\n      <td>Asia</td>\n      <td>Mongolia</td>\n      <td>...</td>\n      <td>840000000</td>\n      <td>Sino-Tibetan, Chinese</td>\n      <td>L</td>\n      <td>Sino-Tibetan</td>\n      <td>SINO-TIBETAN</td>\n      <td>China</td>\n      <td>cmn</td>\n      <td>CMN-CHN</td>\n      <td>MULTIPOLYGON (((108.65391 19.06045, 108.63222 ...</td>\n      <td>LINESTRING (96.29691 42.52898, 96.30858 42.544...</td>\n    </tr>\n    <tr>\n      <th>3</th>\n      <td>MVF-CHN</td>\n      <td>mvf-CHN</td>\n      <td>mvf-cn</td>\n      <td>mvf-CH</td>\n      <td>Peripheral Mongolian</td>\n      <td>Mongolian, Peripheral</td>\n      <td>MONGOLIAN, PERIPHERAL</td>\n      <td>Mongolian, Peripheral</td>\n      <td>Asia</td>\n      <td>China</td>\n      <td>...</td>\n      <td>840000000</td>\n      <td>Sino-Tibetan, Chinese</td>\n      <td>L</td>\n      <td>Sino-Tibetan</td>\n      <td>SINO-TIBETAN</td>\n      <td>China</td>\n      <td>cmn</td>\n      <td>CMN-CHN</td>\n      <td>MULTIPOLYGON (((108.65391 19.06045, 108.63222 ...</td>\n      <td>MULTILINESTRING ((97.17576 42.77280, 97.20853 ...</td>\n    </tr>\n    <tr>\n      <th>4</th>\n      <td>KHG-CHN</td>\n      <td>khg-CHN</td>\n      <td>khg-cn</td>\n      <td>khg-CH</td>\n      <td>Khams Tibetan</td>\n      <td>Tibetan, Khams</td>\n      <td>TIBETAN, KHAMS</td>\n      <td>Tibetan, Khams</td>\n      <td>Asia</td>\n      <td>China</td>\n      <td>...</td>\n      <td>840000000</td>\n      <td>Sino-Tibetan, Chinese</td>\n      <td>L</td>\n      <td>Sino-Tibetan</td>\n      <td>SINO-TIBETAN</td>\n      <td>China</td>\n      <td>cmn</td>\n      <td>CMN-CHN</td>\n      <td>MULTIPOLYGON (((108.65391 19.06045, 108.63222 ...</td>\n      <td>LINESTRING (102.24263 29.72548, 102.20450 29.7...</td>\n    </tr>\n  </tbody>\n</table>\n<p>5 rows × 41 columns</p>\n</div>",
            "text/plain": "      ID_1 ID_ISO_A3_1 ID_ISO_A2_1 ID_FIPS_1           NAM_LABEL_1            NAME_PROP_1                NAME2_1             NAM_ANSI_1  \\\n0  RUS-RUS     rus-RUS      rus-ru    rus-RS               Russian                Russian                RUSSIAN                Russian   \n1  RUS-RUS     rus-RUS      rus-ru    rus-RS               Russian                Russian                RUSSIAN                Russian   \n2  KHK-MNG     khk-MNG      khk-mn    khk-MG        Halh Mongolian        Mongolian, Halh        MONGOLIAN, HALH        Mongolian, Halh   \n3  MVF-CHN     mvf-CHN      mvf-cn    mvf-CH  Peripheral Mongolian  Mongolian, Peripheral  MONGOLIAN, PERIPHERAL  Mongolian, Peripheral   \n4  KHG-CHN     khg-CHN      khg-cn    khg-CH         Khams Tibetan         Tibetan, Khams         TIBETAN, KHAMS         Tibetan, Khams   \n\n    CNT_1                C1_1  ... LMP_POP1_2                    G_2 LMP_CLASS_2  FAMILYPROP_2      FAMILY_2 LMP_C1_2 LANG_ISO_2       ID  \\\n0  Europe  Russian Federation  ...  121000000                Japonic           L       Japonic       JAPONIC    Japan        jpn  JPN-JPN   \n1  Europe  Russian Federation  ...  840000000  Sino-Tibetan, Chinese           L  Sino-Tibetan  SINO-TIBETAN    China        cmn  CMN-CHN   \n2    Asia            Mongolia  ...  840000000  Sino-Tibetan, Chinese           L  Sino-Tibetan  SINO-TIBETAN    China        cmn  CMN-CHN   \n3    Asia               China  ...  840000000  Sino-Tibetan, Chinese           L  Sino-Tibetan  SINO-TIBETAN    China        cmn  CMN-CHN   \n4    Asia               China  ...  840000000  Sino-Tibetan, Chinese           L  Sino-Tibetan  SINO-TIBETAN    China        cmn  CMN-CHN   \n\n                                          geometry_2                                             border  \n0  MULTIPOLYGON (((134.24844 34.70230, 134.25470 ...  MULTILINESTRING ((145.26185 43.61303, 145.2890...  \n1  MULTIPOLYGON (((108.65391 19.06045, 108.63222 ...  MULTILINESTRING ((118.04027 49.38696, 118.0152...  \n2  MULTIPOLYGON (((108.65391 19.06045, 108.63222 ...  LINESTRING (96.29691 42.52898, 96.30858 42.544...  \n3  MULTIPOLYGON (((108.65391 19.06045, 108.63222 ...  MULTILINESTRING ((97.17576 42.77280, 97.20853 ...  \n4  MULTIPOLYGON (((108.65391 19.06045, 108.63222 ...  LINESTRING (102.24263 29.72548, 102.20450 29.7...  \n\n[5 rows x 41 columns]"
          },
          "execution_count": 37,
          "metadata": {},
          "output_type": "execute_result"
        }
      ],
      "execution_count": null,
      "block_group": "1a48652a0d7a424ea33b4a94810cee59"
    },
    {
      "cell_type": "code",
      "source": "borders_geo[borders_geo.columns.difference(['geometry_1', 'geometry_2'])].to_file(pathout + 'ethnologue_bordersv16.json', driver=\"GeoJSON\")\n#borders_geo.to_csv(pathout + 'ethnologue_bordersv16.csv', encoding='utf8', index=False)",
      "metadata": {
        "cell_id": "879c35663c5442e08c81e17d59b02b31",
        "deepnote_cell_type": "code"
      },
      "outputs": [],
      "execution_count": null,
      "block_group": "114498ea69a6453ca130e47255ae6fe2"
    },
    {
      "cell_type": "markdown",
      "source": "## Overlap Datasets\n\nLet's see overlap between both datasets and ways to merge\n\nCreate alternative IDs since we do not know order",
      "metadata": {
        "cell_id": "a7326d57fdc94796949e46bf88515e56",
        "deepnote_cell_type": "markdown"
      },
      "block_group": "a832017af17d4da3a74fd1a9974d89bf"
    },
    {
      "cell_type": "code",
      "source": "borders_geo['identifier'] = borders_geo['ID_1'] + '-' + borders_geo['ID_2']\nborders_geo['identifier']",
      "metadata": {
        "cell_id": "697575cbbf2a4d2885704499d8754f73",
        "deepnote_cell_type": "code"
      },
      "outputs": [
        {
          "data": {
            "text/plain": "0        RUS-RUS-JPN-JPN\n1        RUS-RUS-CMN-CHN\n2        KHK-MNG-CMN-CHN\n3        MVF-CHN-CMN-CHN\n4        KHG-CHN-CMN-CHN\n              ...       \n65676    HAU-BFA-DJE-BFA\n65677    BHE-PAK-AEQ-PAK\n65678    AEQ-PAK-BHE-PAK\n65679    XNB-TWN-SXR-TWN\n65680    SXR-TWN-XNB-TWN\nName: identifier, Length: 65681, dtype: object"
          },
          "execution_count": 39,
          "metadata": {},
          "output_type": "execute_result"
        }
      ],
      "execution_count": null,
      "block_group": "65cdef35af2245a38f045afd8e62b6e5"
    },
    {
      "cell_type": "code",
      "source": "dfor['ID_1'] = dfor['identifier'].apply(lambda x: x[:7])\ndfor['ID_2'] = dfor['identifier'].apply(lambda x: x[8:])\ndfor['ID_1alt'] = dfor['ID_2']\ndfor['ID_2alt'] = dfor['ID_1']\ndfor[['ID_1', 'ID_2', 'ID_1alt', 'ID_2alt', 'identifier']]",
      "metadata": {
        "cell_id": "c57058db29b040e9a9df9c9ed5aeaced",
        "deepnote_cell_type": "code"
      },
      "outputs": [
        {
          "data": {
            "text/html": "<div>\n<style scoped>\n    .dataframe tbody tr th:only-of-type {\n        vertical-align: middle;\n    }\n\n    .dataframe tbody tr th {\n        vertical-align: top;\n    }\n\n    .dataframe thead th {\n        text-align: right;\n    }\n</style>\n<table border=\"1\" class=\"dataframe\">\n  <thead>\n    <tr style=\"text-align: right;\">\n      <th></th>\n      <th>ID_1</th>\n      <th>ID_2</th>\n      <th>ID_1alt</th>\n      <th>ID_2alt</th>\n      <th>identifier</th>\n    </tr>\n  </thead>\n  <tbody>\n    <tr>\n      <th>0</th>\n      <td>AAA-NGA</td>\n      <td>EMA-NGA</td>\n      <td>EMA-NGA</td>\n      <td>AAA-NGA</td>\n      <td>AAA-NGA-EMA-NGA</td>\n    </tr>\n    <tr>\n      <th>1</th>\n      <td>AAA-NGA</td>\n      <td>OKE-NGA</td>\n      <td>OKE-NGA</td>\n      <td>AAA-NGA</td>\n      <td>AAA-NGA-OKE-NGA</td>\n    </tr>\n    <tr>\n      <th>2</th>\n      <td>AAB-NGA</td>\n      <td>JID-NGA</td>\n      <td>JID-NGA</td>\n      <td>AAB-NGA</td>\n      <td>AAB-NGA-JID-NGA</td>\n    </tr>\n    <tr>\n      <th>3</th>\n      <td>AAB-NGA</td>\n      <td>RIN-NGA</td>\n      <td>RIN-NGA</td>\n      <td>AAB-NGA</td>\n      <td>AAB-NGA-RIN-NGA</td>\n    </tr>\n    <tr>\n      <th>4</th>\n      <td>AAB-NGA</td>\n      <td>TDV-NGA</td>\n      <td>TDV-NGA</td>\n      <td>AAB-NGA</td>\n      <td>AAB-NGA-TDV-NGA</td>\n    </tr>\n    <tr>\n      <th>...</th>\n      <td>...</td>\n      <td>...</td>\n      <td>...</td>\n      <td>...</td>\n      <td>...</td>\n    </tr>\n    <tr>\n      <th>15598</th>\n      <td>ZYN-CHN</td>\n      <td>YUE-CHN</td>\n      <td>YUE-CHN</td>\n      <td>ZYN-CHN</td>\n      <td>ZYN-CHN-YUE-CHN</td>\n    </tr>\n    <tr>\n      <th>15599</th>\n      <td>ZZJ-CHN</td>\n      <td>CMN-CHN</td>\n      <td>CMN-CHN</td>\n      <td>ZZJ-CHN</td>\n      <td>ZZJ-CHN-CMN-CHN</td>\n    </tr>\n    <tr>\n      <th>15600</th>\n      <td>ZZJ-CHN</td>\n      <td>IUM-CHN</td>\n      <td>IUM-CHN</td>\n      <td>ZZJ-CHN</td>\n      <td>ZZJ-CHN-IUM-CHN</td>\n    </tr>\n    <tr>\n      <th>15601</th>\n      <td>ZZJ-CHN</td>\n      <td>TYZ-VNM</td>\n      <td>TYZ-VNM</td>\n      <td>ZZJ-CHN</td>\n      <td>ZZJ-CHN-TYZ-VNM</td>\n    </tr>\n    <tr>\n      <th>15602</th>\n      <td>ZZJ-CHN</td>\n      <td>ZYN-CHN</td>\n      <td>ZYN-CHN</td>\n      <td>ZZJ-CHN</td>\n      <td>ZZJ-CHN-ZYN-CHN</td>\n    </tr>\n  </tbody>\n</table>\n<p>15603 rows × 5 columns</p>\n</div>",
            "text/plain": "          ID_1     ID_2  ID_1alt  ID_2alt       identifier\n0      AAA-NGA  EMA-NGA  EMA-NGA  AAA-NGA  AAA-NGA-EMA-NGA\n1      AAA-NGA  OKE-NGA  OKE-NGA  AAA-NGA  AAA-NGA-OKE-NGA\n2      AAB-NGA  JID-NGA  JID-NGA  AAB-NGA  AAB-NGA-JID-NGA\n3      AAB-NGA  RIN-NGA  RIN-NGA  AAB-NGA  AAB-NGA-RIN-NGA\n4      AAB-NGA  TDV-NGA  TDV-NGA  AAB-NGA  AAB-NGA-TDV-NGA\n...        ...      ...      ...      ...              ...\n15598  ZYN-CHN  YUE-CHN  YUE-CHN  ZYN-CHN  ZYN-CHN-YUE-CHN\n15599  ZZJ-CHN  CMN-CHN  CMN-CHN  ZZJ-CHN  ZZJ-CHN-CMN-CHN\n15600  ZZJ-CHN  IUM-CHN  IUM-CHN  ZZJ-CHN  ZZJ-CHN-IUM-CHN\n15601  ZZJ-CHN  TYZ-VNM  TYZ-VNM  ZZJ-CHN  ZZJ-CHN-TYZ-VNM\n15602  ZZJ-CHN  ZYN-CHN  ZYN-CHN  ZZJ-CHN  ZZJ-CHN-ZYN-CHN\n\n[15603 rows x 5 columns]"
          },
          "execution_count": 40,
          "metadata": {},
          "output_type": "execute_result"
        }
      ],
      "execution_count": null,
      "block_group": "300a38e664bd476ca1a496377f73228e"
    },
    {
      "cell_type": "markdown",
      "source": "We check for non-repeated language-country pairs in original data",
      "metadata": {
        "cell_id": "ddff753ab86143e7a2c757d0ed82acc2",
        "deepnote_cell_type": "markdown"
      },
      "block_group": "a46c8a84d9f44199879a72f3076bd14c"
    },
    {
      "cell_type": "code",
      "source": "dfor.loc[dfor.duplicated('identifier')]",
      "metadata": {
        "cell_id": "66b119b34a7f4e828c83190d80d587df",
        "deepnote_cell_type": "code"
      },
      "outputs": [
        {
          "data": {
            "text/html": "<div>\n<style scoped>\n    .dataframe tbody tr th:only-of-type {\n        vertical-align: middle;\n    }\n\n    .dataframe tbody tr th {\n        vertical-align: top;\n    }\n\n    .dataframe thead th {\n        text-align: right;\n    }\n</style>\n<table border=\"1\" class=\"dataframe\">\n  <thead>\n    <tr style=\"text-align: right;\">\n      <th></th>\n      <th>identifier</th>\n      <th>langName_ethno1</th>\n      <th>langIso1</th>\n      <th>country1</th>\n      <th>family1</th>\n      <th>langName_ethno2</th>\n      <th>langIso2</th>\n      <th>country2</th>\n      <th>family2</th>\n      <th>lingDist</th>\n      <th>...</th>\n      <th>langName_asjp2</th>\n      <th>familyTree1</th>\n      <th>familyTree2</th>\n      <th>ccode1</th>\n      <th>ccode2</th>\n      <th>region</th>\n      <th>ID_1</th>\n      <th>ID_2</th>\n      <th>ID_1alt</th>\n      <th>ID_2alt</th>\n    </tr>\n  </thead>\n  <tbody>\n  </tbody>\n</table>\n<p>0 rows × 105 columns</p>\n</div>",
            "text/plain": "Empty DataFrame\nColumns: [identifier, langName_ethno1, langIso1, country1, family1, langName_ethno2, langIso2, country2, family2, lingDist, csi, csi_change, csi_sd, csi_change_sd, elev, elev_sd, elev_range, prec, prec_sd, prec_range, temp, temp_sd, temp_range, malaria, malaria_sd, malaria_range, dist_coast, dist_lake, dist_rivmaj, dist_rivmin, dist_border, dist_pre600, dist_pre1800, dist_lang, ldist_coast, ldist_lake, ldist_rivmaj, ldist_rivmin, ldist_border, ldist_lang, ldist_pre600, ldist_pre1800, asia, africa, europe, oceania, americas, oldworld, nativePop50, nativePop25, nativePop75, nativePopShare1, nativePopShare2, latitude, longitude, langLat1, langLon1, langLat2, langLon2, langLat_diff, langLon_diff, langPop1, langPop2, ln_langPop, langPop_diff, langArea1, langArea2, ln_langArea, langArea_diff, area, larea, branch1, branch2, branch3, branch4, branch5, branch6, branch7, branch8, branch9, branch10, branch11, branch12, branch13, branch14, overlap, sibling, samecountry, langID1, langID2, langIso_ethno1, langIso_ethno2, langIso_asjp1, langIso_asjp2, langName_asjp1, langName_asjp2, familyTree1, familyTree2, ccode1, ccode2, ...]\nIndex: []\n\n[0 rows x 105 columns]"
          },
          "execution_count": 41,
          "metadata": {},
          "output_type": "execute_result"
        }
      ],
      "execution_count": null,
      "block_group": "d247b9f1eec54b13924c21ecdbbb1ba9"
    },
    {
      "cell_type": "code",
      "source": "dfor.loc[dfor.duplicated(subset=['ID_1', 'ID_2'])]",
      "metadata": {
        "cell_id": "56f71b5796aa41ea8b5b667a1245bafe",
        "deepnote_cell_type": "code"
      },
      "outputs": [
        {
          "data": {
            "text/html": "<div>\n<style scoped>\n    .dataframe tbody tr th:only-of-type {\n        vertical-align: middle;\n    }\n\n    .dataframe tbody tr th {\n        vertical-align: top;\n    }\n\n    .dataframe thead th {\n        text-align: right;\n    }\n</style>\n<table border=\"1\" class=\"dataframe\">\n  <thead>\n    <tr style=\"text-align: right;\">\n      <th></th>\n      <th>identifier</th>\n      <th>langName_ethno1</th>\n      <th>langIso1</th>\n      <th>country1</th>\n      <th>family1</th>\n      <th>langName_ethno2</th>\n      <th>langIso2</th>\n      <th>country2</th>\n      <th>family2</th>\n      <th>lingDist</th>\n      <th>...</th>\n      <th>langName_asjp2</th>\n      <th>familyTree1</th>\n      <th>familyTree2</th>\n      <th>ccode1</th>\n      <th>ccode2</th>\n      <th>region</th>\n      <th>ID_1</th>\n      <th>ID_2</th>\n      <th>ID_1alt</th>\n      <th>ID_2alt</th>\n    </tr>\n  </thead>\n  <tbody>\n  </tbody>\n</table>\n<p>0 rows × 105 columns</p>\n</div>",
            "text/plain": "Empty DataFrame\nColumns: [identifier, langName_ethno1, langIso1, country1, family1, langName_ethno2, langIso2, country2, family2, lingDist, csi, csi_change, csi_sd, csi_change_sd, elev, elev_sd, elev_range, prec, prec_sd, prec_range, temp, temp_sd, temp_range, malaria, malaria_sd, malaria_range, dist_coast, dist_lake, dist_rivmaj, dist_rivmin, dist_border, dist_pre600, dist_pre1800, dist_lang, ldist_coast, ldist_lake, ldist_rivmaj, ldist_rivmin, ldist_border, ldist_lang, ldist_pre600, ldist_pre1800, asia, africa, europe, oceania, americas, oldworld, nativePop50, nativePop25, nativePop75, nativePopShare1, nativePopShare2, latitude, longitude, langLat1, langLon1, langLat2, langLon2, langLat_diff, langLon_diff, langPop1, langPop2, ln_langPop, langPop_diff, langArea1, langArea2, ln_langArea, langArea_diff, area, larea, branch1, branch2, branch3, branch4, branch5, branch6, branch7, branch8, branch9, branch10, branch11, branch12, branch13, branch14, overlap, sibling, samecountry, langID1, langID2, langIso_ethno1, langIso_ethno2, langIso_asjp1, langIso_asjp2, langName_asjp1, langName_asjp2, familyTree1, familyTree2, ccode1, ccode2, ...]\nIndex: []\n\n[0 rows x 105 columns]"
          },
          "execution_count": 42,
          "metadata": {},
          "output_type": "execute_result"
        }
      ],
      "execution_count": null,
      "block_group": "82a3f4bd6c5d4197829429ecc8e1074f"
    },
    {
      "cell_type": "code",
      "source": "dfor.loc[dfor.duplicated(subset=['ID_1', 'ID_2'])]",
      "metadata": {
        "cell_id": "5a0e8f93e08848eda334de8a242bc188",
        "deepnote_cell_type": "code"
      },
      "outputs": [
        {
          "data": {
            "text/html": "<div>\n<style scoped>\n    .dataframe tbody tr th:only-of-type {\n        vertical-align: middle;\n    }\n\n    .dataframe tbody tr th {\n        vertical-align: top;\n    }\n\n    .dataframe thead th {\n        text-align: right;\n    }\n</style>\n<table border=\"1\" class=\"dataframe\">\n  <thead>\n    <tr style=\"text-align: right;\">\n      <th></th>\n      <th>identifier</th>\n      <th>langName_ethno1</th>\n      <th>langIso1</th>\n      <th>country1</th>\n      <th>family1</th>\n      <th>langName_ethno2</th>\n      <th>langIso2</th>\n      <th>country2</th>\n      <th>family2</th>\n      <th>lingDist</th>\n      <th>...</th>\n      <th>langName_asjp2</th>\n      <th>familyTree1</th>\n      <th>familyTree2</th>\n      <th>ccode1</th>\n      <th>ccode2</th>\n      <th>region</th>\n      <th>ID_1</th>\n      <th>ID_2</th>\n      <th>ID_1alt</th>\n      <th>ID_2alt</th>\n    </tr>\n  </thead>\n  <tbody>\n  </tbody>\n</table>\n<p>0 rows × 105 columns</p>\n</div>",
            "text/plain": "Empty DataFrame\nColumns: [identifier, langName_ethno1, langIso1, country1, family1, langName_ethno2, langIso2, country2, family2, lingDist, csi, csi_change, csi_sd, csi_change_sd, elev, elev_sd, elev_range, prec, prec_sd, prec_range, temp, temp_sd, temp_range, malaria, malaria_sd, malaria_range, dist_coast, dist_lake, dist_rivmaj, dist_rivmin, dist_border, dist_pre600, dist_pre1800, dist_lang, ldist_coast, ldist_lake, ldist_rivmaj, ldist_rivmin, ldist_border, ldist_lang, ldist_pre600, ldist_pre1800, asia, africa, europe, oceania, americas, oldworld, nativePop50, nativePop25, nativePop75, nativePopShare1, nativePopShare2, latitude, longitude, langLat1, langLon1, langLat2, langLon2, langLat_diff, langLon_diff, langPop1, langPop2, ln_langPop, langPop_diff, langArea1, langArea2, ln_langArea, langArea_diff, area, larea, branch1, branch2, branch3, branch4, branch5, branch6, branch7, branch8, branch9, branch10, branch11, branch12, branch13, branch14, overlap, sibling, samecountry, langID1, langID2, langIso_ethno1, langIso_ethno2, langIso_asjp1, langIso_asjp2, langName_asjp1, langName_asjp2, familyTree1, familyTree2, ccode1, ccode2, ...]\nIndex: []\n\n[0 rows x 105 columns]"
          },
          "execution_count": 43,
          "metadata": {},
          "output_type": "execute_result"
        }
      ],
      "execution_count": null,
      "block_group": "6e561fb4e3914c8caeaf5182e3fde82c"
    },
    {
      "cell_type": "markdown",
      "source": "## Merge",
      "metadata": {
        "tags": [],
        "user_expressions": [],
        "cell_id": "ae0ef7025e30402cb5952cf1a8c85de8",
        "deepnote_cell_type": "markdown"
      },
      "block_group": "77c7f2712fa24326997124def04b3694"
    },
    {
      "cell_type": "code",
      "source": "merge_iden = dfor[['identifier']].merge(borders_geo[['ID_1', 'ID_2', 'identifier']])\nmerge_iden",
      "metadata": {
        "cell_id": "6bc50968f715415abfb06ee7b83877d1",
        "deepnote_cell_type": "code"
      },
      "outputs": [
        {
          "data": {
            "text/html": "<div>\n<style scoped>\n    .dataframe tbody tr th:only-of-type {\n        vertical-align: middle;\n    }\n\n    .dataframe tbody tr th {\n        vertical-align: top;\n    }\n\n    .dataframe thead th {\n        text-align: right;\n    }\n</style>\n<table border=\"1\" class=\"dataframe\">\n  <thead>\n    <tr style=\"text-align: right;\">\n      <th></th>\n      <th>identifier</th>\n      <th>ID_1</th>\n      <th>ID_2</th>\n    </tr>\n  </thead>\n  <tbody>\n    <tr>\n      <th>0</th>\n      <td>AAA-NGA-EMA-NGA</td>\n      <td>AAA-NGA</td>\n      <td>EMA-NGA</td>\n    </tr>\n    <tr>\n      <th>1</th>\n      <td>AAA-NGA-OKE-NGA</td>\n      <td>AAA-NGA</td>\n      <td>OKE-NGA</td>\n    </tr>\n    <tr>\n      <th>2</th>\n      <td>AAB-NGA-JID-NGA</td>\n      <td>AAB-NGA</td>\n      <td>JID-NGA</td>\n    </tr>\n    <tr>\n      <th>3</th>\n      <td>AAB-NGA-RIN-NGA</td>\n      <td>AAB-NGA</td>\n      <td>RIN-NGA</td>\n    </tr>\n    <tr>\n      <th>4</th>\n      <td>AAB-NGA-TDV-NGA</td>\n      <td>AAB-NGA</td>\n      <td>TDV-NGA</td>\n    </tr>\n    <tr>\n      <th>...</th>\n      <td>...</td>\n      <td>...</td>\n      <td>...</td>\n    </tr>\n    <tr>\n      <th>15516</th>\n      <td>ZYN-CHN-YUE-CHN</td>\n      <td>ZYN-CHN</td>\n      <td>YUE-CHN</td>\n    </tr>\n    <tr>\n      <th>15517</th>\n      <td>ZZJ-CHN-CMN-CHN</td>\n      <td>ZZJ-CHN</td>\n      <td>CMN-CHN</td>\n    </tr>\n    <tr>\n      <th>15518</th>\n      <td>ZZJ-CHN-IUM-CHN</td>\n      <td>ZZJ-CHN</td>\n      <td>IUM-CHN</td>\n    </tr>\n    <tr>\n      <th>15519</th>\n      <td>ZZJ-CHN-TYZ-VNM</td>\n      <td>ZZJ-CHN</td>\n      <td>TYZ-VNM</td>\n    </tr>\n    <tr>\n      <th>15520</th>\n      <td>ZZJ-CHN-ZYN-CHN</td>\n      <td>ZZJ-CHN</td>\n      <td>ZYN-CHN</td>\n    </tr>\n  </tbody>\n</table>\n<p>15521 rows × 3 columns</p>\n</div>",
            "text/plain": "            identifier     ID_1     ID_2\n0      AAA-NGA-EMA-NGA  AAA-NGA  EMA-NGA\n1      AAA-NGA-OKE-NGA  AAA-NGA  OKE-NGA\n2      AAB-NGA-JID-NGA  AAB-NGA  JID-NGA\n3      AAB-NGA-RIN-NGA  AAB-NGA  RIN-NGA\n4      AAB-NGA-TDV-NGA  AAB-NGA  TDV-NGA\n...                ...      ...      ...\n15516  ZYN-CHN-YUE-CHN  ZYN-CHN  YUE-CHN\n15517  ZZJ-CHN-CMN-CHN  ZZJ-CHN  CMN-CHN\n15518  ZZJ-CHN-IUM-CHN  ZZJ-CHN  IUM-CHN\n15519  ZZJ-CHN-TYZ-VNM  ZZJ-CHN  TYZ-VNM\n15520  ZZJ-CHN-ZYN-CHN  ZZJ-CHN  ZYN-CHN\n\n[15521 rows x 3 columns]"
          },
          "execution_count": 44,
          "metadata": {},
          "output_type": "execute_result"
        }
      ],
      "execution_count": null,
      "block_group": "1673a7118603428e8507d3649d552226"
    },
    {
      "cell_type": "code",
      "source": "merge1 = dfor[['ID_1', 'ID_2', 'ID_1alt', 'ID_2alt', 'identifier']].merge(borders_geo[['ID_1', 'ID_2']])\nmerge1alt = dfor[['ID_1alt', 'ID_2alt', 'identifier']].merge(borders_geo[['ID_1', 'ID_2']], \n                                                             left_on=['ID_1alt', 'ID_2alt'], right_on=['ID_1', 'ID_2'])\nmerged1 = pd.concat([merge1, merge1alt]).reset_index(drop=True)\nmerged1",
      "metadata": {
        "cell_id": "381a1f327dd94dc5ba30ca4068371897",
        "deepnote_cell_type": "code"
      },
      "outputs": [
        {
          "data": {
            "text/html": "<div>\n<style scoped>\n    .dataframe tbody tr th:only-of-type {\n        vertical-align: middle;\n    }\n\n    .dataframe tbody tr th {\n        vertical-align: top;\n    }\n\n    .dataframe thead th {\n        text-align: right;\n    }\n</style>\n<table border=\"1\" class=\"dataframe\">\n  <thead>\n    <tr style=\"text-align: right;\">\n      <th></th>\n      <th>ID_1</th>\n      <th>ID_2</th>\n      <th>ID_1alt</th>\n      <th>ID_2alt</th>\n      <th>identifier</th>\n    </tr>\n  </thead>\n  <tbody>\n    <tr>\n      <th>0</th>\n      <td>AAA-NGA</td>\n      <td>EMA-NGA</td>\n      <td>EMA-NGA</td>\n      <td>AAA-NGA</td>\n      <td>AAA-NGA-EMA-NGA</td>\n    </tr>\n    <tr>\n      <th>1</th>\n      <td>AAA-NGA</td>\n      <td>OKE-NGA</td>\n      <td>OKE-NGA</td>\n      <td>AAA-NGA</td>\n      <td>AAA-NGA-OKE-NGA</td>\n    </tr>\n    <tr>\n      <th>2</th>\n      <td>AAB-NGA</td>\n      <td>JID-NGA</td>\n      <td>JID-NGA</td>\n      <td>AAB-NGA</td>\n      <td>AAB-NGA-JID-NGA</td>\n    </tr>\n    <tr>\n      <th>3</th>\n      <td>AAB-NGA</td>\n      <td>RIN-NGA</td>\n      <td>RIN-NGA</td>\n      <td>AAB-NGA</td>\n      <td>AAB-NGA-RIN-NGA</td>\n    </tr>\n    <tr>\n      <th>4</th>\n      <td>AAB-NGA</td>\n      <td>TDV-NGA</td>\n      <td>TDV-NGA</td>\n      <td>AAB-NGA</td>\n      <td>AAB-NGA-TDV-NGA</td>\n    </tr>\n    <tr>\n      <th>...</th>\n      <td>...</td>\n      <td>...</td>\n      <td>...</td>\n      <td>...</td>\n      <td>...</td>\n    </tr>\n    <tr>\n      <th>31037</th>\n      <td>YUE-CHN</td>\n      <td>ZYN-CHN</td>\n      <td>YUE-CHN</td>\n      <td>ZYN-CHN</td>\n      <td>ZYN-CHN-YUE-CHN</td>\n    </tr>\n    <tr>\n      <th>31038</th>\n      <td>CMN-CHN</td>\n      <td>ZZJ-CHN</td>\n      <td>CMN-CHN</td>\n      <td>ZZJ-CHN</td>\n      <td>ZZJ-CHN-CMN-CHN</td>\n    </tr>\n    <tr>\n      <th>31039</th>\n      <td>IUM-CHN</td>\n      <td>ZZJ-CHN</td>\n      <td>IUM-CHN</td>\n      <td>ZZJ-CHN</td>\n      <td>ZZJ-CHN-IUM-CHN</td>\n    </tr>\n    <tr>\n      <th>31040</th>\n      <td>TYZ-VNM</td>\n      <td>ZZJ-CHN</td>\n      <td>TYZ-VNM</td>\n      <td>ZZJ-CHN</td>\n      <td>ZZJ-CHN-TYZ-VNM</td>\n    </tr>\n    <tr>\n      <th>31041</th>\n      <td>ZYN-CHN</td>\n      <td>ZZJ-CHN</td>\n      <td>ZYN-CHN</td>\n      <td>ZZJ-CHN</td>\n      <td>ZZJ-CHN-ZYN-CHN</td>\n    </tr>\n  </tbody>\n</table>\n<p>31042 rows × 5 columns</p>\n</div>",
            "text/plain": "          ID_1     ID_2  ID_1alt  ID_2alt       identifier\n0      AAA-NGA  EMA-NGA  EMA-NGA  AAA-NGA  AAA-NGA-EMA-NGA\n1      AAA-NGA  OKE-NGA  OKE-NGA  AAA-NGA  AAA-NGA-OKE-NGA\n2      AAB-NGA  JID-NGA  JID-NGA  AAB-NGA  AAB-NGA-JID-NGA\n3      AAB-NGA  RIN-NGA  RIN-NGA  AAB-NGA  AAB-NGA-RIN-NGA\n4      AAB-NGA  TDV-NGA  TDV-NGA  AAB-NGA  AAB-NGA-TDV-NGA\n...        ...      ...      ...      ...              ...\n31037  YUE-CHN  ZYN-CHN  YUE-CHN  ZYN-CHN  ZYN-CHN-YUE-CHN\n31038  CMN-CHN  ZZJ-CHN  CMN-CHN  ZZJ-CHN  ZZJ-CHN-CMN-CHN\n31039  IUM-CHN  ZZJ-CHN  IUM-CHN  ZZJ-CHN  ZZJ-CHN-IUM-CHN\n31040  TYZ-VNM  ZZJ-CHN  TYZ-VNM  ZZJ-CHN  ZZJ-CHN-TYZ-VNM\n31041  ZYN-CHN  ZZJ-CHN  ZYN-CHN  ZZJ-CHN  ZZJ-CHN-ZYN-CHN\n\n[31042 rows x 5 columns]"
          },
          "execution_count": 45,
          "metadata": {},
          "output_type": "execute_result"
        }
      ],
      "execution_count": null,
      "block_group": "d6abafdef7b1400e99b9fe4682095d46"
    },
    {
      "cell_type": "code",
      "source": "merged1.loc[merged1.duplicated(subset=['identifier'])]",
      "metadata": {
        "cell_id": "5594ad2137c345efac62c685cb9572a1",
        "deepnote_cell_type": "code"
      },
      "outputs": [
        {
          "data": {
            "text/html": "<div>\n<style scoped>\n    .dataframe tbody tr th:only-of-type {\n        vertical-align: middle;\n    }\n\n    .dataframe tbody tr th {\n        vertical-align: top;\n    }\n\n    .dataframe thead th {\n        text-align: right;\n    }\n</style>\n<table border=\"1\" class=\"dataframe\">\n  <thead>\n    <tr style=\"text-align: right;\">\n      <th></th>\n      <th>ID_1</th>\n      <th>ID_2</th>\n      <th>ID_1alt</th>\n      <th>ID_2alt</th>\n      <th>identifier</th>\n    </tr>\n  </thead>\n  <tbody>\n    <tr>\n      <th>15521</th>\n      <td>EMA-NGA</td>\n      <td>AAA-NGA</td>\n      <td>EMA-NGA</td>\n      <td>AAA-NGA</td>\n      <td>AAA-NGA-EMA-NGA</td>\n    </tr>\n    <tr>\n      <th>15522</th>\n      <td>OKE-NGA</td>\n      <td>AAA-NGA</td>\n      <td>OKE-NGA</td>\n      <td>AAA-NGA</td>\n      <td>AAA-NGA-OKE-NGA</td>\n    </tr>\n    <tr>\n      <th>15523</th>\n      <td>JID-NGA</td>\n      <td>AAB-NGA</td>\n      <td>JID-NGA</td>\n      <td>AAB-NGA</td>\n      <td>AAB-NGA-JID-NGA</td>\n    </tr>\n    <tr>\n      <th>15524</th>\n      <td>RIN-NGA</td>\n      <td>AAB-NGA</td>\n      <td>RIN-NGA</td>\n      <td>AAB-NGA</td>\n      <td>AAB-NGA-RIN-NGA</td>\n    </tr>\n    <tr>\n      <th>15525</th>\n      <td>TDV-NGA</td>\n      <td>AAB-NGA</td>\n      <td>TDV-NGA</td>\n      <td>AAB-NGA</td>\n      <td>AAB-NGA-TDV-NGA</td>\n    </tr>\n    <tr>\n      <th>...</th>\n      <td>...</td>\n      <td>...</td>\n      <td>...</td>\n      <td>...</td>\n      <td>...</td>\n    </tr>\n    <tr>\n      <th>31037</th>\n      <td>YUE-CHN</td>\n      <td>ZYN-CHN</td>\n      <td>YUE-CHN</td>\n      <td>ZYN-CHN</td>\n      <td>ZYN-CHN-YUE-CHN</td>\n    </tr>\n    <tr>\n      <th>31038</th>\n      <td>CMN-CHN</td>\n      <td>ZZJ-CHN</td>\n      <td>CMN-CHN</td>\n      <td>ZZJ-CHN</td>\n      <td>ZZJ-CHN-CMN-CHN</td>\n    </tr>\n    <tr>\n      <th>31039</th>\n      <td>IUM-CHN</td>\n      <td>ZZJ-CHN</td>\n      <td>IUM-CHN</td>\n      <td>ZZJ-CHN</td>\n      <td>ZZJ-CHN-IUM-CHN</td>\n    </tr>\n    <tr>\n      <th>31040</th>\n      <td>TYZ-VNM</td>\n      <td>ZZJ-CHN</td>\n      <td>TYZ-VNM</td>\n      <td>ZZJ-CHN</td>\n      <td>ZZJ-CHN-TYZ-VNM</td>\n    </tr>\n    <tr>\n      <th>31041</th>\n      <td>ZYN-CHN</td>\n      <td>ZZJ-CHN</td>\n      <td>ZYN-CHN</td>\n      <td>ZZJ-CHN</td>\n      <td>ZZJ-CHN-ZYN-CHN</td>\n    </tr>\n  </tbody>\n</table>\n<p>15521 rows × 5 columns</p>\n</div>",
            "text/plain": "          ID_1     ID_2  ID_1alt  ID_2alt       identifier\n15521  EMA-NGA  AAA-NGA  EMA-NGA  AAA-NGA  AAA-NGA-EMA-NGA\n15522  OKE-NGA  AAA-NGA  OKE-NGA  AAA-NGA  AAA-NGA-OKE-NGA\n15523  JID-NGA  AAB-NGA  JID-NGA  AAB-NGA  AAB-NGA-JID-NGA\n15524  RIN-NGA  AAB-NGA  RIN-NGA  AAB-NGA  AAB-NGA-RIN-NGA\n15525  TDV-NGA  AAB-NGA  TDV-NGA  AAB-NGA  AAB-NGA-TDV-NGA\n...        ...      ...      ...      ...              ...\n31037  YUE-CHN  ZYN-CHN  YUE-CHN  ZYN-CHN  ZYN-CHN-YUE-CHN\n31038  CMN-CHN  ZZJ-CHN  CMN-CHN  ZZJ-CHN  ZZJ-CHN-CMN-CHN\n31039  IUM-CHN  ZZJ-CHN  IUM-CHN  ZZJ-CHN  ZZJ-CHN-IUM-CHN\n31040  TYZ-VNM  ZZJ-CHN  TYZ-VNM  ZZJ-CHN  ZZJ-CHN-TYZ-VNM\n31041  ZYN-CHN  ZZJ-CHN  ZYN-CHN  ZZJ-CHN  ZZJ-CHN-ZYN-CHN\n\n[15521 rows x 5 columns]"
          },
          "execution_count": 46,
          "metadata": {},
          "output_type": "execute_result"
        }
      ],
      "execution_count": null,
      "block_group": "2deadbf4dae648ea99794a3f59590eca"
    },
    {
      "cell_type": "code",
      "source": "dfor[['ID_1', 'ID_2', 'ID_1alt', 'ID_2alt', 'identifier']].merge(borders_geo[['ID_1', 'ID_2']], how='left')",
      "metadata": {
        "cell_id": "976803231ab7492385ece755af43adcc",
        "deepnote_cell_type": "code"
      },
      "outputs": [
        {
          "data": {
            "text/html": "<div>\n<style scoped>\n    .dataframe tbody tr th:only-of-type {\n        vertical-align: middle;\n    }\n\n    .dataframe tbody tr th {\n        vertical-align: top;\n    }\n\n    .dataframe thead th {\n        text-align: right;\n    }\n</style>\n<table border=\"1\" class=\"dataframe\">\n  <thead>\n    <tr style=\"text-align: right;\">\n      <th></th>\n      <th>ID_1</th>\n      <th>ID_2</th>\n      <th>ID_1alt</th>\n      <th>ID_2alt</th>\n      <th>identifier</th>\n    </tr>\n  </thead>\n  <tbody>\n    <tr>\n      <th>0</th>\n      <td>AAA-NGA</td>\n      <td>EMA-NGA</td>\n      <td>EMA-NGA</td>\n      <td>AAA-NGA</td>\n      <td>AAA-NGA-EMA-NGA</td>\n    </tr>\n    <tr>\n      <th>1</th>\n      <td>AAA-NGA</td>\n      <td>OKE-NGA</td>\n      <td>OKE-NGA</td>\n      <td>AAA-NGA</td>\n      <td>AAA-NGA-OKE-NGA</td>\n    </tr>\n    <tr>\n      <th>2</th>\n      <td>AAB-NGA</td>\n      <td>JID-NGA</td>\n      <td>JID-NGA</td>\n      <td>AAB-NGA</td>\n      <td>AAB-NGA-JID-NGA</td>\n    </tr>\n    <tr>\n      <th>3</th>\n      <td>AAB-NGA</td>\n      <td>RIN-NGA</td>\n      <td>RIN-NGA</td>\n      <td>AAB-NGA</td>\n      <td>AAB-NGA-RIN-NGA</td>\n    </tr>\n    <tr>\n      <th>4</th>\n      <td>AAB-NGA</td>\n      <td>TDV-NGA</td>\n      <td>TDV-NGA</td>\n      <td>AAB-NGA</td>\n      <td>AAB-NGA-TDV-NGA</td>\n    </tr>\n    <tr>\n      <th>...</th>\n      <td>...</td>\n      <td>...</td>\n      <td>...</td>\n      <td>...</td>\n      <td>...</td>\n    </tr>\n    <tr>\n      <th>15598</th>\n      <td>ZYN-CHN</td>\n      <td>YUE-CHN</td>\n      <td>YUE-CHN</td>\n      <td>ZYN-CHN</td>\n      <td>ZYN-CHN-YUE-CHN</td>\n    </tr>\n    <tr>\n      <th>15599</th>\n      <td>ZZJ-CHN</td>\n      <td>CMN-CHN</td>\n      <td>CMN-CHN</td>\n      <td>ZZJ-CHN</td>\n      <td>ZZJ-CHN-CMN-CHN</td>\n    </tr>\n    <tr>\n      <th>15600</th>\n      <td>ZZJ-CHN</td>\n      <td>IUM-CHN</td>\n      <td>IUM-CHN</td>\n      <td>ZZJ-CHN</td>\n      <td>ZZJ-CHN-IUM-CHN</td>\n    </tr>\n    <tr>\n      <th>15601</th>\n      <td>ZZJ-CHN</td>\n      <td>TYZ-VNM</td>\n      <td>TYZ-VNM</td>\n      <td>ZZJ-CHN</td>\n      <td>ZZJ-CHN-TYZ-VNM</td>\n    </tr>\n    <tr>\n      <th>15602</th>\n      <td>ZZJ-CHN</td>\n      <td>ZYN-CHN</td>\n      <td>ZYN-CHN</td>\n      <td>ZZJ-CHN</td>\n      <td>ZZJ-CHN-ZYN-CHN</td>\n    </tr>\n  </tbody>\n</table>\n<p>15603 rows × 5 columns</p>\n</div>",
            "text/plain": "          ID_1     ID_2  ID_1alt  ID_2alt       identifier\n0      AAA-NGA  EMA-NGA  EMA-NGA  AAA-NGA  AAA-NGA-EMA-NGA\n1      AAA-NGA  OKE-NGA  OKE-NGA  AAA-NGA  AAA-NGA-OKE-NGA\n2      AAB-NGA  JID-NGA  JID-NGA  AAB-NGA  AAB-NGA-JID-NGA\n3      AAB-NGA  RIN-NGA  RIN-NGA  AAB-NGA  AAB-NGA-RIN-NGA\n4      AAB-NGA  TDV-NGA  TDV-NGA  AAB-NGA  AAB-NGA-TDV-NGA\n...        ...      ...      ...      ...              ...\n15598  ZYN-CHN  YUE-CHN  YUE-CHN  ZYN-CHN  ZYN-CHN-YUE-CHN\n15599  ZZJ-CHN  CMN-CHN  CMN-CHN  ZZJ-CHN  ZZJ-CHN-CMN-CHN\n15600  ZZJ-CHN  IUM-CHN  IUM-CHN  ZZJ-CHN  ZZJ-CHN-IUM-CHN\n15601  ZZJ-CHN  TYZ-VNM  TYZ-VNM  ZZJ-CHN  ZZJ-CHN-TYZ-VNM\n15602  ZZJ-CHN  ZYN-CHN  ZYN-CHN  ZZJ-CHN  ZZJ-CHN-ZYN-CHN\n\n[15603 rows x 5 columns]"
          },
          "execution_count": 47,
          "metadata": {},
          "output_type": "execute_result"
        }
      ],
      "execution_count": null,
      "block_group": "754013190d634bb6b027028444bda549"
    },
    {
      "cell_type": "code",
      "source": "dfor[['ID_1', 'ID_2', 'identifier']].merge(non_repeated_pairs[['ID_1', 'ID_2']])",
      "metadata": {
        "cell_id": "75329cac0f67480e83ce1779d5be6c4a",
        "deepnote_cell_type": "code"
      },
      "outputs": [
        {
          "data": {
            "text/html": "<div>\n<style scoped>\n    .dataframe tbody tr th:only-of-type {\n        vertical-align: middle;\n    }\n\n    .dataframe tbody tr th {\n        vertical-align: top;\n    }\n\n    .dataframe thead th {\n        text-align: right;\n    }\n</style>\n<table border=\"1\" class=\"dataframe\">\n  <thead>\n    <tr style=\"text-align: right;\">\n      <th></th>\n      <th>ID_1</th>\n      <th>ID_2</th>\n      <th>identifier</th>\n    </tr>\n  </thead>\n  <tbody>\n    <tr>\n      <th>0</th>\n      <td>AAL-CMR</td>\n      <td>MXF-CMR</td>\n      <td>AAL-CMR-MXF-CMR</td>\n    </tr>\n    <tr>\n      <th>1</th>\n      <td>AAR-ETH</td>\n      <td>AMH-ETH</td>\n      <td>AAR-ETH-AMH-ETH</td>\n    </tr>\n    <tr>\n      <th>2</th>\n      <td>AAR-ETH</td>\n      <td>GAX-ETH</td>\n      <td>AAR-ETH-GAX-ETH</td>\n    </tr>\n    <tr>\n      <th>3</th>\n      <td>AAR-ETH</td>\n      <td>SOM-ETH</td>\n      <td>AAR-ETH-SOM-ETH</td>\n    </tr>\n    <tr>\n      <th>4</th>\n      <td>AAW-PNG</td>\n      <td>LMG-PNG</td>\n      <td>AAW-PNG-LMG-PNG</td>\n    </tr>\n    <tr>\n      <th>...</th>\n      <td>...</td>\n      <td>...</td>\n      <td>...</td>\n    </tr>\n    <tr>\n      <th>2589</th>\n      <td>ZYB-CHN</td>\n      <td>ZYN-CHN</td>\n      <td>ZYB-CHN-ZYN-CHN</td>\n    </tr>\n    <tr>\n      <th>2590</th>\n      <td>ZYB-CHN</td>\n      <td>ZZJ-CHN</td>\n      <td>ZYB-CHN-ZZJ-CHN</td>\n    </tr>\n    <tr>\n      <th>2591</th>\n      <td>ZYJ-CHN</td>\n      <td>ZGN-CHN</td>\n      <td>ZYJ-CHN-ZGN-CHN</td>\n    </tr>\n    <tr>\n      <th>2592</th>\n      <td>ZYJ-CHN</td>\n      <td>ZZJ-CHN</td>\n      <td>ZYJ-CHN-ZZJ-CHN</td>\n    </tr>\n    <tr>\n      <th>2593</th>\n      <td>ZZJ-CHN</td>\n      <td>ZYN-CHN</td>\n      <td>ZZJ-CHN-ZYN-CHN</td>\n    </tr>\n  </tbody>\n</table>\n<p>2594 rows × 3 columns</p>\n</div>",
            "text/plain": "         ID_1     ID_2       identifier\n0     AAL-CMR  MXF-CMR  AAL-CMR-MXF-CMR\n1     AAR-ETH  AMH-ETH  AAR-ETH-AMH-ETH\n2     AAR-ETH  GAX-ETH  AAR-ETH-GAX-ETH\n3     AAR-ETH  SOM-ETH  AAR-ETH-SOM-ETH\n4     AAW-PNG  LMG-PNG  AAW-PNG-LMG-PNG\n...       ...      ...              ...\n2589  ZYB-CHN  ZYN-CHN  ZYB-CHN-ZYN-CHN\n2590  ZYB-CHN  ZZJ-CHN  ZYB-CHN-ZZJ-CHN\n2591  ZYJ-CHN  ZGN-CHN  ZYJ-CHN-ZGN-CHN\n2592  ZYJ-CHN  ZZJ-CHN  ZYJ-CHN-ZZJ-CHN\n2593  ZZJ-CHN  ZYN-CHN  ZZJ-CHN-ZYN-CHN\n\n[2594 rows x 3 columns]"
          },
          "execution_count": 48,
          "metadata": {},
          "output_type": "execute_result"
        }
      ],
      "execution_count": null,
      "block_group": "799e8a8668554dc9a63c2c2fe0919fce"
    },
    {
      "cell_type": "code",
      "source": "dfor[['ID_1alt', 'ID_2alt', 'identifier']].merge(borders_geo[['ID_1', 'ID_2']], left_on=['ID_1alt', 'ID_2alt'], right_on=['ID_1', 'ID_2'])",
      "metadata": {
        "cell_id": "b5b16c62a54d44a98d7b56d42944cec8",
        "deepnote_cell_type": "code"
      },
      "outputs": [
        {
          "data": {
            "text/html": "<div>\n<style scoped>\n    .dataframe tbody tr th:only-of-type {\n        vertical-align: middle;\n    }\n\n    .dataframe tbody tr th {\n        vertical-align: top;\n    }\n\n    .dataframe thead th {\n        text-align: right;\n    }\n</style>\n<table border=\"1\" class=\"dataframe\">\n  <thead>\n    <tr style=\"text-align: right;\">\n      <th></th>\n      <th>ID_1alt</th>\n      <th>ID_2alt</th>\n      <th>identifier</th>\n      <th>ID_1</th>\n      <th>ID_2</th>\n    </tr>\n  </thead>\n  <tbody>\n    <tr>\n      <th>0</th>\n      <td>EMA-NGA</td>\n      <td>AAA-NGA</td>\n      <td>AAA-NGA-EMA-NGA</td>\n      <td>EMA-NGA</td>\n      <td>AAA-NGA</td>\n    </tr>\n    <tr>\n      <th>1</th>\n      <td>OKE-NGA</td>\n      <td>AAA-NGA</td>\n      <td>AAA-NGA-OKE-NGA</td>\n      <td>OKE-NGA</td>\n      <td>AAA-NGA</td>\n    </tr>\n    <tr>\n      <th>2</th>\n      <td>JID-NGA</td>\n      <td>AAB-NGA</td>\n      <td>AAB-NGA-JID-NGA</td>\n      <td>JID-NGA</td>\n      <td>AAB-NGA</td>\n    </tr>\n    <tr>\n      <th>3</th>\n      <td>RIN-NGA</td>\n      <td>AAB-NGA</td>\n      <td>AAB-NGA-RIN-NGA</td>\n      <td>RIN-NGA</td>\n      <td>AAB-NGA</td>\n    </tr>\n    <tr>\n      <th>4</th>\n      <td>TDV-NGA</td>\n      <td>AAB-NGA</td>\n      <td>AAB-NGA-TDV-NGA</td>\n      <td>TDV-NGA</td>\n      <td>AAB-NGA</td>\n    </tr>\n    <tr>\n      <th>...</th>\n      <td>...</td>\n      <td>...</td>\n      <td>...</td>\n      <td>...</td>\n      <td>...</td>\n    </tr>\n    <tr>\n      <th>15516</th>\n      <td>YUE-CHN</td>\n      <td>ZYN-CHN</td>\n      <td>ZYN-CHN-YUE-CHN</td>\n      <td>YUE-CHN</td>\n      <td>ZYN-CHN</td>\n    </tr>\n    <tr>\n      <th>15517</th>\n      <td>CMN-CHN</td>\n      <td>ZZJ-CHN</td>\n      <td>ZZJ-CHN-CMN-CHN</td>\n      <td>CMN-CHN</td>\n      <td>ZZJ-CHN</td>\n    </tr>\n    <tr>\n      <th>15518</th>\n      <td>IUM-CHN</td>\n      <td>ZZJ-CHN</td>\n      <td>ZZJ-CHN-IUM-CHN</td>\n      <td>IUM-CHN</td>\n      <td>ZZJ-CHN</td>\n    </tr>\n    <tr>\n      <th>15519</th>\n      <td>TYZ-VNM</td>\n      <td>ZZJ-CHN</td>\n      <td>ZZJ-CHN-TYZ-VNM</td>\n      <td>TYZ-VNM</td>\n      <td>ZZJ-CHN</td>\n    </tr>\n    <tr>\n      <th>15520</th>\n      <td>ZYN-CHN</td>\n      <td>ZZJ-CHN</td>\n      <td>ZZJ-CHN-ZYN-CHN</td>\n      <td>ZYN-CHN</td>\n      <td>ZZJ-CHN</td>\n    </tr>\n  </tbody>\n</table>\n<p>15521 rows × 5 columns</p>\n</div>",
            "text/plain": "       ID_1alt  ID_2alt       identifier     ID_1     ID_2\n0      EMA-NGA  AAA-NGA  AAA-NGA-EMA-NGA  EMA-NGA  AAA-NGA\n1      OKE-NGA  AAA-NGA  AAA-NGA-OKE-NGA  OKE-NGA  AAA-NGA\n2      JID-NGA  AAB-NGA  AAB-NGA-JID-NGA  JID-NGA  AAB-NGA\n3      RIN-NGA  AAB-NGA  AAB-NGA-RIN-NGA  RIN-NGA  AAB-NGA\n4      TDV-NGA  AAB-NGA  AAB-NGA-TDV-NGA  TDV-NGA  AAB-NGA\n...        ...      ...              ...      ...      ...\n15516  YUE-CHN  ZYN-CHN  ZYN-CHN-YUE-CHN  YUE-CHN  ZYN-CHN\n15517  CMN-CHN  ZZJ-CHN  ZZJ-CHN-CMN-CHN  CMN-CHN  ZZJ-CHN\n15518  IUM-CHN  ZZJ-CHN  ZZJ-CHN-IUM-CHN  IUM-CHN  ZZJ-CHN\n15519  TYZ-VNM  ZZJ-CHN  ZZJ-CHN-TYZ-VNM  TYZ-VNM  ZZJ-CHN\n15520  ZYN-CHN  ZZJ-CHN  ZZJ-CHN-ZYN-CHN  ZYN-CHN  ZZJ-CHN\n\n[15521 rows x 5 columns]"
          },
          "execution_count": 49,
          "metadata": {},
          "output_type": "execute_result"
        }
      ],
      "execution_count": null,
      "block_group": "724ee03aa3b3451fa144a793830e7940"
    },
    {
      "cell_type": "code",
      "source": "dfor[['ID_1alt', 'ID_2alt', 'identifier']].merge(non_repeated_pairs[['ID_1', 'ID_2']], left_on=['ID_1alt', 'ID_2alt'], right_on=['ID_1', 'ID_2'])",
      "metadata": {
        "cell_id": "683c6d9ec470407ca7eed14383b10573",
        "deepnote_cell_type": "code"
      },
      "outputs": [
        {
          "data": {
            "text/html": "<div>\n<style scoped>\n    .dataframe tbody tr th:only-of-type {\n        vertical-align: middle;\n    }\n\n    .dataframe tbody tr th {\n        vertical-align: top;\n    }\n\n    .dataframe thead th {\n        text-align: right;\n    }\n</style>\n<table border=\"1\" class=\"dataframe\">\n  <thead>\n    <tr style=\"text-align: right;\">\n      <th></th>\n      <th>ID_1alt</th>\n      <th>ID_2alt</th>\n      <th>identifier</th>\n      <th>ID_1</th>\n      <th>ID_2</th>\n    </tr>\n  </thead>\n  <tbody>\n    <tr>\n      <th>0</th>\n      <td>EMA-NGA</td>\n      <td>AAA-NGA</td>\n      <td>AAA-NGA-EMA-NGA</td>\n      <td>EMA-NGA</td>\n      <td>AAA-NGA</td>\n    </tr>\n    <tr>\n      <th>1</th>\n      <td>OKE-NGA</td>\n      <td>AAA-NGA</td>\n      <td>AAA-NGA-OKE-NGA</td>\n      <td>OKE-NGA</td>\n      <td>AAA-NGA</td>\n    </tr>\n    <tr>\n      <th>2</th>\n      <td>JID-NGA</td>\n      <td>AAB-NGA</td>\n      <td>AAB-NGA-JID-NGA</td>\n      <td>JID-NGA</td>\n      <td>AAB-NGA</td>\n    </tr>\n    <tr>\n      <th>3</th>\n      <td>RIN-NGA</td>\n      <td>AAB-NGA</td>\n      <td>AAB-NGA-RIN-NGA</td>\n      <td>RIN-NGA</td>\n      <td>AAB-NGA</td>\n    </tr>\n    <tr>\n      <th>4</th>\n      <td>TDV-NGA</td>\n      <td>AAB-NGA</td>\n      <td>AAB-NGA-TDV-NGA</td>\n      <td>TDV-NGA</td>\n      <td>AAB-NGA</td>\n    </tr>\n    <tr>\n      <th>...</th>\n      <td>...</td>\n      <td>...</td>\n      <td>...</td>\n      <td>...</td>\n      <td>...</td>\n    </tr>\n    <tr>\n      <th>14274</th>\n      <td>TYZ-VNM</td>\n      <td>ZYN-CHN</td>\n      <td>ZYN-CHN-TYZ-VNM</td>\n      <td>TYZ-VNM</td>\n      <td>ZYN-CHN</td>\n    </tr>\n    <tr>\n      <th>14275</th>\n      <td>YUE-CHN</td>\n      <td>ZYN-CHN</td>\n      <td>ZYN-CHN-YUE-CHN</td>\n      <td>YUE-CHN</td>\n      <td>ZYN-CHN</td>\n    </tr>\n    <tr>\n      <th>14276</th>\n      <td>CMN-CHN</td>\n      <td>ZZJ-CHN</td>\n      <td>ZZJ-CHN-CMN-CHN</td>\n      <td>CMN-CHN</td>\n      <td>ZZJ-CHN</td>\n    </tr>\n    <tr>\n      <th>14277</th>\n      <td>IUM-CHN</td>\n      <td>ZZJ-CHN</td>\n      <td>ZZJ-CHN-IUM-CHN</td>\n      <td>IUM-CHN</td>\n      <td>ZZJ-CHN</td>\n    </tr>\n    <tr>\n      <th>14278</th>\n      <td>TYZ-VNM</td>\n      <td>ZZJ-CHN</td>\n      <td>ZZJ-CHN-TYZ-VNM</td>\n      <td>TYZ-VNM</td>\n      <td>ZZJ-CHN</td>\n    </tr>\n  </tbody>\n</table>\n<p>14279 rows × 5 columns</p>\n</div>",
            "text/plain": "       ID_1alt  ID_2alt       identifier     ID_1     ID_2\n0      EMA-NGA  AAA-NGA  AAA-NGA-EMA-NGA  EMA-NGA  AAA-NGA\n1      OKE-NGA  AAA-NGA  AAA-NGA-OKE-NGA  OKE-NGA  AAA-NGA\n2      JID-NGA  AAB-NGA  AAB-NGA-JID-NGA  JID-NGA  AAB-NGA\n3      RIN-NGA  AAB-NGA  AAB-NGA-RIN-NGA  RIN-NGA  AAB-NGA\n4      TDV-NGA  AAB-NGA  AAB-NGA-TDV-NGA  TDV-NGA  AAB-NGA\n...        ...      ...              ...      ...      ...\n14274  TYZ-VNM  ZYN-CHN  ZYN-CHN-TYZ-VNM  TYZ-VNM  ZYN-CHN\n14275  YUE-CHN  ZYN-CHN  ZYN-CHN-YUE-CHN  YUE-CHN  ZYN-CHN\n14276  CMN-CHN  ZZJ-CHN  ZZJ-CHN-CMN-CHN  CMN-CHN  ZZJ-CHN\n14277  IUM-CHN  ZZJ-CHN  ZZJ-CHN-IUM-CHN  IUM-CHN  ZZJ-CHN\n14278  TYZ-VNM  ZZJ-CHN  ZZJ-CHN-TYZ-VNM  TYZ-VNM  ZZJ-CHN\n\n[14279 rows x 5 columns]"
          },
          "execution_count": 50,
          "metadata": {},
          "output_type": "execute_result"
        }
      ],
      "execution_count": null,
      "block_group": "8f2dee80bc864fcf93ffa09b3c9798c4"
    },
    {
      "cell_type": "code",
      "source": "%%time\nnon_repeated_pairs_or = drop_repeated(dfor[['ID_1', 'ID_2', 'identifier']], ['ID_1', 'ID_2'])\nnon_repeated_pairs_or",
      "metadata": {
        "cell_id": "0f2d4e41155f472dbe7a2b63ddcb8269",
        "deepnote_cell_type": "code"
      },
      "outputs": [
        {
          "name": "stdout",
          "output_type": "stream",
          "text": "CPU times: user 4.61 s, sys: 51.8 ms, total: 4.66 s\nWall time: 4.57 s\n"
        },
        {
          "data": {
            "text/html": "<div>\n<style scoped>\n    .dataframe tbody tr th:only-of-type {\n        vertical-align: middle;\n    }\n\n    .dataframe tbody tr th {\n        vertical-align: top;\n    }\n\n    .dataframe thead th {\n        text-align: right;\n    }\n</style>\n<table border=\"1\" class=\"dataframe\">\n  <thead>\n    <tr style=\"text-align: right;\">\n      <th></th>\n      <th>ID_1</th>\n      <th>ID_2</th>\n    </tr>\n  </thead>\n  <tbody>\n    <tr>\n      <th>0</th>\n      <td>AAA-NGA</td>\n      <td>EMA-NGA</td>\n    </tr>\n    <tr>\n      <th>1</th>\n      <td>AAA-NGA</td>\n      <td>OKE-NGA</td>\n    </tr>\n    <tr>\n      <th>2</th>\n      <td>AAB-NGA</td>\n      <td>JID-NGA</td>\n    </tr>\n    <tr>\n      <th>3</th>\n      <td>AAB-NGA</td>\n      <td>RIN-NGA</td>\n    </tr>\n    <tr>\n      <th>4</th>\n      <td>AAB-NGA</td>\n      <td>TDV-NGA</td>\n    </tr>\n    <tr>\n      <th>...</th>\n      <td>...</td>\n      <td>...</td>\n    </tr>\n    <tr>\n      <th>15598</th>\n      <td>ZYN-CHN</td>\n      <td>YUE-CHN</td>\n    </tr>\n    <tr>\n      <th>15599</th>\n      <td>ZZJ-CHN</td>\n      <td>CMN-CHN</td>\n    </tr>\n    <tr>\n      <th>15600</th>\n      <td>ZZJ-CHN</td>\n      <td>IUM-CHN</td>\n    </tr>\n    <tr>\n      <th>15601</th>\n      <td>ZZJ-CHN</td>\n      <td>TYZ-VNM</td>\n    </tr>\n    <tr>\n      <th>15602</th>\n      <td>ZZJ-CHN</td>\n      <td>ZYN-CHN</td>\n    </tr>\n  </tbody>\n</table>\n<p>15603 rows × 2 columns</p>\n</div>",
            "text/plain": "          ID_1     ID_2\n0      AAA-NGA  EMA-NGA\n1      AAA-NGA  OKE-NGA\n2      AAB-NGA  JID-NGA\n3      AAB-NGA  RIN-NGA\n4      AAB-NGA  TDV-NGA\n...        ...      ...\n15598  ZYN-CHN  YUE-CHN\n15599  ZZJ-CHN  CMN-CHN\n15600  ZZJ-CHN  IUM-CHN\n15601  ZZJ-CHN  TYZ-VNM\n15602  ZZJ-CHN  ZYN-CHN\n\n[15603 rows x 2 columns]"
          },
          "execution_count": 51,
          "metadata": {},
          "output_type": "execute_result"
        }
      ],
      "execution_count": null,
      "block_group": "050bef7b7cbf404baabce89600845ca7"
    },
    {
      "cell_type": "markdown",
      "source": "## Identify missing indentifiers",
      "metadata": {
        "user_expressions": [],
        "cell_id": "0c6a2f617d0e4a71bf8862e704cc743e",
        "deepnote_cell_type": "markdown"
      },
      "block_group": "743ca04bb42f4fb3845aa2f5baa3559b"
    },
    {
      "cell_type": "code",
      "source": "missing_or = list(set(borders_geo.identifier).difference(dfor.identifier))\nlen(missing_or)",
      "metadata": {
        "cell_id": "b4550bc3cdeb4def8e87e5355c0bdbbc",
        "deepnote_cell_type": "code"
      },
      "outputs": [
        {
          "data": {
            "text/plain": "50160"
          },
          "execution_count": 52,
          "metadata": {},
          "output_type": "execute_result"
        }
      ],
      "execution_count": null,
      "block_group": "02f7b6f280604a1ba00de386c49e6593"
    },
    {
      "cell_type": "code",
      "source": "borders_geo.shape[0] - merge_iden.shape[0]",
      "metadata": {
        "cell_id": "d24035d0c95243c08ad9d3ef2cf69c22",
        "deepnote_cell_type": "code"
      },
      "outputs": [
        {
          "data": {
            "text/plain": "50160"
          },
          "execution_count": 53,
          "metadata": {},
          "output_type": "execute_result"
        }
      ],
      "execution_count": null,
      "block_group": "559affbba8bb407abb83c513857e9f40"
    },
    {
      "cell_type": "code",
      "source": "missing = list(set(dfor.identifier).difference(borders_geo.identifier))\nlen(missing)",
      "metadata": {
        "cell_id": "0e70303eb20048fbb2429452ccff3dc2",
        "deepnote_cell_type": "code"
      },
      "outputs": [
        {
          "data": {
            "text/plain": "82"
          },
          "execution_count": 54,
          "metadata": {},
          "output_type": "execute_result"
        }
      ],
      "execution_count": null,
      "block_group": "78e7a71e479146b5ac26ce0d14194dbd"
    },
    {
      "cell_type": "code",
      "source": "missing[0]",
      "metadata": {
        "cell_id": "e1a503b0e060464aa29925f0ab8f5eb4",
        "deepnote_cell_type": "code"
      },
      "outputs": [
        {
          "data": {
            "text/plain": "'GUW-BEN-GUW-NGA'"
          },
          "execution_count": 55,
          "metadata": {},
          "output_type": "execute_result"
        }
      ],
      "execution_count": null,
      "block_group": "45d377c6788b45bc8d8c630c443c3671"
    },
    {
      "cell_type": "code",
      "source": "pairs.loc[pairs.ID_1==missing[0][:7], ['ID_1', 'ID_2']]",
      "metadata": {
        "cell_id": "0d7782a01c964d94bfac1f7891dc0fca",
        "deepnote_cell_type": "code"
      },
      "outputs": [
        {
          "data": {
            "text/html": "<div>\n<style scoped>\n    .dataframe tbody tr th:only-of-type {\n        vertical-align: middle;\n    }\n\n    .dataframe tbody tr th {\n        vertical-align: top;\n    }\n\n    .dataframe thead th {\n        text-align: right;\n    }\n</style>\n<table border=\"1\" class=\"dataframe\">\n  <thead>\n    <tr style=\"text-align: right;\">\n      <th></th>\n      <th>ID_1</th>\n      <th>ID_2</th>\n    </tr>\n  </thead>\n  <tbody>\n    <tr>\n      <th>37420</th>\n      <td>GUW-BEN</td>\n      <td>YOR-NGA</td>\n    </tr>\n    <tr>\n      <th>37960</th>\n      <td>GUW-BEN</td>\n      <td>FON-BEN</td>\n    </tr>\n    <tr>\n      <th>38203</th>\n      <td>GUW-BEN</td>\n      <td>AYB-BEN</td>\n    </tr>\n    <tr>\n      <th>38206</th>\n      <td>GUW-BEN</td>\n      <td>NQG-BEN</td>\n    </tr>\n    <tr>\n      <th>39021</th>\n      <td>GUW-BEN</td>\n      <td>WEM-BEN</td>\n    </tr>\n    <tr>\n      <th>39157</th>\n      <td>GUW-BEN</td>\n      <td>XWL-BEN</td>\n    </tr>\n    <tr>\n      <th>39340</th>\n      <td>GUW-BEN</td>\n      <td>TFI-BEN</td>\n    </tr>\n    <tr>\n      <th>39660</th>\n      <td>GUW-BEN</td>\n      <td>GBX-BEN</td>\n    </tr>\n    <tr>\n      <th>40174</th>\n      <td>GUW-BEN</td>\n      <td>GBH-BEN</td>\n    </tr>\n  </tbody>\n</table>\n</div>",
            "text/plain": "          ID_1     ID_2\n37420  GUW-BEN  YOR-NGA\n37960  GUW-BEN  FON-BEN\n38203  GUW-BEN  AYB-BEN\n38206  GUW-BEN  NQG-BEN\n39021  GUW-BEN  WEM-BEN\n39157  GUW-BEN  XWL-BEN\n39340  GUW-BEN  TFI-BEN\n39660  GUW-BEN  GBX-BEN\n40174  GUW-BEN  GBH-BEN"
          },
          "execution_count": 56,
          "metadata": {},
          "output_type": "execute_result"
        }
      ],
      "execution_count": null,
      "block_group": "7c38bcd5ae4c45c7a532dc226ebe87a9"
    },
    {
      "cell_type": "code",
      "source": "ethno.loc[ethno.ID==missing[0][:7]]",
      "metadata": {
        "cell_id": "34c54a73e35543b686756b97814ac592",
        "deepnote_cell_type": "code"
      },
      "outputs": [
        {
          "data": {
            "text/html": "<div>\n<style scoped>\n    .dataframe tbody tr th:only-of-type {\n        vertical-align: middle;\n    }\n\n    .dataframe tbody tr th {\n        vertical-align: top;\n    }\n\n    .dataframe thead th {\n        text-align: right;\n    }\n</style>\n<table border=\"1\" class=\"dataframe\">\n  <thead>\n    <tr style=\"text-align: right;\">\n      <th></th>\n      <th>ID</th>\n      <th>ID_ISO_A3</th>\n      <th>ID_ISO_A2</th>\n      <th>ID_FIPS</th>\n      <th>NAM_LABEL</th>\n      <th>NAME_PROP</th>\n      <th>NAME2</th>\n      <th>NAM_ANSI</th>\n      <th>CNT</th>\n      <th>C1</th>\n      <th>POP</th>\n      <th>LMP_POP1</th>\n      <th>G</th>\n      <th>LMP_CLASS</th>\n      <th>FAMILYPROP</th>\n      <th>FAMILY</th>\n      <th>LMP_C1</th>\n      <th>LANG_ISO</th>\n      <th>geometry</th>\n    </tr>\n  </thead>\n  <tbody>\n    <tr>\n      <th>4239</th>\n      <td>GUW-BEN</td>\n      <td>guw-BEN</td>\n      <td>guw-bj</td>\n      <td>guw-BN</td>\n      <td>Gun</td>\n      <td>Gun</td>\n      <td>GUN</td>\n      <td>Gun</td>\n      <td>Africa</td>\n      <td>Benin</td>\n      <td>320,000 in Benin (2006)</td>\n      <td>320000</td>\n      <td>Niger-Congo, Atlantic-Congo, Volta-Congo, Kwa,...</td>\n      <td>L</td>\n      <td>Niger-Congo</td>\n      <td>NIGER-CONGO</td>\n      <td>Benin</td>\n      <td>guw</td>\n      <td>POLYGON ((2.75274 6.57108, 2.75312 6.57047, 2....</td>\n    </tr>\n  </tbody>\n</table>\n</div>",
            "text/plain": "           ID ID_ISO_A3 ID_ISO_A2 ID_FIPS NAM_LABEL NAME_PROP NAME2 NAM_ANSI     CNT     C1                      POP  LMP_POP1  \\\n4239  GUW-BEN   guw-BEN    guw-bj  guw-BN       Gun       Gun   GUN      Gun  Africa  Benin  320,000 in Benin (2006)    320000   \n\n                                                      G LMP_CLASS   FAMILYPROP       FAMILY LMP_C1 LANG_ISO  \\\n4239  Niger-Congo, Atlantic-Congo, Volta-Congo, Kwa,...         L  Niger-Congo  NIGER-CONGO  Benin      guw   \n\n                                               geometry  \n4239  POLYGON ((2.75274 6.57108, 2.75312 6.57047, 2....  "
          },
          "execution_count": 57,
          "metadata": {},
          "output_type": "execute_result"
        }
      ],
      "execution_count": null,
      "block_group": "f2b1064db71b43679dfcaaa18dd25c16"
    },
    {
      "cell_type": "code",
      "source": "ethno.loc[ethno.ID==missing[0][:7]].plot()",
      "metadata": {
        "cell_id": "5d63285e1908478db3c8e20e3bbb0b1e",
        "deepnote_cell_type": "code"
      },
      "outputs": [
        {
          "data": {
            "text/plain": "<AxesSubplot:>"
          },
          "execution_count": 58,
          "metadata": {},
          "output_type": "execute_result"
        },
        {
          "data": {
            "image/png": "[encoded data removed]",
            "text/plain": "<Figure size 640x480 with 1 Axes>"
          },
          "metadata": {},
          "output_type": "display_data"
        }
      ],
      "execution_count": null,
      "block_group": "6d33c063e56b4fa2831b9074f29d316d"
    },
    {
      "cell_type": "code",
      "source": "A = ethno.loc[ethno.ID==missing[0][:7], 'geometry'].values[0]\nB = ethno.loc[ethno.ID==missing[0][8:], 'geometry'].values[0]\nprint(A.intersects(B))\nprint(A.buffer(0.2).intersects(B))\nA.buffer(0.2).intersection(B.boundary)",
      "metadata": {
        "cell_id": "22e3c181b60343749d351170c5177eb2",
        "deepnote_cell_type": "code"
      },
      "outputs": [
        {
          "name": "stdout",
          "output_type": "stream",
          "text": "True\nTrue\n"
        },
        {
          "data": {
            "image/svg+xml": "<svg xmlns=\"http://www.w3.org/2000/svg\" xmlns:xlink=\"http://www.w3.org/1999/xlink\" width=\"100.0\" height=\"100.0\" viewBox=\"2.6965779800697867 6.359116980069768 0.2619815381154913 0.1798715809789222\" preserveAspectRatio=\"xMinYMin meet\"><g transform=\"matrix(1,0,0,-1,0,12.898105541118458)\"><polyline fill=\"none\" stroke=\"#66cc99\" stroke-width=\"0.005239630762309826\" points=\"2.901382406078074,6.39156658347204 2.870147999999972,6.388706000000013 2.853980999999976,6.3884330000000205 2.8443889999999783,6.388270999999975 2.782511999999997,6.3775210000000015 2.7287410000000136,6.372005999999999 2.722479000000021,6.371363999999971 2.7195899999999824,6.370792999999992 2.709604000000013,6.368819999999971 2.708297000000016,6.409359999999992 2.70628099999999,6.425605000000019 2.7105339999999956,6.451520000000016 2.7107149999999933,6.452606000000003 2.717429999999979,6.470749000000012 2.718330999999978,6.476607999999999 2.719303000000025,6.482934 2.7202889999999798,6.507770999999991 2.723764000000017,6.522407999999984 2.7349869999999896,6.5230490000000145 2.7509660000000054,6.523052000000007 2.7685430000000224,6.523052000000007 2.7925169999999753,6.523052000000007 2.821284999999989,6.523052000000007 2.8388590000000136,6.524407999999994 2.8580390000000193,6.528474000000017 2.882803000000024,6.528474000000017 2.9083719999999857,6.523052000000007 2.9451270000000136,6.528474000000017 2.9488564982550747,6.529285541118487\" opacity=\"0.8\" /></g></svg>",
            "text/plain": "<LINESTRING (2.901 6.392, 2.87 6.389, 2.854 6.388, 2.844 6.388, 2.783 6.378,...>"
          },
          "execution_count": 60,
          "metadata": {},
          "output_type": "execute_result"
        }
      ],
      "execution_count": null,
      "block_group": "03f49ec5f1de4b4f9ed56bb0ee37649a"
    },
    {
      "cell_type": "code",
      "source": "ethno.loc[ethno.ID==missing[0][8:]]",
      "metadata": {
        "cell_id": "10d13b55c71e403ea9cd15c5b672b552",
        "deepnote_cell_type": "code"
      },
      "outputs": [
        {
          "data": {
            "text/html": "<div>\n<style scoped>\n    .dataframe tbody tr th:only-of-type {\n        vertical-align: middle;\n    }\n\n    .dataframe tbody tr th {\n        vertical-align: top;\n    }\n\n    .dataframe thead th {\n        text-align: right;\n    }\n</style>\n<table border=\"1\" class=\"dataframe\">\n  <thead>\n    <tr style=\"text-align: right;\">\n      <th></th>\n      <th>ID</th>\n      <th>ID_ISO_A3</th>\n      <th>ID_ISO_A2</th>\n      <th>ID_FIPS</th>\n      <th>NAM_LABEL</th>\n      <th>NAME_PROP</th>\n      <th>NAME2</th>\n      <th>NAM_ANSI</th>\n      <th>CNT</th>\n      <th>C1</th>\n      <th>POP</th>\n      <th>LMP_POP1</th>\n      <th>G</th>\n      <th>LMP_CLASS</th>\n      <th>FAMILYPROP</th>\n      <th>FAMILY</th>\n      <th>LMP_C1</th>\n      <th>LANG_ISO</th>\n      <th>geometry</th>\n    </tr>\n  </thead>\n  <tbody>\n    <tr>\n      <th>3804</th>\n      <td>GUW-NGA</td>\n      <td>guw-NGA</td>\n      <td>guw-ng</td>\n      <td>guw-NI</td>\n      <td>Gun</td>\n      <td>Gun</td>\n      <td>GUN</td>\n      <td>Gun</td>\n      <td>Africa</td>\n      <td>Nigeria</td>\n      <td>259,000 in Nigeria (2000)</td>\n      <td>259000</td>\n      <td>Niger-Congo, Atlantic-Congo, Volta-Congo, Kwa,...</td>\n      <td>L</td>\n      <td>Niger-Congo</td>\n      <td>NIGER-CONGO</td>\n      <td>Nigeria</td>\n      <td>guw</td>\n      <td>POLYGON ((3.10732 6.53661, 3.11691 6.51627, 3....</td>\n    </tr>\n  </tbody>\n</table>\n</div>",
            "text/plain": "           ID ID_ISO_A3 ID_ISO_A2 ID_FIPS NAM_LABEL NAME_PROP NAME2 NAM_ANSI     CNT       C1                        POP  LMP_POP1  \\\n3804  GUW-NGA   guw-NGA    guw-ng  guw-NI       Gun       Gun   GUN      Gun  Africa  Nigeria  259,000 in Nigeria (2000)    259000   \n\n                                                      G LMP_CLASS   FAMILYPROP       FAMILY   LMP_C1 LANG_ISO  \\\n3804  Niger-Congo, Atlantic-Congo, Volta-Congo, Kwa,...         L  Niger-Congo  NIGER-CONGO  Nigeria      guw   \n\n                                               geometry  \n3804  POLYGON ((3.10732 6.53661, 3.11691 6.51627, 3....  "
          },
          "execution_count": 61,
          "metadata": {},
          "output_type": "execute_result"
        }
      ],
      "execution_count": null,
      "block_group": "a2256bbc54764aedbb1357dbb83e3b96"
    },
    {
      "cell_type": "code",
      "source": "ethno.loc[ethno.ID==missing[0][8:]].plot()",
      "metadata": {
        "cell_id": "5b3815cd1858452a9fed3002d24ca31e",
        "deepnote_cell_type": "code"
      },
      "outputs": [
        {
          "data": {
            "text/plain": "<AxesSubplot:>"
          },
          "execution_count": 62,
          "metadata": {},
          "output_type": "execute_result"
        },
        {
          "data": {
            "image/png": "[encoded data removed]",
            "text/plain": "<Figure size 640x480 with 1 Axes>"
          },
          "metadata": {},
          "output_type": "display_data"
        }
      ],
      "execution_count": null,
      "block_group": "bb8ff74f26b147948ad6cecefcb4607d"
    },
    {
      "cell_type": "code",
      "source": "ethno.loc[(ethno.ID==missing[0][:7])|(ethno.ID==missing[0][8:])].plot()",
      "metadata": {
        "cell_id": "5a9349a5b5f44e74bf92160b03d4aef0",
        "deepnote_cell_type": "code"
      },
      "outputs": [
        {
          "data": {
            "text/plain": "<AxesSubplot:>"
          },
          "execution_count": 63,
          "metadata": {},
          "output_type": "execute_result"
        },
        {
          "data": {
            "image/png": "[encoded data removed]",
            "text/plain": "<Figure size 640x480 with 1 Axes>"
          },
          "metadata": {},
          "output_type": "display_data"
        }
      ],
      "execution_count": null,
      "block_group": "674d23ed45b5466dadadb8b1e438e3c3"
    },
    {
      "cell_type": "code",
      "source": "pairs.loc[(pairs.ID_1==missing[0][:7])&(pairs.ID_2==missing[0][8:])]",
      "metadata": {
        "cell_id": "8e82ed581cbb4bc8b55da83ceedf9eb5",
        "deepnote_cell_type": "code"
      },
      "outputs": [
        {
          "data": {
            "text/html": "<div>\n<style scoped>\n    .dataframe tbody tr th:only-of-type {\n        vertical-align: middle;\n    }\n\n    .dataframe tbody tr th {\n        vertical-align: top;\n    }\n\n    .dataframe thead th {\n        text-align: right;\n    }\n</style>\n<table border=\"1\" class=\"dataframe\">\n  <thead>\n    <tr style=\"text-align: right;\">\n      <th></th>\n      <th>ID_1</th>\n      <th>ID_ISO_A3_1</th>\n      <th>ID_ISO_A2_1</th>\n      <th>ID_FIPS_1</th>\n      <th>NAM_LABEL_1</th>\n      <th>NAME_PROP_1</th>\n      <th>NAME2_1</th>\n      <th>NAM_ANSI_1</th>\n      <th>CNT_1</th>\n      <th>C1_1</th>\n      <th>...</th>\n      <th>POP_2</th>\n      <th>LMP_POP1_2</th>\n      <th>G_2</th>\n      <th>LMP_CLASS_2</th>\n      <th>FAMILYPROP_2</th>\n      <th>FAMILY_2</th>\n      <th>LMP_C1_2</th>\n      <th>LANG_ISO_2</th>\n      <th>ID</th>\n      <th>geometry_2</th>\n    </tr>\n  </thead>\n  <tbody>\n  </tbody>\n</table>\n<p>0 rows × 40 columns</p>\n</div>",
            "text/plain": "Empty DataFrame\nColumns: [ID_1, ID_ISO_A3_1, ID_ISO_A2_1, ID_FIPS_1, NAM_LABEL_1, NAME_PROP_1, NAME2_1, NAM_ANSI_1, CNT_1, C1_1, POP_1, LMP_POP1_1, G_1, LMP_CLASS_1, FAMILYPROP_1, FAMILY_1, LMP_C1_1, LANG_ISO_1, geometry_1, index_2, ID_2, ID_ISO_A3_2, ID_ISO_A2_2, ID_FIPS_2, NAM_LABEL_2, NAME_PROP_2, NAME2_2, NAM_ANSI_2, CNT_2, C1_2, POP_2, LMP_POP1_2, G_2, LMP_CLASS_2, FAMILYPROP_2, FAMILY_2, LMP_C1_2, LANG_ISO_2, ID, geometry_2]\nIndex: []\n\n[0 rows x 40 columns]"
          },
          "execution_count": 64,
          "metadata": {},
          "output_type": "execute_result"
        }
      ],
      "execution_count": null,
      "block_group": "2f88589b589b4b5fb748b03945152fab"
    },
    {
      "cell_type": "code",
      "source": "pairs.loc[(pairs.ID_2==missing[0][:7])&(pairs.ID_1==missing[0][8:])]",
      "metadata": {
        "cell_id": "2383acd1be304a42902de7bb21fd7fb4",
        "deepnote_cell_type": "code"
      },
      "outputs": [
        {
          "data": {
            "text/html": "<div>\n<style scoped>\n    .dataframe tbody tr th:only-of-type {\n        vertical-align: middle;\n    }\n\n    .dataframe tbody tr th {\n        vertical-align: top;\n    }\n\n    .dataframe thead th {\n        text-align: right;\n    }\n</style>\n<table border=\"1\" class=\"dataframe\">\n  <thead>\n    <tr style=\"text-align: right;\">\n      <th></th>\n      <th>ID_1</th>\n      <th>ID_ISO_A3_1</th>\n      <th>ID_ISO_A2_1</th>\n      <th>ID_FIPS_1</th>\n      <th>NAM_LABEL_1</th>\n      <th>NAME_PROP_1</th>\n      <th>NAME2_1</th>\n      <th>NAM_ANSI_1</th>\n      <th>CNT_1</th>\n      <th>C1_1</th>\n      <th>...</th>\n      <th>POP_2</th>\n      <th>LMP_POP1_2</th>\n      <th>G_2</th>\n      <th>LMP_CLASS_2</th>\n      <th>FAMILYPROP_2</th>\n      <th>FAMILY_2</th>\n      <th>LMP_C1_2</th>\n      <th>LANG_ISO_2</th>\n      <th>ID</th>\n      <th>geometry_2</th>\n    </tr>\n  </thead>\n  <tbody>\n  </tbody>\n</table>\n<p>0 rows × 40 columns</p>\n</div>",
            "text/plain": "Empty DataFrame\nColumns: [ID_1, ID_ISO_A3_1, ID_ISO_A2_1, ID_FIPS_1, NAM_LABEL_1, NAME_PROP_1, NAME2_1, NAM_ANSI_1, CNT_1, C1_1, POP_1, LMP_POP1_1, G_1, LMP_CLASS_1, FAMILYPROP_1, FAMILY_1, LMP_C1_1, LANG_ISO_1, geometry_1, index_2, ID_2, ID_ISO_A3_2, ID_ISO_A2_2, ID_FIPS_2, NAM_LABEL_2, NAME_PROP_2, NAME2_2, NAM_ANSI_2, CNT_2, C1_2, POP_2, LMP_POP1_2, G_2, LMP_CLASS_2, FAMILYPROP_2, FAMILY_2, LMP_C1_2, LANG_ISO_2, ID, geometry_2]\nIndex: []\n\n[0 rows x 40 columns]"
          },
          "execution_count": 65,
          "metadata": {},
          "output_type": "execute_result"
        }
      ],
      "execution_count": null,
      "block_group": "37c41895eb5441648d189665f7a4e9ac"
    },
    {
      "cell_type": "markdown",
      "source": "These are missing because they are the same language but in two countries",
      "metadata": {
        "tags": [],
        "user_expressions": [],
        "cell_id": "80ee3e6978fa48fe94bd1633ae010532",
        "deepnote_cell_type": "markdown"
      },
      "block_group": "ef73f17b262c48b69c174cfc63ed9bd2"
    },
    {
      "cell_type": "code",
      "source": "same_lang_miss = []\ndiff_lang_miss = []\nfor m in missing:\n    if m[:3]==m[8:11]:\n        same_lang_miss.append(m)\n    else:\n        diff_lang_miss.append(m)",
      "metadata": {
        "cell_id": "f7744f979af3425ab21762bc1deb97f8",
        "deepnote_cell_type": "code"
      },
      "outputs": [],
      "execution_count": null,
      "block_group": "1e1ac5cf29454b19b4cd5823c1eca7e5"
    },
    {
      "cell_type": "code",
      "source": "len(diff_lang_miss)",
      "metadata": {
        "cell_id": "496eda95e82a45fb8d9d449bd421fd37",
        "deepnote_cell_type": "code"
      },
      "outputs": [
        {
          "data": {
            "text/plain": "1"
          },
          "execution_count": 67,
          "metadata": {},
          "output_type": "execute_result"
        }
      ],
      "execution_count": null,
      "block_group": "b8b51f2ce60649c8a2e94e62babffdba"
    },
    {
      "cell_type": "code",
      "source": "diff_lang_miss",
      "metadata": {
        "cell_id": "32276472dcc64b9ab1032f446efd94ca",
        "deepnote_cell_type": "code"
      },
      "outputs": [
        {
          "data": {
            "text/plain": "['MVE-PAK-RWR-IND']"
          },
          "execution_count": 68,
          "metadata": {},
          "output_type": "execute_result"
        }
      ],
      "execution_count": null,
      "block_group": "7a1a45e40b694cc7bf9c54754a4c3644"
    },
    {
      "cell_type": "markdown",
      "source": "This is the language we dropped above since it is the same language",
      "metadata": {
        "tags": [],
        "user_expressions": [],
        "cell_id": "4ab873c0c10240bd887622c83085b1e2",
        "deepnote_cell_type": "markdown"
      },
      "block_group": "08ac0ff060ce42f5bf84d54c9c8be076"
    },
    {
      "cell_type": "code",
      "source": "for m in diff_lang_miss:\n    print(pairs.loc[(pairs.ID_2==m[:7])&(pairs.ID_1==m[8:])])\n    A = ethno.loc[ethno.ID==m[:7], 'geometry'].values[0]\n    B = ethno.loc[ethno.ID==m[8:], 'geometry'].values[0]\n    print(A.intersects(B))\n    print(A.buffer(0.01).intersects(B))\n    A.buffer(0.01).intersection(B.boundary)",
      "metadata": {
        "cell_id": "afba031e6cd44a9898cc258f104afdbf",
        "deepnote_cell_type": "code"
      },
      "outputs": [
        {
          "name": "stdout",
          "output_type": "stream",
          "text": "Empty DataFrame\nColumns: [ID_1, ID_ISO_A3_1, ID_ISO_A2_1, ID_FIPS_1, NAM_LABEL_1, NAME_PROP_1, NAME2_1, NAM_ANSI_1, CNT_1, C1_1, POP_1, LMP_POP1_1, G_1, LMP_CLASS_1, FAMILYPROP_1, FAMILY_1, LMP_C1_1, LANG_ISO_1, geometry_1, index_2, ID_2, ID_ISO_A3_2, ID_ISO_A2_2, ID_FIPS_2, NAM_LABEL_2, NAME_PROP_2, NAME2_2, NAM_ANSI_2, CNT_2, C1_2, POP_2, LMP_POP1_2, G_2, LMP_CLASS_2, FAMILYPROP_2, FAMILY_2, LMP_C1_2, LANG_ISO_2, ID, geometry_2]\nIndex: []\n\n[0 rows x 40 columns]\nTrue\nTrue\n"
        }
      ],
      "execution_count": null,
      "block_group": "4b2dcde53ba642da96744ab226709419"
    },
    {
      "cell_type": "code",
      "source": "#m = 'MVE-PAK-RWR-IND'\nA = ethno.loc[ethno.ID==m[:7], 'geometry'].values[0]\nB = ethno.loc[ethno.ID==m[8:], 'geometry'].values[0]\nprint(A.intersects(B))\nprint(A.buffer(0.01).intersects(B))\nA.buffer(0.01).intersection(B.boundary)",
      "metadata": {
        "cell_id": "a52cfc58716f423a86a7bf94bb3215a4",
        "deepnote_cell_type": "code"
      },
      "outputs": [
        {
          "name": "stdout",
          "output_type": "stream",
          "text": "True\nTrue\n"
        },
        {
          "data": {
            "image/svg+xml": "<svg xmlns=\"http://www.w3.org/2000/svg\" xmlns:xlink=\"http://www.w3.org/1999/xlink\" width=\"100.0\" height=\"100.0\" viewBox=\"69.33350151258469 26.004874522625666 4.055845160213636 3.6387540033232284\" preserveAspectRatio=\"xMinYMin meet\"><g transform=\"matrix(1,0,0,-1,0,55.64850304857456)\"><g><polyline fill=\"none\" stroke=\"#66cc99\" stroke-width=\"0.08111690320427271\" points=\"70.13741736755078,26.155091010040987 70.14059199999997,26.159610999999984 70.145195,26.166165999999976 70.15941700000002,26.194501000000002 70.16163599999999,26.201859000000013 70.17266799999999,26.245082000000025 70.17075299999999,26.25905499999999 70.166808,26.272582 70.16525200000001,26.27713799999998 70.16461099999998,26.290914999999984 70.16674799999998,26.30699800000002 70.17830600000002,26.34977600000002 70.177886,26.36583200000001 70.17933599999998,26.375248999999997 70.178497,26.38441499999999 70.17805399999997,26.404165999999975 70.17600199999998,26.43330400000002 70.18099899999999,26.469582000000003 70.18389100000002,26.486831999999993 70.18225100000001,26.49852599999997 70.17855800000001,26.51410900000002 70.17666700000001,26.520888000000014 70.172752,26.534943 70.16774700000002,26.550748999999996 70.16053,26.558943999999997 70.15574600000002,26.56327699999997 70.15022199999999,26.568276000000026 70.13894599999998,26.574387 70.13150000000002,26.577885999999978 70.10688699999997,26.589525999999978 70.08844699999997,26.59558199999998 70.066192,26.599275999999975 70.04783600000002,26.599136999999985 70.040412,26.599526000000026 70.03244699999999,26.599113999999986 70.02486399999998,26.598721000000012 69.999999,26.594497999999987 69.996307,26.59385900000001 69.95477999999997,26.587304000000017 69.91833400000002,26.58260999999999 69.91094199999998,26.58230500000002 69.879303,26.58108199999998 69.85555199999999,26.582915000000014 69.831748,26.587720999999988 69.815361,26.59216600000002 69.79482999999999,26.599969999999985 69.78290499999997,26.607148999999993 69.77194200000002,26.613748999999984 69.74327899999997,26.638469999999984 69.72186199999999,26.653832000000023 69.69897400000002,26.665081999999984 69.68975,26.66794299999998 69.67666600000001,26.67261000000002 69.65391499999998,26.681831999999986 69.60830599999997,26.700305000000014 69.60182900000001,26.70505400000002 69.592109,26.70724899999999 69.58052800000002,26.711914999999976 69.57460700000001,26.71552700000001 69.55044500000002,26.724636999999973 69.529472,26.733137999999997 69.52241500000002,26.735998999999993 69.51544100000001,26.740053999999986 69.50763699999999,26.74844200000001 69.487502,26.793664999999976 69.48371800000001,26.80622199999999 69.48488600000002,26.817525999999987 69.48549600000001,26.82347199999998 69.49574999999999,26.872498000000007 69.500946,26.90033199999999 69.50358499999999,26.943277000000023 69.51288599999998,27.014387999999997 69.513191,27.01686000000001 69.53724599999998,27.069277 69.540191,27.077582000000007 69.55660799999998,27.117320000000007 69.56519300000002,27.138469999999984 69.57814000000002,27.16549900000001 69.58377090443346,27.173750925725642\" opacity=\"0.8\" /><polyline fill=\"none\" stroke=\"#66cc99\" stroke-width=\"0.08111690320427271\" points=\"70.07915677168968,27.699196361737076 70.08313700000002,27.708358999999973 70.10780299999999,27.76686000000001 70.12258600000001,27.787079000000006 70.15694400000001,27.83405399999998 70.175567,27.850532999999984 70.18127499999997,27.855583000000024 70.188221,27.863449000000003 70.20660500000002,27.884284999999977 70.20758000000001,27.885387999999978 70.28133300000002,27.930414999999982 70.30291699999998,27.946166000000005 70.30675600000001,27.949952999999994 70.321891,27.964887999999974 70.33288499999998,27.977108999999984 70.33647100000002,27.983108000000016 70.36616500000002,28.00824799999998 70.40860700000002,28.01727699999998 70.43235700000002,28.02155399999998 70.459724,28.02949799999999 70.47908100000001,28.033749 70.500831,28.035027000000014 70.50983400000001,28.03555399999999 70.53033499999998,28.032497999999975 70.562637,28.01980500000002 70.598747,27.988331000000017 70.62824999999998,27.961360000000013 70.66069800000002,27.930498999999998 70.67211099999997,27.914332 70.67283600000002,27.869956000000002 70.67578099999997,27.850972000000013 70.67841299999998,27.839054999999973 70.68936100000002,27.81935900000002 70.698196,27.807665999999983 70.70310899999998,27.800360000000012 70.70522299999999,27.79394400000001 70.71430199999998,27.77949799999999 70.71483599999999,27.776275999999996 70.72158000000002,27.768971000000022 70.725753,27.760248999999988 70.73794500000002,27.742165 70.751441,27.726608999999996 70.75766699999997,27.717220999999995 70.76721900000001,27.714943000000005 70.795974,27.713220999999976 70.803833,27.712747999999976 70.81678799999997,27.71135399999997 70.81827399999997,27.711193999999978 70.846138,27.70897100000002 70.865501,27.705108999999993 70.88533000000001,27.705831999999987 70.90569299999999,27.710720999999978 70.932391,27.72081800000001 71.01599800000002,27.755192000000022 71.01924600000001,27.756546000000014 71.08663899999999,27.784637999999973 71.16869300000002,27.820942000000002 71.22108400000002,27.84274899999997 71.244056,27.849415000000022 71.24949600000002,27.849166000000025 71.29205300000001,27.85633100000001 71.34322300000002,27.864942999999982 71.352531,27.866082000000006 71.41967,27.869416 71.42524700000001,27.869665999999995 71.51136000000002,27.873609999999985 71.58550200000002,27.876860000000022 71.67488900000001,27.885527000000025 71.687164,27.889138000000003 71.69635699999998,27.89186000000001 71.72508199999999,27.90324800000002 71.74591800000002,27.910192999999992 71.74888700000002,27.91119199999997 71.83327400000002,27.941581999999983 71.868225,27.951972000000012 71.89022,27.95827700000001 71.89702999999997,27.962581999999998 71.89958100000001,27.964195000000018 71.91091999999998,28.041275999999982 71.92166900000001,28.100887999999998 71.922279,28.113969999999995 71.96930600000002,28.176609999999982 71.99202700000001,28.203554999999994 72.00805600000001,28.217720999999983 72.01914199999999,28.22750000000002 72.05902800000001,28.25733200000002 72.08821799999998,28.277333 72.124192,28.30394100000001 72.14066300000002,28.318749000000025 72.15061099999997,28.32969300000002 72.151412,28.333358999999973 72.184417,28.35799800000001 72.20883099999998,28.39997199999999 72.23577799999998,28.474830999999995 72.243248,28.496358999999984 72.244392,28.50574899999998 72.24935899999997,28.51077700000002 72.25341700000001,28.527025999999978 72.279609,28.601415999999972 72.28549900000002,28.61880400000001 72.30194,28.664805 72.32980299999997,28.70383099999998 72.39619399999998,28.77463799999998 72.41141499999998,28.786221000000012 72.41794499999997,28.787999000000013 72.424667,28.790166 72.47286200000002,28.805637999999988 72.506416,28.822748999999988 72.535278,28.839248999999995 72.543388,28.843276000000003 72.55208499999998,28.85055399999999 72.55860899999999,28.852330999999992 72.57700299999999,28.862220999999977 72.58805799999999,28.86991599999999 72.61191500000001,28.881610000000023 72.61614200000002,28.885469999999998 72.61978099999999,28.885220000000004 72.62294700000001,28.888608999999974 72.67655100000002,28.91880500000002 72.68602700000002,28.925805000000025 72.698913,28.93255499999998 72.70677899999998,28.935693000000015 72.72174799999999,28.944026000000008 72.73019399999998,28.950109999999995 72.756416,28.959693000000016 72.78108199999997,28.96974799999998 72.84722099999999,28.99491599999999 72.87135999999998,29.00355400000001 72.91494699999998,29.02024899999998 72.918609,29.02063800000002 72.93622499999998,29.02755400000001 72.944501,29.034268999999995 72.95678199999998,29.057983999999976 72.962471,29.06896999999998 72.96522399999998,29.077193000000022 72.97467,29.096137 72.99980899999997,29.146526999999992 73.000946,29.150860000000023 73.00575199999997,29.156776999999977 73.03366799999998,29.185302999999976 73.044333,29.198027000000025 73.06222500000001,29.21766500000001 73.06410899999997,29.21974799999998 73.096611,29.255386999999985 73.098274,29.261081999999988 73.09944100000001,29.26299899999998 73.12852500000002,29.310497999999995 73.13089000000002,29.314332999999976 73.132003,29.31866500000001 73.170166,29.380082000000016 73.175972,29.389413999999988 73.18245000000002,29.40018900000001 73.19733400000001,29.424915999999996 73.21436299999999,29.452193000000022 73.23033099999998,29.479278000000022 73.23255899999998,29.48588699999999 73.23844100000002,29.492219999999975 73.239130185383,29.493412038533574\" opacity=\"0.8\" /></g></g></svg>",
            "text/plain": "<MULTILINESTRING ((70.137 26.155, 70.141 26.16, 70.145 26.166, 70.159 26.195...>"
          },
          "execution_count": 70,
          "metadata": {},
          "output_type": "execute_result"
        }
      ],
      "execution_count": null,
      "block_group": "b71f982e28a64c768025f9925e81e985"
    },
    {
      "cell_type": "code",
      "source": "gp.sjoin(ethno.loc[ethno.ID==m[:7]], ethno.loc[ethno.ID==m[8:]])",
      "metadata": {
        "cell_id": "e71260ea0ffb41bea9a9524cfe6633d7",
        "deepnote_cell_type": "code"
      },
      "outputs": [
        {
          "data": {
            "text/html": "<div>\n<style scoped>\n    .dataframe tbody tr th:only-of-type {\n        vertical-align: middle;\n    }\n\n    .dataframe tbody tr th {\n        vertical-align: top;\n    }\n\n    .dataframe thead th {\n        text-align: right;\n    }\n</style>\n<table border=\"1\" class=\"dataframe\">\n  <thead>\n    <tr style=\"text-align: right;\">\n      <th></th>\n      <th>ID_left</th>\n      <th>ID_ISO_A3_left</th>\n      <th>ID_ISO_A2_left</th>\n      <th>ID_FIPS_left</th>\n      <th>NAM_LABEL_left</th>\n      <th>NAME_PROP_left</th>\n      <th>NAME2_left</th>\n      <th>NAM_ANSI_left</th>\n      <th>CNT_left</th>\n      <th>C1_left</th>\n      <th>...</th>\n      <th>CNT_right</th>\n      <th>C1_right</th>\n      <th>POP_right</th>\n      <th>LMP_POP1_right</th>\n      <th>G_right</th>\n      <th>LMP_CLASS_right</th>\n      <th>FAMILYPROP_right</th>\n      <th>FAMILY_right</th>\n      <th>LMP_C1_right</th>\n      <th>LANG_ISO_right</th>\n    </tr>\n  </thead>\n  <tbody>\n    <tr>\n      <th>427</th>\n      <td>MVE-PAK</td>\n      <td>mve-PAK</td>\n      <td>mve-pk</td>\n      <td>mve-PK</td>\n      <td>Marwari</td>\n      <td>Marwari</td>\n      <td>MARWARI</td>\n      <td>Marwari</td>\n      <td>Asia</td>\n      <td>Pakistan</td>\n      <td>...</td>\n      <td>Asia</td>\n      <td>India</td>\n      <td>5,600,000 in India (2007 SIL)</td>\n      <td>5600000</td>\n      <td>Indo-European, Indo-Iranian, Indo-Aryan, Centr...</td>\n      <td>L</td>\n      <td>Indo-European</td>\n      <td>INDO-EUROPEAN</td>\n      <td>India</td>\n      <td>rwr</td>\n    </tr>\n  </tbody>\n</table>\n<p>1 rows × 38 columns</p>\n</div>",
            "text/plain": "     ID_left ID_ISO_A3_left ID_ISO_A2_left ID_FIPS_left NAM_LABEL_left NAME_PROP_left NAME2_left NAM_ANSI_left CNT_left   C1_left  ...  \\\n427  MVE-PAK        mve-PAK         mve-pk       mve-PK        Marwari        Marwari    MARWARI       Marwari     Asia  Pakistan  ...   \n\n    CNT_right  C1_right                      POP_right LMP_POP1_right                                            G_right LMP_CLASS_right  \\\n427      Asia     India  5,600,000 in India (2007 SIL)        5600000  Indo-European, Indo-Iranian, Indo-Aryan, Centr...               L   \n\n    FAMILYPROP_right   FAMILY_right LMP_C1_right  LANG_ISO_right  \n427    Indo-European  INDO-EUROPEAN        India             rwr  \n\n[1 rows x 38 columns]"
          },
          "execution_count": 71,
          "metadata": {},
          "output_type": "execute_result"
        }
      ],
      "execution_count": null,
      "block_group": "9ec8cbb417344198988fde53eb795be4"
    },
    {
      "cell_type": "code",
      "source": "ethno.loc[ethno.ID==m[:7]]",
      "metadata": {
        "cell_id": "6dd07cbe05e846e9a5fb2497eb7ec445",
        "deepnote_cell_type": "code"
      },
      "outputs": [
        {
          "data": {
            "text/html": "<div>\n<style scoped>\n    .dataframe tbody tr th:only-of-type {\n        vertical-align: middle;\n    }\n\n    .dataframe tbody tr th {\n        vertical-align: top;\n    }\n\n    .dataframe thead th {\n        text-align: right;\n    }\n</style>\n<table border=\"1\" class=\"dataframe\">\n  <thead>\n    <tr style=\"text-align: right;\">\n      <th></th>\n      <th>ID</th>\n      <th>ID_ISO_A3</th>\n      <th>ID_ISO_A2</th>\n      <th>ID_FIPS</th>\n      <th>NAM_LABEL</th>\n      <th>NAME_PROP</th>\n      <th>NAME2</th>\n      <th>NAM_ANSI</th>\n      <th>CNT</th>\n      <th>C1</th>\n      <th>POP</th>\n      <th>LMP_POP1</th>\n      <th>G</th>\n      <th>LMP_CLASS</th>\n      <th>FAMILYPROP</th>\n      <th>FAMILY</th>\n      <th>LMP_C1</th>\n      <th>LANG_ISO</th>\n      <th>geometry</th>\n    </tr>\n  </thead>\n  <tbody>\n    <tr>\n      <th>427</th>\n      <td>MVE-PAK</td>\n      <td>mve-PAK</td>\n      <td>mve-pk</td>\n      <td>mve-PK</td>\n      <td>Marwari</td>\n      <td>Marwari</td>\n      <td>MARWARI</td>\n      <td>Marwari</td>\n      <td>Asia</td>\n      <td>Pakistan</td>\n      <td>220,000</td>\n      <td>220000</td>\n      <td>Indo-European, Indo-Iranian, Indo-Aryan, Centr...</td>\n      <td>L</td>\n      <td>Indo-European</td>\n      <td>INDO-EUROPEAN</td>\n      <td>Pakistan</td>\n      <td>mve</td>\n      <td>MULTIPOLYGON (((72.62295 28.88861, 72.61978 28...</td>\n    </tr>\n  </tbody>\n</table>\n</div>",
            "text/plain": "          ID ID_ISO_A3 ID_ISO_A2 ID_FIPS NAM_LABEL NAME_PROP    NAME2 NAM_ANSI   CNT        C1      POP  LMP_POP1  \\\n427  MVE-PAK   mve-PAK    mve-pk  mve-PK   Marwari   Marwari  MARWARI  Marwari  Asia  Pakistan  220,000    220000   \n\n                                                     G LMP_CLASS     FAMILYPROP         FAMILY    LMP_C1 LANG_ISO  \\\n427  Indo-European, Indo-Iranian, Indo-Aryan, Centr...         L  Indo-European  INDO-EUROPEAN  Pakistan      mve   \n\n                                              geometry  \n427  MULTIPOLYGON (((72.62295 28.88861, 72.61978 28...  "
          },
          "execution_count": 72,
          "metadata": {},
          "output_type": "execute_result"
        }
      ],
      "execution_count": null,
      "block_group": "1c59d5d9522d4936990ff7c117189b73"
    },
    {
      "cell_type": "code",
      "source": "ethno.loc[ethno.ID==m[8:]]",
      "metadata": {
        "cell_id": "85929331f5f74c1bbc2edb95814b2fb8",
        "deepnote_cell_type": "code"
      },
      "outputs": [
        {
          "data": {
            "text/html": "<div>\n<style scoped>\n    .dataframe tbody tr th:only-of-type {\n        vertical-align: middle;\n    }\n\n    .dataframe tbody tr th {\n        vertical-align: top;\n    }\n\n    .dataframe thead th {\n        text-align: right;\n    }\n</style>\n<table border=\"1\" class=\"dataframe\">\n  <thead>\n    <tr style=\"text-align: right;\">\n      <th></th>\n      <th>ID</th>\n      <th>ID_ISO_A3</th>\n      <th>ID_ISO_A2</th>\n      <th>ID_FIPS</th>\n      <th>NAM_LABEL</th>\n      <th>NAME_PROP</th>\n      <th>NAME2</th>\n      <th>NAM_ANSI</th>\n      <th>CNT</th>\n      <th>C1</th>\n      <th>POP</th>\n      <th>LMP_POP1</th>\n      <th>G</th>\n      <th>LMP_CLASS</th>\n      <th>FAMILYPROP</th>\n      <th>FAMILY</th>\n      <th>LMP_C1</th>\n      <th>LANG_ISO</th>\n      <th>geometry</th>\n    </tr>\n  </thead>\n  <tbody>\n    <tr>\n      <th>70</th>\n      <td>RWR-IND</td>\n      <td>rwr-IND</td>\n      <td>rwr-in</td>\n      <td>rwr-IN</td>\n      <td>Marwari</td>\n      <td>Marwari</td>\n      <td>MARWARI</td>\n      <td>Marwari</td>\n      <td>Asia</td>\n      <td>India</td>\n      <td>5,600,000 in India (2007 SIL)</td>\n      <td>5600000</td>\n      <td>Indo-European, Indo-Iranian, Indo-Aryan, Centr...</td>\n      <td>L</td>\n      <td>Indo-European</td>\n      <td>INDO-EUROPEAN</td>\n      <td>India</td>\n      <td>rwr</td>\n      <td>POLYGON ((74.37386 28.88966, 74.44544 28.86189...</td>\n    </tr>\n  </tbody>\n</table>\n</div>",
            "text/plain": "         ID ID_ISO_A3 ID_ISO_A2 ID_FIPS NAM_LABEL NAME_PROP    NAME2 NAM_ANSI   CNT     C1                            POP  LMP_POP1  \\\n70  RWR-IND   rwr-IND    rwr-in  rwr-IN   Marwari   Marwari  MARWARI  Marwari  Asia  India  5,600,000 in India (2007 SIL)   5600000   \n\n                                                    G LMP_CLASS     FAMILYPROP         FAMILY LMP_C1 LANG_ISO  \\\n70  Indo-European, Indo-Iranian, Indo-Aryan, Centr...         L  Indo-European  INDO-EUROPEAN  India      rwr   \n\n                                             geometry  \n70  POLYGON ((74.37386 28.88966, 74.44544 28.86189...  "
          },
          "execution_count": 73,
          "metadata": {},
          "output_type": "execute_result"
        }
      ],
      "execution_count": null,
      "block_group": "fa5c783fae904faba59755eaa1fb1226"
    },
    {
      "cell_type": "code",
      "source": "missing_lang = []\nfor m in missing:\n    a = ethno.loc[ethno.ID==m[:7]]\n    b = ethno.loc[ethno.ID==m[8:]]\n    if a.shape[0]==0:\n        missing_lang.append(m[:7])\n    if b.shape[0]==0:\n        missing_lang.append(m[8:])\nmissing_lang = list(set(missing_lang))\nmissing_lang",
      "metadata": {
        "cell_id": "7cb4813a896c4cb49d7ff26a8161ba49",
        "deepnote_cell_type": "code"
      },
      "outputs": [
        {
          "data": {
            "text/plain": "[]"
          },
          "execution_count": 74,
          "metadata": {},
          "output_type": "execute_result"
        }
      ],
      "execution_count": null,
      "block_group": "617263d7feee49d6ad36491e24520737"
    },
    {
      "cell_type": "code",
      "source": "missing_pairs_or = []\nfor m in missing:\n    a = dfor.loc[dfor.identifier==m]\n    if a.shape[0]==0:\n        missing_pairs_or.append(m[:7])\nmissing_pairs_or = list(set(missing_pairs_or))\nmissing_pairs_or",
      "metadata": {
        "cell_id": "0f53b4fcfb63444384bc0783d9439047",
        "deepnote_cell_type": "code"
      },
      "outputs": [
        {
          "data": {
            "text/plain": "[]"
          },
          "execution_count": 75,
          "metadata": {},
          "output_type": "execute_result"
        }
      ],
      "execution_count": null,
      "block_group": "ff526adfb53e4df39168e065e2482680"
    },
    {
      "cell_type": "code",
      "source": "ethno.shape",
      "metadata": {
        "cell_id": "53349c85c002456693ae7c158a3ea037",
        "deepnote_cell_type": "code"
      },
      "outputs": [
        {
          "data": {
            "text/plain": "(7327, 19)"
          },
          "execution_count": 76,
          "metadata": {},
          "output_type": "execute_result"
        }
      ],
      "execution_count": null,
      "block_group": "d75eff549d97413c83467b8c5311c0a9"
    },
    {
      "cell_type": "code",
      "source": "dfor.shape[0] - len(same_lang_miss) - 1",
      "metadata": {
        "cell_id": "712d2d783b5c470b8098e18d2bd1397d",
        "deepnote_cell_type": "code"
      },
      "outputs": [
        {
          "data": {
            "text/plain": "15521"
          },
          "execution_count": 77,
          "metadata": {},
          "output_type": "execute_result"
        }
      ],
      "execution_count": null,
      "block_group": "eacca7619fc24fbe9a79dcf2119aa061"
    },
    {
      "cell_type": "code",
      "source": "merge_iden.shape",
      "metadata": {
        "cell_id": "d2692ce17c0341c1af9ab99fb020fc05",
        "deepnote_cell_type": "code"
      },
      "outputs": [
        {
          "data": {
            "text/plain": "(15521, 3)"
          },
          "execution_count": 78,
          "metadata": {},
          "output_type": "execute_result"
        }
      ],
      "execution_count": null,
      "block_group": "8f3be8df590c4993a6f88cc9713fe676"
    },
    {
      "cell_type": "markdown",
      "source": "We have (essencially) replicated his data",
      "metadata": {
        "tags": [],
        "user_expressions": [],
        "cell_id": "43ccce109bad40d5bd4a0ced1bddfc7b",
        "deepnote_cell_type": "markdown"
      },
      "block_group": "1a12121ee94b488288d96af0faa14a6e"
    },
    {
      "cell_type": "markdown",
      "source": "# New Data - Buffers",
      "metadata": {
        "cell_id": "9345624661fa402ea6d0d08e8630092c",
        "deepnote_cell_type": "markdown"
      },
      "block_group": "04f64500561b43919b1c545a6eab9ebe"
    },
    {
      "cell_type": "code",
      "source": "buffers= borders_geo[['identifier', 'border']].merge(merge_iden[['identifier']])\nbuffers",
      "metadata": {
        "cell_id": "f1541e0d0f3f4b4f8c4a515891317e42",
        "deepnote_cell_type": "code"
      },
      "outputs": [
        {
          "data": {
            "text/html": "<div>\n<style scoped>\n    .dataframe tbody tr th:only-of-type {\n        vertical-align: middle;\n    }\n\n    .dataframe tbody tr th {\n        vertical-align: top;\n    }\n\n    .dataframe thead th {\n        text-align: right;\n    }\n</style>\n<table border=\"1\" class=\"dataframe\">\n  <thead>\n    <tr style=\"text-align: right;\">\n      <th></th>\n      <th>identifier</th>\n      <th>border</th>\n    </tr>\n  </thead>\n  <tbody>\n    <tr>\n      <th>0</th>\n      <td>KHK-MNG-CMN-CHN</td>\n      <td>LINESTRING (96.29691 42.52898, 96.30858 42.544...</td>\n    </tr>\n    <tr>\n      <th>1</th>\n      <td>KHG-CHN-CMN-CHN</td>\n      <td>LINESTRING (102.24263 29.72548, 102.20450 29.7...</td>\n    </tr>\n    <tr>\n      <th>2</th>\n      <td>ADX-CHN-CMN-CHN</td>\n      <td>MULTILINESTRING ((103.34328 32.41462, 103.3294...</td>\n    </tr>\n    <tr>\n      <th>3</th>\n      <td>XAL-CHN-CMN-CHN</td>\n      <td>MULTILINESTRING ((101.03075 36.42174, 101.0269...</td>\n    </tr>\n    <tr>\n      <th>4</th>\n      <td>KAZ-CHN-CMN-CHN</td>\n      <td>MULTILINESTRING ((85.79039 43.12162, 85.78670 ...</td>\n    </tr>\n    <tr>\n      <th>...</th>\n      <td>...</td>\n      <td>...</td>\n    </tr>\n    <tr>\n      <th>15516</th>\n      <td>TRB-PNG-KBW-PNG</td>\n      <td>MULTILINESTRING ((143.91458 -3.71256, 143.8948...</td>\n    </tr>\n    <tr>\n      <th>15517</th>\n      <td>JAS-NCL-BIS-NCL</td>\n      <td>LINESTRING (166.46485 -22.28114, 166.45645 -22...</td>\n    </tr>\n    <tr>\n      <th>15518</th>\n      <td>ATW-USA-NMU-USA</td>\n      <td>LINESTRING (-120.67960 40.41202, -120.65526 40...</td>\n    </tr>\n    <tr>\n      <th>15519</th>\n      <td>BDX-IDN-TOY-IDN</td>\n      <td>LINESTRING (119.31693 -2.07812, 119.30790 -2.0...</td>\n    </tr>\n    <tr>\n      <th>15520</th>\n      <td>DTU-MLI-DTI-MLI</td>\n      <td>LINESTRING (-3.13660 14.68310, -3.12247 14.690...</td>\n    </tr>\n  </tbody>\n</table>\n<p>15521 rows × 2 columns</p>\n</div>",
            "text/plain": "            identifier                                             border\n0      KHK-MNG-CMN-CHN  LINESTRING (96.29691 42.52898, 96.30858 42.544...\n1      KHG-CHN-CMN-CHN  LINESTRING (102.24263 29.72548, 102.20450 29.7...\n2      ADX-CHN-CMN-CHN  MULTILINESTRING ((103.34328 32.41462, 103.3294...\n3      XAL-CHN-CMN-CHN  MULTILINESTRING ((101.03075 36.42174, 101.0269...\n4      KAZ-CHN-CMN-CHN  MULTILINESTRING ((85.79039 43.12162, 85.78670 ...\n...                ...                                                ...\n15516  TRB-PNG-KBW-PNG  MULTILINESTRING ((143.91458 -3.71256, 143.8948...\n15517  JAS-NCL-BIS-NCL  LINESTRING (166.46485 -22.28114, 166.45645 -22...\n15518  ATW-USA-NMU-USA  LINESTRING (-120.67960 40.41202, -120.65526 40...\n15519  BDX-IDN-TOY-IDN  LINESTRING (119.31693 -2.07812, 119.30790 -2.0...\n15520  DTU-MLI-DTI-MLI  LINESTRING (-3.13660 14.68310, -3.12247 14.690...\n\n[15521 rows x 2 columns]"
          },
          "execution_count": 79,
          "metadata": {},
          "output_type": "execute_result"
        }
      ],
      "execution_count": null,
      "block_group": "d2773b7c8c8a44f3bd52be2520b9c045"
    },
    {
      "cell_type": "code",
      "source": "buffers.to_file(pathout + 'Dickens_ethnologue_bordersv16.json', driver=\"GeoJSON\")",
      "metadata": {
        "cell_id": "884cb7835a8b41d98826de34b7260773",
        "deepnote_cell_type": "code"
      },
      "outputs": [],
      "execution_count": null,
      "block_group": "c3d12fc281594947bad601c9fa526090"
    },
    {
      "cell_type": "markdown",
      "source": "We convert to CEA to construct the buffers and create the data",
      "metadata": {
        "user_expressions": [],
        "cell_id": "7ece1b812e3647129257b2b724d13ef6",
        "deepnote_cell_type": "markdown"
      },
      "block_group": "0ebd61f25f1c4477b78488cf31c20e9d"
    },
    {
      "cell_type": "code",
      "source": "buffers = gp.read_file(pathout + 'Dickens_ethnologue_bordersv16.json', driver=\"GeoJSON\")",
      "metadata": {
        "cell_id": "f774f138615e40178c7d0f2450730981",
        "deepnote_cell_type": "code"
      },
      "outputs": [],
      "execution_count": null,
      "block_group": "14de6de9857d42cab472fe381c64ed15"
    },
    {
      "cell_type": "code",
      "source": "buffers = buffers.to_crs(cea)",
      "metadata": {
        "cell_id": "4ca727989a1043f88af27cc1f62eb384",
        "deepnote_cell_type": "code"
      },
      "outputs": [],
      "execution_count": null,
      "block_group": "1dcfe2d192f245779acf295ee887079a"
    },
    {
      "cell_type": "code",
      "source": "buffers.loc[buffers.identifier.isin(dfor.loc[(dfor.overlap==1)&(dfor.lingDist.isna()==False), 'identifier'])]",
      "metadata": {
        "cell_id": "ab08c3bca7374c2887ef79946cb1f276",
        "deepnote_cell_type": "code"
      },
      "outputs": [
        {
          "data": {
            "text/html": "<div>\n<style scoped>\n    .dataframe tbody tr th:only-of-type {\n        vertical-align: middle;\n    }\n\n    .dataframe tbody tr th {\n        vertical-align: top;\n    }\n\n    .dataframe thead th {\n        text-align: right;\n    }\n</style>\n<table border=\"1\" class=\"dataframe\">\n  <thead>\n    <tr style=\"text-align: right;\">\n      <th></th>\n      <th>identifier</th>\n      <th>geometry</th>\n    </tr>\n  </thead>\n  <tbody>\n    <tr>\n      <th>0</th>\n      <td>KHK-MNG-CMN-CHN</td>\n      <td>LINESTRING (10719723.518 4291279.974, 10721022...</td>\n    </tr>\n    <tr>\n      <th>1</th>\n      <td>KHG-CHN-CMN-CHN</td>\n      <td>LINESTRING (11381597.530 3144847.052, 11377352...</td>\n    </tr>\n    <tr>\n      <th>2</th>\n      <td>ADX-CHN-CMN-CHN</td>\n      <td>MULTILINESTRING ((11504121.326 3400425.288, 11...</td>\n    </tr>\n    <tr>\n      <th>3</th>\n      <td>XAL-CHN-CMN-CHN</td>\n      <td>MULTILINESTRING ((11246691.544 3767434.038, 11...</td>\n    </tr>\n    <tr>\n      <th>4</th>\n      <td>KAZ-CHN-CMN-CHN</td>\n      <td>MULTILINESTRING ((9550142.527 4339640.290, 954...</td>\n    </tr>\n    <tr>\n      <th>...</th>\n      <td>...</td>\n      <td>...</td>\n    </tr>\n    <tr>\n      <th>15224</th>\n      <td>SPI-IDN-WRP-IDN</td>\n      <td>MULTILINESTRING ((15198378.500 -243002.697, 15...</td>\n    </tr>\n    <tr>\n      <th>15277</th>\n      <td>NFK-NGA-NIN-NGA</td>\n      <td>MULTILINESTRING ((946192.295 1014271.323, 9477...</td>\n    </tr>\n    <tr>\n      <th>15278</th>\n      <td>NFG-NGA-NIN-NGA</td>\n      <td>MULTILINESTRING ((946192.295 1014271.323, 9477...</td>\n    </tr>\n    <tr>\n      <th>15351</th>\n      <td>DTI-MLI-DYM-MLI</td>\n      <td>LINESTRING (-358800.975 1596475.771, -358305.1...</td>\n    </tr>\n    <tr>\n      <th>15520</th>\n      <td>DTU-MLI-DTI-MLI</td>\n      <td>LINESTRING (-349164.381 1606321.196, -347591.5...</td>\n    </tr>\n  </tbody>\n</table>\n<p>2849 rows × 2 columns</p>\n</div>",
            "text/plain": "            identifier                                           geometry\n0      KHK-MNG-CMN-CHN  LINESTRING (10719723.518 4291279.974, 10721022...\n1      KHG-CHN-CMN-CHN  LINESTRING (11381597.530 3144847.052, 11377352...\n2      ADX-CHN-CMN-CHN  MULTILINESTRING ((11504121.326 3400425.288, 11...\n3      XAL-CHN-CMN-CHN  MULTILINESTRING ((11246691.544 3767434.038, 11...\n4      KAZ-CHN-CMN-CHN  MULTILINESTRING ((9550142.527 4339640.290, 954...\n...                ...                                                ...\n15224  SPI-IDN-WRP-IDN  MULTILINESTRING ((15198378.500 -243002.697, 15...\n15277  NFK-NGA-NIN-NGA  MULTILINESTRING ((946192.295 1014271.323, 9477...\n15278  NFG-NGA-NIN-NGA  MULTILINESTRING ((946192.295 1014271.323, 9477...\n15351  DTI-MLI-DYM-MLI  LINESTRING (-358800.975 1596475.771, -358305.1...\n15520  DTU-MLI-DTI-MLI  LINESTRING (-349164.381 1606321.196, -347591.5...\n\n[2849 rows x 2 columns]"
          },
          "execution_count": 19,
          "metadata": {},
          "output_type": "execute_result"
        }
      ],
      "execution_count": null,
      "block_group": "be9b59aa4b7a43dc978ead83357786f0"
    },
    {
      "cell_type": "code",
      "source": "buffers.to_file(pathout + 'Dickens_ethnologue_bordersv16_cyl.json', driver=\"GeoJSON\")",
      "metadata": {
        "cell_id": "bd8ff855b056449883968b268063697a",
        "deepnote_cell_type": "code"
      },
      "outputs": [],
      "execution_count": null,
      "block_group": "1dc874c213eb4457a9f0c0a3267cba19"
    },
    {
      "cell_type": "code",
      "source": "buffers = gp.read_file(pathout + 'Dickens_ethnologue_bordersv16_cyl.json', driver=\"GeoJSON\")",
      "metadata": {
        "cell_id": "f35ea5f07d5f464db6e7578bbc7dd7f2",
        "deepnote_cell_type": "code"
      },
      "outputs": [],
      "execution_count": null,
      "block_group": "958e8857d8584c97a234765191643329"
    },
    {
      "cell_type": "code",
      "source": "buffers = dask_geopandas.from_geopandas(buffers, npartitions=50)",
      "metadata": {
        "tags": [],
        "cell_id": "de7a99e8ac9e4a72a504c8ddcd550ed9",
        "deepnote_cell_type": "code"
      },
      "outputs": [],
      "execution_count": null,
      "block_group": "85ff98fe40f04e889c4baef2614e48b6"
    },
    {
      "cell_type": "code",
      "source": "buffers.shape",
      "metadata": {
        "tags": [],
        "cell_id": "59cb23b90de4461bbf1771a94ebbd16f",
        "deepnote_cell_type": "code"
      },
      "outputs": [
        {
          "data": {
            "text/plain": "(Delayed('int-56961140-1170-4645-8da9-9e6a8b9ba991'), 2)"
          },
          "execution_count": 128,
          "metadata": {},
          "output_type": "execute_result"
        }
      ],
      "execution_count": null,
      "block_group": "b7b67d9c50564d03b71b6308201566c8"
    },
    {
      "cell_type": "code",
      "source": "buffers.geometry = buffers.geometry.buffer(50000)\nbuffers = buffers.compute()",
      "metadata": {
        "tags": [],
        "cell_id": "271891528809407da982503b3851663a",
        "deepnote_cell_type": "code"
      },
      "outputs": [
        {
          "name": "stderr",
          "output_type": "stream",
          "text": "/users/ozak/micromamba/envs/GeoPython39env/lib/python3.9/site-packages/distributed/client.py:3125: UserWarning: Sending large graph of size 18.64 MiB.\nThis may cause some slowdown.\nConsider scattering data ahead of time and using futures.\n  warnings.warn(\n"
        }
      ],
      "execution_count": null,
      "block_group": "224499a4c87f468ca7a3fcebc770d2a6"
    },
    {
      "cell_type": "code",
      "source": "buffers.to_file(pathout + 'Dickens_ethnologue_buffersv16_cyl.json', driver=\"GeoJSON\")",
      "metadata": {
        "cell_id": "be90922e97db43dc9dddd83b2deacaaf",
        "deepnote_cell_type": "code"
      },
      "outputs": [],
      "execution_count": null,
      "block_group": "af499e4b59c94291bf57284919ecdda2"
    },
    {
      "cell_type": "code",
      "source": "buffers = buffers.to_crs(wgs84)",
      "metadata": {
        "cell_id": "6297ef9ca59645748bae3ebbc6cbb6d8",
        "deepnote_cell_type": "code"
      },
      "outputs": [],
      "execution_count": null,
      "block_group": "27e45cc411eb4df2888d38a2968f6b42"
    },
    {
      "cell_type": "code",
      "source": "buffers.to_file(pathout + 'Dickens_ethnologue_buffersv16.json', driver=\"GeoJSON\")",
      "metadata": {
        "cell_id": "eef353e00c6f40f29918b9fcb745a49c",
        "deepnote_cell_type": "code"
      },
      "outputs": [],
      "execution_count": null,
      "block_group": "c3965e5f7f5f4aeda6a781a5d7dc323c"
    },
    {
      "cell_type": "code",
      "source": "buffers.centroid.plot()",
      "metadata": {
        "cell_id": "40822ee878d74f058fadd56ee000bd7c",
        "deepnote_cell_type": "code"
      },
      "outputs": [
        {
          "name": "stderr",
          "output_type": "stream",
          "text": "/tmp/ipykernel_3327376/2640991670.py:1: UserWarning: Geometry is in a geographic CRS. Results from 'centroid' are likely incorrect. Use 'GeoSeries.to_crs()' to re-project geometries to a projected CRS before this operation.\n\n  buffers.centroid.plot()\n"
        },
        {
          "data": {
            "text/plain": "<AxesSubplot:>"
          },
          "execution_count": 133,
          "metadata": {},
          "output_type": "execute_result"
        },
        {
          "data": {
            "image/png": "[encoded data removed]",
            "text/plain": "<Figure size 640x480 with 1 Axes>"
          },
          "metadata": {},
          "output_type": "display_data"
        }
      ],
      "execution_count": null,
      "block_group": "4fb322533ec84076b1afeb548e3a123d"
    },
    {
      "cell_type": "code",
      "source": "type(buffers)",
      "metadata": {
        "cell_id": "1c278e7f9007461c93957a606098ff9b",
        "deepnote_cell_type": "code"
      },
      "outputs": [
        {
          "data": {
            "text/plain": "geopandas.geodataframe.GeoDataFrame"
          },
          "execution_count": 134,
          "metadata": {},
          "output_type": "execute_result"
        }
      ],
      "execution_count": null,
      "block_group": "6d9791a0b20a43ae99355ee8a7f94bc3"
    },
    {
      "cell_type": "markdown",
      "source": "# New Data - Spatial Stats for New Buffers",
      "metadata": {
        "cell_id": "ba288cc7c4b641c8a1f242a3123f2f41",
        "deepnote_cell_type": "markdown"
      },
      "block_group": "5e41110791a9400cbb0cb5c2cdcd97ca"
    },
    {
      "cell_type": "code",
      "source": "buffers = gp.read_file(pathout + 'Dickens_ethnologue_buffersv16.json', driver=\"GeoJSON\")\nbuffers.crs",
      "metadata": {
        "cell_id": "34bc1ba5565c4c069a851cec8c10c10d",
        "deepnote_cell_type": "code"
      },
      "outputs": [
        {
          "data": {
            "text/plain": "<Geographic 2D CRS: EPSG:4326>\nName: WGS 84\nAxis Info [ellipsoidal]:\n- Lat[north]: Geodetic latitude (degree)\n- Lon[east]: Geodetic longitude (degree)\nArea of Use:\n- name: World.\n- bounds: (-180.0, -90.0, 180.0, 90.0)\nDatum: World Geodetic System 1984 ensemble\n- Ellipsoid: WGS 84\n- Prime Meridian: Greenwich"
          },
          "execution_count": 97,
          "metadata": {},
          "output_type": "execute_result"
        }
      ],
      "execution_count": null,
      "block_group": "92483eff0460422fa6434ba52f65ebc9"
    },
    {
      "cell_type": "markdown",
      "source": "BZX-MLI is contained inside the homeland of FFM-MLI and is only 290m^2 so we also drop it. Construction identifies it by assigning empty border",
      "metadata": {
        "user_expressions": [],
        "cell_id": "5e7adadecacb4e6b90d953a7a56d38d3",
        "deepnote_cell_type": "markdown"
      },
      "block_group": "bfe4266a62084be8879a8f9e8da98461"
    },
    {
      "cell_type": "code",
      "source": "dfor.loc[dfor.identifier=='BZX-MLI-FFM-MLI']",
      "metadata": {
        "cell_id": "fa53ba4a3f7f4f2183a3f667b72e341f",
        "deepnote_cell_type": "code"
      },
      "outputs": [
        {
          "data": {
            "text/html": "<div>\n<style scoped>\n    .dataframe tbody tr th:only-of-type {\n        vertical-align: middle;\n    }\n\n    .dataframe tbody tr th {\n        vertical-align: top;\n    }\n\n    .dataframe thead th {\n        text-align: right;\n    }\n</style>\n<table border=\"1\" class=\"dataframe\">\n  <thead>\n    <tr style=\"text-align: right;\">\n      <th></th>\n      <th>identifier</th>\n      <th>langName_ethno1</th>\n      <th>langIso1</th>\n      <th>country1</th>\n      <th>family1</th>\n      <th>langName_ethno2</th>\n      <th>langIso2</th>\n      <th>country2</th>\n      <th>family2</th>\n      <th>lingDist</th>\n      <th>...</th>\n      <th>langName_asjp2</th>\n      <th>familyTree1</th>\n      <th>familyTree2</th>\n      <th>ccode1</th>\n      <th>ccode2</th>\n      <th>region</th>\n      <th>ID_1</th>\n      <th>ID_2</th>\n      <th>ID_1alt</th>\n      <th>ID_2alt</th>\n    </tr>\n  </thead>\n  <tbody>\n    <tr>\n      <th>2571</th>\n      <td>BZX-MLI-FFM-MLI</td>\n      <td>Bozo, Hainyaxo</td>\n      <td>bzx</td>\n      <td>Mali</td>\n      <td>Niger-Congo</td>\n      <td>Fulfulde, Maasina</td>\n      <td>ffm</td>\n      <td>Mali</td>\n      <td>Niger-Congo</td>\n      <td>0.869855</td>\n      <td>...</td>\n      <td>FULFULDE_MAASINA</td>\n      <td>Niger-Congo,Mande,Western,Northwestern,Soninke...</td>\n      <td>Niger-Congo,Atlantic-Congo,Atlantic,Northern,S...</td>\n      <td>466.0</td>\n      <td>466.0</td>\n      <td>Africa</td>\n      <td>BZX-MLI</td>\n      <td>FFM-MLI</td>\n      <td>FFM-MLI</td>\n      <td>BZX-MLI</td>\n    </tr>\n  </tbody>\n</table>\n<p>1 rows × 105 columns</p>\n</div>",
            "text/plain": "           identifier langName_ethno1 langIso1 country1      family1    langName_ethno2 langIso2 country2      family2  lingDist  ...  \\\n2571  BZX-MLI-FFM-MLI  Bozo, Hainyaxo      bzx     Mali  Niger-Congo  Fulfulde, Maasina      ffm     Mali  Niger-Congo  0.869855  ...   \n\n        langName_asjp2                                        familyTree1                                        familyTree2  ccode1  \\\n2571  FULFULDE_MAASINA  Niger-Congo,Mande,Western,Northwestern,Soninke...  Niger-Congo,Atlantic-Congo,Atlantic,Northern,S...   466.0   \n\n      ccode2  region     ID_1     ID_2  ID_1alt  ID_2alt  \n2571   466.0  Africa  BZX-MLI  FFM-MLI  FFM-MLI  BZX-MLI  \n\n[1 rows x 105 columns]"
          },
          "execution_count": 117,
          "metadata": {},
          "output_type": "execute_result"
        }
      ],
      "execution_count": null,
      "block_group": "f620eb9c30c24646b5a06b1e4aa2a700"
    },
    {
      "cell_type": "code",
      "source": "buffers.loc[buffers.is_valid==False]",
      "metadata": {
        "cell_id": "60b4cda8baee4a50bab5dc3b2d51a4f7",
        "deepnote_cell_type": "code"
      },
      "outputs": [
        {
          "data": {
            "text/html": "<div>\n<style scoped>\n    .dataframe tbody tr th:only-of-type {\n        vertical-align: middle;\n    }\n\n    .dataframe tbody tr th {\n        vertical-align: top;\n    }\n\n    .dataframe thead th {\n        text-align: right;\n    }\n</style>\n<table border=\"1\" class=\"dataframe\">\n  <thead>\n    <tr style=\"text-align: right;\">\n      <th></th>\n      <th>identifier</th>\n      <th>geometry</th>\n    </tr>\n  </thead>\n  <tbody>\n    <tr>\n      <th>673</th>\n      <td>XMW-MDG-PLT-MDG</td>\n      <td>POLYGON ((47.46021 -15.86305, 47.53486 -15.769...</td>\n    </tr>\n    <tr>\n      <th>8140</th>\n      <td>BZX-MLI-FFM-MLI</td>\n      <td>None</td>\n    </tr>\n  </tbody>\n</table>\n</div>",
            "text/plain": "           identifier                                           geometry\n673   XMW-MDG-PLT-MDG  POLYGON ((47.46021 -15.86305, 47.53486 -15.769...\n8140  BZX-MLI-FFM-MLI                                               None"
          },
          "execution_count": 116,
          "metadata": {},
          "output_type": "execute_result"
        }
      ],
      "execution_count": null,
      "block_group": "e9d623c47fb44501ae9f0724336a7f1d"
    },
    {
      "cell_type": "code",
      "source": "buffers = buffers.loc[buffers.identifier!='BZX-MLI-FFM-MLI'].reset_index(drop=True)",
      "metadata": {
        "cell_id": "5758407fcd824889992693c259583800",
        "deepnote_cell_type": "code"
      },
      "outputs": [],
      "execution_count": null,
      "block_group": "200827ad2954410eb86d9bc10c6af919"
    },
    {
      "cell_type": "markdown",
      "source": "Work with CSI data to compute spatial statistics",
      "metadata": {
        "user_expressions": [],
        "cell_id": "86bd8f96b34649b18dd8ba63472987c9",
        "deepnote_cell_type": "markdown"
      },
      "block_group": "03f5c1b3ebfe4a94b3dd9742859642c8"
    },
    {
      "cell_type": "code",
      "source": "CSI = os.listdir(proot + 'CSI')",
      "metadata": {
        "cell_id": "2952fc35ebdd4d56a38b8e335e8b7b2c",
        "deepnote_cell_type": "code"
      },
      "outputs": [],
      "execution_count": null,
      "block_group": "ca488b5c8d844244863bd37c281bd50c"
    },
    {
      "cell_type": "code",
      "source": "CSI.remove('ReadMe.txt')\nCSI.sort()\nCSI",
      "metadata": {
        "tags": [],
        "cell_id": "1e83fcd2435e4ca99db85e0039ffb2a6",
        "deepnote_cell_type": "code"
      },
      "outputs": [
        {
          "data": {
            "text/plain": "['dif2AverageCalories.tif',\n 'dif2AverageCalories0.tif',\n 'dif2AverageCaloriesNo0.tif',\n 'dif2OptCalories.tif',\n 'dif2OptCalories0.tif',\n 'dif2OptCaloriesNo0.tif',\n 'difAverageCalories.tif',\n 'difAverageCalories0.tif',\n 'difAverageCaloriesNo0.tif',\n 'difOptCalories.tif',\n 'difOptCalories0.tif',\n 'difOptCaloriesNo0.tif',\n 'post1500AverageCalories.tif',\n 'post1500AverageCalories0.tif',\n 'post1500AverageCaloriesNo0.tif',\n 'post1500OptCalories.tif',\n 'post1500OptCalories0.tif',\n 'post1500OptCaloriesNo0.tif',\n 'pre15002AverageCalories.tif',\n 'pre15002AverageCalories0.tif',\n 'pre15002AverageCaloriesNo0.tif',\n 'pre15002OptCalories.tif',\n 'pre15002OptCalories0.tif',\n 'pre15002OptCaloriesNo0.tif',\n 'pre1500AverageCalories.tif',\n 'pre1500AverageCalories0.tif',\n 'pre1500AverageCaloriesNo0.tif',\n 'pre1500OptCalories.tif',\n 'pre1500OptCalories0.tif',\n 'pre1500OptCaloriesNo0.tif']"
          },
          "execution_count": 92,
          "metadata": {},
          "output_type": "execute_result"
        }
      ],
      "execution_count": null,
      "block_group": "c6b15bce309f4924a93bb9d86f0d5257"
    },
    {
      "cell_type": "code",
      "source": "%%time\nfor r in CSI:\n    print(r.replace('.tif', ''))\n    # Import raster\n    csi = gr.from_file(proot + '/CSI/' + r)\n    # Compute stats for first section of buffer\n    out= csi.stats(buffers, add_stats={'median':np.ma.median, 'std':np.ma.std, 'max':np.ma.max, 'min':np.ma.min}, raster_out=False)\n    print(out.columns)\n    for c in out.columns[1:]:\n        out[c] = out[c].astype(float)\n    out.columns = ['identifier'] + [r.replace('.tif', '') + c for c in out.columns[1:]]\n    out.to_stata(pathstats + 'Dickens_ethnologue_v16_' + r.replace('.tif', '') + '.dta', version=117, write_index=False)    ",
      "metadata": {
        "cell_id": "0b53b9ebf3da40dab5ea5493835a0c13",
        "deepnote_cell_type": "code"
      },
      "outputs": [
        {
          "name": "stdout",
          "output_type": "stream",
          "text": "dif2AverageCalories\nIndex(['identifier', 'std', 'min', 'median', 'mean', 'max'], dtype='object')\ndif2AverageCalories0\nIndex(['identifier', 'std', 'min', 'median', 'mean', 'max'], dtype='object')\ndif2AverageCaloriesNo0\nIndex(['identifier', 'std', 'min', 'median', 'mean', 'max'], dtype='object')\ndif2OptCalories\nIndex(['identifier', 'std', 'min', 'median', 'mean', 'max'], dtype='object')\ndif2OptCalories0\nIndex(['identifier', 'std', 'min', 'median', 'mean', 'max'], dtype='object')\ndif2OptCaloriesNo0\nIndex(['identifier', 'std', 'min', 'median', 'mean', 'max'], dtype='object')\ndifAverageCalories\nIndex(['identifier', 'std', 'min', 'median', 'mean', 'max'], dtype='object')\ndifAverageCalories0\nIndex(['identifier', 'std', 'min', 'median', 'mean', 'max'], dtype='object')\ndifAverageCaloriesNo0\nIndex(['identifier', 'std', 'min', 'median', 'mean', 'max'], dtype='object')\ndifOptCalories\nIndex(['identifier', 'std', 'min', 'median', 'mean', 'max'], dtype='object')\ndifOptCalories0\nIndex(['identifier', 'std', 'min', 'median', 'mean', 'max'], dtype='object')\ndifOptCaloriesNo0\nIndex(['identifier', 'std', 'min', 'median', 'mean', 'max'], dtype='object')\npost1500AverageCalories\nIndex(['identifier', 'std', 'min', 'median', 'mean', 'max'], dtype='object')\npost1500AverageCalories0\nIndex(['identifier', 'std', 'min', 'median', 'mean', 'max'], dtype='object')\npost1500AverageCaloriesNo0\nIndex(['identifier', 'std', 'min', 'median', 'mean', 'max'], dtype='object')\npost1500OptCalories\nIndex(['identifier', 'std', 'min', 'median', 'mean', 'max'], dtype='object')\npost1500OptCalories0\nIndex(['identifier', 'std', 'min', 'median', 'mean', 'max'], dtype='object')\npost1500OptCaloriesNo0\nIndex(['identifier', 'std', 'min', 'median', 'mean', 'max'], dtype='object')\npre15002AverageCalories\nIndex(['identifier', 'std', 'min', 'median', 'mean', 'max'], dtype='object')\npre15002AverageCalories0\nIndex(['identifier', 'std', 'min', 'median', 'mean', 'max'], dtype='object')\npre15002AverageCaloriesNo0\nIndex(['identifier', 'std', 'min', 'median', 'mean', 'max'], dtype='object')\npre15002OptCalories\nIndex(['identifier', 'std', 'min', 'median', 'mean', 'max'], dtype='object')\npre15002OptCalories0\nIndex(['identifier', 'std', 'min', 'median', 'mean', 'max'], dtype='object')\npre15002OptCaloriesNo0\nIndex(['identifier', 'std', 'min', 'median', 'mean', 'max'], dtype='object')\npre1500AverageCalories\nIndex(['identifier', 'std', 'min', 'median', 'mean', 'max'], dtype='object')\npre1500AverageCalories0\nIndex(['identifier', 'std', 'min', 'median', 'mean', 'max'], dtype='object')\npre1500AverageCaloriesNo0\nIndex(['identifier', 'std', 'min', 'median', 'mean', 'max'], dtype='object')\npre1500OptCalories\nIndex(['identifier', 'std', 'min', 'median', 'mean', 'max'], dtype='object')\npre1500OptCalories0\nIndex(['identifier', 'std', 'min', 'median', 'mean', 'max'], dtype='object')\npre1500OptCaloriesNo0\nIndex(['identifier', 'std', 'min', 'median', 'mean', 'max'], dtype='object')\nCPU times: user 19min 41s, sys: 8min 19s, total: 28min\nWall time: 24min 7s\n"
        }
      ],
      "execution_count": null,
      "block_group": "c9ee2511ad794df8aa0e5250b66fd071"
    },
    {
      "cell_type": "code",
      "source": "%%time\nout = []\nfor r in CSI:\n    print(r.replace('.tif', ''))\n    out1 = pd.read_stata(pathstats + 'Dickens_ethnologue_v16_' + r.replace('.tif', '') + '.dta')   \n    out1 = out1.set_index(['identifier'])\n    out.append(out1)",
      "metadata": {
        "cell_id": "c09971b043c54d71a4647cefa446ce4f",
        "deepnote_cell_type": "code"
      },
      "outputs": [
        {
          "name": "stdout",
          "output_type": "stream",
          "text": "dif2AverageCalories\ndif2AverageCalories0\ndif2AverageCaloriesNo0\ndif2OptCalories\ndif2OptCalories0\ndif2OptCaloriesNo0\ndifAverageCalories\ndifAverageCalories0\ndifAverageCaloriesNo0\ndifOptCalories\ndifOptCalories0\ndifOptCaloriesNo0\npost1500AverageCalories\npost1500AverageCalories0\npost1500AverageCaloriesNo0\npost1500OptCalories\npost1500OptCalories0\npost1500OptCaloriesNo0\npre15002AverageCalories\npre15002AverageCalories0\npre15002AverageCaloriesNo0\npre15002OptCalories\npre15002OptCalories0\npre15002OptCaloriesNo0\npre1500AverageCalories\npre1500AverageCalories0\npre1500AverageCaloriesNo0\npre1500OptCalories\npre1500OptCalories0\npre1500OptCaloriesNo0\nCPU times: user 1.09 s, sys: 480 ms, total: 1.57 s\nWall time: 1.39 s\n"
        }
      ],
      "execution_count": null,
      "block_group": "521ca8fa5d0d47ffaea76040ab278a7f"
    },
    {
      "cell_type": "code",
      "source": "out = pd.concat(out, axis=1)",
      "metadata": {
        "cell_id": "a81c5a66231d4f3b9fabb8d044989633",
        "deepnote_cell_type": "code"
      },
      "outputs": [],
      "execution_count": null,
      "block_group": "dff1cf614a4644dfb65ce72759682ba1"
    },
    {
      "cell_type": "code",
      "source": "out.to_stata(proot + 'Dickens_OrBuf_v16_stats.dta', version=117)",
      "metadata": {
        "cell_id": "c03e7d67ba26464f8f1d9ac6ab052802",
        "deepnote_cell_type": "code"
      },
      "outputs": [],
      "execution_count": null,
      "block_group": "6c94a6d09aec4f71b7c1afbc6cbad9f6"
    },
    {
      "cell_type": "markdown",
      "source": "<a style='text-decoration:none;line-height:16px;display:flex;color:#5B5B62;padding:10px;justify-content:end;' href='https://deepnote.com?utm_source=created-in-deepnote-cell&projectId=4a945f27-2c4c-4244-8f3b-ab6dff812a2f' target=\"_blank\">\n<img alt='Created in deepnote.com' style='display:inline;max-height:16px;margin:0px;margin-right:7.5px;' src='data:image/svg+xml;base64,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' > </img>\nCreated in <span style='font-weight:600;margin-left:4px;'>Deepnote</span></a>",
      "metadata": {
        "created_in_deepnote_cell": true,
        "deepnote_cell_type": "markdown"
      }
    }
  ],
  "nbformat": 4,
  "nbformat_minor": 0,
  "metadata": {
    "deepnote": {},
    "kernelspec": {
      "name": "python3",
      "language": "python",
      "display_name": "Python 3 (ipykernel)"
    },
    "language_info": {
      "name": "python",
      "version": "3.9.16",
      "mimetype": "text/x-python",
      "file_extension": ".py",
      "pygments_lexer": "ipython3",
      "codemirror_mode": {
        "name": "ipython",
        "version": 3
      },
      "nbconvert_exporter": "python"
    },
    "deepnote_notebook_id": "868d63a6cc1a4915b1c1e96c6590a917",
    "deepnote_execution_queue": []
  }
}