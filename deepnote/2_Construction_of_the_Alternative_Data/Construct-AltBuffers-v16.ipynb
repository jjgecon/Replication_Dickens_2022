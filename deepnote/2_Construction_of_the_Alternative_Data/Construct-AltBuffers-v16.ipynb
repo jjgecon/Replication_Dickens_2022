{
  "cells": [
    {
      "cell_type": "markdown",
      "source": "# This notebook reconstructs alternative buffers to create additional data\nEthnologue data cannot be shared freely due to copyright issues. Therefore you can only view the output of the cells.",
      "metadata": {
        "user_expressions": [],
        "deepnote_app_coordinates": {
          "h": 120,
          "w": 12,
          "x": 0,
          "y": 0
        },
        "cell_id": "d6295feecff94b688429b0d4c79b9f94",
        "deepnote_cell_type": "markdown"
      },
      "block_group": "4b28170dcfe84de780c36a2531382b96"
    },
    {
      "cell_type": "markdown",
      "source": "# Setup",
      "metadata": {
        "user_expressions": [],
        "deepnote_app_coordinates": {
          "h": 120,
          "w": 12,
          "x": 0,
          "y": 0
        },
        "cell_id": "fc265ef60dd2481d8cc08b75a186561d",
        "deepnote_cell_type": "markdown"
      },
      "block_group": "21b4044ba7ea4316a85b1c5ae9a17827"
    },
    {
      "cell_type": "code",
      "source": "import sys, os, time\nimport matplotlib.pyplot as plt\n\n# Math, data\nimport numpy as np\nimport pandas as pd\npd.set_option('display.width', 140)\n\n# GIS packages\nos.environ['USE_PYGEOS'] = '0'\nfrom shapely.geometry import Polygon, Point\nimport pyproj\nimport georasters as gr\nimport fiona\nimport fiona.crs\nimport geopandas as gp\nimport geopandas.tools as gpt\ngpd = gp\nimport dask_geopandas\n\nfrom pyproj import CRS\ncea = CRS(\"ESRI:54034\")\nwgs84 = CRS(\"EPSG:4326\")\n\n# Plotting\nimport matplotlib as mpl\nimport seaborn as sns\n# Setup seaborn\nsns.set()\n\n# Mapping\nimport geoplot as gplt\nimport geoplot.crs as gcrs\nimport mapclassify as mc\nimport textwrap\n\n# Various other packages\nimport isounidecode         # Decode and encode text\nimport itertools\nfrom functools import reduce\n\n# Paths\nproot = '/work/Replication_Dickens_2022/data/'\npathout = proot + 'Ethnologue/'\npathstats = proot + 'stats/'\npathethno = '' # Since the Ethnologed is protected under copy rights we can't upload the dataset.",
      "metadata": {
        "deepnote_app_coordinates": {
          "h": 120,
          "w": 12,
          "x": 0,
          "y": 0
        },
        "cell_id": "aae2504b12c140d28eda7aa862e67cb4",
        "deepnote_cell_type": "code"
      },
      "outputs": [
        {
          "name": "stderr",
          "output_type": "stream",
          "text": "/users/ozak/micromamba/envs/GeoPython39env/lib/python3.9/site-packages/libpysal/cg/alpha_shapes.py:39: NumbaDeprecationWarning: \u001b[1mThe 'nopython' keyword argument was not supplied to the 'numba.jit' decorator. The implicit default value for this argument is currently False, but it will be changed to True in Numba 0.59.0. See https://numba.readthedocs.io/en/stable/reference/deprecation.html#deprecation-of-object-mode-fall-back-behaviour-when-using-jit for details.\u001b[0m\n  def nb_dist(x, y):\n/users/ozak/micromamba/envs/GeoPython39env/lib/python3.9/site-packages/libpysal/cg/alpha_shapes.py:165: NumbaDeprecationWarning: \u001b[1mThe 'nopython' keyword argument was not supplied to the 'numba.jit' decorator. The implicit default value for this argument is currently False, but it will be changed to True in Numba 0.59.0. See https://numba.readthedocs.io/en/stable/reference/deprecation.html#deprecation-of-object-mode-fall-back-behaviour-when-using-jit for details.\u001b[0m\n  def get_faces(triangle):\n/users/ozak/micromamba/envs/GeoPython39env/lib/python3.9/site-packages/libpysal/cg/alpha_shapes.py:199: NumbaDeprecationWarning: \u001b[1mThe 'nopython' keyword argument was not supplied to the 'numba.jit' decorator. The implicit default value for this argument is currently False, but it will be changed to True in Numba 0.59.0. See https://numba.readthedocs.io/en/stable/reference/deprecation.html#deprecation-of-object-mode-fall-back-behaviour-when-using-jit for details.\u001b[0m\n  def build_faces(faces, triangles_is, num_triangles, num_faces_single):\n/users/ozak/micromamba/envs/GeoPython39env/lib/python3.9/site-packages/libpysal/cg/alpha_shapes.py:261: NumbaDeprecationWarning: \u001b[1mThe 'nopython' keyword argument was not supplied to the 'numba.jit' decorator. The implicit default value for this argument is currently False, but it will be changed to True in Numba 0.59.0. See https://numba.readthedocs.io/en/stable/reference/deprecation.html#deprecation-of-object-mode-fall-back-behaviour-when-using-jit for details.\u001b[0m\n  def nb_mask_faces(mask, faces):\n"
        }
      ],
      "execution_count": null,
      "block_group": "2bc358c3092840df8a12da721cbbdcc1"
    },
    {
      "cell_type": "code",
      "source": "def Borders(df1, df2):\n    \"\"\"\n    Overlay Intersection operation used in overlay function\n    \"\"\"\n    # Spatial Index to create intersections\n    idx1, idx2 = df2.sindex.query_bulk(df1.geometry, predicate=\"intersects\", sort=True)\n    # Create pairs of geometries in both dataframes to be intersected\n    if idx1.size > 0 and idx2.size > 0:\n        left = df1.geometry.take(idx1)\n        left.reset_index(drop=True, inplace=True)\n        right = df2.geometry.take(idx2)\n        right.reset_index(drop=True, inplace=True)\n        intersections = left.intersection(right)\n        poly_ix = intersections.type.isin([\"LineString\", \"MultiLineString\"])\n        intersections.loc[poly_ix] = intersections[poly_ix]#.buffer(0)\n\n        # only keep actual intersecting geometries\n        pairs_intersect = pd.DataFrame({\"__idx1\": idx1, \"__idx2\": idx2})\n        geom_intersect = intersections\n\n        # merge data for intersecting geometries\n        df1 = df1.reset_index(drop=True)\n        df2 = df2.reset_index(drop=True)\n        dfinter = pairs_intersect.merge(\n            df1.drop(df1._geometry_column_name, axis=1),\n            left_on=\"__idx1\",\n            right_index=True,\n        )\n        dfinter = dfinter.merge(\n            df2.drop(df2._geometry_column_name, axis=1),\n            left_on=\"__idx2\",\n            right_index=True,\n            suffixes=(\"_1\", \"_2\"),\n        )\n\n        return gpd.GeoDataFrame(dfinter, geometry=geom_intersect, crs=df1.crs)\n    else:\n        return gpd.GeoDataFrame(\n            [],\n            columns=list(set(df1.columns).union(df2.columns)) + [\"__idx1\", \"__idx2\"],\n            crs=df1.crs,\n        )\n    \ndef _overlay_intersection(df1, df2):\n    \"\"\"\n    Overlay Intersection operation used in overlay function\n    \"\"\"\n    # Spatial Index to create intersections\n    idx1, idx2 = df2.sindex.query_bulk(df1.geometry, predicate=\"intersects\", sort=True)\n    # Create pairs of geometries in both dataframes to be intersected\n    if idx1.size > 0 and idx2.size > 0:\n        left = df1.geometry.take(idx1)\n        left.reset_index(drop=True, inplace=True)\n        right = df2.geometry.take(idx2)\n        right.reset_index(drop=True, inplace=True)\n        intersections = left.intersection(right)\n        poly_ix = intersections.geom_type.isin([\"Polygon\", \"MultiPolygon\"])\n        intersections.loc[poly_ix] = intersections[poly_ix].buffer(0)\n\n        # only keep actual intersecting geometries\n        pairs_intersect = pd.DataFrame({\"__idx1\": idx1, \"__idx2\": idx2})\n        geom_intersect = intersections\n\n        # merge data for intersecting geometries\n        df1 = df1.reset_index(drop=True)\n        df2 = df2.reset_index(drop=True)\n        dfinter = pairs_intersect.merge(\n            df1.drop(df1._geometry_column_name, axis=1),\n            left_on=\"__idx1\",\n            right_index=True,\n        )\n        dfinter = dfinter.merge(\n            df2.drop(df2._geometry_column_name, axis=1),\n            left_on=\"__idx2\",\n            right_index=True,\n            suffixes=(\"_1\", \"_2\"),\n        )\n\n        return gp.GeoDataFrame(dfinter, geometry=geom_intersect, crs=df1.crs)\n    else:\n        result = df1.iloc[:0].merge(\n            df2.iloc[:0].drop(df2.geometry.name, axis=1),\n            left_index=True,\n            right_index=True,\n            suffixes=(\"_1\", \"_2\"),\n        )\n        result[\"__idx1\"] = None\n        result[\"__idx2\"] = None\n        return result[\n            result.columns.drop(df1.geometry.name).tolist() + [df1.geometry.name]\n        ]",
      "metadata": {
        "deepnote_app_coordinates": {
          "h": 120,
          "w": 12,
          "x": 0,
          "y": 0
        },
        "cell_id": "38ea85f42b2641198e56e049b23c0e8d",
        "deepnote_cell_type": "code"
      },
      "outputs": [],
      "execution_count": null,
      "block_group": "31ddd98803364e13a9381cf68cbb3be6"
    },
    {
      "cell_type": "code",
      "source": "# Drop repeated pairs\ndef drop_repeated(df, cols):\n    df1 = df[cols].copy()\n    df1['reps'] = df1.apply(lambda x: list(set(x[cols].astype(str))), axis=1)\n    df1['reps'] = df1.reps.apply(lambda x: '-'.join(x))\n    df1 = df1.drop_duplicates('reps')\n    df1 = df1.drop('reps', axis=1).reset_index(drop=True)\n    return df1",
      "metadata": {
        "deepnote_app_coordinates": {
          "h": 120,
          "w": 12,
          "x": 0,
          "y": 0
        },
        "cell_id": "849cbf25a1174c0ab106e54efb8bed2d",
        "deepnote_cell_type": "code"
      },
      "outputs": [],
      "execution_count": null,
      "block_group": "cba0afd4570545348310244bcad106c6"
    },
    {
      "cell_type": "markdown",
      "source": "# Using Original Data\n## Import original replication files provided with paper\n* We import only shapefiles to show construction and difference/similarity. \n* We import only the file for the 50km buffer (i.e., the 100km diameter)\n\nMain original replication data file with all pairwise data based on buffers of 50kms",
      "metadata": {
        "deepnote_app_coordinates": {
          "h": 120,
          "w": 12,
          "x": 0,
          "y": 0
        },
        "cell_id": "ca5fa8a52cfa44dfb563a855f921e7aa",
        "deepnote_cell_type": "markdown"
      },
      "block_group": "d264f71fc8c440ca895fbc1e88a51e83"
    },
    {
      "cell_type": "code",
      "source": "dfor = pd.read_stata(proot + 'EJ_Dickens_Border_100km.dta')\ndfor",
      "metadata": {
        "deepnote_app_coordinates": {
          "h": 120,
          "w": 12,
          "x": 0,
          "y": 0
        },
        "cell_id": "0e9777aef310414c86d352e714e65360",
        "deepnote_cell_type": "code"
      },
      "outputs": [
        {
          "name": "stderr",
          "output_type": "stream",
          "text": "/tmp/ipykernel_1329554/3197352363.py:1: UnicodeWarning: \nOne or more strings in the dta file could not be decoded using utf-8, and\nso the fallback encoding of latin-1 is being used.  This can happen when a file\nhas been incorrectly encoded by Stata or some other software. You should verify\nthe string values returned are correct.\n  dfor = pd.read_stata(pathdickens + 'Data/EJ_Dickens_Border_100km.dta')\n"
        },
        {
          "data": {
            "text/html": "<div>\n<style scoped>\n    .dataframe tbody tr th:only-of-type {\n        vertical-align: middle;\n    }\n\n    .dataframe tbody tr th {\n        vertical-align: top;\n    }\n\n    .dataframe thead th {\n        text-align: right;\n    }\n</style>\n<table border=\"1\" class=\"dataframe\">\n  <thead>\n    <tr style=\"text-align: right;\">\n      <th></th>\n      <th>identifier</th>\n      <th>langName_ethno1</th>\n      <th>langIso1</th>\n      <th>country1</th>\n      <th>family1</th>\n      <th>langName_ethno2</th>\n      <th>langIso2</th>\n      <th>country2</th>\n      <th>family2</th>\n      <th>lingDist</th>\n      <th>...</th>\n      <th>langIso_ethno2</th>\n      <th>langIso_asjp1</th>\n      <th>langIso_asjp2</th>\n      <th>langName_asjp1</th>\n      <th>langName_asjp2</th>\n      <th>familyTree1</th>\n      <th>familyTree2</th>\n      <th>ccode1</th>\n      <th>ccode2</th>\n      <th>region</th>\n    </tr>\n  </thead>\n  <tbody>\n    <tr>\n      <th>0</th>\n      <td>AAA-NGA-EMA-NGA</td>\n      <td>Ghotuo</td>\n      <td>aaa</td>\n      <td>Nigeria</td>\n      <td>Niger-Congo</td>\n      <td>Emai-Iuleha-Ora</td>\n      <td>ema</td>\n      <td>Nigeria</td>\n      <td>Niger-Congo</td>\n      <td>0.459362</td>\n      <td>...</td>\n      <td>ema</td>\n      <td>aaa</td>\n      <td>ema</td>\n      <td>GHOTUO</td>\n      <td>AOMA</td>\n      <td>Niger-Congo,Atlantic-Congo,Volta-Congo,Benue-C...</td>\n      <td>Niger-Congo,Atlantic-Congo,Volta-Congo,Benue-C...</td>\n      <td>566.0</td>\n      <td>566.0</td>\n      <td>Africa</td>\n    </tr>\n    <tr>\n      <th>1</th>\n      <td>AAA-NGA-OKE-NGA</td>\n      <td>Ghotuo</td>\n      <td>aaa</td>\n      <td>Nigeria</td>\n      <td>Niger-Congo</td>\n      <td>Okpe</td>\n      <td>oke</td>\n      <td>Nigeria</td>\n      <td>Niger-Congo</td>\n      <td>0.628569</td>\n      <td>...</td>\n      <td>oke</td>\n      <td>aaa</td>\n      <td>oke</td>\n      <td>GHOTUO</td>\n      <td>OKPE</td>\n      <td>Niger-Congo,Atlantic-Congo,Volta-Congo,Benue-C...</td>\n      <td>Niger-Congo,Atlantic-Congo,Volta-Congo,Benue-C...</td>\n      <td>566.0</td>\n      <td>566.0</td>\n      <td>Africa</td>\n    </tr>\n    <tr>\n      <th>2</th>\n      <td>AAB-NGA-JID-NGA</td>\n      <td>Alumu-Tesu</td>\n      <td>aab</td>\n      <td>Nigeria</td>\n      <td>Niger-Congo</td>\n      <td>Bu</td>\n      <td>jid</td>\n      <td>Nigeria</td>\n      <td>Niger-Congo</td>\n      <td>0.833333</td>\n      <td>...</td>\n      <td>jid</td>\n      <td>aab</td>\n      <td>jid</td>\n      <td>TESU</td>\n      <td>BU_NIGERIA</td>\n      <td>Niger-Congo,Atlantic-Congo,Volta-Congo,Benue-C...</td>\n      <td>Niger-Congo,Atlantic-Congo,Volta-Congo,Benue-C...</td>\n      <td>566.0</td>\n      <td>566.0</td>\n      <td>Africa</td>\n    </tr>\n    <tr>\n      <th>3</th>\n      <td>AAB-NGA-RIN-NGA</td>\n      <td>Alumu-Tesu</td>\n      <td>aab</td>\n      <td>Nigeria</td>\n      <td>Niger-Congo</td>\n      <td>Nungu</td>\n      <td>rin</td>\n      <td>Nigeria</td>\n      <td>Niger-Congo</td>\n      <td>NaN</td>\n      <td>...</td>\n      <td>rin</td>\n      <td>aab</td>\n      <td>rin</td>\n      <td>TESU</td>\n      <td>missing</td>\n      <td>Niger-Congo,Atlantic-Congo,Volta-Congo,Benue-C...</td>\n      <td>Niger-Congo,Atlantic-Congo,Volta-Congo,Benue-C...</td>\n      <td>566.0</td>\n      <td>566.0</td>\n      <td>Africa</td>\n    </tr>\n    <tr>\n      <th>4</th>\n      <td>AAB-NGA-TDV-NGA</td>\n      <td>Alumu-Tesu</td>\n      <td>aab</td>\n      <td>Nigeria</td>\n      <td>Niger-Congo</td>\n      <td>Toro</td>\n      <td>tdv</td>\n      <td>Nigeria</td>\n      <td>Niger-Congo</td>\n      <td>0.532142</td>\n      <td>...</td>\n      <td>tdv</td>\n      <td>aab</td>\n      <td>tdv</td>\n      <td>TESU</td>\n      <td>TORO</td>\n      <td>Niger-Congo,Atlantic-Congo,Volta-Congo,Benue-C...</td>\n      <td>Niger-Congo,Atlantic-Congo,Volta-Congo,Benue-C...</td>\n      <td>566.0</td>\n      <td>566.0</td>\n      <td>Africa</td>\n    </tr>\n    <tr>\n      <th>...</th>\n      <td>...</td>\n      <td>...</td>\n      <td>...</td>\n      <td>...</td>\n      <td>...</td>\n      <td>...</td>\n      <td>...</td>\n      <td>...</td>\n      <td>...</td>\n      <td>...</td>\n      <td>...</td>\n      <td>...</td>\n      <td>...</td>\n      <td>...</td>\n      <td>...</td>\n      <td>...</td>\n      <td>...</td>\n      <td>...</td>\n      <td>...</td>\n      <td>...</td>\n      <td>...</td>\n    </tr>\n    <tr>\n      <th>15598</th>\n      <td>ZYN-CHN-YUE-CHN</td>\n      <td>Zhuang, Yongnan</td>\n      <td>zyn</td>\n      <td>China</td>\n      <td>Tai-Kadai</td>\n      <td>Chinese, Yue</td>\n      <td>yue</td>\n      <td>China</td>\n      <td>Sino-Tibetan</td>\n      <td>0.813015</td>\n      <td>...</td>\n      <td>yue</td>\n      <td>zyn</td>\n      <td>yue</td>\n      <td>NINGMING_YONGNAN_ZHUANG</td>\n      <td>CANTONESE</td>\n      <td>Tai-Kadai,Kam-Tai,Be-Tai,Tai-Sek,Tai,Central</td>\n      <td>Sino-Tibetan,Chinese</td>\n      <td>156.0</td>\n      <td>156.0</td>\n      <td>Asia</td>\n    </tr>\n    <tr>\n      <th>15599</th>\n      <td>ZZJ-CHN-CMN-CHN</td>\n      <td>Zhuang, Zuojiang</td>\n      <td>zzj</td>\n      <td>China</td>\n      <td>Tai-Kadai</td>\n      <td>Chinese, Mandarin</td>\n      <td>cmn</td>\n      <td>China</td>\n      <td>Sino-Tibetan</td>\n      <td>0.865388</td>\n      <td>...</td>\n      <td>cmn</td>\n      <td>zzj</td>\n      <td>cmn</td>\n      <td>LONGZHOU_ZHUANG</td>\n      <td>KUNMING_MANDARIN</td>\n      <td>Tai-Kadai,Kam-Tai,Be-Tai,Tai-Sek,Tai,Central</td>\n      <td>Sino-Tibetan,Chinese</td>\n      <td>156.0</td>\n      <td>156.0</td>\n      <td>Asia</td>\n    </tr>\n    <tr>\n      <th>15600</th>\n      <td>ZZJ-CHN-IUM-CHN</td>\n      <td>Zhuang, Zuojiang</td>\n      <td>zzj</td>\n      <td>China</td>\n      <td>Tai-Kadai</td>\n      <td>Iu Mien</td>\n      <td>ium</td>\n      <td>China</td>\n      <td>Hmong-Mien</td>\n      <td>0.844456</td>\n      <td>...</td>\n      <td>ium</td>\n      <td>zzj</td>\n      <td>ium</td>\n      <td>LONGZHOU_ZHUANG</td>\n      <td>CHIANGRAI_MIEN</td>\n      <td>Tai-Kadai,Kam-Tai,Be-Tai,Tai-Sek,Tai,Central</td>\n      <td>Hmong-Mien,Mienic,Mian-Jin</td>\n      <td>156.0</td>\n      <td>156.0</td>\n      <td>Asia</td>\n    </tr>\n    <tr>\n      <th>15601</th>\n      <td>ZZJ-CHN-TYZ-VNM</td>\n      <td>Zhuang, Zuojiang</td>\n      <td>zzj</td>\n      <td>China</td>\n      <td>Tai-Kadai</td>\n      <td>Tay</td>\n      <td>tyz</td>\n      <td>Vietnam</td>\n      <td>Tai-Kadai</td>\n      <td>0.528902</td>\n      <td>...</td>\n      <td>tyz</td>\n      <td>zzj</td>\n      <td>tyz</td>\n      <td>LONGZHOU_ZHUANG</td>\n      <td>TAY</td>\n      <td>Tai-Kadai,Kam-Tai,Be-Tai,Tai-Sek,Tai,Central</td>\n      <td>Tai-Kadai,Kam-Tai,Be-Tai,Tai-Sek,Tai,Central</td>\n      <td>156.0</td>\n      <td>704.0</td>\n      <td>Asia</td>\n    </tr>\n    <tr>\n      <th>15602</th>\n      <td>ZZJ-CHN-ZYN-CHN</td>\n      <td>Zhuang, Zuojiang</td>\n      <td>zzj</td>\n      <td>China</td>\n      <td>Tai-Kadai</td>\n      <td>Zhuang, Yongnan</td>\n      <td>zyn</td>\n      <td>China</td>\n      <td>Tai-Kadai</td>\n      <td>0.452969</td>\n      <td>...</td>\n      <td>zyn</td>\n      <td>zzj</td>\n      <td>zyn</td>\n      <td>LONGZHOU_ZHUANG</td>\n      <td>NINGMING_YONGNAN_ZHUANG</td>\n      <td>Tai-Kadai,Kam-Tai,Be-Tai,Tai-Sek,Tai,Central</td>\n      <td>Tai-Kadai,Kam-Tai,Be-Tai,Tai-Sek,Tai,Central</td>\n      <td>156.0</td>\n      <td>156.0</td>\n      <td>Asia</td>\n    </tr>\n  </tbody>\n</table>\n<p>15603 rows × 101 columns</p>\n</div>",
            "text/plain": "            identifier   langName_ethno1 langIso1 country1      family1    langName_ethno2 langIso2 country2       family2  lingDist  ...  \\\n0      AAA-NGA-EMA-NGA            Ghotuo      aaa  Nigeria  Niger-Congo    Emai-Iuleha-Ora      ema  Nigeria   Niger-Congo  0.459362  ...   \n1      AAA-NGA-OKE-NGA            Ghotuo      aaa  Nigeria  Niger-Congo               Okpe      oke  Nigeria   Niger-Congo  0.628569  ...   \n2      AAB-NGA-JID-NGA        Alumu-Tesu      aab  Nigeria  Niger-Congo                 Bu      jid  Nigeria   Niger-Congo  0.833333  ...   \n3      AAB-NGA-RIN-NGA        Alumu-Tesu      aab  Nigeria  Niger-Congo              Nungu      rin  Nigeria   Niger-Congo       NaN  ...   \n4      AAB-NGA-TDV-NGA        Alumu-Tesu      aab  Nigeria  Niger-Congo               Toro      tdv  Nigeria   Niger-Congo  0.532142  ...   \n...                ...               ...      ...      ...          ...                ...      ...      ...           ...       ...  ...   \n15598  ZYN-CHN-YUE-CHN   Zhuang, Yongnan      zyn    China    Tai-Kadai       Chinese, Yue      yue    China  Sino-Tibetan  0.813015  ...   \n15599  ZZJ-CHN-CMN-CHN  Zhuang, Zuojiang      zzj    China    Tai-Kadai  Chinese, Mandarin      cmn    China  Sino-Tibetan  0.865388  ...   \n15600  ZZJ-CHN-IUM-CHN  Zhuang, Zuojiang      zzj    China    Tai-Kadai            Iu Mien      ium    China    Hmong-Mien  0.844456  ...   \n15601  ZZJ-CHN-TYZ-VNM  Zhuang, Zuojiang      zzj    China    Tai-Kadai                Tay      tyz  Vietnam     Tai-Kadai  0.528902  ...   \n15602  ZZJ-CHN-ZYN-CHN  Zhuang, Zuojiang      zzj    China    Tai-Kadai    Zhuang, Yongnan      zyn    China     Tai-Kadai  0.452969  ...   \n\n       langIso_ethno2  langIso_asjp1  langIso_asjp2           langName_asjp1           langName_asjp2  \\\n0                 ema            aaa            ema                   GHOTUO                     AOMA   \n1                 oke            aaa            oke                   GHOTUO                     OKPE   \n2                 jid            aab            jid                     TESU               BU_NIGERIA   \n3                 rin            aab            rin                     TESU                  missing   \n4                 tdv            aab            tdv                     TESU                     TORO   \n...               ...            ...            ...                      ...                      ...   \n15598             yue            zyn            yue  NINGMING_YONGNAN_ZHUANG                CANTONESE   \n15599             cmn            zzj            cmn          LONGZHOU_ZHUANG         KUNMING_MANDARIN   \n15600             ium            zzj            ium          LONGZHOU_ZHUANG           CHIANGRAI_MIEN   \n15601             tyz            zzj            tyz          LONGZHOU_ZHUANG                      TAY   \n15602             zyn            zzj            zyn          LONGZHOU_ZHUANG  NINGMING_YONGNAN_ZHUANG   \n\n                                             familyTree1                                        familyTree2  ccode1  ccode2  region  \n0      Niger-Congo,Atlantic-Congo,Volta-Congo,Benue-C...  Niger-Congo,Atlantic-Congo,Volta-Congo,Benue-C...   566.0   566.0  Africa  \n1      Niger-Congo,Atlantic-Congo,Volta-Congo,Benue-C...  Niger-Congo,Atlantic-Congo,Volta-Congo,Benue-C...   566.0   566.0  Africa  \n2      Niger-Congo,Atlantic-Congo,Volta-Congo,Benue-C...  Niger-Congo,Atlantic-Congo,Volta-Congo,Benue-C...   566.0   566.0  Africa  \n3      Niger-Congo,Atlantic-Congo,Volta-Congo,Benue-C...  Niger-Congo,Atlantic-Congo,Volta-Congo,Benue-C...   566.0   566.0  Africa  \n4      Niger-Congo,Atlantic-Congo,Volta-Congo,Benue-C...  Niger-Congo,Atlantic-Congo,Volta-Congo,Benue-C...   566.0   566.0  Africa  \n...                                                  ...                                                ...     ...     ...     ...  \n15598       Tai-Kadai,Kam-Tai,Be-Tai,Tai-Sek,Tai,Central                               Sino-Tibetan,Chinese   156.0   156.0    Asia  \n15599       Tai-Kadai,Kam-Tai,Be-Tai,Tai-Sek,Tai,Central                               Sino-Tibetan,Chinese   156.0   156.0    Asia  \n15600       Tai-Kadai,Kam-Tai,Be-Tai,Tai-Sek,Tai,Central                         Hmong-Mien,Mienic,Mian-Jin   156.0   156.0    Asia  \n15601       Tai-Kadai,Kam-Tai,Be-Tai,Tai-Sek,Tai,Central       Tai-Kadai,Kam-Tai,Be-Tai,Tai-Sek,Tai,Central   156.0   704.0    Asia  \n15602       Tai-Kadai,Kam-Tai,Be-Tai,Tai-Sek,Tai,Central       Tai-Kadai,Kam-Tai,Be-Tai,Tai-Sek,Tai,Central   156.0   156.0    Asia  \n\n[15603 rows x 101 columns]"
          },
          "execution_count": 5,
          "metadata": {},
          "output_type": "execute_result"
        }
      ],
      "execution_count": null,
      "block_group": "382b32464e0d471bad86ba946f04a6cf"
    },
    {
      "cell_type": "code",
      "source": "dfor.loc[dfor.identifier=='SPA-MEX-SPA-GTM']",
      "metadata": {
        "deepnote_app_coordinates": {
          "h": 120,
          "w": 12,
          "x": 0,
          "y": 0
        },
        "cell_id": "c426bb1240944250b38cbea8281572b9",
        "deepnote_cell_type": "code"
      },
      "outputs": [
        {
          "data": {
            "text/html": "<div>\n<style scoped>\n    .dataframe tbody tr th:only-of-type {\n        vertical-align: middle;\n    }\n\n    .dataframe tbody tr th {\n        vertical-align: top;\n    }\n\n    .dataframe thead th {\n        text-align: right;\n    }\n</style>\n<table border=\"1\" class=\"dataframe\">\n  <thead>\n    <tr style=\"text-align: right;\">\n      <th></th>\n      <th>identifier</th>\n      <th>langName_ethno1</th>\n      <th>langIso1</th>\n      <th>country1</th>\n      <th>family1</th>\n      <th>langName_ethno2</th>\n      <th>langIso2</th>\n      <th>country2</th>\n      <th>family2</th>\n      <th>lingDist</th>\n      <th>...</th>\n      <th>langIso_ethno2</th>\n      <th>langIso_asjp1</th>\n      <th>langIso_asjp2</th>\n      <th>langName_asjp1</th>\n      <th>langName_asjp2</th>\n      <th>familyTree1</th>\n      <th>familyTree2</th>\n      <th>ccode1</th>\n      <th>ccode2</th>\n      <th>region</th>\n    </tr>\n  </thead>\n  <tbody>\n  </tbody>\n</table>\n<p>0 rows × 101 columns</p>\n</div>",
            "text/plain": "Empty DataFrame\nColumns: [identifier, langName_ethno1, langIso1, country1, family1, langName_ethno2, langIso2, country2, family2, lingDist, csi, csi_change, csi_sd, csi_change_sd, elev, elev_sd, elev_range, prec, prec_sd, prec_range, temp, temp_sd, temp_range, malaria, malaria_sd, malaria_range, dist_coast, dist_lake, dist_rivmaj, dist_rivmin, dist_border, dist_pre600, dist_pre1800, dist_lang, ldist_coast, ldist_lake, ldist_rivmaj, ldist_rivmin, ldist_border, ldist_lang, ldist_pre600, ldist_pre1800, asia, africa, europe, oceania, americas, oldworld, nativePop50, nativePop25, nativePop75, nativePopShare1, nativePopShare2, latitude, longitude, langLat1, langLon1, langLat2, langLon2, langLat_diff, langLon_diff, langPop1, langPop2, ln_langPop, langPop_diff, langArea1, langArea2, ln_langArea, langArea_diff, area, larea, branch1, branch2, branch3, branch4, branch5, branch6, branch7, branch8, branch9, branch10, branch11, branch12, branch13, branch14, overlap, sibling, samecountry, langID1, langID2, langIso_ethno1, langIso_ethno2, langIso_asjp1, langIso_asjp2, langName_asjp1, langName_asjp2, familyTree1, familyTree2, ccode1, ccode2, ...]\nIndex: []\n\n[0 rows x 101 columns]"
          },
          "execution_count": 6,
          "metadata": {},
          "output_type": "execute_result"
        }
      ],
      "execution_count": null,
      "block_group": "96185c7f1f544d7e9b927df1126239e9"
    },
    {
      "cell_type": "code",
      "source": "dfor.loc[dfor.identifier=='SPA-GTM-SPA-MEX']",
      "metadata": {
        "deepnote_app_coordinates": {
          "h": 120,
          "w": 12,
          "x": 0,
          "y": 0
        },
        "cell_id": "2f5c078b80cc4aa9b8292e1d2cb8913c",
        "deepnote_cell_type": "code"
      },
      "outputs": [
        {
          "data": {
            "text/html": "<div>\n<style scoped>\n    .dataframe tbody tr th:only-of-type {\n        vertical-align: middle;\n    }\n\n    .dataframe tbody tr th {\n        vertical-align: top;\n    }\n\n    .dataframe thead th {\n        text-align: right;\n    }\n</style>\n<table border=\"1\" class=\"dataframe\">\n  <thead>\n    <tr style=\"text-align: right;\">\n      <th></th>\n      <th>identifier</th>\n      <th>langName_ethno1</th>\n      <th>langIso1</th>\n      <th>country1</th>\n      <th>family1</th>\n      <th>langName_ethno2</th>\n      <th>langIso2</th>\n      <th>country2</th>\n      <th>family2</th>\n      <th>lingDist</th>\n      <th>...</th>\n      <th>langIso_ethno2</th>\n      <th>langIso_asjp1</th>\n      <th>langIso_asjp2</th>\n      <th>langName_asjp1</th>\n      <th>langName_asjp2</th>\n      <th>familyTree1</th>\n      <th>familyTree2</th>\n      <th>ccode1</th>\n      <th>ccode2</th>\n      <th>region</th>\n    </tr>\n  </thead>\n  <tbody>\n  </tbody>\n</table>\n<p>0 rows × 101 columns</p>\n</div>",
            "text/plain": "Empty DataFrame\nColumns: [identifier, langName_ethno1, langIso1, country1, family1, langName_ethno2, langIso2, country2, family2, lingDist, csi, csi_change, csi_sd, csi_change_sd, elev, elev_sd, elev_range, prec, prec_sd, prec_range, temp, temp_sd, temp_range, malaria, malaria_sd, malaria_range, dist_coast, dist_lake, dist_rivmaj, dist_rivmin, dist_border, dist_pre600, dist_pre1800, dist_lang, ldist_coast, ldist_lake, ldist_rivmaj, ldist_rivmin, ldist_border, ldist_lang, ldist_pre600, ldist_pre1800, asia, africa, europe, oceania, americas, oldworld, nativePop50, nativePop25, nativePop75, nativePopShare1, nativePopShare2, latitude, longitude, langLat1, langLon1, langLat2, langLon2, langLat_diff, langLon_diff, langPop1, langPop2, ln_langPop, langPop_diff, langArea1, langArea2, ln_langArea, langArea_diff, area, larea, branch1, branch2, branch3, branch4, branch5, branch6, branch7, branch8, branch9, branch10, branch11, branch12, branch13, branch14, overlap, sibling, samecountry, langID1, langID2, langIso_ethno1, langIso_ethno2, langIso_asjp1, langIso_asjp2, langName_asjp1, langName_asjp2, familyTree1, familyTree2, ccode1, ccode2, ...]\nIndex: []\n\n[0 rows x 101 columns]"
          },
          "execution_count": 7,
          "metadata": {},
          "output_type": "execute_result"
        }
      ],
      "execution_count": null,
      "block_group": "f88d26f99ff14e1889a9c8ba45577ac4"
    },
    {
      "cell_type": "code",
      "source": "dfor.loc[dfor.identifier=='AAA-NGA-EMA-NGA']",
      "metadata": {
        "deepnote_app_coordinates": {
          "h": 120,
          "w": 12,
          "x": 0,
          "y": 0
        },
        "cell_id": "88e2aeeb550c419eaa7077f3de3a94bc",
        "deepnote_cell_type": "code"
      },
      "outputs": [
        {
          "data": {
            "text/html": "<div>\n<style scoped>\n    .dataframe tbody tr th:only-of-type {\n        vertical-align: middle;\n    }\n\n    .dataframe tbody tr th {\n        vertical-align: top;\n    }\n\n    .dataframe thead th {\n        text-align: right;\n    }\n</style>\n<table border=\"1\" class=\"dataframe\">\n  <thead>\n    <tr style=\"text-align: right;\">\n      <th></th>\n      <th>identifier</th>\n      <th>langName_ethno1</th>\n      <th>langIso1</th>\n      <th>country1</th>\n      <th>family1</th>\n      <th>langName_ethno2</th>\n      <th>langIso2</th>\n      <th>country2</th>\n      <th>family2</th>\n      <th>lingDist</th>\n      <th>...</th>\n      <th>langIso_ethno2</th>\n      <th>langIso_asjp1</th>\n      <th>langIso_asjp2</th>\n      <th>langName_asjp1</th>\n      <th>langName_asjp2</th>\n      <th>familyTree1</th>\n      <th>familyTree2</th>\n      <th>ccode1</th>\n      <th>ccode2</th>\n      <th>region</th>\n    </tr>\n  </thead>\n  <tbody>\n    <tr>\n      <th>0</th>\n      <td>AAA-NGA-EMA-NGA</td>\n      <td>Ghotuo</td>\n      <td>aaa</td>\n      <td>Nigeria</td>\n      <td>Niger-Congo</td>\n      <td>Emai-Iuleha-Ora</td>\n      <td>ema</td>\n      <td>Nigeria</td>\n      <td>Niger-Congo</td>\n      <td>0.459362</td>\n      <td>...</td>\n      <td>ema</td>\n      <td>aaa</td>\n      <td>ema</td>\n      <td>GHOTUO</td>\n      <td>AOMA</td>\n      <td>Niger-Congo,Atlantic-Congo,Volta-Congo,Benue-C...</td>\n      <td>Niger-Congo,Atlantic-Congo,Volta-Congo,Benue-C...</td>\n      <td>566.0</td>\n      <td>566.0</td>\n      <td>Africa</td>\n    </tr>\n  </tbody>\n</table>\n<p>1 rows × 101 columns</p>\n</div>",
            "text/plain": "        identifier langName_ethno1 langIso1 country1      family1  langName_ethno2 langIso2 country2      family2  lingDist  ...  \\\n0  AAA-NGA-EMA-NGA          Ghotuo      aaa  Nigeria  Niger-Congo  Emai-Iuleha-Ora      ema  Nigeria  Niger-Congo  0.459362  ...   \n\n   langIso_ethno2  langIso_asjp1  langIso_asjp2  langName_asjp1  langName_asjp2                                        familyTree1  \\\n0             ema            aaa            ema          GHOTUO            AOMA  Niger-Congo,Atlantic-Congo,Volta-Congo,Benue-C...   \n\n                                         familyTree2  ccode1  ccode2  region  \n0  Niger-Congo,Atlantic-Congo,Volta-Congo,Benue-C...   566.0   566.0  Africa  \n\n[1 rows x 101 columns]"
          },
          "execution_count": 8,
          "metadata": {},
          "output_type": "execute_result"
        }
      ],
      "execution_count": null,
      "block_group": "c5392b7f4db14966bf3cbb70623a4374"
    },
    {
      "cell_type": "code",
      "source": "dfor.loc[dfor.identifier=='EMA-NGA-AAA-NGA']",
      "metadata": {
        "deepnote_app_coordinates": {
          "h": 120,
          "w": 12,
          "x": 0,
          "y": 0
        },
        "cell_id": "cc30e52a0a6a40c4b31ba4e70fd41a50",
        "deepnote_cell_type": "code"
      },
      "outputs": [
        {
          "data": {
            "text/html": "<div>\n<style scoped>\n    .dataframe tbody tr th:only-of-type {\n        vertical-align: middle;\n    }\n\n    .dataframe tbody tr th {\n        vertical-align: top;\n    }\n\n    .dataframe thead th {\n        text-align: right;\n    }\n</style>\n<table border=\"1\" class=\"dataframe\">\n  <thead>\n    <tr style=\"text-align: right;\">\n      <th></th>\n      <th>identifier</th>\n      <th>langName_ethno1</th>\n      <th>langIso1</th>\n      <th>country1</th>\n      <th>family1</th>\n      <th>langName_ethno2</th>\n      <th>langIso2</th>\n      <th>country2</th>\n      <th>family2</th>\n      <th>lingDist</th>\n      <th>...</th>\n      <th>langIso_ethno2</th>\n      <th>langIso_asjp1</th>\n      <th>langIso_asjp2</th>\n      <th>langName_asjp1</th>\n      <th>langName_asjp2</th>\n      <th>familyTree1</th>\n      <th>familyTree2</th>\n      <th>ccode1</th>\n      <th>ccode2</th>\n      <th>region</th>\n    </tr>\n  </thead>\n  <tbody>\n  </tbody>\n</table>\n<p>0 rows × 101 columns</p>\n</div>",
            "text/plain": "Empty DataFrame\nColumns: [identifier, langName_ethno1, langIso1, country1, family1, langName_ethno2, langIso2, country2, family2, lingDist, csi, csi_change, csi_sd, csi_change_sd, elev, elev_sd, elev_range, prec, prec_sd, prec_range, temp, temp_sd, temp_range, malaria, malaria_sd, malaria_range, dist_coast, dist_lake, dist_rivmaj, dist_rivmin, dist_border, dist_pre600, dist_pre1800, dist_lang, ldist_coast, ldist_lake, ldist_rivmaj, ldist_rivmin, ldist_border, ldist_lang, ldist_pre600, ldist_pre1800, asia, africa, europe, oceania, americas, oldworld, nativePop50, nativePop25, nativePop75, nativePopShare1, nativePopShare2, latitude, longitude, langLat1, langLon1, langLat2, langLon2, langLat_diff, langLon_diff, langPop1, langPop2, ln_langPop, langPop_diff, langArea1, langArea2, ln_langArea, langArea_diff, area, larea, branch1, branch2, branch3, branch4, branch5, branch6, branch7, branch8, branch9, branch10, branch11, branch12, branch13, branch14, overlap, sibling, samecountry, langID1, langID2, langIso_ethno1, langIso_ethno2, langIso_asjp1, langIso_asjp2, langName_asjp1, langName_asjp2, familyTree1, familyTree2, ccode1, ccode2, ...]\nIndex: []\n\n[0 rows x 101 columns]"
          },
          "execution_count": 9,
          "metadata": {},
          "output_type": "execute_result"
        }
      ],
      "execution_count": null,
      "block_group": "65b883d5824d47868af8d943f94bd64f"
    },
    {
      "cell_type": "markdown",
      "source": "# New Data\n## Create borders and buffers using full dataset from Ethnologue 17 edition (paper uses version 16)\n###  Import data and transform CRS",
      "metadata": {
        "deepnote_app_coordinates": {
          "h": 120,
          "w": 12,
          "x": 0,
          "y": 0
        },
        "cell_id": "66eaa4a5281d4d02aea4ebf8f8116085",
        "deepnote_cell_type": "markdown"
      },
      "block_group": "8eb989543421451e8a7784466c00fcf3"
    },
    {
      "cell_type": "code",
      "source": "ethno = gp.read_file(pathethno + 'langa.shp')\n#ethno = ethno.to_crs(cea)\n#ethno['key'] = 0\nethno.head()",
      "metadata": {
        "deepnote_app_coordinates": {
          "h": 120,
          "w": 12,
          "x": 0,
          "y": 0
        },
        "cell_id": "8a7db8bd15fa4dc58dbee489d42f71a6",
        "deepnote_cell_type": "code"
      },
      "outputs": [
        {
          "data": {
            "text/html": "<div>\n<style scoped>\n    .dataframe tbody tr th:only-of-type {\n        vertical-align: middle;\n    }\n\n    .dataframe tbody tr th {\n        vertical-align: top;\n    }\n\n    .dataframe thead th {\n        text-align: right;\n    }\n</style>\n<table border=\"1\" class=\"dataframe\">\n  <thead>\n    <tr style=\"text-align: right;\">\n      <th></th>\n      <th>ID</th>\n      <th>ID_ISO_A3</th>\n      <th>ID_ISO_A2</th>\n      <th>ID_FIPS</th>\n      <th>NAM_LABEL</th>\n      <th>NAME_PROP</th>\n      <th>NAME2</th>\n      <th>NAM_ANSI</th>\n      <th>CNT</th>\n      <th>C1</th>\n      <th>POP</th>\n      <th>LMP_POP1</th>\n      <th>G</th>\n      <th>LMP_CLASS</th>\n      <th>FAMILYPROP</th>\n      <th>FAMILY</th>\n      <th>LMP_C1</th>\n      <th>LANG_ISO</th>\n      <th>geometry</th>\n    </tr>\n  </thead>\n  <tbody>\n    <tr>\n      <th>0</th>\n      <td>RUS-RUS</td>\n      <td>rus-RUS</td>\n      <td>rus-ru</td>\n      <td>rus-RS</td>\n      <td>Russian</td>\n      <td>Russian</td>\n      <td>RUSSIAN</td>\n      <td>Russian</td>\n      <td>Europe</td>\n      <td>Russian Federation</td>\n      <td>116,000,000 in Russian Federation (2002 census)</td>\n      <td>116000000</td>\n      <td>Indo-European, Slavic, East</td>\n      <td>L</td>\n      <td>Indo-European</td>\n      <td>INDO-EUROPEAN</td>\n      <td>Russian Federation</td>\n      <td>rus</td>\n      <td>MULTIPOLYGON (((45.11381 43.19151, 45.06952 43...</td>\n    </tr>\n    <tr>\n      <th>1</th>\n      <td>ENG-USA</td>\n      <td>eng-USA</td>\n      <td>eng-us</td>\n      <td>eng-US</td>\n      <td>English</td>\n      <td>English</td>\n      <td>ENGLISH</td>\n      <td>English</td>\n      <td>Americas</td>\n      <td>United States</td>\n      <td>215,000,000 in United States (2000 census)</td>\n      <td>215000000</td>\n      <td>Indo-European, Germanic, West, English</td>\n      <td>L</td>\n      <td>Indo-European</td>\n      <td>INDO-EUROPEAN</td>\n      <td>United States</td>\n      <td>eng</td>\n      <td>MULTIPOLYGON (((-75.11965 19.97388, -75.11741 ...</td>\n    </tr>\n    <tr>\n      <th>2</th>\n      <td>POR-BRA</td>\n      <td>por-BRA</td>\n      <td>por-br</td>\n      <td>por-BR</td>\n      <td>Portuguese</td>\n      <td>Portuguese</td>\n      <td>PORTUGUESE</td>\n      <td>Portuguese</td>\n      <td>Americas</td>\n      <td>Brazil</td>\n      <td>163,000,000 in Brazil (1998)</td>\n      <td>163000000</td>\n      <td>Indo-European, Italic, Romance, Italo-Western,...</td>\n      <td>L</td>\n      <td>Indo-European</td>\n      <td>INDO-EUROPEAN</td>\n      <td>Brazil</td>\n      <td>por</td>\n      <td>MULTIPOLYGON (((-52.13058 -31.97901, -52.12447...</td>\n    </tr>\n    <tr>\n      <th>3</th>\n      <td>ENG-AUS</td>\n      <td>eng-AUS</td>\n      <td>eng-au</td>\n      <td>eng-AS</td>\n      <td>English</td>\n      <td>English</td>\n      <td>ENGLISH</td>\n      <td>English</td>\n      <td>Pacific</td>\n      <td>Australia</td>\n      <td>17,400,000 in Australia (2006)</td>\n      <td>17400000</td>\n      <td>Indo-European, Germanic, West, English</td>\n      <td>L</td>\n      <td>Indo-European</td>\n      <td>INDO-EUROPEAN</td>\n      <td>Australia</td>\n      <td>eng</td>\n      <td>MULTIPOLYGON (((147.36099 -43.08758, 147.36375...</td>\n    </tr>\n    <tr>\n      <th>4</th>\n      <td>CMN-CHN</td>\n      <td>cmn-CHN</td>\n      <td>cmn-cn</td>\n      <td>cmn-CH</td>\n      <td>Mandarin Chinese</td>\n      <td>Chinese, Mandarin</td>\n      <td>CHINESE, MANDARIN</td>\n      <td>Chinese, Mandarin</td>\n      <td>Asia</td>\n      <td>China</td>\n      <td>840,000,000 in China (2000 census)</td>\n      <td>840000000</td>\n      <td>Sino-Tibetan, Chinese</td>\n      <td>L</td>\n      <td>Sino-Tibetan</td>\n      <td>SINO-TIBETAN</td>\n      <td>China</td>\n      <td>cmn</td>\n      <td>MULTIPOLYGON (((108.65391 19.06045, 108.63222 ...</td>\n    </tr>\n  </tbody>\n</table>\n</div>",
            "text/plain": "        ID ID_ISO_A3 ID_ISO_A2 ID_FIPS         NAM_LABEL          NAME_PROP              NAME2           NAM_ANSI       CNT  \\\n0  RUS-RUS   rus-RUS    rus-ru  rus-RS           Russian            Russian            RUSSIAN            Russian    Europe   \n1  ENG-USA   eng-USA    eng-us  eng-US           English            English            ENGLISH            English  Americas   \n2  POR-BRA   por-BRA    por-br  por-BR        Portuguese         Portuguese         PORTUGUESE         Portuguese  Americas   \n3  ENG-AUS   eng-AUS    eng-au  eng-AS           English            English            ENGLISH            English   Pacific   \n4  CMN-CHN   cmn-CHN    cmn-cn  cmn-CH  Mandarin Chinese  Chinese, Mandarin  CHINESE, MANDARIN  Chinese, Mandarin      Asia   \n\n                   C1                                              POP   LMP_POP1                                                  G  \\\n0  Russian Federation  116,000,000 in Russian Federation (2002 census)  116000000                        Indo-European, Slavic, East   \n1       United States       215,000,000 in United States (2000 census)  215000000             Indo-European, Germanic, West, English   \n2              Brazil                     163,000,000 in Brazil (1998)  163000000  Indo-European, Italic, Romance, Italo-Western,...   \n3           Australia                   17,400,000 in Australia (2006)   17400000             Indo-European, Germanic, West, English   \n4               China               840,000,000 in China (2000 census)  840000000                              Sino-Tibetan, Chinese   \n\n  LMP_CLASS     FAMILYPROP         FAMILY              LMP_C1 LANG_ISO                                           geometry  \n0         L  Indo-European  INDO-EUROPEAN  Russian Federation      rus  MULTIPOLYGON (((45.11381 43.19151, 45.06952 43...  \n1         L  Indo-European  INDO-EUROPEAN       United States      eng  MULTIPOLYGON (((-75.11965 19.97388, -75.11741 ...  \n2         L  Indo-European  INDO-EUROPEAN              Brazil      por  MULTIPOLYGON (((-52.13058 -31.97901, -52.12447...  \n3         L  Indo-European  INDO-EUROPEAN           Australia      eng  MULTIPOLYGON (((147.36099 -43.08758, 147.36375...  \n4         L   Sino-Tibetan   SINO-TIBETAN               China      cmn  MULTIPOLYGON (((108.65391 19.06045, 108.63222 ...  "
          },
          "execution_count": 23,
          "metadata": {},
          "output_type": "execute_result"
        }
      ],
      "execution_count": null,
      "block_group": "cfa6fa8696994522855682575b6f2cd4"
    },
    {
      "cell_type": "code",
      "source": "ethno = ethno.loc[ethno.LMP_POP1>0].reset_index(drop=True)",
      "metadata": {
        "deepnote_app_coordinates": {
          "h": 120,
          "w": 12,
          "x": 0,
          "y": 0
        },
        "cell_id": "34d8254247c14d978a98e86b00dd822f",
        "deepnote_cell_type": "code"
      },
      "outputs": [],
      "execution_count": null,
      "block_group": "b0de2c6e43da411bba7548a379bb0fb0"
    },
    {
      "cell_type": "code",
      "source": "ethno.shape",
      "metadata": {
        "deepnote_app_coordinates": {
          "h": 120,
          "w": 12,
          "x": 0,
          "y": 0
        },
        "cell_id": "0d3c8312e08743eb857aad2803dd3133",
        "deepnote_cell_type": "code"
      },
      "outputs": [
        {
          "data": {
            "text/plain": "(7327, 19)"
          },
          "execution_count": 25,
          "metadata": {},
          "output_type": "execute_result"
        }
      ],
      "execution_count": null,
      "block_group": "535bdd42aa9e4caf9b2261c13c81d03b"
    },
    {
      "cell_type": "markdown",
      "source": "## Create borders and buffers using full dataset from Ethnologue 17 edition (paper uses version 16)\nFind duplicated languages x country. Unlike v16, v17 has a duplicated language",
      "metadata": {
        "deepnote_app_coordinates": {
          "h": 120,
          "w": 12,
          "x": 0,
          "y": 0
        },
        "cell_id": "88bda85f889e468f8b42a1e7c1ac4f66",
        "deepnote_cell_type": "markdown"
      },
      "block_group": "7046ddd8c3944409909afdfbad8d1498"
    },
    {
      "cell_type": "code",
      "source": "ethno.loc[ethno.duplicated('ID')]",
      "metadata": {
        "deepnote_app_coordinates": {
          "h": 120,
          "w": 12,
          "x": 0,
          "y": 0
        },
        "cell_id": "f8bc3b9b3f644eb8b4951dd29ca81296",
        "deepnote_cell_type": "code"
      },
      "outputs": [
        {
          "data": {
            "text/html": "<div>\n<style scoped>\n    .dataframe tbody tr th:only-of-type {\n        vertical-align: middle;\n    }\n\n    .dataframe tbody tr th {\n        vertical-align: top;\n    }\n\n    .dataframe thead th {\n        text-align: right;\n    }\n</style>\n<table border=\"1\" class=\"dataframe\">\n  <thead>\n    <tr style=\"text-align: right;\">\n      <th></th>\n      <th>ID</th>\n      <th>ID_ISO_A3</th>\n      <th>ID_ISO_A2</th>\n      <th>ID_FIPS</th>\n      <th>NAM_LABEL</th>\n      <th>NAME_PROP</th>\n      <th>NAME2</th>\n      <th>NAM_ANSI</th>\n      <th>CNT</th>\n      <th>C1</th>\n      <th>POP</th>\n      <th>LMP_POP1</th>\n      <th>G</th>\n      <th>LMP_CLASS</th>\n      <th>FAMILYPROP</th>\n      <th>FAMILY</th>\n      <th>LMP_C1</th>\n      <th>LANG_ISO</th>\n      <th>geometry</th>\n    </tr>\n  </thead>\n  <tbody>\n  </tbody>\n</table>\n</div>",
            "text/plain": "Empty GeoDataFrame\nColumns: [ID, ID_ISO_A3, ID_ISO_A2, ID_FIPS, NAM_LABEL, NAME_PROP, NAME2, NAM_ANSI, CNT, C1, POP, LMP_POP1, G, LMP_CLASS, FAMILYPROP, FAMILY, LMP_C1, LANG_ISO, geometry]\nIndex: []"
          },
          "execution_count": 36,
          "metadata": {},
          "output_type": "execute_result"
        }
      ],
      "execution_count": null,
      "block_group": "35d1e1f206d5414ab18567951d0016dd"
    },
    {
      "cell_type": "markdown",
      "source": "## Create all pairs of languages/countries",
      "metadata": {
        "user_expressions": [],
        "deepnote_app_coordinates": {
          "h": 120,
          "w": 12,
          "x": 0,
          "y": 0
        },
        "cell_id": "00d7ded0fa854caf80935949bcc7981e",
        "deepnote_cell_type": "markdown"
      },
      "block_group": "3f8cc3cd80154a33a893abb8cbbd93f8"
    },
    {
      "cell_type": "code",
      "source": "import multiprocessing\nnb_cpus = multiprocessing.cpu_count()\nprint(nb_cpus)\n\nimport dask.dataframe as dd\nfrom dask.distributed import Client, progress\nclient = Client(processes=True,threads_per_worker=1, n_workers=nb_cpus,memory_limit='64G')\n\n# Create a Dask client to utilize multiple cores\nclient = Client()\nclient",
      "metadata": {
        "deepnote_app_coordinates": {
          "h": 120,
          "w": 12,
          "x": 0,
          "y": 0
        },
        "cell_id": "b6e394925bee476ba6fe657830a23f80",
        "deepnote_cell_type": "code"
      },
      "outputs": [
        {
          "name": "stdout",
          "output_type": "stream",
          "text": "128\n"
        },
        {
          "name": "stderr",
          "output_type": "stream",
          "text": "/users/ozak/micromamba/envs/GeoPython39env/lib/python3.9/site-packages/distributed/node.py:182: UserWarning: Port 8787 is already in use.\nPerhaps you already have a cluster running?\nHosting the HTTP server on port 34835 instead\n  warnings.warn(\n/users/ozak/micromamba/envs/GeoPython39env/lib/python3.9/site-packages/distributed/node.py:182: UserWarning: Port 8787 is already in use.\nPerhaps you already have a cluster running?\nHosting the HTTP server on port 35263 instead\n  warnings.warn(\n"
        },
        {
          "data": {
            "text/html": "<div>\n    <div style=\"width: 24px; height: 24px; background-color: #e1e1e1; border: 3px solid #9D9D9D; border-radius: 5px; position: absolute;\"> </div>\n    <div style=\"margin-left: 48px;\">\n        <h3 style=\"margin-bottom: 0px;\">Client</h3>\n        <p style=\"color: #9D9D9D; margin-bottom: 0px;\">Client-0be0879c-07fa-11ee-9a48-7cc25524a256</p>\n        <table style=\"width: 100%; text-align: left;\">\n\n        <tr>\n        \n            <td style=\"text-align: left;\"><strong>Connection method:</strong> Cluster object</td>\n            <td style=\"text-align: left;\"><strong>Cluster type:</strong> distributed.LocalCluster</td>\n        \n        </tr>\n\n        \n            <tr>\n                <td style=\"text-align: left;\">\n                    <strong>Dashboard: </strong> <a href=\"http://127.0.0.1:35263/status\" target=\"_blank\">http://127.0.0.1:35263/status</a>\n                </td>\n                <td style=\"text-align: left;\"></td>\n            </tr>\n        \n\n        </table>\n\n        \n            <button style=\"margin-bottom: 12px;\" data-commandlinker-command=\"dask:populate-and-launch-layout\" data-commandlinker-args='{\"url\": \"http://127.0.0.1:35263/status\" }'>\n                Launch dashboard in JupyterLab\n            </button>\n        \n\n        \n            <details>\n            <summary style=\"margin-bottom: 20px;\"><h3 style=\"display: inline;\">Cluster Info</h3></summary>\n            <div class=\"jp-RenderedHTMLCommon jp-RenderedHTML jp-mod-trusted jp-OutputArea-output\">\n    <div style=\"width: 24px; height: 24px; background-color: #e1e1e1; border: 3px solid #9D9D9D; border-radius: 5px; position: absolute;\">\n    </div>\n    <div style=\"margin-left: 48px;\">\n        <h3 style=\"margin-bottom: 0px; margin-top: 0px;\">LocalCluster</h3>\n        <p style=\"color: #9D9D9D; margin-bottom: 0px;\">6bcb1ce5</p>\n        <table style=\"width: 100%; text-align: left;\">\n            <tr>\n                <td style=\"text-align: left;\">\n                    <strong>Dashboard:</strong> <a href=\"http://127.0.0.1:35263/status\" target=\"_blank\">http://127.0.0.1:35263/status</a>\n                </td>\n                <td style=\"text-align: left;\">\n                    <strong>Workers:</strong> 16\n                </td>\n            </tr>\n            <tr>\n                <td style=\"text-align: left;\">\n                    <strong>Total threads:</strong> 128\n                </td>\n                <td style=\"text-align: left;\">\n                    <strong>Total memory:</strong> 500.00 GiB\n                </td>\n            </tr>\n            \n            <tr>\n    <td style=\"text-align: left;\"><strong>Status:</strong> running</td>\n    <td style=\"text-align: left;\"><strong>Using processes:</strong> True</td>\n</tr>\n\n            \n        </table>\n\n        <details>\n            <summary style=\"margin-bottom: 20px;\">\n                <h3 style=\"display: inline;\">Scheduler Info</h3>\n            </summary>\n\n            <div style=\"\">\n    <div>\n        <div style=\"width: 24px; height: 24px; background-color: #FFF7E5; border: 3px solid #FF6132; border-radius: 5px; position: absolute;\"> </div>\n        <div style=\"margin-left: 48px;\">\n            <h3 style=\"margin-bottom: 0px;\">Scheduler</h3>\n            <p style=\"color: #9D9D9D; margin-bottom: 0px;\">Scheduler-63efb4a6-9848-42bd-b59f-4d42c946fecc</p>\n            <table style=\"width: 100%; text-align: left;\">\n                <tr>\n                    <td style=\"text-align: left;\">\n                        <strong>Comm:</strong> tcp://127.0.0.1:34085\n                    </td>\n                    <td style=\"text-align: left;\">\n                        <strong>Workers:</strong> 16\n                    </td>\n                </tr>\n                <tr>\n                    <td style=\"text-align: left;\">\n                        <strong>Dashboard:</strong> <a href=\"http://127.0.0.1:35263/status\" target=\"_blank\">http://127.0.0.1:35263/status</a>\n                    </td>\n                    <td style=\"text-align: left;\">\n                        <strong>Total threads:</strong> 128\n                    </td>\n                </tr>\n                <tr>\n                    <td style=\"text-align: left;\">\n                        <strong>Started:</strong> Just now\n                    </td>\n                    <td style=\"text-align: left;\">\n                        <strong>Total memory:</strong> 500.00 GiB\n                    </td>\n                </tr>\n            </table>\n        </div>\n    </div>\n\n    <details style=\"margin-left: 48px;\">\n        <summary style=\"margin-bottom: 20px;\">\n            <h3 style=\"display: inline;\">Workers</h3>\n        </summary>\n\n        \n        <div style=\"margin-bottom: 20px;\">\n            <div style=\"width: 24px; height: 24px; background-color: #DBF5FF; border: 3px solid #4CC9FF; border-radius: 5px; position: absolute;\"> </div>\n            <div style=\"margin-left: 48px;\">\n            <details>\n                <summary>\n                    <h4 style=\"margin-bottom: 0px; display: inline;\">Worker: 0</h4>\n                </summary>\n                <table style=\"width: 100%; text-align: left;\">\n                    <tr>\n                        <td style=\"text-align: left;\">\n                            <strong>Comm: </strong> tcp://127.0.0.1:42271\n                        </td>\n                        <td style=\"text-align: left;\">\n                            <strong>Total threads: </strong> 8\n                        </td>\n                    </tr>\n                    <tr>\n                        <td style=\"text-align: left;\">\n                            <strong>Dashboard: </strong> <a href=\"http://127.0.0.1:42149/status\" target=\"_blank\">http://127.0.0.1:42149/status</a>\n                        </td>\n                        <td style=\"text-align: left;\">\n                            <strong>Memory: </strong> 31.25 GiB\n                        </td>\n                    </tr>\n                    <tr>\n                        <td style=\"text-align: left;\">\n                            <strong>Nanny: </strong> tcp://127.0.0.1:42333\n                        </td>\n                        <td style=\"text-align: left;\"></td>\n                    </tr>\n                    <tr>\n                        <td colspan=\"2\" style=\"text-align: left;\">\n                            <strong>Local directory: </strong> /tmp/dask-worker-space/worker-nb5iu2qb\n                        </td>\n                    </tr>\n\n                    \n\n                    \n\n                </table>\n            </details>\n            </div>\n        </div>\n        \n        <div style=\"margin-bottom: 20px;\">\n            <div style=\"width: 24px; height: 24px; background-color: #DBF5FF; border: 3px solid #4CC9FF; border-radius: 5px; position: absolute;\"> </div>\n            <div style=\"margin-left: 48px;\">\n            <details>\n                <summary>\n                    <h4 style=\"margin-bottom: 0px; display: inline;\">Worker: 1</h4>\n                </summary>\n                <table style=\"width: 100%; text-align: left;\">\n                    <tr>\n                        <td style=\"text-align: left;\">\n                            <strong>Comm: </strong> tcp://127.0.0.1:33141\n                        </td>\n                        <td style=\"text-align: left;\">\n                            <strong>Total threads: </strong> 8\n                        </td>\n                    </tr>\n                    <tr>\n                        <td style=\"text-align: left;\">\n                            <strong>Dashboard: </strong> <a href=\"http://127.0.0.1:45159/status\" target=\"_blank\">http://127.0.0.1:45159/status</a>\n                        </td>\n                        <td style=\"text-align: left;\">\n                            <strong>Memory: </strong> 31.25 GiB\n                        </td>\n                    </tr>\n                    <tr>\n                        <td style=\"text-align: left;\">\n                            <strong>Nanny: </strong> tcp://127.0.0.1:46491\n                        </td>\n                        <td style=\"text-align: left;\"></td>\n                    </tr>\n                    <tr>\n                        <td colspan=\"2\" style=\"text-align: left;\">\n                            <strong>Local directory: </strong> /tmp/dask-worker-space/worker-jzagwu1b\n                        </td>\n                    </tr>\n\n                    \n\n                    \n\n                </table>\n            </details>\n            </div>\n        </div>\n        \n        <div style=\"margin-bottom: 20px;\">\n            <div style=\"width: 24px; height: 24px; background-color: #DBF5FF; border: 3px solid #4CC9FF; border-radius: 5px; position: absolute;\"> </div>\n            <div style=\"margin-left: 48px;\">\n            <details>\n                <summary>\n                    <h4 style=\"margin-bottom: 0px; display: inline;\">Worker: 2</h4>\n                </summary>\n                <table style=\"width: 100%; text-align: left;\">\n                    <tr>\n                        <td style=\"text-align: left;\">\n                            <strong>Comm: </strong> tcp://127.0.0.1:45191\n                        </td>\n                        <td style=\"text-align: left;\">\n                            <strong>Total threads: </strong> 8\n                        </td>\n                    </tr>\n                    <tr>\n                        <td style=\"text-align: left;\">\n                            <strong>Dashboard: </strong> <a href=\"http://127.0.0.1:37141/status\" target=\"_blank\">http://127.0.0.1:37141/status</a>\n                        </td>\n                        <td style=\"text-align: left;\">\n                            <strong>Memory: </strong> 31.25 GiB\n                        </td>\n                    </tr>\n                    <tr>\n                        <td style=\"text-align: left;\">\n                            <strong>Nanny: </strong> tcp://127.0.0.1:36649\n                        </td>\n                        <td style=\"text-align: left;\"></td>\n                    </tr>\n                    <tr>\n                        <td colspan=\"2\" style=\"text-align: left;\">\n                            <strong>Local directory: </strong> /tmp/dask-worker-space/worker-5afeake7\n                        </td>\n                    </tr>\n\n                    \n\n                    \n\n                </table>\n            </details>\n            </div>\n        </div>\n        \n        <div style=\"margin-bottom: 20px;\">\n            <div style=\"width: 24px; height: 24px; background-color: #DBF5FF; border: 3px solid #4CC9FF; border-radius: 5px; position: absolute;\"> </div>\n            <div style=\"margin-left: 48px;\">\n            <details>\n                <summary>\n                    <h4 style=\"margin-bottom: 0px; display: inline;\">Worker: 3</h4>\n                </summary>\n                <table style=\"width: 100%; text-align: left;\">\n                    <tr>\n                        <td style=\"text-align: left;\">\n                            <strong>Comm: </strong> tcp://127.0.0.1:44967\n                        </td>\n                        <td style=\"text-align: left;\">\n                            <strong>Total threads: </strong> 8\n                        </td>\n                    </tr>\n                    <tr>\n                        <td style=\"text-align: left;\">\n                            <strong>Dashboard: </strong> <a href=\"http://127.0.0.1:37749/status\" target=\"_blank\">http://127.0.0.1:37749/status</a>\n                        </td>\n                        <td style=\"text-align: left;\">\n                            <strong>Memory: </strong> 31.25 GiB\n                        </td>\n                    </tr>\n                    <tr>\n                        <td style=\"text-align: left;\">\n                            <strong>Nanny: </strong> tcp://127.0.0.1:37575\n                        </td>\n                        <td style=\"text-align: left;\"></td>\n                    </tr>\n                    <tr>\n                        <td colspan=\"2\" style=\"text-align: left;\">\n                            <strong>Local directory: </strong> /tmp/dask-worker-space/worker-rucouh3c\n                        </td>\n                    </tr>\n\n                    \n\n                    \n\n                </table>\n            </details>\n            </div>\n        </div>\n        \n        <div style=\"margin-bottom: 20px;\">\n            <div style=\"width: 24px; height: 24px; background-color: #DBF5FF; border: 3px solid #4CC9FF; border-radius: 5px; position: absolute;\"> </div>\n            <div style=\"margin-left: 48px;\">\n            <details>\n                <summary>\n                    <h4 style=\"margin-bottom: 0px; display: inline;\">Worker: 4</h4>\n                </summary>\n                <table style=\"width: 100%; text-align: left;\">\n                    <tr>\n                        <td style=\"text-align: left;\">\n                            <strong>Comm: </strong> tcp://127.0.0.1:36655\n                        </td>\n                        <td style=\"text-align: left;\">\n                            <strong>Total threads: </strong> 8\n                        </td>\n                    </tr>\n                    <tr>\n                        <td style=\"text-align: left;\">\n                            <strong>Dashboard: </strong> <a href=\"http://127.0.0.1:39891/status\" target=\"_blank\">http://127.0.0.1:39891/status</a>\n                        </td>\n                        <td style=\"text-align: left;\">\n                            <strong>Memory: </strong> 31.25 GiB\n                        </td>\n                    </tr>\n                    <tr>\n                        <td style=\"text-align: left;\">\n                            <strong>Nanny: </strong> tcp://127.0.0.1:36219\n                        </td>\n                        <td style=\"text-align: left;\"></td>\n                    </tr>\n                    <tr>\n                        <td colspan=\"2\" style=\"text-align: left;\">\n                            <strong>Local directory: </strong> /tmp/dask-worker-space/worker-bhxg9cn4\n                        </td>\n                    </tr>\n\n                    \n\n                    \n\n                </table>\n            </details>\n            </div>\n        </div>\n        \n        <div style=\"margin-bottom: 20px;\">\n            <div style=\"width: 24px; height: 24px; background-color: #DBF5FF; border: 3px solid #4CC9FF; border-radius: 5px; position: absolute;\"> </div>\n            <div style=\"margin-left: 48px;\">\n            <details>\n                <summary>\n                    <h4 style=\"margin-bottom: 0px; display: inline;\">Worker: 5</h4>\n                </summary>\n                <table style=\"width: 100%; text-align: left;\">\n                    <tr>\n                        <td style=\"text-align: left;\">\n                            <strong>Comm: </strong> tcp://127.0.0.1:33767\n                        </td>\n                        <td style=\"text-align: left;\">\n                            <strong>Total threads: </strong> 8\n                        </td>\n                    </tr>\n                    <tr>\n                        <td style=\"text-align: left;\">\n                            <strong>Dashboard: </strong> <a href=\"http://127.0.0.1:35455/status\" target=\"_blank\">http://127.0.0.1:35455/status</a>\n                        </td>\n                        <td style=\"text-align: left;\">\n                            <strong>Memory: </strong> 31.25 GiB\n                        </td>\n                    </tr>\n                    <tr>\n                        <td style=\"text-align: left;\">\n                            <strong>Nanny: </strong> tcp://127.0.0.1:34753\n                        </td>\n                        <td style=\"text-align: left;\"></td>\n                    </tr>\n                    <tr>\n                        <td colspan=\"2\" style=\"text-align: left;\">\n                            <strong>Local directory: </strong> /tmp/dask-worker-space/worker-fokvau8m\n                        </td>\n                    </tr>\n\n                    \n\n                    \n\n                </table>\n            </details>\n            </div>\n        </div>\n        \n        <div style=\"margin-bottom: 20px;\">\n            <div style=\"width: 24px; height: 24px; background-color: #DBF5FF; border: 3px solid #4CC9FF; border-radius: 5px; position: absolute;\"> </div>\n            <div style=\"margin-left: 48px;\">\n            <details>\n                <summary>\n                    <h4 style=\"margin-bottom: 0px; display: inline;\">Worker: 6</h4>\n                </summary>\n                <table style=\"width: 100%; text-align: left;\">\n                    <tr>\n                        <td style=\"text-align: left;\">\n                            <strong>Comm: </strong> tcp://127.0.0.1:42525\n                        </td>\n                        <td style=\"text-align: left;\">\n                            <strong>Total threads: </strong> 8\n                        </td>\n                    </tr>\n                    <tr>\n                        <td style=\"text-align: left;\">\n                            <strong>Dashboard: </strong> <a href=\"http://127.0.0.1:33773/status\" target=\"_blank\">http://127.0.0.1:33773/status</a>\n                        </td>\n                        <td style=\"text-align: left;\">\n                            <strong>Memory: </strong> 31.25 GiB\n                        </td>\n                    </tr>\n                    <tr>\n                        <td style=\"text-align: left;\">\n                            <strong>Nanny: </strong> tcp://127.0.0.1:40817\n                        </td>\n                        <td style=\"text-align: left;\"></td>\n                    </tr>\n                    <tr>\n                        <td colspan=\"2\" style=\"text-align: left;\">\n                            <strong>Local directory: </strong> /tmp/dask-worker-space/worker-snaty6zq\n                        </td>\n                    </tr>\n\n                    \n\n                    \n\n                </table>\n            </details>\n            </div>\n        </div>\n        \n        <div style=\"margin-bottom: 20px;\">\n            <div style=\"width: 24px; height: 24px; background-color: #DBF5FF; border: 3px solid #4CC9FF; border-radius: 5px; position: absolute;\"> </div>\n            <div style=\"margin-left: 48px;\">\n            <details>\n                <summary>\n                    <h4 style=\"margin-bottom: 0px; display: inline;\">Worker: 7</h4>\n                </summary>\n                <table style=\"width: 100%; text-align: left;\">\n                    <tr>\n                        <td style=\"text-align: left;\">\n                            <strong>Comm: </strong> tcp://127.0.0.1:37589\n                        </td>\n                        <td style=\"text-align: left;\">\n                            <strong>Total threads: </strong> 8\n                        </td>\n                    </tr>\n                    <tr>\n                        <td style=\"text-align: left;\">\n                            <strong>Dashboard: </strong> <a href=\"http://127.0.0.1:40803/status\" target=\"_blank\">http://127.0.0.1:40803/status</a>\n                        </td>\n                        <td style=\"text-align: left;\">\n                            <strong>Memory: </strong> 31.25 GiB\n                        </td>\n                    </tr>\n                    <tr>\n                        <td style=\"text-align: left;\">\n                            <strong>Nanny: </strong> tcp://127.0.0.1:44595\n                        </td>\n                        <td style=\"text-align: left;\"></td>\n                    </tr>\n                    <tr>\n                        <td colspan=\"2\" style=\"text-align: left;\">\n                            <strong>Local directory: </strong> /tmp/dask-worker-space/worker-18qqpcc_\n                        </td>\n                    </tr>\n\n                    \n\n                    \n\n                </table>\n            </details>\n            </div>\n        </div>\n        \n        <div style=\"margin-bottom: 20px;\">\n            <div style=\"width: 24px; height: 24px; background-color: #DBF5FF; border: 3px solid #4CC9FF; border-radius: 5px; position: absolute;\"> </div>\n            <div style=\"margin-left: 48px;\">\n            <details>\n                <summary>\n                    <h4 style=\"margin-bottom: 0px; display: inline;\">Worker: 8</h4>\n                </summary>\n                <table style=\"width: 100%; text-align: left;\">\n                    <tr>\n                        <td style=\"text-align: left;\">\n                            <strong>Comm: </strong> tcp://127.0.0.1:38511\n                        </td>\n                        <td style=\"text-align: left;\">\n                            <strong>Total threads: </strong> 8\n                        </td>\n                    </tr>\n                    <tr>\n                        <td style=\"text-align: left;\">\n                            <strong>Dashboard: </strong> <a href=\"http://127.0.0.1:34109/status\" target=\"_blank\">http://127.0.0.1:34109/status</a>\n                        </td>\n                        <td style=\"text-align: left;\">\n                            <strong>Memory: </strong> 31.25 GiB\n                        </td>\n                    </tr>\n                    <tr>\n                        <td style=\"text-align: left;\">\n                            <strong>Nanny: </strong> tcp://127.0.0.1:41587\n                        </td>\n                        <td style=\"text-align: left;\"></td>\n                    </tr>\n                    <tr>\n                        <td colspan=\"2\" style=\"text-align: left;\">\n                            <strong>Local directory: </strong> /tmp/dask-worker-space/worker-ncsob_bq\n                        </td>\n                    </tr>\n\n                    \n\n                    \n\n                </table>\n            </details>\n            </div>\n        </div>\n        \n        <div style=\"margin-bottom: 20px;\">\n            <div style=\"width: 24px; height: 24px; background-color: #DBF5FF; border: 3px solid #4CC9FF; border-radius: 5px; position: absolute;\"> </div>\n            <div style=\"margin-left: 48px;\">\n            <details>\n                <summary>\n                    <h4 style=\"margin-bottom: 0px; display: inline;\">Worker: 9</h4>\n                </summary>\n                <table style=\"width: 100%; text-align: left;\">\n                    <tr>\n                        <td style=\"text-align: left;\">\n                            <strong>Comm: </strong> tcp://127.0.0.1:41489\n                        </td>\n                        <td style=\"text-align: left;\">\n                            <strong>Total threads: </strong> 8\n                        </td>\n                    </tr>\n                    <tr>\n                        <td style=\"text-align: left;\">\n                            <strong>Dashboard: </strong> <a href=\"http://127.0.0.1:39237/status\" target=\"_blank\">http://127.0.0.1:39237/status</a>\n                        </td>\n                        <td style=\"text-align: left;\">\n                            <strong>Memory: </strong> 31.25 GiB\n                        </td>\n                    </tr>\n                    <tr>\n                        <td style=\"text-align: left;\">\n                            <strong>Nanny: </strong> tcp://127.0.0.1:36367\n                        </td>\n                        <td style=\"text-align: left;\"></td>\n                    </tr>\n                    <tr>\n                        <td colspan=\"2\" style=\"text-align: left;\">\n                            <strong>Local directory: </strong> /tmp/dask-worker-space/worker-5x4qc36y\n                        </td>\n                    </tr>\n\n                    \n\n                    \n\n                </table>\n            </details>\n            </div>\n        </div>\n        \n        <div style=\"margin-bottom: 20px;\">\n            <div style=\"width: 24px; height: 24px; background-color: #DBF5FF; border: 3px solid #4CC9FF; border-radius: 5px; position: absolute;\"> </div>\n            <div style=\"margin-left: 48px;\">\n            <details>\n                <summary>\n                    <h4 style=\"margin-bottom: 0px; display: inline;\">Worker: 10</h4>\n                </summary>\n                <table style=\"width: 100%; text-align: left;\">\n                    <tr>\n                        <td style=\"text-align: left;\">\n                            <strong>Comm: </strong> tcp://127.0.0.1:45433\n                        </td>\n                        <td style=\"text-align: left;\">\n                            <strong>Total threads: </strong> 8\n                        </td>\n                    </tr>\n                    <tr>\n                        <td style=\"text-align: left;\">\n                            <strong>Dashboard: </strong> <a href=\"http://127.0.0.1:38229/status\" target=\"_blank\">http://127.0.0.1:38229/status</a>\n                        </td>\n                        <td style=\"text-align: left;\">\n                            <strong>Memory: </strong> 31.25 GiB\n                        </td>\n                    </tr>\n                    <tr>\n                        <td style=\"text-align: left;\">\n                            <strong>Nanny: </strong> tcp://127.0.0.1:40183\n                        </td>\n                        <td style=\"text-align: left;\"></td>\n                    </tr>\n                    <tr>\n                        <td colspan=\"2\" style=\"text-align: left;\">\n                            <strong>Local directory: </strong> /tmp/dask-worker-space/worker-ww34_n3m\n                        </td>\n                    </tr>\n\n                    \n\n                    \n\n                </table>\n            </details>\n            </div>\n        </div>\n        \n        <div style=\"margin-bottom: 20px;\">\n            <div style=\"width: 24px; height: 24px; background-color: #DBF5FF; border: 3px solid #4CC9FF; border-radius: 5px; position: absolute;\"> </div>\n            <div style=\"margin-left: 48px;\">\n            <details>\n                <summary>\n                    <h4 style=\"margin-bottom: 0px; display: inline;\">Worker: 11</h4>\n                </summary>\n                <table style=\"width: 100%; text-align: left;\">\n                    <tr>\n                        <td style=\"text-align: left;\">\n                            <strong>Comm: </strong> tcp://127.0.0.1:39029\n                        </td>\n                        <td style=\"text-align: left;\">\n                            <strong>Total threads: </strong> 8\n                        </td>\n                    </tr>\n                    <tr>\n                        <td style=\"text-align: left;\">\n                            <strong>Dashboard: </strong> <a href=\"http://127.0.0.1:42439/status\" target=\"_blank\">http://127.0.0.1:42439/status</a>\n                        </td>\n                        <td style=\"text-align: left;\">\n                            <strong>Memory: </strong> 31.25 GiB\n                        </td>\n                    </tr>\n                    <tr>\n                        <td style=\"text-align: left;\">\n                            <strong>Nanny: </strong> tcp://127.0.0.1:42583\n                        </td>\n                        <td style=\"text-align: left;\"></td>\n                    </tr>\n                    <tr>\n                        <td colspan=\"2\" style=\"text-align: left;\">\n                            <strong>Local directory: </strong> /tmp/dask-worker-space/worker-k6obqu6x\n                        </td>\n                    </tr>\n\n                    \n\n                    \n\n                </table>\n            </details>\n            </div>\n        </div>\n        \n        <div style=\"margin-bottom: 20px;\">\n            <div style=\"width: 24px; height: 24px; background-color: #DBF5FF; border: 3px solid #4CC9FF; border-radius: 5px; position: absolute;\"> </div>\n            <div style=\"margin-left: 48px;\">\n            <details>\n                <summary>\n                    <h4 style=\"margin-bottom: 0px; display: inline;\">Worker: 12</h4>\n                </summary>\n                <table style=\"width: 100%; text-align: left;\">\n                    <tr>\n                        <td style=\"text-align: left;\">\n                            <strong>Comm: </strong> tcp://127.0.0.1:35757\n                        </td>\n                        <td style=\"text-align: left;\">\n                            <strong>Total threads: </strong> 8\n                        </td>\n                    </tr>\n                    <tr>\n                        <td style=\"text-align: left;\">\n                            <strong>Dashboard: </strong> <a href=\"http://127.0.0.1:46261/status\" target=\"_blank\">http://127.0.0.1:46261/status</a>\n                        </td>\n                        <td style=\"text-align: left;\">\n                            <strong>Memory: </strong> 31.25 GiB\n                        </td>\n                    </tr>\n                    <tr>\n                        <td style=\"text-align: left;\">\n                            <strong>Nanny: </strong> tcp://127.0.0.1:42423\n                        </td>\n                        <td style=\"text-align: left;\"></td>\n                    </tr>\n                    <tr>\n                        <td colspan=\"2\" style=\"text-align: left;\">\n                            <strong>Local directory: </strong> /tmp/dask-worker-space/worker-2uq_hll0\n                        </td>\n                    </tr>\n\n                    \n\n                    \n\n                </table>\n            </details>\n            </div>\n        </div>\n        \n        <div style=\"margin-bottom: 20px;\">\n            <div style=\"width: 24px; height: 24px; background-color: #DBF5FF; border: 3px solid #4CC9FF; border-radius: 5px; position: absolute;\"> </div>\n            <div style=\"margin-left: 48px;\">\n            <details>\n                <summary>\n                    <h4 style=\"margin-bottom: 0px; display: inline;\">Worker: 13</h4>\n                </summary>\n                <table style=\"width: 100%; text-align: left;\">\n                    <tr>\n                        <td style=\"text-align: left;\">\n                            <strong>Comm: </strong> tcp://127.0.0.1:34759\n                        </td>\n                        <td style=\"text-align: left;\">\n                            <strong>Total threads: </strong> 8\n                        </td>\n                    </tr>\n                    <tr>\n                        <td style=\"text-align: left;\">\n                            <strong>Dashboard: </strong> <a href=\"http://127.0.0.1:46753/status\" target=\"_blank\">http://127.0.0.1:46753/status</a>\n                        </td>\n                        <td style=\"text-align: left;\">\n                            <strong>Memory: </strong> 31.25 GiB\n                        </td>\n                    </tr>\n                    <tr>\n                        <td style=\"text-align: left;\">\n                            <strong>Nanny: </strong> tcp://127.0.0.1:43689\n                        </td>\n                        <td style=\"text-align: left;\"></td>\n                    </tr>\n                    <tr>\n                        <td colspan=\"2\" style=\"text-align: left;\">\n                            <strong>Local directory: </strong> /tmp/dask-worker-space/worker-m_32ipq8\n                        </td>\n                    </tr>\n\n                    \n\n                    \n\n                </table>\n            </details>\n            </div>\n        </div>\n        \n        <div style=\"margin-bottom: 20px;\">\n            <div style=\"width: 24px; height: 24px; background-color: #DBF5FF; border: 3px solid #4CC9FF; border-radius: 5px; position: absolute;\"> </div>\n            <div style=\"margin-left: 48px;\">\n            <details>\n                <summary>\n                    <h4 style=\"margin-bottom: 0px; display: inline;\">Worker: 14</h4>\n                </summary>\n                <table style=\"width: 100%; text-align: left;\">\n                    <tr>\n                        <td style=\"text-align: left;\">\n                            <strong>Comm: </strong> tcp://127.0.0.1:45953\n                        </td>\n                        <td style=\"text-align: left;\">\n                            <strong>Total threads: </strong> 8\n                        </td>\n                    </tr>\n                    <tr>\n                        <td style=\"text-align: left;\">\n                            <strong>Dashboard: </strong> <a href=\"http://127.0.0.1:41367/status\" target=\"_blank\">http://127.0.0.1:41367/status</a>\n                        </td>\n                        <td style=\"text-align: left;\">\n                            <strong>Memory: </strong> 31.25 GiB\n                        </td>\n                    </tr>\n                    <tr>\n                        <td style=\"text-align: left;\">\n                            <strong>Nanny: </strong> tcp://127.0.0.1:37625\n                        </td>\n                        <td style=\"text-align: left;\"></td>\n                    </tr>\n                    <tr>\n                        <td colspan=\"2\" style=\"text-align: left;\">\n                            <strong>Local directory: </strong> /tmp/dask-worker-space/worker-541dokoz\n                        </td>\n                    </tr>\n\n                    \n\n                    \n\n                </table>\n            </details>\n            </div>\n        </div>\n        \n        <div style=\"margin-bottom: 20px;\">\n            <div style=\"width: 24px; height: 24px; background-color: #DBF5FF; border: 3px solid #4CC9FF; border-radius: 5px; position: absolute;\"> </div>\n            <div style=\"margin-left: 48px;\">\n            <details>\n                <summary>\n                    <h4 style=\"margin-bottom: 0px; display: inline;\">Worker: 15</h4>\n                </summary>\n                <table style=\"width: 100%; text-align: left;\">\n                    <tr>\n                        <td style=\"text-align: left;\">\n                            <strong>Comm: </strong> tcp://127.0.0.1:34707\n                        </td>\n                        <td style=\"text-align: left;\">\n                            <strong>Total threads: </strong> 8\n                        </td>\n                    </tr>\n                    <tr>\n                        <td style=\"text-align: left;\">\n                            <strong>Dashboard: </strong> <a href=\"http://127.0.0.1:43915/status\" target=\"_blank\">http://127.0.0.1:43915/status</a>\n                        </td>\n                        <td style=\"text-align: left;\">\n                            <strong>Memory: </strong> 31.25 GiB\n                        </td>\n                    </tr>\n                    <tr>\n                        <td style=\"text-align: left;\">\n                            <strong>Nanny: </strong> tcp://127.0.0.1:44827\n                        </td>\n                        <td style=\"text-align: left;\"></td>\n                    </tr>\n                    <tr>\n                        <td colspan=\"2\" style=\"text-align: left;\">\n                            <strong>Local directory: </strong> /tmp/dask-worker-space/worker-mdkgb7j2\n                        </td>\n                    </tr>\n\n                    \n\n                    \n\n                </table>\n            </details>\n            </div>\n        </div>\n        \n\n    </details>\n</div>\n\n        </details>\n    </div>\n</div>\n            </details>\n        \n\n    </div>\n</div>",
            "text/plain": "<Client: 'tcp://127.0.0.1:34085' processes=16 threads=128, memory=500.00 GiB>"
          },
          "execution_count": 5,
          "metadata": {},
          "output_type": "execute_result"
        }
      ],
      "execution_count": null,
      "block_group": "fa9d4baa0ccb479f8d4f67ec5db6e871"
    },
    {
      "cell_type": "code",
      "source": "ddethno = dask_geopandas.from_geopandas(ethno, npartitions=20)\nddethno2 = dask_geopandas.from_geopandas(ethno, npartitions=20)\nddethno['geometry'] = ddethno['geometry'].buffer(0.2)",
      "metadata": {
        "deepnote_app_coordinates": {
          "h": 120,
          "w": 12,
          "x": 0,
          "y": 0
        },
        "cell_id": "1190088c9f1e48d7a57a2f29f6dc6a1b",
        "deepnote_cell_type": "code"
      },
      "outputs": [
        {
          "name": "stderr",
          "output_type": "stream",
          "text": "/users/ozak/micromamba/envs/GeoPython39env/lib/python3.9/site-packages/dask/dataframe/core.py:6699: UserWarning: Geometry is in a geographic CRS. Results from 'buffer' are likely incorrect. Use 'GeoSeries.to_crs()' to re-project geometries to a projected CRS before this operation.\n\n  return func(*_extract_meta(args, True), **_extract_meta(kwargs, True))\n"
        }
      ],
      "execution_count": null,
      "block_group": "546df17b621446959469f18ff0b64317"
    },
    {
      "cell_type": "code",
      "source": "pairs = ddethno.sjoin(ddethno2, predicate=\"intersects\").compute()",
      "metadata": {
        "tags": [],
        "jupyter": {
          "outputs_hidden": true
        },
        "collapsed": true,
        "is_output_hidden": true,
        "deepnote_app_coordinates": {
          "h": 120,
          "w": 12,
          "x": 0,
          "y": 0
        },
        "deepnote_app_is_output_hidden": true,
        "cell_id": "4030a5904770434486763c094cb35722",
        "deepnote_cell_type": "code"
      },
      "outputs": [
        {
          "name": "stderr",
          "output_type": "stream",
          "text": "/users/ozak/micromamba/envs/GeoPython39env/lib/python3.9/site-packages/dask/utils.py:72: UserWarning: Geometry is in a geographic CRS. Results from 'buffer' are likely incorrect. Use 'GeoSeries.to_crs()' to re-project geometries to a projected CRS before this operation.\n\n  return func(*args, **kwargs)\n/users/ozak/micromamba/envs/GeoPython39env/lib/python3.9/site-packages/dask/utils.py:72: UserWarning: Geometry is in a geographic CRS. Results from 'buffer' are likely incorrect. Use 'GeoSeries.to_crs()' to re-project geometries to a projected CRS before this operation.\n\n  return func(*args, **kwargs)\n/users/ozak/micromamba/envs/GeoPython39env/lib/python3.9/site-packages/dask/utils.py:72: UserWarning: Geometry is in a geographic CRS. Results from 'buffer' are likely incorrect. Use 'GeoSeries.to_crs()' to re-project geometries to a projected CRS before this operation.\n\n  return func(*args, **kwargs)\n/users/ozak/micromamba/envs/GeoPython39env/lib/python3.9/site-packages/dask/utils.py:72: UserWarning: Geometry is in a geographic CRS. Results from 'buffer' are likely incorrect. Use 'GeoSeries.to_crs()' to re-project geometries to a projected CRS before this operation.\n\n  return func(*args, **kwargs)\n/users/ozak/micromamba/envs/GeoPython39env/lib/python3.9/site-packages/dask/utils.py:72: UserWarning: Geometry is in a geographic CRS. Results from 'buffer' are likely incorrect. Use 'GeoSeries.to_crs()' to re-project geometries to a projected CRS before this operation.\n\n  return func(*args, **kwargs)\n/users/ozak/micromamba/envs/GeoPython39env/lib/python3.9/site-packages/dask/utils.py:72: UserWarning: Geometry is in a geographic CRS. Results from 'buffer' are likely incorrect. Use 'GeoSeries.to_crs()' to re-project geometries to a projected CRS before this operation.\n\n  return func(*args, **kwargs)\n/users/ozak/micromamba/envs/GeoPython39env/lib/python3.9/site-packages/dask/utils.py:72: UserWarning: Geometry is in a geographic CRS. Results from 'buffer' are likely incorrect. Use 'GeoSeries.to_crs()' to re-project geometries to a projected CRS before this operation.\n\n  return func(*args, **kwargs)\n/users/ozak/micromamba/envs/GeoPython39env/lib/python3.9/site-packages/dask/utils.py:72: UserWarning: Geometry is in a geographic CRS. Results from 'buffer' are likely incorrect. Use 'GeoSeries.to_crs()' to re-project geometries to a projected CRS before this operation.\n\n  return func(*args, **kwargs)\n/users/ozak/micromamba/envs/GeoPython39env/lib/python3.9/site-packages/dask/utils.py:72: UserWarning: Geometry is in a geographic CRS. Results from 'buffer' are likely incorrect. Use 'GeoSeries.to_crs()' to re-project geometries to a projected CRS before this operation.\n\n  return func(*args, **kwargs)\n/users/ozak/micromamba/envs/GeoPython39env/lib/python3.9/site-packages/dask/utils.py:72: UserWarning: Geometry is in a geographic CRS. Results from 'buffer' are likely incorrect. Use 'GeoSeries.to_crs()' to re-project geometries to a projected CRS before this operation.\n\n  return func(*args, **kwargs)\n/users/ozak/micromamba/envs/GeoPython39env/lib/python3.9/site-packages/dask/utils.py:72: UserWarning: Geometry is in a geographic CRS. Results from 'buffer' are likely incorrect. Use 'GeoSeries.to_crs()' to re-project geometries to a projected CRS before this operation.\n\n  return func(*args, **kwargs)\n/users/ozak/micromamba/envs/GeoPython39env/lib/python3.9/site-packages/dask/utils.py:72: UserWarning: Geometry is in a geographic CRS. Results from 'buffer' are likely incorrect. Use 'GeoSeries.to_crs()' to re-project geometries to a projected CRS before this operation.\n\n  return func(*args, **kwargs)\n/users/ozak/micromamba/envs/GeoPython39env/lib/python3.9/site-packages/dask/utils.py:72: UserWarning: Geometry is in a geographic CRS. Results from 'buffer' are likely incorrect. Use 'GeoSeries.to_crs()' to re-project geometries to a projected CRS before this operation.\n\n  return func(*args, **kwargs)\n/users/ozak/micromamba/envs/GeoPython39env/lib/python3.9/site-packages/dask/utils.py:72: UserWarning: Geometry is in a geographic CRS. Results from 'buffer' are likely incorrect. Use 'GeoSeries.to_crs()' to re-project geometries to a projected CRS before this operation.\n\n  return func(*args, **kwargs)\n/users/ozak/micromamba/envs/GeoPython39env/lib/python3.9/site-packages/dask/utils.py:72: UserWarning: Geometry is in a geographic CRS. Results from 'buffer' are likely incorrect. Use 'GeoSeries.to_crs()' to re-project geometries to a projected CRS before this operation.\n\n  return func(*args, **kwargs)\n/users/ozak/micromamba/envs/GeoPython39env/lib/python3.9/site-packages/dask/utils.py:72: UserWarning: Geometry is in a geographic CRS. Results from 'buffer' are likely incorrect. Use 'GeoSeries.to_crs()' to re-project geometries to a projected CRS before this operation.\n\n  return func(*args, **kwargs)\n"
        }
      ],
      "execution_count": null,
      "block_group": "0810ede8db0a428bb8187153b2168e40"
    },
    {
      "cell_type": "code",
      "source": "pairs.shape",
      "metadata": {
        "deepnote_app_coordinates": {
          "h": 120,
          "w": 12,
          "x": 0,
          "y": 0
        },
        "cell_id": "5316aa12ba1e445aac24e64eae7936ae",
        "deepnote_cell_type": "code"
      },
      "outputs": [
        {
          "data": {
            "text/plain": "(74396, 38)"
          },
          "execution_count": 34,
          "metadata": {},
          "output_type": "execute_result"
        }
      ],
      "execution_count": null,
      "block_group": "a41402ddfe4d443288f12ef955aee1f7"
    },
    {
      "cell_type": "code",
      "source": "pairs.columns = [c.replace('_left', '_1').replace('_right', '_2') for c in pairs.columns]",
      "metadata": {
        "deepnote_app_coordinates": {
          "h": 120,
          "w": 12,
          "x": 0,
          "y": 0
        },
        "cell_id": "e4d4750dae4941b78b515f8ef2b3483c",
        "deepnote_cell_type": "code"
      },
      "outputs": [],
      "execution_count": null,
      "block_group": "58d3b08581494352b49c407cb4538b4c"
    },
    {
      "cell_type": "code",
      "source": "pairs.loc[(pairs.ID_1=='MVE-PAK')&(pairs.ID_2=='RWR-IND')]",
      "metadata": {
        "deepnote_app_coordinates": {
          "h": 120,
          "w": 12,
          "x": 0,
          "y": 0
        },
        "cell_id": "ea2d95bba0ee4e93ad8502565744426b",
        "deepnote_cell_type": "code"
      },
      "outputs": [
        {
          "data": {
            "text/html": "<div>\n<style scoped>\n    .dataframe tbody tr th:only-of-type {\n        vertical-align: middle;\n    }\n\n    .dataframe tbody tr th {\n        vertical-align: top;\n    }\n\n    .dataframe thead th {\n        text-align: right;\n    }\n</style>\n<table border=\"1\" class=\"dataframe\">\n  <thead>\n    <tr style=\"text-align: right;\">\n      <th></th>\n      <th>ID_1</th>\n      <th>ID_ISO_A3_1</th>\n      <th>ID_ISO_A2_1</th>\n      <th>ID_FIPS_1</th>\n      <th>NAM_LABEL_1</th>\n      <th>NAME_PROP_1</th>\n      <th>NAME2_1</th>\n      <th>NAM_ANSI_1</th>\n      <th>CNT_1</th>\n      <th>C1_1</th>\n      <th>...</th>\n      <th>CNT_2</th>\n      <th>C1_2</th>\n      <th>POP_2</th>\n      <th>LMP_POP1_2</th>\n      <th>G_2</th>\n      <th>LMP_CLASS_2</th>\n      <th>FAMILYPROP_2</th>\n      <th>FAMILY_2</th>\n      <th>LMP_C1_2</th>\n      <th>LANG_ISO_2</th>\n    </tr>\n  </thead>\n  <tbody>\n    <tr>\n      <th>427</th>\n      <td>MVE-PAK</td>\n      <td>mve-PAK</td>\n      <td>mve-pk</td>\n      <td>mve-PK</td>\n      <td>Marwari</td>\n      <td>Marwari</td>\n      <td>MARWARI</td>\n      <td>Marwari</td>\n      <td>Asia</td>\n      <td>Pakistan</td>\n      <td>...</td>\n      <td>Asia</td>\n      <td>India</td>\n      <td>5,600,000 in India (2007 SIL)</td>\n      <td>5600000</td>\n      <td>Indo-European, Indo-Iranian, Indo-Aryan, Centr...</td>\n      <td>L</td>\n      <td>Indo-European</td>\n      <td>INDO-EUROPEAN</td>\n      <td>India</td>\n      <td>rwr</td>\n    </tr>\n  </tbody>\n</table>\n<p>1 rows × 38 columns</p>\n</div>",
            "text/plain": "        ID_1 ID_ISO_A3_1 ID_ISO_A2_1 ID_FIPS_1 NAM_LABEL_1 NAME_PROP_1  NAME2_1 NAM_ANSI_1 CNT_1      C1_1  ... CNT_2   C1_2  \\\n427  MVE-PAK     mve-PAK      mve-pk    mve-PK     Marwari     Marwari  MARWARI    Marwari  Asia  Pakistan  ...  Asia  India   \n\n                             POP_2 LMP_POP1_2                                                G_2 LMP_CLASS_2   FAMILYPROP_2  \\\n427  5,600,000 in India (2007 SIL)    5600000  Indo-European, Indo-Iranian, Indo-Aryan, Centr...           L  Indo-European   \n\n          FAMILY_2 LMP_C1_2  LANG_ISO_2  \n427  INDO-EUROPEAN    India         rwr  \n\n[1 rows x 38 columns]"
          },
          "execution_count": 36,
          "metadata": {},
          "output_type": "execute_result"
        }
      ],
      "execution_count": null,
      "block_group": "3fce457ba55e4e9a81385e57ef525c92"
    },
    {
      "cell_type": "code",
      "source": "pairs = pairs.merge(ethno[['ID', 'geometry']], how='left', left_on='ID_1', right_on='ID', suffixes=['', \"_1\"])\npairs.head()",
      "metadata": {
        "deepnote_app_coordinates": {
          "h": 120,
          "w": 12,
          "x": 0,
          "y": 0
        },
        "cell_id": "1b804c4c40264b38874b2ec92d8f82cc",
        "deepnote_cell_type": "code"
      },
      "outputs": [
        {
          "data": {
            "text/html": "<div>\n<style scoped>\n    .dataframe tbody tr th:only-of-type {\n        vertical-align: middle;\n    }\n\n    .dataframe tbody tr th {\n        vertical-align: top;\n    }\n\n    .dataframe thead th {\n        text-align: right;\n    }\n</style>\n<table border=\"1\" class=\"dataframe\">\n  <thead>\n    <tr style=\"text-align: right;\">\n      <th></th>\n      <th>ID_1</th>\n      <th>ID_ISO_A3_1</th>\n      <th>ID_ISO_A2_1</th>\n      <th>ID_FIPS_1</th>\n      <th>NAM_LABEL_1</th>\n      <th>NAME_PROP_1</th>\n      <th>NAME2_1</th>\n      <th>NAM_ANSI_1</th>\n      <th>CNT_1</th>\n      <th>C1_1</th>\n      <th>...</th>\n      <th>POP_2</th>\n      <th>LMP_POP1_2</th>\n      <th>G_2</th>\n      <th>LMP_CLASS_2</th>\n      <th>FAMILYPROP_2</th>\n      <th>FAMILY_2</th>\n      <th>LMP_C1_2</th>\n      <th>LANG_ISO_2</th>\n      <th>ID</th>\n      <th>geometry_1</th>\n    </tr>\n  </thead>\n  <tbody>\n    <tr>\n      <th>0</th>\n      <td>RUS-RUS</td>\n      <td>rus-RUS</td>\n      <td>rus-ru</td>\n      <td>rus-RS</td>\n      <td>Russian</td>\n      <td>Russian</td>\n      <td>RUSSIAN</td>\n      <td>Russian</td>\n      <td>Europe</td>\n      <td>Russian Federation</td>\n      <td>...</td>\n      <td>121,000,000 in Japan (1985)</td>\n      <td>121000000</td>\n      <td>Japonic</td>\n      <td>L</td>\n      <td>Japonic</td>\n      <td>JAPONIC</td>\n      <td>Japan</td>\n      <td>jpn</td>\n      <td>RUS-RUS</td>\n      <td>MULTIPOLYGON (((45.11381 43.19151, 45.06952 43...</td>\n    </tr>\n    <tr>\n      <th>1</th>\n      <td>JPN-JPN</td>\n      <td>jpn-JPN</td>\n      <td>jpn-jp</td>\n      <td>jpn-JA</td>\n      <td>Japanese</td>\n      <td>Japanese</td>\n      <td>JAPANESE</td>\n      <td>Japanese</td>\n      <td>Asia</td>\n      <td>Japan</td>\n      <td>...</td>\n      <td>121,000,000 in Japan (1985)</td>\n      <td>121000000</td>\n      <td>Japonic</td>\n      <td>L</td>\n      <td>Japonic</td>\n      <td>JAPONIC</td>\n      <td>Japan</td>\n      <td>jpn</td>\n      <td>JPN-JPN</td>\n      <td>MULTIPOLYGON (((134.24844 34.70230, 134.25470 ...</td>\n    </tr>\n    <tr>\n      <th>2</th>\n      <td>RUS-RUS</td>\n      <td>rus-RUS</td>\n      <td>rus-ru</td>\n      <td>rus-RS</td>\n      <td>Russian</td>\n      <td>Russian</td>\n      <td>RUSSIAN</td>\n      <td>Russian</td>\n      <td>Europe</td>\n      <td>Russian Federation</td>\n      <td>...</td>\n      <td>840,000,000 in China (2000 census)</td>\n      <td>840000000</td>\n      <td>Sino-Tibetan, Chinese</td>\n      <td>L</td>\n      <td>Sino-Tibetan</td>\n      <td>SINO-TIBETAN</td>\n      <td>China</td>\n      <td>cmn</td>\n      <td>RUS-RUS</td>\n      <td>MULTIPOLYGON (((45.11381 43.19151, 45.06952 43...</td>\n    </tr>\n    <tr>\n      <th>3</th>\n      <td>CMN-CHN</td>\n      <td>cmn-CHN</td>\n      <td>cmn-cn</td>\n      <td>cmn-CH</td>\n      <td>Mandarin Chinese</td>\n      <td>Chinese, Mandarin</td>\n      <td>CHINESE, MANDARIN</td>\n      <td>Chinese, Mandarin</td>\n      <td>Asia</td>\n      <td>China</td>\n      <td>...</td>\n      <td>840,000,000 in China (2000 census)</td>\n      <td>840000000</td>\n      <td>Sino-Tibetan, Chinese</td>\n      <td>L</td>\n      <td>Sino-Tibetan</td>\n      <td>SINO-TIBETAN</td>\n      <td>China</td>\n      <td>cmn</td>\n      <td>CMN-CHN</td>\n      <td>MULTIPOLYGON (((108.65391 19.06045, 108.63222 ...</td>\n    </tr>\n    <tr>\n      <th>4</th>\n      <td>KHK-MNG</td>\n      <td>khk-MNG</td>\n      <td>khk-mn</td>\n      <td>khk-MG</td>\n      <td>Halh Mongolian</td>\n      <td>Mongolian, Halh</td>\n      <td>MONGOLIAN, HALH</td>\n      <td>Mongolian, Halh</td>\n      <td>Asia</td>\n      <td>Mongolia</td>\n      <td>...</td>\n      <td>840,000,000 in China (2000 census)</td>\n      <td>840000000</td>\n      <td>Sino-Tibetan, Chinese</td>\n      <td>L</td>\n      <td>Sino-Tibetan</td>\n      <td>SINO-TIBETAN</td>\n      <td>China</td>\n      <td>cmn</td>\n      <td>KHK-MNG</td>\n      <td>POLYGON ((101.05564 51.29117, 101.03179 51.136...</td>\n    </tr>\n  </tbody>\n</table>\n<p>5 rows × 40 columns</p>\n</div>",
            "text/plain": "      ID_1 ID_ISO_A3_1 ID_ISO_A2_1 ID_FIPS_1       NAM_LABEL_1        NAME_PROP_1            NAME2_1         NAM_ANSI_1   CNT_1  \\\n0  RUS-RUS     rus-RUS      rus-ru    rus-RS           Russian            Russian            RUSSIAN            Russian  Europe   \n1  JPN-JPN     jpn-JPN      jpn-jp    jpn-JA          Japanese           Japanese           JAPANESE           Japanese    Asia   \n2  RUS-RUS     rus-RUS      rus-ru    rus-RS           Russian            Russian            RUSSIAN            Russian  Europe   \n3  CMN-CHN     cmn-CHN      cmn-cn    cmn-CH  Mandarin Chinese  Chinese, Mandarin  CHINESE, MANDARIN  Chinese, Mandarin    Asia   \n4  KHK-MNG     khk-MNG      khk-mn    khk-MG    Halh Mongolian    Mongolian, Halh    MONGOLIAN, HALH    Mongolian, Halh    Asia   \n\n                 C1_1  ...                               POP_2  LMP_POP1_2                    G_2 LMP_CLASS_2  FAMILYPROP_2      FAMILY_2  \\\n0  Russian Federation  ...         121,000,000 in Japan (1985)   121000000                Japonic           L       Japonic       JAPONIC   \n1               Japan  ...         121,000,000 in Japan (1985)   121000000                Japonic           L       Japonic       JAPONIC   \n2  Russian Federation  ...  840,000,000 in China (2000 census)   840000000  Sino-Tibetan, Chinese           L  Sino-Tibetan  SINO-TIBETAN   \n3               China  ...  840,000,000 in China (2000 census)   840000000  Sino-Tibetan, Chinese           L  Sino-Tibetan  SINO-TIBETAN   \n4            Mongolia  ...  840,000,000 in China (2000 census)   840000000  Sino-Tibetan, Chinese           L  Sino-Tibetan  SINO-TIBETAN   \n\n  LMP_C1_2 LANG_ISO_2       ID                                         geometry_1  \n0    Japan        jpn  RUS-RUS  MULTIPOLYGON (((45.11381 43.19151, 45.06952 43...  \n1    Japan        jpn  JPN-JPN  MULTIPOLYGON (((134.24844 34.70230, 134.25470 ...  \n2    China        cmn  RUS-RUS  MULTIPOLYGON (((45.11381 43.19151, 45.06952 43...  \n3    China        cmn  CMN-CHN  MULTIPOLYGON (((108.65391 19.06045, 108.63222 ...  \n4    China        cmn  KHK-MNG  POLYGON ((101.05564 51.29117, 101.03179 51.136...  \n\n[5 rows x 40 columns]"
          },
          "execution_count": 37,
          "metadata": {},
          "output_type": "execute_result"
        }
      ],
      "execution_count": null,
      "block_group": "bd4b3b7799a2448ca6a90301b3ec6b85"
    },
    {
      "cell_type": "code",
      "source": "pairs['geometry'] = pairs['geometry_1'].values\npairs[['ID_1', 'ID', 'geometry', 'geometry_1']].head()",
      "metadata": {
        "deepnote_app_coordinates": {
          "h": 120,
          "w": 12,
          "x": 0,
          "y": 0
        },
        "cell_id": "40e984bf99814fdaafec62a5b0c264d2",
        "deepnote_cell_type": "code"
      },
      "outputs": [
        {
          "data": {
            "text/html": "<div>\n<style scoped>\n    .dataframe tbody tr th:only-of-type {\n        vertical-align: middle;\n    }\n\n    .dataframe tbody tr th {\n        vertical-align: top;\n    }\n\n    .dataframe thead th {\n        text-align: right;\n    }\n</style>\n<table border=\"1\" class=\"dataframe\">\n  <thead>\n    <tr style=\"text-align: right;\">\n      <th></th>\n      <th>ID_1</th>\n      <th>ID</th>\n      <th>geometry</th>\n      <th>geometry_1</th>\n    </tr>\n  </thead>\n  <tbody>\n    <tr>\n      <th>0</th>\n      <td>RUS-RUS</td>\n      <td>RUS-RUS</td>\n      <td>MULTIPOLYGON (((45.11381 43.19151, 45.06952 43...</td>\n      <td>MULTIPOLYGON (((45.11381 43.19151, 45.06952 43...</td>\n    </tr>\n    <tr>\n      <th>1</th>\n      <td>JPN-JPN</td>\n      <td>JPN-JPN</td>\n      <td>MULTIPOLYGON (((134.24844 34.70230, 134.25470 ...</td>\n      <td>MULTIPOLYGON (((134.24844 34.70230, 134.25470 ...</td>\n    </tr>\n    <tr>\n      <th>2</th>\n      <td>RUS-RUS</td>\n      <td>RUS-RUS</td>\n      <td>MULTIPOLYGON (((45.11381 43.19151, 45.06952 43...</td>\n      <td>MULTIPOLYGON (((45.11381 43.19151, 45.06952 43...</td>\n    </tr>\n    <tr>\n      <th>3</th>\n      <td>CMN-CHN</td>\n      <td>CMN-CHN</td>\n      <td>MULTIPOLYGON (((108.65391 19.06045, 108.63222 ...</td>\n      <td>MULTIPOLYGON (((108.65391 19.06045, 108.63222 ...</td>\n    </tr>\n    <tr>\n      <th>4</th>\n      <td>KHK-MNG</td>\n      <td>KHK-MNG</td>\n      <td>POLYGON ((101.05564 51.29117, 101.03179 51.136...</td>\n      <td>POLYGON ((101.05564 51.29117, 101.03179 51.136...</td>\n    </tr>\n  </tbody>\n</table>\n</div>",
            "text/plain": "      ID_1       ID                                           geometry                                         geometry_1\n0  RUS-RUS  RUS-RUS  MULTIPOLYGON (((45.11381 43.19151, 45.06952 43...  MULTIPOLYGON (((45.11381 43.19151, 45.06952 43...\n1  JPN-JPN  JPN-JPN  MULTIPOLYGON (((134.24844 34.70230, 134.25470 ...  MULTIPOLYGON (((134.24844 34.70230, 134.25470 ...\n2  RUS-RUS  RUS-RUS  MULTIPOLYGON (((45.11381 43.19151, 45.06952 43...  MULTIPOLYGON (((45.11381 43.19151, 45.06952 43...\n3  CMN-CHN  CMN-CHN  MULTIPOLYGON (((108.65391 19.06045, 108.63222 ...  MULTIPOLYGON (((108.65391 19.06045, 108.63222 ...\n4  KHK-MNG  KHK-MNG  POLYGON ((101.05564 51.29117, 101.03179 51.136...  POLYGON ((101.05564 51.29117, 101.03179 51.136..."
          },
          "execution_count": 38,
          "metadata": {},
          "output_type": "execute_result"
        }
      ],
      "execution_count": null,
      "block_group": "23a64ffe8a204e3d9d19ea52aa47b6db"
    },
    {
      "cell_type": "code",
      "source": "pairs = pairs.drop(columns=['ID', 'geometry_1'])",
      "metadata": {
        "deepnote_app_coordinates": {
          "h": 120,
          "w": 12,
          "x": 0,
          "y": 0
        },
        "cell_id": "8d8d3b6e41d74b95aa803e66bf33ab14",
        "deepnote_cell_type": "code"
      },
      "outputs": [],
      "execution_count": null,
      "block_group": "4602348e34264096a31048eb5873a055"
    },
    {
      "cell_type": "code",
      "source": "pairs = pairs.to_crs(cea)",
      "metadata": {
        "deepnote_app_coordinates": {
          "h": 120,
          "w": 12,
          "x": 0,
          "y": 0
        },
        "cell_id": "60dbc7b9ef9245859d82f78c9f670499",
        "deepnote_cell_type": "code"
      },
      "outputs": [],
      "execution_count": null,
      "block_group": "4cfe901fbd70400993bdf9562288d2d4"
    },
    {
      "cell_type": "code",
      "source": "pairs = pairs.merge(ethno[['ID', 'geometry']].to_crs(cea), how='left', left_on='ID_2', right_on='ID', suffixes=['_1', \"_2\"])\npairs[['ID_1', 'ID_2', 'ID', 'geometry_1', 'geometry_2']].head()",
      "metadata": {
        "deepnote_app_coordinates": {
          "h": 120,
          "w": 12,
          "x": 0,
          "y": 0
        },
        "cell_id": "2e2acb782cae4aae84e69ee6192583a8",
        "deepnote_cell_type": "code"
      },
      "outputs": [
        {
          "data": {
            "text/html": "<div>\n<style scoped>\n    .dataframe tbody tr th:only-of-type {\n        vertical-align: middle;\n    }\n\n    .dataframe tbody tr th {\n        vertical-align: top;\n    }\n\n    .dataframe thead th {\n        text-align: right;\n    }\n</style>\n<table border=\"1\" class=\"dataframe\">\n  <thead>\n    <tr style=\"text-align: right;\">\n      <th></th>\n      <th>ID_1</th>\n      <th>ID_2</th>\n      <th>ID</th>\n      <th>geometry_1</th>\n      <th>geometry_2</th>\n    </tr>\n  </thead>\n  <tbody>\n    <tr>\n      <th>0</th>\n      <td>RUS-RUS</td>\n      <td>JPN-JPN</td>\n      <td>JPN-JPN</td>\n      <td>MULTIPOLYGON (((5022045.912 4345314.017, 50171...</td>\n      <td>MULTIPOLYGON (((14944468.315 3612072.777, 1494...</td>\n    </tr>\n    <tr>\n      <th>1</th>\n      <td>JPN-JPN</td>\n      <td>JPN-JPN</td>\n      <td>JPN-JPN</td>\n      <td>MULTIPOLYGON (((14944468.315 3612072.777, 1494...</td>\n      <td>MULTIPOLYGON (((14944468.315 3612072.777, 1494...</td>\n    </tr>\n    <tr>\n      <th>2</th>\n      <td>RUS-RUS</td>\n      <td>CMN-CHN</td>\n      <td>CMN-CHN</td>\n      <td>MULTIPOLYGON (((5022045.912 4345314.017, 50171...</td>\n      <td>MULTIPOLYGON (((12095297.711 2069921.530, 1209...</td>\n    </tr>\n    <tr>\n      <th>3</th>\n      <td>CMN-CHN</td>\n      <td>CMN-CHN</td>\n      <td>CMN-CHN</td>\n      <td>MULTIPOLYGON (((12095297.711 2069921.530, 1209...</td>\n      <td>MULTIPOLYGON (((12095297.711 2069921.530, 1209...</td>\n    </tr>\n    <tr>\n      <th>4</th>\n      <td>KHK-MNG</td>\n      <td>CMN-CHN</td>\n      <td>CMN-CHN</td>\n      <td>POLYGON ((11249462.721 4957243.443, 11246807.3...</td>\n      <td>MULTIPOLYGON (((12095297.711 2069921.530, 1209...</td>\n    </tr>\n  </tbody>\n</table>\n</div>",
            "text/plain": "      ID_1     ID_2       ID                                         geometry_1                                         geometry_2\n0  RUS-RUS  JPN-JPN  JPN-JPN  MULTIPOLYGON (((5022045.912 4345314.017, 50171...  MULTIPOLYGON (((14944468.315 3612072.777, 1494...\n1  JPN-JPN  JPN-JPN  JPN-JPN  MULTIPOLYGON (((14944468.315 3612072.777, 1494...  MULTIPOLYGON (((14944468.315 3612072.777, 1494...\n2  RUS-RUS  CMN-CHN  CMN-CHN  MULTIPOLYGON (((5022045.912 4345314.017, 50171...  MULTIPOLYGON (((12095297.711 2069921.530, 1209...\n3  CMN-CHN  CMN-CHN  CMN-CHN  MULTIPOLYGON (((12095297.711 2069921.530, 1209...  MULTIPOLYGON (((12095297.711 2069921.530, 1209...\n4  KHK-MNG  CMN-CHN  CMN-CHN  POLYGON ((11249462.721 4957243.443, 11246807.3...  MULTIPOLYGON (((12095297.711 2069921.530, 1209..."
          },
          "execution_count": 41,
          "metadata": {},
          "output_type": "execute_result"
        }
      ],
      "execution_count": null,
      "block_group": "891391384ceb4ae99944087f5257fa77"
    },
    {
      "cell_type": "code",
      "source": "%time\npairs = pairs.loc[pairs['ID_1']!=pairs['ID_2']].reset_index(drop=True)\npairs.shape",
      "metadata": {
        "deepnote_app_coordinates": {
          "h": 120,
          "w": 12,
          "x": 0,
          "y": 0
        },
        "cell_id": "3f052c2ac12342aaacd80764174b5ad4",
        "deepnote_cell_type": "code"
      },
      "outputs": [
        {
          "name": "stdout",
          "output_type": "stream",
          "text": "CPU times: user 9 µs, sys: 0 ns, total: 9 µs\nWall time: 18.1 µs\n"
        },
        {
          "data": {
            "text/plain": "(67069, 40)"
          },
          "execution_count": 42,
          "metadata": {},
          "output_type": "execute_result"
        }
      ],
      "execution_count": null,
      "block_group": "571ba368d7da4e4ca71fbe7092d92cc5"
    },
    {
      "cell_type": "code",
      "source": "pairs[['ID_1', 'ID_2', 'NAME2_1', 'NAME2_2']].head()",
      "metadata": {
        "deepnote_app_coordinates": {
          "h": 120,
          "w": 12,
          "x": 0,
          "y": 0
        },
        "cell_id": "e7d9fa662ad44eb49ec4ba5c10f30978",
        "deepnote_cell_type": "code"
      },
      "outputs": [
        {
          "data": {
            "text/html": "<div>\n<style scoped>\n    .dataframe tbody tr th:only-of-type {\n        vertical-align: middle;\n    }\n\n    .dataframe tbody tr th {\n        vertical-align: top;\n    }\n\n    .dataframe thead th {\n        text-align: right;\n    }\n</style>\n<table border=\"1\" class=\"dataframe\">\n  <thead>\n    <tr style=\"text-align: right;\">\n      <th></th>\n      <th>ID_1</th>\n      <th>ID_2</th>\n      <th>NAME2_1</th>\n      <th>NAME2_2</th>\n    </tr>\n  </thead>\n  <tbody>\n    <tr>\n      <th>0</th>\n      <td>RUS-RUS</td>\n      <td>JPN-JPN</td>\n      <td>RUSSIAN</td>\n      <td>JAPANESE</td>\n    </tr>\n    <tr>\n      <th>1</th>\n      <td>RUS-RUS</td>\n      <td>CMN-CHN</td>\n      <td>RUSSIAN</td>\n      <td>CHINESE, MANDARIN</td>\n    </tr>\n    <tr>\n      <th>2</th>\n      <td>KHK-MNG</td>\n      <td>CMN-CHN</td>\n      <td>MONGOLIAN, HALH</td>\n      <td>CHINESE, MANDARIN</td>\n    </tr>\n    <tr>\n      <th>3</th>\n      <td>MVF-CHN</td>\n      <td>CMN-CHN</td>\n      <td>MONGOLIAN, PERIPHERAL</td>\n      <td>CHINESE, MANDARIN</td>\n    </tr>\n    <tr>\n      <th>4</th>\n      <td>KHG-CHN</td>\n      <td>CMN-CHN</td>\n      <td>TIBETAN, KHAMS</td>\n      <td>CHINESE, MANDARIN</td>\n    </tr>\n  </tbody>\n</table>\n</div>",
            "text/plain": "      ID_1     ID_2                NAME2_1            NAME2_2\n0  RUS-RUS  JPN-JPN                RUSSIAN           JAPANESE\n1  RUS-RUS  CMN-CHN                RUSSIAN  CHINESE, MANDARIN\n2  KHK-MNG  CMN-CHN        MONGOLIAN, HALH  CHINESE, MANDARIN\n3  MVF-CHN  CMN-CHN  MONGOLIAN, PERIPHERAL  CHINESE, MANDARIN\n4  KHG-CHN  CMN-CHN         TIBETAN, KHAMS  CHINESE, MANDARIN"
          },
          "execution_count": 43,
          "metadata": {},
          "output_type": "execute_result"
        }
      ],
      "execution_count": null,
      "block_group": "7fd61ecea50149d58aa90e28f91b11a4"
    },
    {
      "cell_type": "markdown",
      "source": "We have dropped all same pair language/countries, now let's drop all same langauge pairs that are in differenct countries (e.g., SPA-MEX and SPA-GTM). Special case MVE-PAK and RWR-IND are the same language (NAME2) even though they have different ISO codes. It's not clear there is a reason for different ISO code, so we also drop them\n\n(see https://wikitongues.org/languages/mve/, https://wikitongues.org/languages/rwr/, https://www.ethnologue.com/language/rwr/, https://www.ethnologue.com/language/mve/)\n\n**This differs from Dickens, he seems to keep these**",
      "metadata": {
        "deepnote_app_coordinates": {
          "h": 120,
          "w": 12,
          "x": 0,
          "y": 0
        },
        "cell_id": "7af567fc9be24c7a921d8e87b584dd60",
        "deepnote_cell_type": "markdown"
      },
      "block_group": "8522d88eb5ad45b1a69aecc4674f3b97"
    },
    {
      "cell_type": "code",
      "source": "pairs.loc[(pairs['ID_1']=='SPA-MEX')& (pairs['ID_2']=='SPA-GTM')]",
      "metadata": {
        "deepnote_app_coordinates": {
          "h": 120,
          "w": 12,
          "x": 0,
          "y": 0
        },
        "cell_id": "153a2480bbad47fa95f82741c7a10dc1",
        "deepnote_cell_type": "code"
      },
      "outputs": [
        {
          "data": {
            "text/html": "<div>\n<style scoped>\n    .dataframe tbody tr th:only-of-type {\n        vertical-align: middle;\n    }\n\n    .dataframe tbody tr th {\n        vertical-align: top;\n    }\n\n    .dataframe thead th {\n        text-align: right;\n    }\n</style>\n<table border=\"1\" class=\"dataframe\">\n  <thead>\n    <tr style=\"text-align: right;\">\n      <th></th>\n      <th>ID_1</th>\n      <th>ID_ISO_A3_1</th>\n      <th>ID_ISO_A2_1</th>\n      <th>ID_FIPS_1</th>\n      <th>NAM_LABEL_1</th>\n      <th>NAME_PROP_1</th>\n      <th>NAME2_1</th>\n      <th>NAM_ANSI_1</th>\n      <th>CNT_1</th>\n      <th>C1_1</th>\n      <th>...</th>\n      <th>POP_2</th>\n      <th>LMP_POP1_2</th>\n      <th>G_2</th>\n      <th>LMP_CLASS_2</th>\n      <th>FAMILYPROP_2</th>\n      <th>FAMILY_2</th>\n      <th>LMP_C1_2</th>\n      <th>LANG_ISO_2</th>\n      <th>ID</th>\n      <th>geometry_2</th>\n    </tr>\n  </thead>\n  <tbody>\n    <tr>\n      <th>419</th>\n      <td>SPA-MEX</td>\n      <td>spa-MEX</td>\n      <td>spa-mx</td>\n      <td>spa-MX</td>\n      <td>Spanish</td>\n      <td>Spanish</td>\n      <td>SPANISH</td>\n      <td>Spanish</td>\n      <td>Americas</td>\n      <td>Mexico</td>\n      <td>...</td>\n      <td>4,670,000 in Guatemala (1995)</td>\n      <td>4670000</td>\n      <td>Indo-European, Italic, Romance, Italo-Western,...</td>\n      <td>L</td>\n      <td>Indo-European</td>\n      <td>INDO-EUROPEAN</td>\n      <td>Guatemala</td>\n      <td>spa</td>\n      <td>SPA-GTM</td>\n      <td>MULTIPOLYGON (((-10157007.858 1687135.375, -10...</td>\n    </tr>\n  </tbody>\n</table>\n<p>1 rows × 40 columns</p>\n</div>",
            "text/plain": "        ID_1 ID_ISO_A3_1 ID_ISO_A2_1 ID_FIPS_1 NAM_LABEL_1 NAME_PROP_1  NAME2_1 NAM_ANSI_1     CNT_1    C1_1  ...  \\\n419  SPA-MEX     spa-MEX      spa-mx    spa-MX     Spanish     Spanish  SPANISH    Spanish  Americas  Mexico  ...   \n\n                             POP_2  LMP_POP1_2                                                G_2 LMP_CLASS_2   FAMILYPROP_2  \\\n419  4,670,000 in Guatemala (1995)     4670000  Indo-European, Italic, Romance, Italo-Western,...           L  Indo-European   \n\n          FAMILY_2   LMP_C1_2 LANG_ISO_2       ID                                         geometry_2  \n419  INDO-EUROPEAN  Guatemala        spa  SPA-GTM  MULTIPOLYGON (((-10157007.858 1687135.375, -10...  \n\n[1 rows x 40 columns]"
          },
          "execution_count": 44,
          "metadata": {},
          "output_type": "execute_result"
        }
      ],
      "execution_count": null,
      "block_group": "f802a7a6acea48ac94e5f0e0651393d2"
    },
    {
      "cell_type": "code",
      "source": "pairs = pairs.loc[pairs['NAME2_1']!=pairs['NAME2_2']].reset_index(drop=True)\n#pairs = pairs.loc[(pairs['ID_1']!='ALN-SRB') & (pairs['ID_2']!='ALN-SRB')].reset_index(drop=True)\npairs.shape",
      "metadata": {
        "deepnote_app_coordinates": {
          "h": 120,
          "w": 12,
          "x": 0,
          "y": 0
        },
        "cell_id": "b100783662114072a8acb4fd4a8ca159",
        "deepnote_cell_type": "code"
      },
      "outputs": [
        {
          "data": {
            "text/plain": "(65681, 40)"
          },
          "execution_count": 45,
          "metadata": {},
          "output_type": "execute_result"
        }
      ],
      "execution_count": null,
      "block_group": "e4973e500a4d4fdc9bef0e840c2bebca"
    },
    {
      "cell_type": "code",
      "source": "%time\nnon_repeated_pairs = drop_repeated(pairs, ['ID_1', 'ID_2'])",
      "metadata": {
        "deepnote_app_coordinates": {
          "h": 120,
          "w": 12,
          "x": 0,
          "y": 0
        },
        "cell_id": "1e74de4c003b4e3db87a97cf607a8ddf",
        "deepnote_cell_type": "code"
      },
      "outputs": [
        {
          "name": "stdout",
          "output_type": "stream",
          "text": "CPU times: user 6 µs, sys: 4 µs, total: 10 µs\nWall time: 17.9 µs\n"
        }
      ],
      "execution_count": null,
      "block_group": "94cd2fb26edc4d678e30cf8004481681"
    },
    {
      "cell_type": "code",
      "source": "non_repeated_pairs",
      "metadata": {
        "deepnote_app_coordinates": {
          "h": 120,
          "w": 12,
          "x": 0,
          "y": 0
        },
        "cell_id": "9e925db41e2d46208dd7eb6309f968b0",
        "deepnote_cell_type": "code"
      },
      "outputs": [
        {
          "data": {
            "text/html": "<div>\n<style scoped>\n    .dataframe tbody tr th:only-of-type {\n        vertical-align: middle;\n    }\n\n    .dataframe tbody tr th {\n        vertical-align: top;\n    }\n\n    .dataframe thead th {\n        text-align: right;\n    }\n</style>\n<table border=\"1\" class=\"dataframe\">\n  <thead>\n    <tr style=\"text-align: right;\">\n      <th></th>\n      <th>ID_1</th>\n      <th>ID_2</th>\n    </tr>\n  </thead>\n  <tbody>\n    <tr>\n      <th>0</th>\n      <td>RUS-RUS</td>\n      <td>JPN-JPN</td>\n    </tr>\n    <tr>\n      <th>1</th>\n      <td>RUS-RUS</td>\n      <td>CMN-CHN</td>\n    </tr>\n    <tr>\n      <th>2</th>\n      <td>KHK-MNG</td>\n      <td>CMN-CHN</td>\n    </tr>\n    <tr>\n      <th>3</th>\n      <td>MVF-CHN</td>\n      <td>CMN-CHN</td>\n    </tr>\n    <tr>\n      <th>4</th>\n      <td>KHG-CHN</td>\n      <td>CMN-CHN</td>\n    </tr>\n    <tr>\n      <th>...</th>\n      <td>...</td>\n      <td>...</td>\n    </tr>\n    <tr>\n      <th>35819</th>\n      <td>DJE-BFA</td>\n      <td>HAU-BFA</td>\n    </tr>\n    <tr>\n      <th>35820</th>\n      <td>BHE-PAK</td>\n      <td>AEQ-PAK</td>\n    </tr>\n    <tr>\n      <th>35821</th>\n      <td>AEQ-PAK</td>\n      <td>BHE-PAK</td>\n    </tr>\n    <tr>\n      <th>35822</th>\n      <td>XNB-TWN</td>\n      <td>SXR-TWN</td>\n    </tr>\n    <tr>\n      <th>35823</th>\n      <td>SXR-TWN</td>\n      <td>XNB-TWN</td>\n    </tr>\n  </tbody>\n</table>\n<p>35824 rows × 2 columns</p>\n</div>",
            "text/plain": "          ID_1     ID_2\n0      RUS-RUS  JPN-JPN\n1      RUS-RUS  CMN-CHN\n2      KHK-MNG  CMN-CHN\n3      MVF-CHN  CMN-CHN\n4      KHG-CHN  CMN-CHN\n...        ...      ...\n35819  DJE-BFA  HAU-BFA\n35820  BHE-PAK  AEQ-PAK\n35821  AEQ-PAK  BHE-PAK\n35822  XNB-TWN  SXR-TWN\n35823  SXR-TWN  XNB-TWN\n\n[35824 rows x 2 columns]"
          },
          "execution_count": 47,
          "metadata": {},
          "output_type": "execute_result"
        }
      ],
      "execution_count": null,
      "block_group": "d51fae235d8b4120a49c17381da9c9b7"
    },
    {
      "cell_type": "code",
      "source": "pairs2 = pairs.loc[(pairs.ID_1=='ENG-USA')&(pairs.ID_2=='SPA-MEX')].reset_index()\npairs2[['ID_1', 'ID_2', 'geometry_1', 'geometry_2']]\npairs2['buffer_2'] = pairs2.apply(lambda x: x.geometry_1.buffer(50000).intersection(x.geometry_2), axis=1)\npairs2['buffer_1'] = pairs2.apply(lambda x: x.geometry_2.buffer(50000).intersection(x.geometry_1), axis=1)",
      "metadata": {
        "deepnote_app_coordinates": {
          "h": 120,
          "w": 12,
          "x": 0,
          "y": 0
        },
        "cell_id": "9fb8fe72794b4b1a9fd8fa3040d91d4a",
        "deepnote_cell_type": "code"
      },
      "outputs": [],
      "execution_count": null,
      "block_group": "42dd77e34d8d4e3eb45479a6c122179b"
    },
    {
      "cell_type": "code",
      "source": "pairs3 = gp.GeoDataFrame(pd.concat([pairs2[['ID_1', 'ID_2', 'buffer_1']].rename(columns={'buffer_1':'geometry'}), pairs2[['ID_1', 'ID_2', 'buffer_2']].rename(columns={'buffer_2':'geometry'})]), \n                 columns=['ID_1', 'ID_2', 'geometry'],\n                 crs=cea, geometry='geometry')\npairs3.plot()",
      "metadata": {
        "deepnote_app_coordinates": {
          "h": 120,
          "w": 12,
          "x": 0,
          "y": 0
        },
        "cell_id": "cb9f88d4d47149fbb31b8d84e5bdf450",
        "deepnote_cell_type": "code"
      },
      "outputs": [
        {
          "data": {
            "text/plain": "<AxesSubplot:>"
          },
          "execution_count": 49,
          "metadata": {},
          "output_type": "execute_result"
        },
        {
          "data": {
            "image/png": "[encoded data removed]",
            "text/plain": "<Figure size 640x480 with 1 Axes>"
          },
          "metadata": {},
          "output_type": "display_data"
        }
      ],
      "execution_count": null,
      "block_group": "3dae24e0b85644fa9d6ac7816a1639e7"
    },
    {
      "cell_type": "markdown",
      "source": "# New Data - Buffers",
      "metadata": {
        "deepnote_app_coordinates": {
          "h": 120,
          "w": 12,
          "x": 0,
          "y": 0
        },
        "cell_id": "d51445415acc4ec78e3063727e869304",
        "deepnote_cell_type": "markdown"
      },
      "block_group": "da581935e8d54f70822435992bd86a36"
    },
    {
      "cell_type": "code",
      "source": "ddpairs = dask_geopandas.from_geopandas(pairs, npartitions=20)",
      "metadata": {
        "deepnote_app_coordinates": {
          "h": 120,
          "w": 12,
          "x": 0,
          "y": 0
        },
        "cell_id": "118db47ff24a4231af3abfb000f5063f",
        "deepnote_cell_type": "code"
      },
      "outputs": [],
      "execution_count": null,
      "block_group": "1ec79eeeb4df4d448b66063b6401e1c0"
    },
    {
      "cell_type": "code",
      "source": "%time\nddpairs['buffer_2'] = ddpairs.apply(lambda x: x.geometry_1.buffer(50000).intersection(x.geometry_2), axis=1, meta=(None, 'geometry'))\nddpairs['buffer_1'] = ddpairs.apply(lambda x: x.geometry_2.buffer(50000).intersection(x.geometry_1), axis=1, meta=(None, 'geometry'))\n#borders = ddpairs.compute(scheduler=\"threads\", num_workers=120)\nbuffers = ddpairs.compute()",
      "metadata": {
        "deepnote_app_coordinates": {
          "h": 120,
          "w": 12,
          "x": 0,
          "y": 0
        },
        "cell_id": "0bf1077a15554367b30299cee426c7d8",
        "deepnote_cell_type": "code"
      },
      "outputs": [
        {
          "name": "stdout",
          "output_type": "stream",
          "text": "CPU times: user 14 µs, sys: 0 ns, total: 14 µs\nWall time: 26.7 µs\n"
        }
      ],
      "execution_count": null,
      "block_group": "f678c7d825774b0b9f907a17e771e280"
    },
    {
      "cell_type": "code",
      "source": "buffers[['ID_1', 'ID_2', 'buffer_1', 'buffer_2']]",
      "metadata": {
        "deepnote_app_coordinates": {
          "h": 120,
          "w": 12,
          "x": 0,
          "y": 0
        },
        "cell_id": "cfbf2de6697d498f8d68f712e484681e",
        "deepnote_cell_type": "code"
      },
      "outputs": [
        {
          "data": {
            "text/html": "<div>\n<style scoped>\n    .dataframe tbody tr th:only-of-type {\n        vertical-align: middle;\n    }\n\n    .dataframe tbody tr th {\n        vertical-align: top;\n    }\n\n    .dataframe thead th {\n        text-align: right;\n    }\n</style>\n<table border=\"1\" class=\"dataframe\">\n  <thead>\n    <tr style=\"text-align: right;\">\n      <th></th>\n      <th>ID_1</th>\n      <th>ID_2</th>\n      <th>buffer_1</th>\n      <th>buffer_2</th>\n    </tr>\n  </thead>\n  <tbody>\n    <tr>\n      <th>0</th>\n      <td>RUS-RUS</td>\n      <td>JPN-JPN</td>\n      <td>MULTIPOLYGON (((15798275.99722172 4580792.0723...</td>\n      <td>MULTIPOLYGON (((15832575.73212238 4511966.4460...</td>\n    </tr>\n    <tr>\n      <th>1</th>\n      <td>RUS-RUS</td>\n      <td>CMN-CHN</td>\n      <td>POLYGON ((13072217.383952694 4841713.42243159,...</td>\n      <td>MULTIPOLYGON (((14776502.069533493 4546876.801...</td>\n    </tr>\n    <tr>\n      <th>2</th>\n      <td>KHK-MNG</td>\n      <td>CMN-CHN</td>\n      <td>POLYGON ((10715363.407899061 4354297.16279662,...</td>\n      <td>POLYGON ((10842561.151461825 4259957.376759018...</td>\n    </tr>\n    <tr>\n      <th>3</th>\n      <td>MVF-CHN</td>\n      <td>CMN-CHN</td>\n      <td>MULTIPOLYGON (((10889648.590294197 4301787.457...</td>\n      <td>MULTIPOLYGON (((10787585.679741485 4277137.333...</td>\n    </tr>\n    <tr>\n      <th>4</th>\n      <td>KHG-CHN</td>\n      <td>CMN-CHN</td>\n      <td>POLYGON ((11314343.319362994 3114405.91615483,...</td>\n      <td>POLYGON ((11388374.262635808 3261457.37307176,...</td>\n    </tr>\n    <tr>\n      <th>...</th>\n      <td>...</td>\n      <td>...</td>\n      <td>...</td>\n      <td>...</td>\n    </tr>\n    <tr>\n      <th>65676</th>\n      <td>HAU-BFA</td>\n      <td>DJE-BFA</td>\n      <td>MULTIPOLYGON (((199464.60131269094 1339550.796...</td>\n      <td>MULTIPOLYGON (((176438.6099200672 1376365.0908...</td>\n    </tr>\n    <tr>\n      <th>65677</th>\n      <td>BHE-PAK</td>\n      <td>AEQ-PAK</td>\n      <td>POLYGON ((7734927.606012514 2707613.9355502585...</td>\n      <td>POLYGON ((7741831.356010162 2696790.680774468,...</td>\n    </tr>\n    <tr>\n      <th>65678</th>\n      <td>AEQ-PAK</td>\n      <td>BHE-PAK</td>\n      <td>POLYGON ((7741831.356010162 2696790.680774468,...</td>\n      <td>POLYGON ((7734927.606012514 2707613.9355502585...</td>\n    </tr>\n    <tr>\n      <th>65679</th>\n      <td>XNB-TWN</td>\n      <td>SXR-TWN</td>\n      <td>POLYGON ((13457178.135234285 2510337.991647421...</td>\n      <td>POLYGON ((13437662.82662281 2504109.27131686, ...</td>\n    </tr>\n    <tr>\n      <th>65680</th>\n      <td>SXR-TWN</td>\n      <td>XNB-TWN</td>\n      <td>POLYGON ((13437662.82662281 2504109.27131686, ...</td>\n      <td>POLYGON ((13457178.135234285 2510337.991647421...</td>\n    </tr>\n  </tbody>\n</table>\n<p>65681 rows × 4 columns</p>\n</div>",
            "text/plain": "          ID_1     ID_2                                           buffer_1                                           buffer_2\n0      RUS-RUS  JPN-JPN  MULTIPOLYGON (((15798275.99722172 4580792.0723...  MULTIPOLYGON (((15832575.73212238 4511966.4460...\n1      RUS-RUS  CMN-CHN  POLYGON ((13072217.383952694 4841713.42243159,...  MULTIPOLYGON (((14776502.069533493 4546876.801...\n2      KHK-MNG  CMN-CHN  POLYGON ((10715363.407899061 4354297.16279662,...  POLYGON ((10842561.151461825 4259957.376759018...\n3      MVF-CHN  CMN-CHN  MULTIPOLYGON (((10889648.590294197 4301787.457...  MULTIPOLYGON (((10787585.679741485 4277137.333...\n4      KHG-CHN  CMN-CHN  POLYGON ((11314343.319362994 3114405.91615483,...  POLYGON ((11388374.262635808 3261457.37307176,...\n...        ...      ...                                                ...                                                ...\n65676  HAU-BFA  DJE-BFA  MULTIPOLYGON (((199464.60131269094 1339550.796...  MULTIPOLYGON (((176438.6099200672 1376365.0908...\n65677  BHE-PAK  AEQ-PAK  POLYGON ((7734927.606012514 2707613.9355502585...  POLYGON ((7741831.356010162 2696790.680774468,...\n65678  AEQ-PAK  BHE-PAK  POLYGON ((7741831.356010162 2696790.680774468,...  POLYGON ((7734927.606012514 2707613.9355502585...\n65679  XNB-TWN  SXR-TWN  POLYGON ((13457178.135234285 2510337.991647421...  POLYGON ((13437662.82662281 2504109.27131686, ...\n65680  SXR-TWN  XNB-TWN  POLYGON ((13437662.82662281 2504109.27131686, ...  POLYGON ((13457178.135234285 2510337.991647421...\n\n[65681 rows x 4 columns]"
          },
          "execution_count": 52,
          "metadata": {},
          "output_type": "execute_result"
        }
      ],
      "execution_count": null,
      "block_group": "90daad535f7043c0934f81633331aa85"
    },
    {
      "cell_type": "code",
      "source": "buffers['identifier'] = buffers['ID_1'] + '-' + buffers['ID_2']",
      "metadata": {
        "deepnote_app_coordinates": {
          "h": 120,
          "w": 12,
          "x": 0,
          "y": 0
        },
        "cell_id": "ef9625bda36f452db908f312030c4ccb",
        "deepnote_cell_type": "code"
      },
      "outputs": [],
      "execution_count": null,
      "block_group": "d2f3e3a29a5d4f3ca9cdc11146da498b"
    },
    {
      "cell_type": "code",
      "source": "buffers1_geo = gp.GeoDataFrame(buffers[['identifier', 'ID_1', 'ID_2', 'buffer_1']], crs=cea, geometry='buffer_1')\nbuffers1_geo.head()",
      "metadata": {
        "deepnote_app_coordinates": {
          "h": 120,
          "w": 12,
          "x": 0,
          "y": 0
        },
        "cell_id": "d49aeddd7ce0424d9283656c36fc738f",
        "deepnote_cell_type": "code"
      },
      "outputs": [
        {
          "data": {
            "text/html": "<div>\n<style scoped>\n    .dataframe tbody tr th:only-of-type {\n        vertical-align: middle;\n    }\n\n    .dataframe tbody tr th {\n        vertical-align: top;\n    }\n\n    .dataframe thead th {\n        text-align: right;\n    }\n</style>\n<table border=\"1\" class=\"dataframe\">\n  <thead>\n    <tr style=\"text-align: right;\">\n      <th></th>\n      <th>identifier</th>\n      <th>ID_1</th>\n      <th>ID_2</th>\n      <th>buffer_1</th>\n    </tr>\n  </thead>\n  <tbody>\n    <tr>\n      <th>0</th>\n      <td>RUS-RUS-JPN-JPN</td>\n      <td>RUS-RUS</td>\n      <td>JPN-JPN</td>\n      <td>MULTIPOLYGON (((15798275.997 4580792.072, 1580...</td>\n    </tr>\n    <tr>\n      <th>1</th>\n      <td>RUS-RUS-CMN-CHN</td>\n      <td>RUS-RUS</td>\n      <td>CMN-CHN</td>\n      <td>POLYGON ((13072217.384 4841713.422, 13072230.8...</td>\n    </tr>\n    <tr>\n      <th>2</th>\n      <td>KHK-MNG-CMN-CHN</td>\n      <td>KHK-MNG</td>\n      <td>CMN-CHN</td>\n      <td>POLYGON ((10715363.408 4354297.163, 10720027.3...</td>\n    </tr>\n    <tr>\n      <th>3</th>\n      <td>MVF-CHN-CMN-CHN</td>\n      <td>MVF-CHN</td>\n      <td>CMN-CHN</td>\n      <td>MULTIPOLYGON (((10889648.590 4301787.458, 1088...</td>\n    </tr>\n    <tr>\n      <th>4</th>\n      <td>KHG-CHN-CMN-CHN</td>\n      <td>KHG-CHN</td>\n      <td>CMN-CHN</td>\n      <td>POLYGON ((11314343.319 3114405.916, 11313568.8...</td>\n    </tr>\n  </tbody>\n</table>\n</div>",
            "text/plain": "        identifier     ID_1     ID_2                                           buffer_1\n0  RUS-RUS-JPN-JPN  RUS-RUS  JPN-JPN  MULTIPOLYGON (((15798275.997 4580792.072, 1580...\n1  RUS-RUS-CMN-CHN  RUS-RUS  CMN-CHN  POLYGON ((13072217.384 4841713.422, 13072230.8...\n2  KHK-MNG-CMN-CHN  KHK-MNG  CMN-CHN  POLYGON ((10715363.408 4354297.163, 10720027.3...\n3  MVF-CHN-CMN-CHN  MVF-CHN  CMN-CHN  MULTIPOLYGON (((10889648.590 4301787.458, 1088...\n4  KHG-CHN-CMN-CHN  KHG-CHN  CMN-CHN  POLYGON ((11314343.319 3114405.916, 11313568.8..."
          },
          "execution_count": 54,
          "metadata": {},
          "output_type": "execute_result"
        }
      ],
      "execution_count": null,
      "block_group": "7103518d965e4f23b78decb9a7bb98d4"
    },
    {
      "cell_type": "code",
      "source": "buffers2_geo = gp.GeoDataFrame(buffers[['identifier', 'ID_1', 'ID_2', 'buffer_2']], crs=cea, geometry='buffer_2')\nbuffers2_geo.head()",
      "metadata": {
        "deepnote_app_coordinates": {
          "h": 120,
          "w": 12,
          "x": 0,
          "y": 0
        },
        "cell_id": "1f6db3dea2354a19960f4f7bcf91b5af",
        "deepnote_cell_type": "code"
      },
      "outputs": [
        {
          "data": {
            "text/html": "<div>\n<style scoped>\n    .dataframe tbody tr th:only-of-type {\n        vertical-align: middle;\n    }\n\n    .dataframe tbody tr th {\n        vertical-align: top;\n    }\n\n    .dataframe thead th {\n        text-align: right;\n    }\n</style>\n<table border=\"1\" class=\"dataframe\">\n  <thead>\n    <tr style=\"text-align: right;\">\n      <th></th>\n      <th>identifier</th>\n      <th>ID_1</th>\n      <th>ID_2</th>\n      <th>buffer_2</th>\n    </tr>\n  </thead>\n  <tbody>\n    <tr>\n      <th>0</th>\n      <td>RUS-RUS-JPN-JPN</td>\n      <td>RUS-RUS</td>\n      <td>JPN-JPN</td>\n      <td>MULTIPOLYGON (((15832575.732 4511966.446, 1582...</td>\n    </tr>\n    <tr>\n      <th>1</th>\n      <td>RUS-RUS-CMN-CHN</td>\n      <td>RUS-RUS</td>\n      <td>CMN-CHN</td>\n      <td>MULTIPOLYGON (((14776502.070 4546876.802, 1477...</td>\n    </tr>\n    <tr>\n      <th>2</th>\n      <td>KHK-MNG-CMN-CHN</td>\n      <td>KHK-MNG</td>\n      <td>CMN-CHN</td>\n      <td>POLYGON ((10842561.151 4259957.377, 10837535.4...</td>\n    </tr>\n    <tr>\n      <th>3</th>\n      <td>MVF-CHN-CMN-CHN</td>\n      <td>MVF-CHN</td>\n      <td>CMN-CHN</td>\n      <td>MULTIPOLYGON (((10787585.680 4277137.333, 1078...</td>\n    </tr>\n    <tr>\n      <th>4</th>\n      <td>KHG-CHN-CMN-CHN</td>\n      <td>KHG-CHN</td>\n      <td>CMN-CHN</td>\n      <td>POLYGON ((11388374.263 3261457.373, 11391188.7...</td>\n    </tr>\n  </tbody>\n</table>\n</div>",
            "text/plain": "        identifier     ID_1     ID_2                                           buffer_2\n0  RUS-RUS-JPN-JPN  RUS-RUS  JPN-JPN  MULTIPOLYGON (((15832575.732 4511966.446, 1582...\n1  RUS-RUS-CMN-CHN  RUS-RUS  CMN-CHN  MULTIPOLYGON (((14776502.070 4546876.802, 1477...\n2  KHK-MNG-CMN-CHN  KHK-MNG  CMN-CHN  POLYGON ((10842561.151 4259957.377, 10837535.4...\n3  MVF-CHN-CMN-CHN  MVF-CHN  CMN-CHN  MULTIPOLYGON (((10787585.680 4277137.333, 1078...\n4  KHG-CHN-CMN-CHN  KHG-CHN  CMN-CHN  POLYGON ((11388374.263 3261457.373, 11391188.7..."
          },
          "execution_count": 55,
          "metadata": {},
          "output_type": "execute_result"
        }
      ],
      "execution_count": null,
      "block_group": "e4845a61d16243ffb4c84a9e6ba82704"
    },
    {
      "cell_type": "code",
      "source": "buffers1_geo.to_file(pathout + 'ethnologue_buffers_alt1_v16.json', driver=\"GeoJSON\")\nbuffers2_geo.to_file(pathout + 'ethnologue_buffers_alt2_v16.json', driver=\"GeoJSON\")",
      "metadata": {
        "deepnote_app_coordinates": {
          "h": 120,
          "w": 12,
          "x": 0,
          "y": 0
        },
        "cell_id": "32c2e3e12933420cb919dd3cbd954b01",
        "deepnote_cell_type": "code"
      },
      "outputs": [],
      "execution_count": null,
      "block_group": "71a06e64f28145709335563c4495d716"
    },
    {
      "cell_type": "markdown",
      "source": "No need to recreate overlap etc, we can use what we created in [Replication-Construct-Buffers-Touch-v17.ipynb](/work/Replication_Dickens_2022/Replication-Construct-Buffers-Touch-v17.ipynb)",
      "metadata": {
        "deepnote_app_coordinates": {
          "h": 120,
          "w": 12,
          "x": 0,
          "y": 0
        },
        "cell_id": "8249e5f77a524df6aa9d6ef5e370b4c7",
        "deepnote_cell_type": "markdown"
      },
      "block_group": "338264d1ec9d44af88f07e752c9a579c"
    },
    {
      "cell_type": "markdown",
      "source": "# New Data - Spatial Stats for New Buffers",
      "metadata": {
        "deepnote_app_coordinates": {
          "h": 120,
          "w": 12,
          "x": 0,
          "y": 0
        },
        "cell_id": "ae205e925c554cae97af1a95d8048bb5",
        "deepnote_cell_type": "markdown"
      },
      "block_group": "f831009fbc184407a6f93ebdd69769b8"
    },
    {
      "cell_type": "code",
      "source": "buffers1_geo = gp.read_file(pathout + 'ethnologue_buffers_alt1_v16.json', driver=\"GeoJSON\")\nbuffers2_geo = gp.read_file(pathout + 'ethnologue_buffers_alt2_v16.json', driver=\"GeoJSON\")",
      "metadata": {
        "deepnote_app_coordinates": {
          "h": 120,
          "w": 12,
          "x": 0,
          "y": 0
        },
        "cell_id": "d19990192be5474baaf00b712cb62869",
        "deepnote_cell_type": "code"
      },
      "outputs": [],
      "execution_count": null,
      "block_group": "b773ca10bb3148648755b915b4f6ebec"
    },
    {
      "cell_type": "markdown",
      "source": "Work with CSI data to compute spatial statistics",
      "metadata": {
        "user_expressions": [],
        "deepnote_app_coordinates": {
          "h": 120,
          "w": 12,
          "x": 0,
          "y": 0
        },
        "cell_id": "a1045229b2444cefaf39be3fad14bb76",
        "deepnote_cell_type": "markdown"
      },
      "block_group": "a33c2d446da548f0b38dd4bc03abc639"
    },
    {
      "cell_type": "code",
      "source": "CSI = os.listdir(proot + 'CSI')",
      "metadata": {
        "deepnote_app_coordinates": {
          "h": 120,
          "w": 12,
          "x": 0,
          "y": 0
        },
        "cell_id": "41d47e0a426440e5a11af97aba97ce07",
        "deepnote_cell_type": "code"
      },
      "outputs": [],
      "execution_count": null,
      "block_group": "f2f71e6cd41a4b2a955db158018de804"
    },
    {
      "cell_type": "code",
      "source": "CSI.remove('ReadMe.txt')\nCSI.sort()\nCSI",
      "metadata": {
        "tags": [],
        "deepnote_app_coordinates": {
          "h": 120,
          "w": 12,
          "x": 0,
          "y": 0
        },
        "cell_id": "ff29fb91f9304f58a63f19ec8103ced3",
        "deepnote_cell_type": "code"
      },
      "outputs": [
        {
          "data": {
            "text/plain": "['dif2AverageCalories.tif',\n 'dif2AverageCalories0.tif',\n 'dif2AverageCaloriesNo0.tif',\n 'dif2OptCalories.tif',\n 'dif2OptCalories0.tif',\n 'dif2OptCaloriesNo0.tif',\n 'difAverageCalories.tif',\n 'difAverageCalories0.tif',\n 'difAverageCaloriesNo0.tif',\n 'difOptCalories.tif',\n 'difOptCalories0.tif',\n 'difOptCaloriesNo0.tif',\n 'post1500AverageCalories.tif',\n 'post1500AverageCalories0.tif',\n 'post1500AverageCaloriesNo0.tif',\n 'post1500OptCalories.tif',\n 'post1500OptCalories0.tif',\n 'post1500OptCaloriesNo0.tif',\n 'pre15002AverageCalories.tif',\n 'pre15002AverageCalories0.tif',\n 'pre15002AverageCaloriesNo0.tif',\n 'pre15002OptCalories.tif',\n 'pre15002OptCalories0.tif',\n 'pre15002OptCaloriesNo0.tif',\n 'pre1500AverageCalories.tif',\n 'pre1500AverageCalories0.tif',\n 'pre1500AverageCaloriesNo0.tif',\n 'pre1500OptCalories.tif',\n 'pre1500OptCalories0.tif',\n 'pre1500OptCaloriesNo0.tif']"
          },
          "execution_count": 11,
          "metadata": {},
          "output_type": "execute_result"
        }
      ],
      "execution_count": null,
      "block_group": "a4a2fe6ee4ac46ba87a5926047888186"
    },
    {
      "cell_type": "code",
      "source": "buffers1_geo = buffers1_geo.to_crs(wgs84)\nbuffers2_geo = buffers2_geo.to_crs(wgs84)",
      "metadata": {
        "deepnote_app_coordinates": {
          "h": 120,
          "w": 12,
          "x": 0,
          "y": 0
        },
        "cell_id": "9ce7a2823f9948b09df4b0011491c231",
        "deepnote_cell_type": "code"
      },
      "outputs": [],
      "execution_count": null,
      "block_group": "d57d74276ee749a285c969b3dd3fff37"
    },
    {
      "cell_type": "code",
      "source": "%%time\nfor r in CSI:\n    print(r.replace('.tif', ''))\n    # Import raster\n    csi = gr.from_file(proot + '/CSI/' + r)\n    # Compute stats for first section of buffer\n    out= csi.stats(buffers1_geo, add_stats={'median':np.ma.median, 'std':np.ma.std, 'max':np.ma.max, 'min':np.ma.min}, raster_out=False)\n    print(out.columns)\n    for c in out.columns[3:]:\n        out[c] = out[c].astype(float)\n    out.columns = ['identifier', 'ID_1', 'ID_2'] + [r.replace('.tif', '') + c for c in out.columns[3:]]\n    out.to_stata(pathstats + 'Dickens_ethnologue_v16_' + r.replace('.tif', '') + '_alt.dta', version=117, write_index=False)    \n    # Compute stats for second section of buffer    \n    out= csi.stats(buffers2_geo, add_stats={'median':np.ma.median, 'std':np.ma.std, 'max':np.ma.max, 'min':np.ma.min}, raster_out=False)\n    print(out.columns)\n    for c in out.columns[3:]:\n        out[c] = out[c].astype(float)\n    out.columns = ['identifier', 'ID_1', 'ID_2'] + [r.replace('.tif', '') + c for c in out.columns[3:]]\n    out.to_stata(pathstats + 'Dickens_ethnologue_v16_' + r.replace('.tif', '') + '_alt2.dta', version=117, write_index=False)",
      "metadata": {
        "deepnote_app_coordinates": {
          "h": 120,
          "w": 12,
          "x": 0,
          "y": 0
        },
        "cell_id": "600ff04a66864d2cb3944b458d6231ca",
        "deepnote_cell_type": "code"
      },
      "outputs": [
        {
          "name": "stdout",
          "output_type": "stream",
          "text": "dif2AverageCalories\nERROR! Session/line number was not unique in database. History logging moved to new session 23494\nIndex(['identifier', 'ID_1', 'ID_2', 'max', 'median', 'std', 'mean', 'min'], dtype='object')\nIndex(['identifier', 'ID_1', 'ID_2', 'max', 'median', 'std', 'mean', 'min'], dtype='object')\ndif2AverageCalories0\nIndex(['identifier', 'ID_1', 'ID_2', 'max', 'median', 'std', 'mean', 'min'], dtype='object')\nIndex(['identifier', 'ID_1', 'ID_2', 'max', 'median', 'std', 'mean', 'min'], dtype='object')\ndif2AverageCaloriesNo0\nIndex(['identifier', 'ID_1', 'ID_2', 'max', 'median', 'std', 'mean', 'min'], dtype='object')\nIndex(['identifier', 'ID_1', 'ID_2', 'max', 'median', 'std', 'mean', 'min'], dtype='object')\ndif2OptCalories\nIndex(['identifier', 'ID_1', 'ID_2', 'max', 'median', 'std', 'mean', 'min'], dtype='object')\nIndex(['identifier', 'ID_1', 'ID_2', 'max', 'median', 'std', 'mean', 'min'], dtype='object')\ndif2OptCalories0\nIndex(['identifier', 'ID_1', 'ID_2', 'max', 'median', 'std', 'mean', 'min'], dtype='object')\nIndex(['identifier', 'ID_1', 'ID_2', 'max', 'median', 'std', 'mean', 'min'], dtype='object')\ndif2OptCaloriesNo0\nIndex(['identifier', 'ID_1', 'ID_2', 'max', 'median', 'std', 'mean', 'min'], dtype='object')\nIndex(['identifier', 'ID_1', 'ID_2', 'max', 'median', 'std', 'mean', 'min'], dtype='object')\ndifAverageCalories\nIndex(['identifier', 'ID_1', 'ID_2', 'max', 'median', 'std', 'mean', 'min'], dtype='object')\nIndex(['identifier', 'ID_1', 'ID_2', 'max', 'median', 'std', 'mean', 'min'], dtype='object')\ndifAverageCalories0\nIndex(['identifier', 'ID_1', 'ID_2', 'max', 'median', 'std', 'mean', 'min'], dtype='object')\nIndex(['identifier', 'ID_1', 'ID_2', 'max', 'median', 'std', 'mean', 'min'], dtype='object')\ndifAverageCaloriesNo0\nIndex(['identifier', 'ID_1', 'ID_2', 'max', 'median', 'std', 'mean', 'min'], dtype='object')\nIndex(['identifier', 'ID_1', 'ID_2', 'max', 'median', 'std', 'mean', 'min'], dtype='object')\ndifOptCalories\nIndex(['identifier', 'ID_1', 'ID_2', 'max', 'median', 'std', 'mean', 'min'], dtype='object')\nIndex(['identifier', 'ID_1', 'ID_2', 'max', 'median', 'std', 'mean', 'min'], dtype='object')\ndifOptCalories0\nIndex(['identifier', 'ID_1', 'ID_2', 'max', 'median', 'std', 'mean', 'min'], dtype='object')\nIndex(['identifier', 'ID_1', 'ID_2', 'max', 'median', 'std', 'mean', 'min'], dtype='object')\ndifOptCaloriesNo0\nIndex(['identifier', 'ID_1', 'ID_2', 'max', 'median', 'std', 'mean', 'min'], dtype='object')\nIndex(['identifier', 'ID_1', 'ID_2', 'max', 'median', 'std', 'mean', 'min'], dtype='object')\npost1500AverageCalories\nIndex(['identifier', 'ID_1', 'ID_2', 'max', 'median', 'std', 'mean', 'min'], dtype='object')\nIndex(['identifier', 'ID_1', 'ID_2', 'max', 'median', 'std', 'mean', 'min'], dtype='object')\npost1500AverageCalories0\nIndex(['identifier', 'ID_1', 'ID_2', 'max', 'median', 'std', 'mean', 'min'], dtype='object')\nIndex(['identifier', 'ID_1', 'ID_2', 'max', 'median', 'std', 'mean', 'min'], dtype='object')\npost1500AverageCaloriesNo0\nIndex(['identifier', 'ID_1', 'ID_2', 'max', 'median', 'std', 'mean', 'min'], dtype='object')\nIndex(['identifier', 'ID_1', 'ID_2', 'max', 'median', 'std', 'mean', 'min'], dtype='object')\npost1500OptCalories\nIndex(['identifier', 'ID_1', 'ID_2', 'max', 'median', 'std', 'mean', 'min'], dtype='object')\nIndex(['identifier', 'ID_1', 'ID_2', 'max', 'median', 'std', 'mean', 'min'], dtype='object')\npost1500OptCalories0\nIndex(['identifier', 'ID_1', 'ID_2', 'max', 'median', 'std', 'mean', 'min'], dtype='object')\nIndex(['identifier', 'ID_1', 'ID_2', 'max', 'median', 'std', 'mean', 'min'], dtype='object')\npost1500OptCaloriesNo0\nIndex(['identifier', 'ID_1', 'ID_2', 'max', 'median', 'std', 'mean', 'min'], dtype='object')\nIndex(['identifier', 'ID_1', 'ID_2', 'max', 'median', 'std', 'mean', 'min'], dtype='object')\npre15002AverageCalories\nIndex(['identifier', 'ID_1', 'ID_2', 'max', 'median', 'std', 'mean', 'min'], dtype='object')\nIndex(['identifier', 'ID_1', 'ID_2', 'max', 'median', 'std', 'mean', 'min'], dtype='object')\npre15002AverageCalories0\nIndex(['identifier', 'ID_1', 'ID_2', 'max', 'median', 'std', 'mean', 'min'], dtype='object')\nIndex(['identifier', 'ID_1', 'ID_2', 'max', 'median', 'std', 'mean', 'min'], dtype='object')\npre15002AverageCaloriesNo0\nIndex(['identifier', 'ID_1', 'ID_2', 'max', 'median', 'std', 'mean', 'min'], dtype='object')\nIndex(['identifier', 'ID_1', 'ID_2', 'max', 'median', 'std', 'mean', 'min'], dtype='object')\npre15002OptCalories\nIndex(['identifier', 'ID_1', 'ID_2', 'max', 'median', 'std', 'mean', 'min'], dtype='object')\nIndex(['identifier', 'ID_1', 'ID_2', 'max', 'median', 'std', 'mean', 'min'], dtype='object')\npre15002OptCalories0\nIndex(['identifier', 'ID_1', 'ID_2', 'max', 'median', 'std', 'mean', 'min'], dtype='object')\nIndex(['identifier', 'ID_1', 'ID_2', 'max', 'median', 'std', 'mean', 'min'], dtype='object')\npre15002OptCaloriesNo0\nIndex(['identifier', 'ID_1', 'ID_2', 'max', 'median', 'std', 'mean', 'min'], dtype='object')\nIndex(['identifier', 'ID_1', 'ID_2', 'max', 'median', 'std', 'mean', 'min'], dtype='object')\npre1500AverageCalories\nIndex(['identifier', 'ID_1', 'ID_2', 'max', 'median', 'std', 'mean', 'min'], dtype='object')\nIndex(['identifier', 'ID_1', 'ID_2', 'max', 'median', 'std', 'mean', 'min'], dtype='object')\npre1500AverageCalories0\nIndex(['identifier', 'ID_1', 'ID_2', 'max', 'median', 'std', 'mean', 'min'], dtype='object')\nIndex(['identifier', 'ID_1', 'ID_2', 'max', 'median', 'std', 'mean', 'min'], dtype='object')\npre1500AverageCaloriesNo0\nIndex(['identifier', 'ID_1', 'ID_2', 'max', 'median', 'std', 'mean', 'min'], dtype='object')\nIndex(['identifier', 'ID_1', 'ID_2', 'max', 'median', 'std', 'mean', 'min'], dtype='object')\npre1500OptCalories\nIndex(['identifier', 'ID_1', 'ID_2', 'max', 'median', 'std', 'mean', 'min'], dtype='object')\nIndex(['identifier', 'ID_1', 'ID_2', 'max', 'median', 'std', 'mean', 'min'], dtype='object')\npre1500OptCalories0\nIndex(['identifier', 'ID_1', 'ID_2', 'max', 'median', 'std', 'mean', 'min'], dtype='object')\nIndex(['identifier', 'ID_1', 'ID_2', 'max', 'median', 'std', 'mean', 'min'], dtype='object')\npre1500OptCaloriesNo0\nIndex(['identifier', 'ID_1', 'ID_2', 'max', 'median', 'std', 'mean', 'min'], dtype='object')\nIndex(['identifier', 'ID_1', 'ID_2', 'max', 'median', 'std', 'mean', 'min'], dtype='object')\nCPU times: user 1h 51min 47s, sys: 9min 32s, total: 2h 1min 20s\nWall time: 2h 25min 24s\n"
        }
      ],
      "execution_count": null,
      "block_group": "69ef0c4742b2474f8de787fb88602e93"
    },
    {
      "cell_type": "code",
      "source": "%%time\nout = []\nfor r in CSI:\n    print(r.replace('.tif', ''))\n    out1 = pd.read_stata(pathstats + 'Dickens_ethnologue_v16_' + r.replace('.tif', '') + '_alt.dta')   \n    out1 = out1.set_index(['identifier', 'ID_1', 'ID_2'])\n    out2 = pd.read_stata(pathstats + 'Dickens_ethnologue_v16_' + r.replace('.tif', '') + '_alt2.dta')\n    out2 = out2.set_index(['identifier', 'ID_1', 'ID_2'])\n    out.append((out1[out1.columns] - out2[out1.columns]).abs())",
      "metadata": {
        "deepnote_app_coordinates": {
          "h": 120,
          "w": 12,
          "x": 0,
          "y": 0
        },
        "cell_id": "c0c1f9fdfa914b60b09a22a31af2e006",
        "deepnote_cell_type": "code"
      },
      "outputs": [
        {
          "name": "stdout",
          "output_type": "stream",
          "text": "dif2AverageCalories\ndif2AverageCalories0\ndif2AverageCaloriesNo0\ndif2OptCalories\ndif2OptCalories0\ndif2OptCaloriesNo0\ndifAverageCalories\ndifAverageCalories0\ndifAverageCaloriesNo0\ndifOptCalories\ndifOptCalories0\ndifOptCaloriesNo0\npost1500AverageCalories\npost1500AverageCalories0\npost1500AverageCaloriesNo0\npost1500OptCalories\npost1500OptCalories0\npost1500OptCaloriesNo0\npre15002AverageCalories\npre15002AverageCalories0\npre15002AverageCaloriesNo0\npre15002OptCalories\npre15002OptCalories0\npre15002OptCaloriesNo0\npre1500AverageCalories\npre1500AverageCalories0\npre1500AverageCaloriesNo0\npre1500OptCalories\npre1500OptCalories0\npre1500OptCaloriesNo0\nCPU times: user 9.85 s, sys: 229 ms, total: 10.1 s\nWall time: 12 s\n"
        }
      ],
      "execution_count": null,
      "block_group": "756c5605dfc845a593106470b0d01a8b"
    },
    {
      "cell_type": "code",
      "source": "out = pd.concat(out, axis=1)",
      "metadata": {
        "deepnote_app_coordinates": {
          "h": 120,
          "w": 12,
          "x": 0,
          "y": 0
        },
        "cell_id": "33e434fdc27547e493f39e7ff9779a93",
        "deepnote_cell_type": "code"
      },
      "outputs": [],
      "execution_count": null,
      "block_group": "0a6e488289e64b1dbc265415ed7b8d38"
    },
    {
      "cell_type": "code",
      "source": "out.to_stata(proot + 'Dickens_AltBuf_v16_absdif.dta', version=117)",
      "metadata": {
        "deepnote_app_coordinates": {
          "h": 120,
          "w": 12,
          "x": 0,
          "y": 0
        },
        "cell_id": "d971620ad28345a18cd13c407cd61bc8",
        "deepnote_cell_type": "code"
      },
      "outputs": [],
      "execution_count": null,
      "block_group": "faaab1c7e0ed48d499cc5f486a4fbac4"
    },
    {
      "cell_type": "markdown",
      "source": "<a style='text-decoration:none;line-height:16px;display:flex;color:#5B5B62;padding:10px;justify-content:end;' href='https://deepnote.com?utm_source=created-in-deepnote-cell&projectId=4a945f27-2c4c-4244-8f3b-ab6dff812a2f' target=\"_blank\">\n<img alt='Created in deepnote.com' style='display:inline;max-height:16px;margin:0px;margin-right:7.5px;' src='data:image/svg+xml;base64,PD94bWwgdmVyc2lvbj0iMS4wIiBlbmNvZGluZz0iVVRGLTgiPz4KPHN2ZyB3aWR0aD0iODBweCIgaGVpZ2h0PSI4MHB4IiB2aWV3Qm94PSIwIDAgODAgODAiIHZlcnNpb249IjEuMSIgeG1sbnM9Imh0dHA6Ly93d3cudzMub3JnLzIwMDAvc3ZnIiB4bWxuczp4bGluaz0iaHR0cDovL3d3dy53My5vcmcvMTk5OS94bGluayI+CiAgICA8IS0tIEdlbmVyYXRvcjogU2tldGNoIDU0LjEgKDc2NDkwKSAtIGh0dHBzOi8vc2tldGNoYXBwLmNvbSAtLT4KICAgIDx0aXRsZT5Hcm91cCAzPC90aXRsZT4KICAgIDxkZXNjPkNyZWF0ZWQgd2l0aCBTa2V0Y2guPC9kZXNjPgogICAgPGcgaWQ9IkxhbmRpbmciIHN0cm9rZT0ibm9uZSIgc3Ryb2tlLXdpZHRoPSIxIiBmaWxsPSJub25lIiBmaWxsLXJ1bGU9ImV2ZW5vZGQiPgogICAgICAgIDxnIGlkPSJBcnRib2FyZCIgdHJhbnNmb3JtPSJ0cmFuc2xhdGUoLTEyMzUuMDAwMDAwLCAtNzkuMDAwMDAwKSI+CiAgICAgICAgICAgIDxnIGlkPSJHcm91cC0zIiB0cmFuc2Zvcm09InRyYW5zbGF0ZSgxMjM1LjAwMDAwMCwgNzkuMDAwMDAwKSI+CiAgICAgICAgICAgICAgICA8cG9seWdvbiBpZD0iUGF0aC0yMCIgZmlsbD0iIzAyNjVCNCIgcG9pbnRzPSIyLjM3NjIzNzYyIDgwIDM4LjA0NzY2NjcgODAgNTcuODIxNzgyMiA3My44MDU3NTkyIDU3LjgyMTc4MjIgMzIuNzU5MjczOSAzOS4xNDAyMjc4IDMxLjY4MzE2ODMiPjwvcG9seWdvbj4KICAgICAgICAgICAgICAgIDxwYXRoIGQ9Ik0zNS4wMDc3MTgsODAgQzQyLjkwNjIwMDcsNzYuNDU0OTM1OCA0Ny41NjQ5MTY3LDcxLjU0MjI2NzEgNDguOTgzODY2LDY1LjI2MTk5MzkgQzUxLjExMjI4OTksNTUuODQxNTg0MiA0MS42NzcxNzk1LDQ5LjIxMjIyODQgMjUuNjIzOTg0Niw0OS4yMTIyMjg0IEMyNS40ODQ5Mjg5LDQ5LjEyNjg0NDggMjkuODI2MTI5Niw0My4yODM4MjQ4IDM4LjY0NzU4NjksMzEuNjgzMTY4MyBMNzIuODcxMjg3MSwzMi41NTQ0MjUgTDY1LjI4MDk3Myw2Ny42NzYzNDIxIEw1MS4xMTIyODk5LDc3LjM3NjE0NCBMMzUuMDA3NzE4LDgwIFoiIGlkPSJQYXRoLTIyIiBmaWxsPSIjMDAyODY4Ij48L3BhdGg+CiAgICAgICAgICAgICAgICA8cGF0aCBkPSJNMCwzNy43MzA0NDA1IEwyNy4xMTQ1MzcsMC4yNTcxMTE0MzYgQzYyLjM3MTUxMjMsLTEuOTkwNzE3MDEgODAsMTAuNTAwMzkyNyA4MCwzNy43MzA0NDA1IEM4MCw2NC45NjA0ODgyIDY0Ljc3NjUwMzgsNzkuMDUwMzQxNCAzNC4zMjk1MTEzLDgwIEM0Ny4wNTUzNDg5LDc3LjU2NzA4MDggNTMuNDE4MjY3Nyw3MC4zMTM2MTAzIDUzLjQxODI2NzcsNTguMjM5NTg4NSBDNTMuNDE4MjY3Nyw0MC4xMjg1NTU3IDM2LjMwMzk1NDQsMzcuNzMwNDQwNSAyNS4yMjc0MTcsMzcuNzMwNDQwNSBDMTcuODQzMDU4NiwzNy43MzA0NDA1IDkuNDMzOTE5NjYsMzcuNzMwNDQwNSAwLDM3LjczMDQ0MDUgWiIgaWQ9IlBhdGgtMTkiIGZpbGw9IiMzNzkzRUYiPjwvcGF0aD4KICAgICAgICAgICAgPC9nPgogICAgICAgIDwvZz4KICAgIDwvZz4KPC9zdmc+' > </img>\nCreated in <span style='font-weight:600;margin-left:4px;'>Deepnote</span></a>",
      "metadata": {
        "created_in_deepnote_cell": true,
        "deepnote_cell_type": "markdown"
      }
    }
  ],
  "nbformat": 4,
  "nbformat_minor": 0,
  "metadata": {
    "deepnote": {},
    "kernelspec": {
      "name": "python3",
      "language": "python",
      "display_name": "Python 3 (ipykernel)"
    },
    "language_info": {
      "name": "python",
      "version": "3.9.16",
      "mimetype": "text/x-python",
      "file_extension": ".py",
      "pygments_lexer": "ipython3",
      "codemirror_mode": {
        "name": "ipython",
        "version": 3
      },
      "nbconvert_exporter": "python"
    },
    "deepnote_app_layout": "powerful-article",
    "deepnote_notebook_id": "fa7c091d3b68460ebf4c1d9ada73fbdd",
    "deepnote_app_table_of_contents_enabled": true,
    "deepnote_execution_queue": []
  }
}